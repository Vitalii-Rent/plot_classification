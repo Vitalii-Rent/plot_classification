{
  "cells": [
    {
      "attachments": {},
      "cell_type": "markdown",
      "metadata": {},
      "source": [
        "# Imports"
      ]
    },
    {
      "cell_type": "code",
      "execution_count": 1,
      "metadata": {},
      "outputs": [],
      "source": [
        "import numpy as np \n",
        "import pandas as pd\n",
        "import seaborn as sns\n",
        "import matplotlib.pyplot as plt\n",
        "from sklearn.feature_extraction.text import TfidfVectorizer\n",
        "from sklearn.model_selection import train_test_split, cross_val_score\n",
        "from sklearn.naive_bayes import MultinomialNB\n",
        "from sklearn.linear_model import LogisticRegression, RidgeClassifier\n",
        "from sklearn.multioutput import MultiOutputClassifier, ClassifierChain\n",
        "from sklearn.metrics import accuracy_score, classification_report, multilabel_confusion_matrix, jaccard_score, hamming_loss, f1_score\n",
        "from sklearn.preprocessing import MultiLabelBinarizer\n",
        "from sklearn.ensemble import RandomForestClassifier\n",
        "from lightgbm import LGBMClassifier\n",
        "import optuna\n",
        "import pickle\n",
        "import joblib\n",
        "import ast"
      ]
    },
    {
      "cell_type": "code",
      "execution_count": 2,
      "metadata": {},
      "outputs": [],
      "source": [
        "import sys\n",
        "sys.path.append('..')"
      ]
    },
    {
      "cell_type": "code",
      "execution_count": 3,
      "metadata": {},
      "outputs": [],
      "source": [
        "from src.features.build_features import split_transform_data\n",
        "from src.models.tune_utils import tune_hyperparams_optuna\n",
        "from src.models.train_predict import count_score_labels, train_evaluate_mll\n",
        "from src.visualization.visualize import plot_importance"
      ]
    },
    {
      "cell_type": "code",
      "execution_count": 4,
      "metadata": {},
      "outputs": [],
      "source": [
        "from dotenv import load_dotenv\n",
        "import os\n",
        "load_dotenv()\n",
        "SEED=int(os.getenv('SEED'))"
      ]
    },
    {
      "cell_type": "code",
      "execution_count": 5,
      "metadata": {},
      "outputs": [],
      "source": [
        "def dummy(x):\n",
        "    return x\n",
        "vectorizer_lemm = TfidfVectorizer(tokenizer=dummy, lowercase=False)"
      ]
    },
    {
      "attachments": {},
      "cell_type": "markdown",
      "metadata": {
        "id": "HuEnQ1ip3-iD"
      },
      "source": [
        "# Data preparation for multi-label"
      ]
    },
    {
      "attachments": {},
      "cell_type": "markdown",
      "metadata": {
        "id": "6PqLYmErg5R3"
      },
      "source": [
        "Considering I want to split targets into lists to binarize them, I'll first make some of the labels that consist of few words into one, those that have simmilar words, I'll change to one, etc."
      ]
    },
    {
      "cell_type": "code",
      "execution_count": 6,
      "metadata": {
        "id": "BORCLWPrvoJR"
      },
      "outputs": [],
      "source": [
        "df_filtered_ml = pd.read_csv('../data/processed/data_processed.csv')"
      ]
    },
    {
      "cell_type": "code",
      "execution_count": 7,
      "metadata": {},
      "outputs": [
        {
          "data": {
            "text/plain": [
              "drama            5991\n",
              "comedy           4398\n",
              "horror           1172\n",
              "action           1121\n",
              "thriller          984\n",
              "                 ... \n",
              "disaster           10\n",
              "epic               10\n",
              "crime action       10\n",
              "swashbuckler       10\n",
              "comedy sci_fi      10\n",
              "Name: Genre, Length: 139, dtype: int64"
            ]
          },
          "execution_count": 7,
          "metadata": {},
          "output_type": "execute_result"
        }
      ],
      "source": [
        "df_filtered_ml.Genre.value_counts()"
      ]
    },
    {
      "cell_type": "code",
      "execution_count": 7,
      "metadata": {
        "id": "HPkCcB0qxinq"
      },
      "outputs": [],
      "source": [
        "df_filtered_ml['Plot'] = df_filtered_ml['Plot'].apply(ast.literal_eval)"
      ]
    },
    {
      "cell_type": "code",
      "execution_count": 8,
      "metadata": {
        "id": "bMn5wseNtZzV"
      },
      "outputs": [],
      "source": [
        "# df_filtered_ml = df_filtered_processed.copy()\n",
        "df_filtered_ml['Genre'] = df_filtered_ml['Genre'].apply(lambda x: x.split())"
      ]
    },
    {
      "cell_type": "code",
      "execution_count": 9,
      "metadata": {
        "id": "q6M9xUYH3-iF"
      },
      "outputs": [],
      "source": [
        "mlb = MultiLabelBinarizer()\n",
        "classes = mlb.fit_transform(df_filtered_ml['Genre'])"
      ]
    },
    {
      "cell_type": "code",
      "execution_count": 14,
      "metadata": {
        "colab": {
          "base_uri": "https://localhost:8080/"
        },
        "id": "J7nFjF84Kn9b",
        "outputId": "cef927c8-7ceb-4682-e5b3-3e48436d63b8"
      },
      "outputs": [],
      "source": [
        "X_train, X_test, y_train, y_test = split_transform_data(df_filtered_ml.Plot, classes, vectorizer_lemm)"
      ]
    },
    {
      "cell_type": "markdown",
      "metadata": {},
      "source": [
        "I'm going to use vectorizer in predicting scripts and so I'll save it to file"
      ]
    },
    {
      "cell_type": "code",
      "execution_count": 41,
      "metadata": {},
      "outputs": [
        {
          "data": {
            "text/plain": [
              "['../models/utils/vectorizer.pkl']"
            ]
          },
          "execution_count": 41,
          "metadata": {},
          "output_type": "execute_result"
        }
      ],
      "source": [
        "joblib.dump(vectorizer_lemm, '../models/utils/vectorizer.pkl')"
      ]
    },
    {
      "attachments": {},
      "cell_type": "markdown",
      "metadata": {
        "id": "X2CR5PrA3-iI"
      },
      "source": [
        "# Creation and evaluation of models"
      ]
    },
    {
      "attachments": {},
      "cell_type": "markdown",
      "metadata": {
        "id": "9UXc0-qd3-iI"
      },
      "source": [
        "For evaluating model I'll most use full match accuracy, jaccard score and my custom metric - one match score which checks if there is at least one positive match."
      ]
    },
    {
      "attachments": {},
      "cell_type": "markdown",
      "metadata": {
        "id": "Y0tX6mir3-iJ"
      },
      "source": [
        "## Naive Bayes"
      ]
    },
    {
      "cell_type": "code",
      "execution_count": 20,
      "metadata": {
        "colab": {
          "base_uri": "https://localhost:8080/"
        },
        "id": "Nt-o-Kej3-iK",
        "outputId": "f8a26b34-d452-4550-d779-50581892f94b"
      },
      "outputs": [
        {
          "name": "stdout",
          "output_type": "stream",
          "text": [
            "model's train score = 0.0069255630226235055\n",
            "model's test score = 0.0001538935056940597\n",
            "model's jaccard train score = 0.008404726483010995\n",
            "model's hamming train loss = 0.021803631140316103\n",
            "model's jaccard test score = 0.00023084025854108956\n",
            "model's hamming test loss = 0.02198158874059151\n",
            "model's one match test score = 0.0003077870113881194\n"
          ]
        }
      ],
      "source": [
        "bayes_label_clf = MultiOutputClassifier(MultinomialNB())\n",
        "train_evaluate_mll(bayes_label_clf, X_train, X_test, y_train, y_test);"
      ]
    },
    {
      "attachments": {},
      "cell_type": "markdown",
      "metadata": {
        "id": "gUk6n3__3-ia"
      },
      "source": [
        "The results are poor, naive bayes very rarely does exact match with the tags."
      ]
    },
    {
      "cell_type": "code",
      "execution_count": null,
      "metadata": {
        "colab": {
          "base_uri": "https://localhost:8080/"
        },
        "id": "ino1_ct-3-ib",
        "outputId": "8af0447c-43c0-4daf-fd33-15a4f6120d49"
      },
      "outputs": [
        {
          "name": "stdout",
          "output_type": "stream",
          "text": [
            "model's train score = 0.012927717642230545\n",
            "model's test score = 0.0013850415512465374\n",
            "model's jaccard train score = 0.01547564082833154\n",
            "model's hamming train loss = 0.021654393418616472\n",
            "model's jaccard test score = 0.001615881809787627\n",
            "model's hamming test loss = 0.02195360810319259\n",
            "model's one match test score = 0.0018467220683287165\n"
          ]
        }
      ],
      "source": [
        "bayes_chain_clf = ClassifierChain(MultinomialNB())\n",
        "train_evaluate_mll(bayes_chain_clf, X_train, X_test, y_train, y_test);"
      ]
    },
    {
      "attachments": {},
      "cell_type": "markdown",
      "metadata": {
        "id": "4cbK3zjb3-id"
      },
      "source": [
        "Using classifier chain improves the results quite significantly but they are still very poor. Humming loss is low but it is only because most labels are 0. in next experiments I'm going to use classificator chain"
      ]
    },
    {
      "attachments": {},
      "cell_type": "markdown",
      "metadata": {
        "id": "FCSrBTCL3-id"
      },
      "source": [
        "## Logistic Regression"
      ]
    },
    {
      "cell_type": "code",
      "execution_count": 24,
      "metadata": {
        "id": "7FwQq7_03-ie"
      },
      "outputs": [],
      "source": [
        "log_reg_mll = ClassifierChain(LogisticRegression(n_jobs=-1, random_state=SEED))"
      ]
    },
    {
      "cell_type": "code",
      "execution_count": 25,
      "metadata": {
        "colab": {
          "base_uri": "https://localhost:8080/"
        },
        "id": "tB1CyZ_mlHse",
        "outputId": "73ecf84f-b969-40d0-e6a5-be82f9fbfa52"
      },
      "outputs": [
        {
          "name": "stdout",
          "output_type": "stream",
          "text": [
            "model's train score = 0.42799979479813266\n",
            "model's test score = 0.3133271775931056\n",
            "model's jaccard train score = 0.5006583559910395\n",
            "model's hamming train loss = 0.017348885147582115\n",
            "model's jaccard test score = 0.36838257925515544\n",
            "model's hamming test loss = 0.02280701754385965\n",
            "model's one match test score = 0.4242843951985226\n"
          ]
        }
      ],
      "source": [
        "train_evaluate_mll(log_reg_mll, X_train, X_test, y_train, y_test);"
      ]
    },
    {
      "cell_type": "code",
      "execution_count": null,
      "metadata": {
        "colab": {
          "base_uri": "https://localhost:8080/"
        },
        "id": "_fCCzCpW3-if",
        "outputId": "2f85f007-2c1c-4a6e-901f-16449817414a"
      },
      "outputs": [
        {
          "name": "stdout",
          "output_type": "stream",
          "text": [
            "               precision    recall  f1-score   support\n",
            "\n",
            "       action       0.72      0.08      0.15       478\n",
            "    adventure       1.00      0.03      0.06       160\n",
            "    animation       1.00      0.22      0.36       150\n",
            "        anime       0.00      0.00      0.00        28\n",
            "         arts       0.00      0.00      0.00        12\n",
            " biographical       0.00      0.00      0.00        75\n",
            "        black       0.00      0.00      0.00        13\n",
            "       comedy       0.73      0.34      0.47      1682\n",
            "      costume       0.00      0.00      0.00         4\n",
            "        crime       0.50      0.03      0.06       355\n",
            "   devotional       0.00      0.00      0.00         3\n",
            "     disaster       0.00      0.00      0.00         5\n",
            "  documentary       0.00      0.00      0.00        22\n",
            "        drama       0.56      0.67      0.61      2154\n",
            "         epic       0.00      0.00      0.00         2\n",
            "       family       0.00      0.00      0.00       109\n",
            "      fantasy       0.00      0.00      0.00        77\n",
            "      feature       0.00      0.00      0.00         3\n",
            "     folklore       0.00      0.00      0.00         4\n",
            "   historical       0.00      0.00      0.00        35\n",
            "       horror       0.74      0.29      0.41       345\n",
            "        kaiju       0.00      0.00      0.00         3\n",
            "     literary       0.00      0.00      0.00         5\n",
            "      martial       0.00      0.00      0.00        12\n",
            "       masala       0.00      0.00      0.00         9\n",
            "    melodrama       0.00      0.00      0.00        10\n",
            " mockumentary       0.00      0.00      0.00         8\n",
            "      musical       0.60      0.02      0.03       198\n",
            "      mystery       1.00      0.02      0.04        94\n",
            "    mythology       0.00      0.00      0.00         5\n",
            "         noir       0.00      0.00      0.00        86\n",
            "       period       0.00      0.00      0.00         3\n",
            "    political       0.00      0.00      0.00         7\n",
            "   propaganda       0.00      0.00      0.00         3\n",
            "psychological       0.00      0.00      0.00         6\n",
            "     romantic       0.56      0.13      0.22       555\n",
            "       sci_fi       0.69      0.29      0.41       186\n",
            "    screwball       0.00      0.00      0.00         3\n",
            "       serial       0.00      0.00      0.00        18\n",
            "          sex       0.00      0.00      0.00         3\n",
            "        short       1.00      0.08      0.15        49\n",
            "    slapstick       0.00      0.00      0.00         3\n",
            "      slasher       0.00      0.00      0.00         3\n",
            "       social       0.00      0.00      0.00        38\n",
            "       sports       0.00      0.00      0.00        22\n",
            "          spy       0.00      0.00      0.00        15\n",
            "      subject       0.00      0.00      0.00         5\n",
            "    superhero       0.00      0.00      0.00        12\n",
            "     suspense       0.00      0.00      0.00        30\n",
            " swashbuckler       0.00      0.00      0.00         2\n",
            "     thriller       0.20      0.49      0.28       375\n",
            "    tokusatsu       0.00      0.00      0.00         7\n",
            "          war       0.60      0.43      0.50       122\n",
            "      western       0.21      0.92      0.34       227\n",
            "     world_ii       0.00      0.00      0.00        18\n",
            "\n",
            "    micro avg       0.48      0.35      0.41      7858\n",
            "    macro avg       0.18      0.07      0.07      7858\n",
            " weighted avg       0.56      0.35      0.36      7858\n",
            "  samples avg       0.42      0.37      0.39      7858\n",
            "\n"
          ]
        },
        {
          "name": "stderr",
          "output_type": "stream",
          "text": [
            "/usr/local/lib/python3.10/dist-packages/sklearn/metrics/_classification.py:1344: UndefinedMetricWarning: Precision and F-score are ill-defined and being set to 0.0 in labels with no predicted samples. Use `zero_division` parameter to control this behavior.\n",
            "  _warn_prf(average, modifier, msg_start, len(result))\n",
            "/usr/local/lib/python3.10/dist-packages/sklearn/metrics/_classification.py:1344: UndefinedMetricWarning: Precision and F-score are ill-defined and being set to 0.0 in samples with no predicted labels. Use `zero_division` parameter to control this behavior.\n",
            "  _warn_prf(average, modifier, msg_start, len(result))\n"
          ]
        }
      ],
      "source": [
        "print(classification_report(y_test, log_reg_mll.predict(X_test), target_names=mlb.classes_))"
      ]
    },
    {
      "attachments": {},
      "cell_type": "markdown",
      "metadata": {
        "id": "3YyW2Yoe3-ig"
      },
      "source": [
        "From classification report I see that there are more classes predicted then in muticlass case and again, generally the more intances of a label, the better it is predicted. The accuracy of model is 0.314 and jaccard score is 0.37 while log_regression in muticlass case had 0.39 ccuracy. It means that for multilabel problem it is harder to get the exect match although jaccard score which more fully shows the multilabel result = 0.37 which is close to multiclass. At the same time in 42% cases this model shows at least some meaningful information about sample, ie has at least 1 positive match which is already higher then the multiclass accuracy and weighted f1 score is 0.36 while in case of multiclass - 0.3."
      ]
    },
    {
      "attachments": {},
      "cell_type": "markdown",
      "metadata": {
        "id": "l_A85IVo3-ig"
      },
      "source": [
        "## Ridge Classifier"
      ]
    },
    {
      "cell_type": "code",
      "execution_count": null,
      "metadata": {
        "colab": {
          "base_uri": "https://localhost:8080/"
        },
        "id": "MUPm4mW03-ih",
        "outputId": "b4494878-e42c-4fb3-8f93-eee3e0b43501"
      },
      "outputs": [
        {
          "name": "stdout",
          "output_type": "stream",
          "text": [
            "model's train score = 0.6602883086236084\n",
            "model's test score = 0.2613111726685134\n",
            "model's jaccard train score = 0.7136407941312266\n",
            "model's hamming train loss = 0.006829491239279368\n",
            "model's jaccard test score = 0.31378885811018775\n",
            "model's hamming test loss = 0.018511989703125436\n",
            "model's one match test score = 0.36795937211449675\n"
          ]
        }
      ],
      "source": [
        "ridge_multi_label = RidgeClassifier(random_state=SEED)\n",
        "train_evaluate_mll(ridge_multi_label, X_train, X_test, y_train, y_test);"
      ]
    },
    {
      "attachments": {},
      "cell_type": "markdown",
      "metadata": {
        "id": "vTFoD-3F3-ih"
      },
      "source": [
        "Ridge regression which inherintly allows multilabel shows a bit of overfitting - 0.63 train score with 0.24 test and 0.29 jaccard test score. Perhaps some reguralization could change the situation."
      ]
    },
    {
      "cell_type": "code",
      "execution_count": null,
      "metadata": {
        "colab": {
          "base_uri": "https://localhost:8080/"
        },
        "id": "t58_IQbP3-ii",
        "outputId": "dc2be158-efd2-4dcc-bbdb-575e24af5af6"
      },
      "outputs": [
        {
          "name": "stdout",
          "output_type": "stream",
          "text": [
            "               precision    recall  f1-score   support\n",
            "\n",
            "       action       0.68      0.18      0.28       478\n",
            "    adventure       0.76      0.08      0.15       160\n",
            "    animation       0.92      0.33      0.48       150\n",
            "        anime       1.00      0.04      0.07        28\n",
            "         arts       0.00      0.00      0.00        12\n",
            " biographical       0.00      0.00      0.00        75\n",
            "        black       0.00      0.00      0.00        13\n",
            "       comedy       0.68      0.46      0.55      1682\n",
            "      costume       0.00      0.00      0.00         4\n",
            "        crime       0.59      0.06      0.12       355\n",
            "   devotional       0.00      0.00      0.00         3\n",
            "     disaster       0.00      0.00      0.00         5\n",
            "  documentary       0.00      0.00      0.00        22\n",
            "        drama       0.62      0.47      0.54      2154\n",
            "         epic       0.00      0.00      0.00         2\n",
            "       family       0.33      0.01      0.02       109\n",
            "      fantasy       0.33      0.03      0.05        77\n",
            "      feature       0.00      0.00      0.00         3\n",
            "     folklore       0.00      0.00      0.00         4\n",
            "   historical       0.00      0.00      0.00        35\n",
            "       horror       0.79      0.34      0.48       345\n",
            "        kaiju       0.00      0.00      0.00         3\n",
            "     literary       0.00      0.00      0.00         5\n",
            "      martial       0.00      0.00      0.00        12\n",
            "       masala       0.00      0.00      0.00         9\n",
            "    melodrama       0.00      0.00      0.00        10\n",
            " mockumentary       0.00      0.00      0.00         8\n",
            "      musical       0.59      0.08      0.14       198\n",
            "      mystery       0.58      0.07      0.13        94\n",
            "    mythology       0.00      0.00      0.00         5\n",
            "         noir       1.00      0.01      0.02        86\n",
            "       period       0.00      0.00      0.00         3\n",
            "    political       0.00      0.00      0.00         7\n",
            "   propaganda       0.00      0.00      0.00         3\n",
            "psychological       0.00      0.00      0.00         6\n",
            "     romantic       0.62      0.14      0.23       555\n",
            "       sci_fi       0.78      0.32      0.45       186\n",
            "    screwball       0.00      0.00      0.00         3\n",
            "       serial       0.00      0.00      0.00        18\n",
            "          sex       0.00      0.00      0.00         3\n",
            "        short       0.71      0.20      0.32        49\n",
            "    slapstick       0.00      0.00      0.00         3\n",
            "      slasher       0.00      0.00      0.00         3\n",
            "       social       1.00      0.03      0.05        38\n",
            "       sports       0.00      0.00      0.00        22\n",
            "          spy       1.00      0.07      0.12        15\n",
            "      subject       0.00      0.00      0.00         5\n",
            "    superhero       0.00      0.00      0.00        12\n",
            "     suspense       0.00      0.00      0.00        30\n",
            " swashbuckler       0.00      0.00      0.00         2\n",
            "     thriller       0.63      0.03      0.06       375\n",
            "    tokusatsu       1.00      0.14      0.25         7\n",
            "          war       0.73      0.33      0.45       122\n",
            "      western       0.91      0.56      0.70       227\n",
            "     world_ii       0.00      0.00      0.00        18\n",
            "\n",
            "    micro avg       0.67      0.31      0.42      7858\n",
            "    macro avg       0.30      0.07      0.10      7858\n",
            " weighted avg       0.64      0.31      0.39      7858\n",
            "  samples avg       0.36      0.32      0.33      7858\n",
            "\n"
          ]
        },
        {
          "name": "stderr",
          "output_type": "stream",
          "text": [
            "/usr/local/lib/python3.10/dist-packages/sklearn/metrics/_classification.py:1344: UndefinedMetricWarning: Precision and F-score are ill-defined and being set to 0.0 in labels with no predicted samples. Use `zero_division` parameter to control this behavior.\n",
            "  _warn_prf(average, modifier, msg_start, len(result))\n",
            "/usr/local/lib/python3.10/dist-packages/sklearn/metrics/_classification.py:1344: UndefinedMetricWarning: Precision and F-score are ill-defined and being set to 0.0 in samples with no predicted labels. Use `zero_division` parameter to control this behavior.\n",
            "  _warn_prf(average, modifier, msg_start, len(result))\n"
          ]
        }
      ],
      "source": [
        "print(classification_report(y_test, ridge_multi_label.predict(X_test), target_names=mlb.classes_))"
      ]
    },
    {
      "attachments": {},
      "cell_type": "markdown",
      "metadata": {
        "id": "VTs3Oe3j3-ii"
      },
      "source": [
        "Again, comedy, drama, western and horror have the highest f1 scores."
      ]
    },
    {
      "attachments": {},
      "cell_type": "markdown",
      "metadata": {
        "id": "Sg3QBYrHnSWD"
      },
      "source": [
        "I'll try hyperparams tuning later on"
      ]
    },
    {
      "attachments": {},
      "cell_type": "markdown",
      "metadata": {
        "id": "6KkFliEs3-ik"
      },
      "source": [
        "## Random Forest"
      ]
    },
    {
      "cell_type": "code",
      "execution_count": null,
      "metadata": {
        "colab": {
          "base_uri": "https://localhost:8080/"
        },
        "id": "7HsyqKuU3-il",
        "outputId": "7fac2d69-1955-4774-fe9c-132fd59d4d6c"
      },
      "outputs": [
        {
          "name": "stdout",
          "output_type": "stream",
          "text": [
            "model's train score = 0.4227158467142051\n",
            "model's test score = 0.06940597106802093\n",
            "model's jaccard train score = 0.4937242428906103\n",
            "model's hamming train loss = 0.011301026475704565\n",
            "model's jaccard test score = 0.07946034677336615\n",
            "model's hamming test loss = 0.02120652508464143\n",
            "model's one match test score = 0.08971991381963682\n"
          ]
        }
      ],
      "source": [
        "forest_multi_label = RandomForestClassifier(n_jobs=-1, random_state=SEED, min_samples_split=0.001)\n",
        "train_evaluate_mll(forest_multi_label, X_train, X_test, y_train, y_test);"
      ]
    },
    {
      "attachments": {},
      "cell_type": "markdown",
      "metadata": {
        "id": "rE8Msy9C3-im"
      },
      "source": [
        "The results of random forest are very poor and show great overfitting."
      ]
    },
    {
      "attachments": {},
      "cell_type": "markdown",
      "metadata": {
        "id": "S0RgRSqe3-im"
      },
      "source": [
        "## LGBM"
      ]
    },
    {
      "cell_type": "code",
      "execution_count": null,
      "metadata": {
        "id": "Q8lbSKYg3-in"
      },
      "outputs": [],
      "source": [
        "boost_clf = ClassifierChain(LGBMClassifier(random_state=SEED, n_jobs=-1)).fit(X_train, y_train)"
      ]
    },
    {
      "cell_type": "code",
      "execution_count": null,
      "metadata": {
        "id": "HaP7vyXV3-in"
      },
      "outputs": [],
      "source": [
        "import warnings\n",
        "\n",
        "warnings.filterwarnings('ignore')"
      ]
    },
    {
      "cell_type": "code",
      "execution_count": null,
      "metadata": {
        "colab": {
          "base_uri": "https://localhost:8080/"
        },
        "id": "UiC6UQKe3-io",
        "outputId": "1e1e4693-f96d-4950-a559-dc1d3da35d1a"
      },
      "outputs": [
        {
          "name": "stdout",
          "output_type": "stream",
          "text": [
            "model's train score = 0.7342122813317601\n",
            "model's test score = 0.2928593413357956\n",
            "model's jaccard train score = 0.7859274269395851\n",
            "model's hamming train loss = 0.00759153635570811\n",
            "model's jaccard test score = 0.38195598645737144\n",
            "model's hamming test loss = 0.023873079828758498\n",
            "model's one match test score = 0.48184056632810096\n"
          ]
        }
      ],
      "source": [
        "train_evaluate_mll(boost_clf, X_train, X_test, y_train, y_test);"
      ]
    },
    {
      "cell_type": "code",
      "execution_count": null,
      "metadata": {
        "colab": {
          "base_uri": "https://localhost:8080/"
        },
        "id": "cEJbXDmS3-io",
        "outputId": "793e7023-bc5c-415e-a702-51ea7e390255"
      },
      "outputs": [
        {
          "name": "stdout",
          "output_type": "stream",
          "text": [
            "               precision    recall  f1-score   support\n",
            "\n",
            "       action       0.71      0.26      0.38       478\n",
            "    adventure       0.46      0.08      0.14       160\n",
            "    animation       0.92      0.37      0.52       150\n",
            "        anime       0.00      0.00      0.00        28\n",
            "         arts       0.67      0.17      0.27        12\n",
            " biographical       0.50      0.03      0.05        75\n",
            "        black       0.00      0.00      0.00        13\n",
            "       comedy       0.67      0.43      0.53      1682\n",
            "      costume       0.00      0.00      0.00         4\n",
            "        crime       0.45      0.13      0.20       355\n",
            "   devotional       0.02      0.33      0.03         3\n",
            "     disaster       0.01      0.20      0.02         5\n",
            "  documentary       1.00      0.14      0.24        22\n",
            "        drama       0.54      0.64      0.59      2154\n",
            "         epic       0.00      0.00      0.00         2\n",
            "       family       0.40      0.02      0.04       109\n",
            "      fantasy       0.40      0.13      0.20        77\n",
            "      feature       0.00      0.00      0.00         3\n",
            "     folklore       0.00      0.00      0.00         4\n",
            "   historical       0.50      0.03      0.05        35\n",
            "       horror       0.72      0.53      0.61       345\n",
            "        kaiju       0.00      0.00      0.00         3\n",
            "     literary       0.00      0.00      0.00         5\n",
            "      martial       0.67      0.17      0.27        12\n",
            "       masala       0.00      0.00      0.00         9\n",
            "    melodrama       0.00      0.00      0.00        10\n",
            " mockumentary       0.00      0.00      0.00         8\n",
            "      musical       0.65      0.18      0.28       198\n",
            "      mystery       0.36      0.10      0.15        94\n",
            "    mythology       0.00      0.00      0.00         5\n",
            "         noir       0.29      0.09      0.14        86\n",
            "       period       0.00      0.00      0.00         3\n",
            "    political       0.00      0.00      0.00         7\n",
            "   propaganda       0.00      0.00      0.00         3\n",
            "psychological       0.00      0.00      0.00         6\n",
            "     romantic       0.40      0.14      0.20       555\n",
            "       sci_fi       0.59      0.48      0.53       186\n",
            "    screwball       0.00      0.00      0.00         3\n",
            "       serial       1.00      0.06      0.11        18\n",
            "          sex       0.00      0.00      0.00         3\n",
            "        short       0.71      0.24      0.36        49\n",
            "    slapstick       0.00      0.00      0.00         3\n",
            "      slasher       0.00      0.00      0.00         3\n",
            "       social       0.20      0.03      0.05        38\n",
            "       sports       0.20      0.05      0.07        22\n",
            "          spy       0.01      0.07      0.02        15\n",
            "      subject       0.00      0.00      0.00         5\n",
            "    superhero       0.33      0.08      0.13        12\n",
            "     suspense       0.00      0.00      0.00        30\n",
            " swashbuckler       0.00      0.00      0.00         2\n",
            "     thriller       0.21      0.39      0.27       375\n",
            "    tokusatsu       0.00      0.00      0.00         7\n",
            "          war       0.62      0.50      0.55       122\n",
            "      western       0.65      0.82      0.72       227\n",
            "     world_ii       0.22      0.33      0.27        18\n",
            "\n",
            "    micro avg       0.45      0.41      0.43      7858\n",
            "    macro avg       0.27      0.13      0.15      7858\n",
            " weighted avg       0.55      0.41      0.43      7858\n",
            "  samples avg       0.43      0.42      0.41      7858\n",
            "\n"
          ]
        }
      ],
      "source": [
        "print(classification_report(y_test, boost_clf.predict(X_test), target_names=mlb.classes_))"
      ]
    },
    {
      "attachments": {},
      "cell_type": "markdown",
      "metadata": {
        "id": "jxGITQ073-ip"
      },
      "source": [
        "From classification report I see that boosting algorithm assigns much more classes then other algorithms and has higher precision then recall. The best classified genres are all the same as in previous models. Boosting has highest jaccard and one_match score."
      ]
    },
    {
      "attachments": {},
      "cell_type": "markdown",
      "metadata": {
        "id": "ewGKlBuqyeQZ"
      },
      "source": [
        "# Hyperparameters tuning"
      ]
    },
    {
      "attachments": {},
      "cell_type": "markdown",
      "metadata": {
        "id": "Jc_ee1rkP0ps"
      },
      "source": [
        "As for multi label case I'll try tuning ridge classifier and chain of logiscic regressions."
      ]
    },
    {
      "cell_type": "code",
      "execution_count": null,
      "metadata": {
        "id": "dmyhrRU-y84c"
      },
      "outputs": [],
      "source": [
        "def objective_ridge(trial):\n",
        "    params = {'alpha': trial.suggest_float('alpha', 0, 2)}\n",
        "    clf = RidgeClassifier(random_state=SEED, **params)\n",
        "    score = cross_val_score(clf, X_train, y_train, scoring='jaccard_samples', cv=3, n_jobs=3).mean()\n",
        "    return score"
      ]
    },
    {
      "cell_type": "code",
      "execution_count": null,
      "metadata": {
        "id": "OFkGbTlL7ub1"
      },
      "outputs": [],
      "source": [
        "def objective_log_reg_mll(trial):\n",
        "    params = {'C': trial.suggest_float('C', 0, 5)}\n",
        "    clf = ClassifierChain(LogisticRegression(n_jobs=-1, random_state=SEED, **params))\n",
        "    score = cross_val_score(clf, X_train, y_train, scoring='jaccard_samples', cv=3, n_jobs=3).mean()\n",
        "    return score"
      ]
    },
    {
      "attachments": {},
      "cell_type": "markdown",
      "metadata": {
        "id": "k1aa9nuXy84h"
      },
      "source": [
        "I was unable to use optuna for log_reg as I don't have enough ram, for it I'll use random search."
      ]
    },
    {
      "cell_type": "code",
      "execution_count": null,
      "metadata": {
        "colab": {
          "base_uri": "https://localhost:8080/",
          "height": 382,
          "referenced_widgets": [
            "a97409c34eca45839b51e28f88e7fb5b",
            "1c1dd0e407b144a8bc5df12e496505af",
            "8281faf4cc7e463e8de36692e00498e6",
            "e7cb086a980f44e5bb1b0d271e649648",
            "7acf5db8c7ef4e1f8531a9e7712c3800",
            "6451ee286f1f412b9b9ee6154708af15",
            "74020a3f772b488daa66a778e70bd3e2",
            "a1445dcfa29f4bc0a18d4aa00ba54b60",
            "52e2b555379a4f619c8d8b0273035b8c",
            "41d55cd1edcb46aead87c2fdf7c26075",
            "1f67f99ee2514b8f90306d09a22b4a66"
          ]
        },
        "id": "g7w4raK0y8Nf",
        "outputId": "50e51bc3-b38f-49e3-8577-2ae3db1b54c0"
      },
      "outputs": [
        {
          "name": "stderr",
          "output_type": "stream",
          "text": [
            "[I 2023-07-20 10:53:04,230] A new study created in memory with name: no-name-4d2212c0-4c5c-43d1-a09e-51599afa2247\n"
          ]
        },
        {
          "data": {
            "application/vnd.jupyter.widget-view+json": {
              "model_id": "a97409c34eca45839b51e28f88e7fb5b",
              "version_major": 2,
              "version_minor": 0
            },
            "text/plain": [
              "  0%|          | 0/15 [00:00<?, ?it/s]"
            ]
          },
          "metadata": {},
          "output_type": "display_data"
        },
        {
          "name": "stdout",
          "output_type": "stream",
          "text": [
            "[I 2023-07-20 10:55:43,217] Trial 0 finished with value: 0.309448827276112 and parameters: {'alpha': 0.21315070864891927}. Best is trial 0 with value: 0.309448827276112.\n",
            "[I 2023-07-20 10:58:11,675] Trial 1 finished with value: 0.3160238406524745 and parameters: {'alpha': 0.11549994191436319}. Best is trial 1 with value: 0.3160238406524745.\n",
            "[I 2023-07-20 10:59:16,569] Trial 2 finished with value: 0.2584259398616931 and parameters: {'alpha': 1.0453321255276413}. Best is trial 1 with value: 0.3160238406524745.\n",
            "[I 2023-07-20 11:00:11,521] Trial 3 finished with value: 0.22129293157835203 and parameters: {'alpha': 1.8859054250800322}. Best is trial 1 with value: 0.3160238406524745.\n",
            "[I 2023-07-20 11:05:45,893] Trial 4 finished with value: 0.3187100921541357 and parameters: {'alpha': 0.010200465949649518}. Best is trial 4 with value: 0.3187100921541357.\n",
            "[I 2023-07-20 11:06:54,967] Trial 5 finished with value: 0.2593237032997639 and parameters: {'alpha': 1.0243945084771153}. Best is trial 4 with value: 0.3187100921541357.\n",
            "[I 2023-07-20 11:07:49,909] Trial 6 finished with value: 0.23265605741845574 and parameters: {'alpha': 1.59725385474746}. Best is trial 4 with value: 0.3187100921541357.\n",
            "[I 2023-07-20 11:09:24,630] Trial 7 finished with value: 0.2788306802554056 and parameters: {'alpha': 0.6811923216937266}. Best is trial 4 with value: 0.3187100921541357.\n",
            "[I 2023-07-20 11:10:47,637] Trial 8 finished with value: 0.28880865400559985 and parameters: {'alpha': 0.5199365898770776}. Best is trial 4 with value: 0.3187100921541357.\n",
            "[I 2023-07-20 11:11:35,543] Trial 9 finished with value: 0.22246429926222758 and parameters: {'alpha': 1.8594821182455328}. Best is trial 4 with value: 0.3187100921541357.\n",
            "[I 2023-07-20 11:14:42,657] Trial 10 finished with value: 0.31835541437873344 and parameters: {'alpha': 0.0555323155234031}. Best is trial 4 with value: 0.3187100921541357.\n",
            "[I 2023-07-20 11:18:22,344] Trial 11 finished with value: 0.318543522232486 and parameters: {'alpha': 0.03020501046158118}. Best is trial 4 with value: 0.3187100921541357.\n",
            "[I 2023-07-20 11:23:06,948] Trial 12 finished with value: 0.3187100921541357 and parameters: {'alpha': 0.01021293395444072}. Best is trial 4 with value: 0.3187100921541357.\n",
            "[I 2023-07-20 11:24:35,276] Trial 13 finished with value: 0.29632429876627747 and parameters: {'alpha': 0.4216873172328566}. Best is trial 4 with value: 0.3187100921541357.\n",
            "[I 2023-07-20 11:26:08,951] Trial 14 finished with value: 0.30134746972289433 and parameters: {'alpha': 0.33496183743306895}. Best is trial 4 with value: 0.3187100921541357.\n",
            "Best jaccard score: 0.3187100921541357\n",
            "Best Params: {'alpha': 0.010200465949649518}\n"
          ]
        }
      ],
      "source": [
        "ridge_study = tune_hyperparams_optuna(objective_ridge, 15, 'jaccard')"
      ]
    },
    {
      "cell_type": "code",
      "execution_count": null,
      "metadata": {
        "colab": {
          "base_uri": "https://localhost:8080/"
        },
        "id": "zTw0nyGT5ZBw",
        "outputId": "7083be4c-fbc2-4069-85c7-73ab62629305"
      },
      "outputs": [
        {
          "name": "stdout",
          "output_type": "stream",
          "text": [
            "model's train score = 0.9924588313753655\n",
            "model's test score = 0.2425361649738381\n",
            "model's jaccard train score = 0.9935446912566905\n",
            "model's hamming train loss = 0.00017442158723644384\n",
            "model's jaccard test score = 0.34296963168154304\n",
            "model's hamming test loss = 0.02287976720109684\n",
            "model's one match test score = 0.4569098184056633\n"
          ]
        }
      ],
      "source": [
        "tuned_ridge = train_evaluate_mll(RidgeClassifier(random_state=SEED, **ridge_study.best_params), X_train, X_test, y_train, y_test);"
      ]
    },
    {
      "attachments": {},
      "cell_type": "markdown",
      "metadata": {
        "id": "6RpWVPPFFJEh"
      },
      "source": [
        "achieved jaccard test score is not better then in case of logistic regression\n"
      ]
    },
    {
      "cell_type": "code",
      "execution_count": null,
      "metadata": {
        "id": "oo1Zu9sI7tnh"
      },
      "outputs": [],
      "source": [
        "pickle.dump(tuned_ridge, open('/content/drive/MyDrive/Models/tuned_ridge', 'wb'))"
      ]
    },
    {
      "cell_type": "code",
      "execution_count": null,
      "metadata": {
        "colab": {
          "base_uri": "https://localhost:8080/",
          "height": 295,
          "referenced_widgets": [
            "5900ba10bbc4405ba462c437c63ad625",
            "1712695be42b4d298ade6f7ccd5f6a42",
            "d10e342060514a0dbb0815dcd6574597",
            "d04e6c10f9c34de1be5ab78a057bc30b",
            "a2b50e209081483b8a7e609e9d31ff6e",
            "e4ca69bd8c2a458f9041ef196ce79d12",
            "b3b38a35c3244c6885cbce11a6dbfdc2",
            "cf96ce54408641e6960b7c8608b5bd67",
            "b066217435c54d67b33dc5b6d70aae8f",
            "570a2db10dc24a4e989f0ce7d8a93b65",
            "aae0264173594057b51f79ad3631d2a7"
          ]
        },
        "id": "QY2hJyJA_CFC",
        "outputId": "a014ef15-1a93-44eb-d8c3-90c0ee712ee1"
      },
      "outputs": [
        {
          "name": "stderr",
          "output_type": "stream",
          "text": [
            "[I 2023-07-20 11:36:59,625] A new study created in memory with name: no-name-cb3fc9dc-aa81-493d-9d6a-532186140e0a\n"
          ]
        },
        {
          "data": {
            "application/vnd.jupyter.widget-view+json": {
              "model_id": "5900ba10bbc4405ba462c437c63ad625",
              "version_major": 2,
              "version_minor": 0
            },
            "text/plain": [
              "  0%|          | 0/10 [00:00<?, ?it/s]"
            ]
          },
          "metadata": {},
          "output_type": "display_data"
        },
        {
          "name": "stdout",
          "output_type": "stream",
          "text": [
            "[I 2023-07-20 11:41:15,699] Trial 0 finished with value: 0.3564913621904198 and parameters: {'C': 1.7191276099947905}. Best is trial 0 with value: 0.3564913621904198.\n",
            "[I 2023-07-20 11:44:54,637] Trial 1 finished with value: 0.373681201374404 and parameters: {'C': 2.506717632138986}. Best is trial 1 with value: 0.373681201374404.\n",
            "[I 2023-07-20 11:47:25,236] Trial 2 finished with value: 0.2394706232107179 and parameters: {'C': 0.44138446102469475}. Best is trial 1 with value: 0.373681201374404.\n",
            "[I 2023-07-20 11:50:34,346] Trial 3 finished with value: 0.34606889800116986 and parameters: {'C': 1.4342437411253506}. Best is trial 1 with value: 0.373681201374404.\n",
            "[I 2023-07-20 11:52:47,220] Trial 4 finished with value: 0.1870927502338853 and parameters: {'C': 0.2659596795342034}. Best is trial 1 with value: 0.373681201374404.\n",
            "[I 2023-07-20 11:54:27,160] Trial 5 finished with value: 0.0 and parameters: {'C': 0.007219241391952513}. Best is trial 1 with value: 0.373681201374404.\n",
            "[I 2023-07-20 11:58:15,355] Trial 6 finished with value: 0.38493309702693784 and parameters: {'C': 3.4482455285983225}. Best is trial 6 with value: 0.38493309702693784.\n",
            "[I 2023-07-20 12:02:03,686] Trial 7 finished with value: 0.3871133984613449 and parameters: {'C': 3.7266305552271453}. Best is trial 7 with value: 0.3871133984613449.\n",
            "[I 2023-07-20 12:05:24,084] Trial 8 finished with value: 0.3625789619121509 and parameters: {'C': 1.9552713598770077}. Best is trial 7 with value: 0.3871133984613449.\n",
            "[I 2023-07-20 12:09:19,505] Trial 9 finished with value: 0.39163208806739497 and parameters: {'C': 4.303772904986458}. Best is trial 9 with value: 0.39163208806739497.\n",
            "Best jaccard score: 0.39163208806739497\n",
            "Best Params: {'C': 4.303772904986458}\n"
          ]
        }
      ],
      "source": [
        "log_reg_mll_study = tune_hyperparams_optuna(objective_log_reg_mll, 10, 'jaccard')"
      ]
    },
    {
      "cell_type": "code",
      "execution_count": null,
      "metadata": {
        "colab": {
          "base_uri": "https://localhost:8080/"
        },
        "id": "bRWtP_PwGI4t",
        "outputId": "f478edb6-207f-4c07-9ee7-55aad0cd29a1"
      },
      "outputs": [
        {
          "name": "stderr",
          "output_type": "stream",
          "text": [
            "/usr/local/lib/python3.10/dist-packages/sklearn/linear_model/_logistic.py:458: ConvergenceWarning: lbfgs failed to converge (status=1):\n",
            "STOP: TOTAL NO. of ITERATIONS REACHED LIMIT.\n",
            "\n",
            "Increase the number of iterations (max_iter) or scale the data as shown in:\n",
            "    https://scikit-learn.org/stable/modules/preprocessing.html\n",
            "Please also refer to the documentation for alternative solver options:\n",
            "    https://scikit-learn.org/stable/modules/linear_model.html#logistic-regression\n",
            "  n_iter_i = _check_optimize_result(\n",
            "/usr/local/lib/python3.10/dist-packages/sklearn/linear_model/_logistic.py:458: ConvergenceWarning: lbfgs failed to converge (status=1):\n",
            "STOP: TOTAL NO. of ITERATIONS REACHED LIMIT.\n",
            "\n",
            "Increase the number of iterations (max_iter) or scale the data as shown in:\n",
            "    https://scikit-learn.org/stable/modules/preprocessing.html\n",
            "Please also refer to the documentation for alternative solver options:\n",
            "    https://scikit-learn.org/stable/modules/linear_model.html#logistic-regression\n",
            "  n_iter_i = _check_optimize_result(\n",
            "/usr/local/lib/python3.10/dist-packages/sklearn/linear_model/_logistic.py:458: ConvergenceWarning: lbfgs failed to converge (status=1):\n",
            "STOP: TOTAL NO. of ITERATIONS REACHED LIMIT.\n",
            "\n",
            "Increase the number of iterations (max_iter) or scale the data as shown in:\n",
            "    https://scikit-learn.org/stable/modules/preprocessing.html\n",
            "Please also refer to the documentation for alternative solver options:\n",
            "    https://scikit-learn.org/stable/modules/linear_model.html#logistic-regression\n",
            "  n_iter_i = _check_optimize_result(\n",
            "/usr/local/lib/python3.10/dist-packages/sklearn/linear_model/_logistic.py:458: ConvergenceWarning: lbfgs failed to converge (status=1):\n",
            "STOP: TOTAL NO. of ITERATIONS REACHED LIMIT.\n",
            "\n",
            "Increase the number of iterations (max_iter) or scale the data as shown in:\n",
            "    https://scikit-learn.org/stable/modules/preprocessing.html\n",
            "Please also refer to the documentation for alternative solver options:\n",
            "    https://scikit-learn.org/stable/modules/linear_model.html#logistic-regression\n",
            "  n_iter_i = _check_optimize_result(\n",
            "/usr/local/lib/python3.10/dist-packages/sklearn/linear_model/_logistic.py:458: ConvergenceWarning: lbfgs failed to converge (status=1):\n",
            "STOP: TOTAL NO. of ITERATIONS REACHED LIMIT.\n",
            "\n",
            "Increase the number of iterations (max_iter) or scale the data as shown in:\n",
            "    https://scikit-learn.org/stable/modules/preprocessing.html\n",
            "Please also refer to the documentation for alternative solver options:\n",
            "    https://scikit-learn.org/stable/modules/linear_model.html#logistic-regression\n",
            "  n_iter_i = _check_optimize_result(\n"
          ]
        },
        {
          "name": "stdout",
          "output_type": "stream",
          "text": [
            "model's train score = 0.6745498384035294\n",
            "model's test score = 0.36072637734687596\n",
            "model's jaccard train score = 0.7442928230646899\n",
            "model's hamming train loss = 0.009572667111270713\n",
            "model's jaccard test score = 0.42761875448856057\n",
            "model's hamming test loss = 0.02229217381571952\n",
            "model's one match test score = 0.49630655586334255\n"
          ]
        }
      ],
      "source": [
        "tuned_log_reg_mll = train_evaluate_mll(ClassifierChain(LogisticRegression(random_state=SEED, **log_reg_mll_study.best_params)), X_train, X_test, y_train, y_test);"
      ]
    },
    {
      "cell_type": "code",
      "execution_count": 29,
      "metadata": {},
      "outputs": [],
      "source": [
        "pickle.dump(tuned_log_reg_mll, open(r'../models\\multilabel_models\\ML models\\tuned_log_reg_mll', 'wb'))"
      ]
    },
    {
      "cell_type": "code",
      "execution_count": null,
      "metadata": {
        "colab": {
          "base_uri": "https://localhost:8080/"
        },
        "id": "N9-pSu0fUpiD",
        "outputId": "5fa6995d-8a06-4984-f72f-17b73b159864"
      },
      "outputs": [
        {
          "name": "stdout",
          "output_type": "stream",
          "text": [
            "               precision    recall  f1-score   support\n",
            "\n",
            "       action       0.66      0.21      0.32       478\n",
            "    adventure       0.82      0.11      0.20       160\n",
            "    animation       0.98      0.31      0.47       150\n",
            "        anime       0.00      0.00      0.00        28\n",
            "         arts       0.00      0.00      0.00        12\n",
            " biographical       0.00      0.00      0.00        75\n",
            "        black       0.00      0.00      0.00        13\n",
            "       comedy       0.67      0.49      0.56      1682\n",
            "      costume       0.00      0.00      0.00         4\n",
            "        crime       0.52      0.14      0.22       355\n",
            "   devotional       0.00      0.00      0.00         3\n",
            "     disaster       0.00      0.00      0.00         5\n",
            "  documentary       0.00      0.00      0.00        22\n",
            "        drama       0.57      0.63      0.60      2154\n",
            "         epic       0.00      0.00      0.00         2\n",
            "       family       0.67      0.02      0.04       109\n",
            "      fantasy       0.33      0.05      0.09        77\n",
            "      feature       0.00      0.00      0.00         3\n",
            "     folklore       0.00      0.00      0.00         4\n",
            "   historical       0.00      0.00      0.00        35\n",
            "       horror       0.71      0.48      0.57       345\n",
            "        kaiju       0.00      0.00      0.00         3\n",
            "     literary       0.00      0.00      0.00         5\n",
            "      martial       0.00      0.00      0.00        12\n",
            "       masala       0.00      0.00      0.00         9\n",
            "    melodrama       0.00      0.00      0.00        10\n",
            " mockumentary       0.00      0.00      0.00         8\n",
            "      musical       0.62      0.13      0.22       198\n",
            "      mystery       0.50      0.11      0.18        94\n",
            "    mythology       0.00      0.00      0.00         5\n",
            "         noir       0.25      0.01      0.02        86\n",
            "       period       0.00      0.00      0.00         3\n",
            "    political       0.00      0.00      0.00         7\n",
            "   propaganda       0.00      0.00      0.00         3\n",
            "psychological       0.00      0.00      0.00         6\n",
            "     romantic       0.51      0.23      0.32       555\n",
            "       sci_fi       0.66      0.47      0.55       186\n",
            "    screwball       0.00      0.00      0.00         3\n",
            "       serial       0.00      0.00      0.00        18\n",
            "          sex       0.00      0.00      0.00         3\n",
            "        short       0.75      0.18      0.30        49\n",
            "    slapstick       0.00      0.00      0.00         3\n",
            "      slasher       0.00      0.00      0.00         3\n",
            "       social       0.50      0.03      0.05        38\n",
            "       sports       0.00      0.00      0.00        22\n",
            "          spy       0.67      0.13      0.22        15\n",
            "      subject       0.00      0.00      0.00         5\n",
            "    superhero       0.00      0.00      0.00        12\n",
            "     suspense       0.00      0.00      0.00        30\n",
            " swashbuckler       0.00      0.00      0.00         2\n",
            "     thriller       0.17      0.46      0.25       375\n",
            "    tokusatsu       0.00      0.00      0.00         7\n",
            "          war       0.55      0.53      0.54       122\n",
            "      western       0.24      0.87      0.37       227\n",
            "     world_ii       0.00      0.00      0.00        18\n",
            "\n",
            "    micro avg       0.49      0.42      0.45      7858\n",
            "    macro avg       0.21      0.10      0.11      7858\n",
            " weighted avg       0.55      0.42      0.43      7858\n",
            "  samples avg       0.49      0.43      0.45      7858\n",
            "\n"
          ]
        },
        {
          "name": "stderr",
          "output_type": "stream",
          "text": [
            "/usr/local/lib/python3.10/dist-packages/sklearn/metrics/_classification.py:1344: UndefinedMetricWarning: Precision and F-score are ill-defined and being set to 0.0 in labels with no predicted samples. Use `zero_division` parameter to control this behavior.\n",
            "  _warn_prf(average, modifier, msg_start, len(result))\n",
            "/usr/local/lib/python3.10/dist-packages/sklearn/metrics/_classification.py:1344: UndefinedMetricWarning: Precision and F-score are ill-defined and being set to 0.0 in samples with no predicted labels. Use `zero_division` parameter to control this behavior.\n",
            "  _warn_prf(average, modifier, msg_start, len(result))\n"
          ]
        }
      ],
      "source": [
        "print(classification_report(y_test, tuned_log_reg_mll.predict(X_test), target_names=mlb.classes_))"
      ]
    },
    {
      "attachments": {},
      "cell_type": "markdown",
      "metadata": {
        "id": "3HpcFeQ-m2i_"
      },
      "source": [
        "# Model only with best predicted classes"
      ]
    },
    {
      "attachments": {},
      "cell_type": "markdown",
      "metadata": {
        "id": "WmE6EDBtWFAb"
      },
      "source": [
        "Considering many classes are still too rare to be predicted properly, I'll try leaving only those that are already being predicted reasonably well to achieve even betetr results."
      ]
    },
    {
      "cell_type": "markdown",
      "metadata": {},
      "source": [
        "Uncomment below and go to modeling if you alredy have shortened dataset and just want to train and evaluate the models."
      ]
    },
    {
      "cell_type": "code",
      "execution_count": null,
      "metadata": {},
      "outputs": [],
      "source": [
        "# data_shortened = pd.read_csv('..\\data\\processed\\data_processed_shortened.csv')\n",
        "# data_shortened['Plot'] = data_shortened['Plot'].apply(ast.literal_eval)\n",
        "# data_shortened['Genre'] = data_shortened['Genre'].apply(ast.literal_eval)"
      ]
    },
    {
      "cell_type": "code",
      "execution_count": 10,
      "metadata": {
        "id": "7fDcPzESF7o9"
      },
      "outputs": [],
      "source": [
        "log_reg_mll = pickle.load(open(r'../models\\multilabel_models\\ML models\\tuned_log_reg_mll', 'rb'))"
      ]
    },
    {
      "cell_type": "code",
      "execution_count": 15,
      "metadata": {
        "id": "PAW6wYL55vHb"
      },
      "outputs": [],
      "source": [
        "label_scores = count_score_labels(log_reg_mll.predict(X_test), y_test, mlb.classes_, classes)"
      ]
    },
    {
      "cell_type": "code",
      "execution_count": 16,
      "metadata": {
        "colab": {
          "base_uri": "https://localhost:8080/",
          "height": 1000
        },
        "id": "K4PdggGR87rf",
        "outputId": "94970fe1-3e9c-44ac-9b8a-3f5267f63f4f"
      },
      "outputs": [
        {
          "data": {
            "text/html": [
              "<div>\n",
              "<style scoped>\n",
              "    .dataframe tbody tr th:only-of-type {\n",
              "        vertical-align: middle;\n",
              "    }\n",
              "\n",
              "    .dataframe tbody tr th {\n",
              "        vertical-align: top;\n",
              "    }\n",
              "\n",
              "    .dataframe thead th {\n",
              "        text-align: right;\n",
              "    }\n",
              "</style>\n",
              "<table border=\"1\" class=\"dataframe\">\n",
              "  <thead>\n",
              "    <tr style=\"text-align: right;\">\n",
              "      <th></th>\n",
              "      <th>f1_score</th>\n",
              "      <th>n_instances</th>\n",
              "    </tr>\n",
              "  </thead>\n",
              "  <tbody>\n",
              "    <tr>\n",
              "      <th>action</th>\n",
              "      <td>0.325949</td>\n",
              "      <td>1905.0</td>\n",
              "    </tr>\n",
              "    <tr>\n",
              "      <th>adventure</th>\n",
              "      <td>0.197802</td>\n",
              "      <td>635.0</td>\n",
              "    </tr>\n",
              "    <tr>\n",
              "      <th>animation</th>\n",
              "      <td>0.474747</td>\n",
              "      <td>606.0</td>\n",
              "    </tr>\n",
              "    <tr>\n",
              "      <th>anime</th>\n",
              "      <td>0.000000</td>\n",
              "      <td>112.0</td>\n",
              "    </tr>\n",
              "    <tr>\n",
              "      <th>arts</th>\n",
              "      <td>0.000000</td>\n",
              "      <td>46.0</td>\n",
              "    </tr>\n",
              "    <tr>\n",
              "      <th>biographical</th>\n",
              "      <td>0.000000</td>\n",
              "      <td>299.0</td>\n",
              "    </tr>\n",
              "    <tr>\n",
              "      <th>black</th>\n",
              "      <td>0.000000</td>\n",
              "      <td>52.0</td>\n",
              "    </tr>\n",
              "    <tr>\n",
              "      <th>comedy</th>\n",
              "      <td>0.563100</td>\n",
              "      <td>6733.0</td>\n",
              "    </tr>\n",
              "    <tr>\n",
              "      <th>costume</th>\n",
              "      <td>0.000000</td>\n",
              "      <td>16.0</td>\n",
              "    </tr>\n",
              "    <tr>\n",
              "      <th>crime</th>\n",
              "      <td>0.229075</td>\n",
              "      <td>1414.0</td>\n",
              "    </tr>\n",
              "    <tr>\n",
              "      <th>devotional</th>\n",
              "      <td>0.000000</td>\n",
              "      <td>12.0</td>\n",
              "    </tr>\n",
              "    <tr>\n",
              "      <th>disaster</th>\n",
              "      <td>0.000000</td>\n",
              "      <td>21.0</td>\n",
              "    </tr>\n",
              "    <tr>\n",
              "      <th>documentary</th>\n",
              "      <td>0.000000</td>\n",
              "      <td>89.0</td>\n",
              "    </tr>\n",
              "    <tr>\n",
              "      <th>drama</th>\n",
              "      <td>0.597671</td>\n",
              "      <td>8614.0</td>\n",
              "    </tr>\n",
              "    <tr>\n",
              "      <th>epic</th>\n",
              "      <td>0.000000</td>\n",
              "      <td>10.0</td>\n",
              "    </tr>\n",
              "    <tr>\n",
              "      <th>family</th>\n",
              "      <td>0.035714</td>\n",
              "      <td>441.0</td>\n",
              "    </tr>\n",
              "    <tr>\n",
              "      <th>fantasy</th>\n",
              "      <td>0.089888</td>\n",
              "      <td>307.0</td>\n",
              "    </tr>\n",
              "    <tr>\n",
              "      <th>feature</th>\n",
              "      <td>0.000000</td>\n",
              "      <td>14.0</td>\n",
              "    </tr>\n",
              "    <tr>\n",
              "      <th>folklore</th>\n",
              "      <td>0.000000</td>\n",
              "      <td>17.0</td>\n",
              "    </tr>\n",
              "    <tr>\n",
              "      <th>historical</th>\n",
              "      <td>0.000000</td>\n",
              "      <td>142.0</td>\n",
              "    </tr>\n",
              "    <tr>\n",
              "      <th>horror</th>\n",
              "      <td>0.575390</td>\n",
              "      <td>1378.0</td>\n",
              "    </tr>\n",
              "    <tr>\n",
              "      <th>kaiju</th>\n",
              "      <td>0.000000</td>\n",
              "      <td>13.0</td>\n",
              "    </tr>\n",
              "    <tr>\n",
              "      <th>literary</th>\n",
              "      <td>0.000000</td>\n",
              "      <td>20.0</td>\n",
              "    </tr>\n",
              "    <tr>\n",
              "      <th>martial</th>\n",
              "      <td>0.000000</td>\n",
              "      <td>46.0</td>\n",
              "    </tr>\n",
              "    <tr>\n",
              "      <th>masala</th>\n",
              "      <td>0.000000</td>\n",
              "      <td>37.0</td>\n",
              "    </tr>\n",
              "    <tr>\n",
              "      <th>melodrama</th>\n",
              "      <td>0.000000</td>\n",
              "      <td>39.0</td>\n",
              "    </tr>\n",
              "    <tr>\n",
              "      <th>mockumentary</th>\n",
              "      <td>0.000000</td>\n",
              "      <td>31.0</td>\n",
              "    </tr>\n",
              "    <tr>\n",
              "      <th>musical</th>\n",
              "      <td>0.224066</td>\n",
              "      <td>788.0</td>\n",
              "    </tr>\n",
              "    <tr>\n",
              "      <th>mystery</th>\n",
              "      <td>0.175439</td>\n",
              "      <td>376.0</td>\n",
              "    </tr>\n",
              "    <tr>\n",
              "      <th>mythology</th>\n",
              "      <td>0.000000</td>\n",
              "      <td>22.0</td>\n",
              "    </tr>\n",
              "    <tr>\n",
              "      <th>noir</th>\n",
              "      <td>0.022222</td>\n",
              "      <td>345.0</td>\n",
              "    </tr>\n",
              "    <tr>\n",
              "      <th>period</th>\n",
              "      <td>0.000000</td>\n",
              "      <td>12.0</td>\n",
              "    </tr>\n",
              "    <tr>\n",
              "      <th>political</th>\n",
              "      <td>0.000000</td>\n",
              "      <td>30.0</td>\n",
              "    </tr>\n",
              "    <tr>\n",
              "      <th>propaganda</th>\n",
              "      <td>0.000000</td>\n",
              "      <td>13.0</td>\n",
              "    </tr>\n",
              "    <tr>\n",
              "      <th>psychological</th>\n",
              "      <td>0.000000</td>\n",
              "      <td>23.0</td>\n",
              "    </tr>\n",
              "    <tr>\n",
              "      <th>romantic</th>\n",
              "      <td>0.320592</td>\n",
              "      <td>2215.0</td>\n",
              "    </tr>\n",
              "    <tr>\n",
              "      <th>sci_fi</th>\n",
              "      <td>0.547771</td>\n",
              "      <td>743.0</td>\n",
              "    </tr>\n",
              "    <tr>\n",
              "      <th>screwball</th>\n",
              "      <td>0.000000</td>\n",
              "      <td>11.0</td>\n",
              "    </tr>\n",
              "    <tr>\n",
              "      <th>serial</th>\n",
              "      <td>0.000000</td>\n",
              "      <td>71.0</td>\n",
              "    </tr>\n",
              "    <tr>\n",
              "      <th>sex</th>\n",
              "      <td>0.000000</td>\n",
              "      <td>13.0</td>\n",
              "    </tr>\n",
              "    <tr>\n",
              "      <th>short</th>\n",
              "      <td>0.295082</td>\n",
              "      <td>194.0</td>\n",
              "    </tr>\n",
              "    <tr>\n",
              "      <th>slapstick</th>\n",
              "      <td>0.000000</td>\n",
              "      <td>12.0</td>\n",
              "    </tr>\n",
              "    <tr>\n",
              "      <th>slasher</th>\n",
              "      <td>0.000000</td>\n",
              "      <td>12.0</td>\n",
              "    </tr>\n",
              "    <tr>\n",
              "      <th>social</th>\n",
              "      <td>0.050000</td>\n",
              "      <td>152.0</td>\n",
              "    </tr>\n",
              "    <tr>\n",
              "      <th>sports</th>\n",
              "      <td>0.000000</td>\n",
              "      <td>90.0</td>\n",
              "    </tr>\n",
              "    <tr>\n",
              "      <th>spy</th>\n",
              "      <td>0.222222</td>\n",
              "      <td>61.0</td>\n",
              "    </tr>\n",
              "    <tr>\n",
              "      <th>subject</th>\n",
              "      <td>0.000000</td>\n",
              "      <td>19.0</td>\n",
              "    </tr>\n",
              "    <tr>\n",
              "      <th>superhero</th>\n",
              "      <td>0.000000</td>\n",
              "      <td>48.0</td>\n",
              "    </tr>\n",
              "    <tr>\n",
              "      <th>suspense</th>\n",
              "      <td>0.000000</td>\n",
              "      <td>122.0</td>\n",
              "    </tr>\n",
              "    <tr>\n",
              "      <th>swashbuckler</th>\n",
              "      <td>0.000000</td>\n",
              "      <td>10.0</td>\n",
              "    </tr>\n",
              "    <tr>\n",
              "      <th>thriller</th>\n",
              "      <td>0.243281</td>\n",
              "      <td>1503.0</td>\n",
              "    </tr>\n",
              "    <tr>\n",
              "      <th>tokusatsu</th>\n",
              "      <td>0.000000</td>\n",
              "      <td>28.0</td>\n",
              "    </tr>\n",
              "    <tr>\n",
              "      <th>war</th>\n",
              "      <td>0.541667</td>\n",
              "      <td>488.0</td>\n",
              "    </tr>\n",
              "    <tr>\n",
              "      <th>western</th>\n",
              "      <td>0.374291</td>\n",
              "      <td>909.0</td>\n",
              "    </tr>\n",
              "    <tr>\n",
              "      <th>world_ii</th>\n",
              "      <td>0.000000</td>\n",
              "      <td>70.0</td>\n",
              "    </tr>\n",
              "  </tbody>\n",
              "</table>\n",
              "</div>"
            ],
            "text/plain": [
              "               f1_score  n_instances\n",
              "action         0.325949       1905.0\n",
              "adventure      0.197802        635.0\n",
              "animation      0.474747        606.0\n",
              "anime          0.000000        112.0\n",
              "arts           0.000000         46.0\n",
              "biographical   0.000000        299.0\n",
              "black          0.000000         52.0\n",
              "comedy         0.563100       6733.0\n",
              "costume        0.000000         16.0\n",
              "crime          0.229075       1414.0\n",
              "devotional     0.000000         12.0\n",
              "disaster       0.000000         21.0\n",
              "documentary    0.000000         89.0\n",
              "drama          0.597671       8614.0\n",
              "epic           0.000000         10.0\n",
              "family         0.035714        441.0\n",
              "fantasy        0.089888        307.0\n",
              "feature        0.000000         14.0\n",
              "folklore       0.000000         17.0\n",
              "historical     0.000000        142.0\n",
              "horror         0.575390       1378.0\n",
              "kaiju          0.000000         13.0\n",
              "literary       0.000000         20.0\n",
              "martial        0.000000         46.0\n",
              "masala         0.000000         37.0\n",
              "melodrama      0.000000         39.0\n",
              "mockumentary   0.000000         31.0\n",
              "musical        0.224066        788.0\n",
              "mystery        0.175439        376.0\n",
              "mythology      0.000000         22.0\n",
              "noir           0.022222        345.0\n",
              "period         0.000000         12.0\n",
              "political      0.000000         30.0\n",
              "propaganda     0.000000         13.0\n",
              "psychological  0.000000         23.0\n",
              "romantic       0.320592       2215.0\n",
              "sci_fi         0.547771        743.0\n",
              "screwball      0.000000         11.0\n",
              "serial         0.000000         71.0\n",
              "sex            0.000000         13.0\n",
              "short          0.295082        194.0\n",
              "slapstick      0.000000         12.0\n",
              "slasher        0.000000         12.0\n",
              "social         0.050000        152.0\n",
              "sports         0.000000         90.0\n",
              "spy            0.222222         61.0\n",
              "subject        0.000000         19.0\n",
              "superhero      0.000000         48.0\n",
              "suspense       0.000000        122.0\n",
              "swashbuckler   0.000000         10.0\n",
              "thriller       0.243281       1503.0\n",
              "tokusatsu      0.000000         28.0\n",
              "war            0.541667        488.0\n",
              "western        0.374291        909.0\n",
              "world_ii       0.000000         70.0"
            ]
          },
          "execution_count": 16,
          "metadata": {},
          "output_type": "execute_result"
        }
      ],
      "source": [
        "label_scores"
      ]
    },
    {
      "cell_type": "code",
      "execution_count": 17,
      "metadata": {
        "colab": {
          "base_uri": "https://localhost:8080/"
        },
        "id": "cLB7DPKl9H_f",
        "outputId": "420b3670-2ee6-45d2-8458-b03c4deccae8"
      },
      "outputs": [
        {
          "name": "stdout",
          "output_type": "stream",
          "text": [
            "Correlation between n_instances and f1 score = 0.6703395667494931\n"
          ]
        }
      ],
      "source": [
        "print(f'Correlation between n_instances and f1 score = {label_scores.f1_score.corr(label_scores.n_instances)}')"
      ]
    },
    {
      "attachments": {},
      "cell_type": "markdown",
      "metadata": {
        "id": "AnMq3xZI9H_i"
      },
      "source": [
        "Correlation between quality of predictions and number of classes is very high but what number of instances is needed to get at least some non zero predictions qualtity?"
      ]
    },
    {
      "cell_type": "code",
      "execution_count": 18,
      "metadata": {
        "colab": {
          "base_uri": "https://localhost:8080/",
          "height": 582
        },
        "id": "0ATM6V4_9H_j",
        "outputId": "4a686f07-ad70-4a2e-c725-ae24c8a24943"
      },
      "outputs": [
        {
          "data": {
            "text/html": [
              "<div>\n",
              "<style scoped>\n",
              "    .dataframe tbody tr th:only-of-type {\n",
              "        vertical-align: middle;\n",
              "    }\n",
              "\n",
              "    .dataframe tbody tr th {\n",
              "        vertical-align: top;\n",
              "    }\n",
              "\n",
              "    .dataframe thead th {\n",
              "        text-align: right;\n",
              "    }\n",
              "</style>\n",
              "<table border=\"1\" class=\"dataframe\">\n",
              "  <thead>\n",
              "    <tr style=\"text-align: right;\">\n",
              "      <th></th>\n",
              "      <th>f1_score</th>\n",
              "      <th>n_instances</th>\n",
              "    </tr>\n",
              "  </thead>\n",
              "  <tbody>\n",
              "    <tr>\n",
              "      <th>spy</th>\n",
              "      <td>0.222222</td>\n",
              "      <td>61.0</td>\n",
              "    </tr>\n",
              "    <tr>\n",
              "      <th>short</th>\n",
              "      <td>0.295082</td>\n",
              "      <td>194.0</td>\n",
              "    </tr>\n",
              "    <tr>\n",
              "      <th>fantasy</th>\n",
              "      <td>0.089888</td>\n",
              "      <td>307.0</td>\n",
              "    </tr>\n",
              "    <tr>\n",
              "      <th>mystery</th>\n",
              "      <td>0.175439</td>\n",
              "      <td>376.0</td>\n",
              "    </tr>\n",
              "    <tr>\n",
              "      <th>war</th>\n",
              "      <td>0.541667</td>\n",
              "      <td>488.0</td>\n",
              "    </tr>\n",
              "    <tr>\n",
              "      <th>animation</th>\n",
              "      <td>0.474747</td>\n",
              "      <td>606.0</td>\n",
              "    </tr>\n",
              "    <tr>\n",
              "      <th>adventure</th>\n",
              "      <td>0.197802</td>\n",
              "      <td>635.0</td>\n",
              "    </tr>\n",
              "    <tr>\n",
              "      <th>sci_fi</th>\n",
              "      <td>0.547771</td>\n",
              "      <td>743.0</td>\n",
              "    </tr>\n",
              "    <tr>\n",
              "      <th>musical</th>\n",
              "      <td>0.224066</td>\n",
              "      <td>788.0</td>\n",
              "    </tr>\n",
              "    <tr>\n",
              "      <th>western</th>\n",
              "      <td>0.374291</td>\n",
              "      <td>909.0</td>\n",
              "    </tr>\n",
              "    <tr>\n",
              "      <th>horror</th>\n",
              "      <td>0.575390</td>\n",
              "      <td>1378.0</td>\n",
              "    </tr>\n",
              "    <tr>\n",
              "      <th>crime</th>\n",
              "      <td>0.229075</td>\n",
              "      <td>1414.0</td>\n",
              "    </tr>\n",
              "    <tr>\n",
              "      <th>thriller</th>\n",
              "      <td>0.243281</td>\n",
              "      <td>1503.0</td>\n",
              "    </tr>\n",
              "    <tr>\n",
              "      <th>action</th>\n",
              "      <td>0.325949</td>\n",
              "      <td>1905.0</td>\n",
              "    </tr>\n",
              "    <tr>\n",
              "      <th>romantic</th>\n",
              "      <td>0.320592</td>\n",
              "      <td>2215.0</td>\n",
              "    </tr>\n",
              "    <tr>\n",
              "      <th>comedy</th>\n",
              "      <td>0.563100</td>\n",
              "      <td>6733.0</td>\n",
              "    </tr>\n",
              "    <tr>\n",
              "      <th>drama</th>\n",
              "      <td>0.597671</td>\n",
              "      <td>8614.0</td>\n",
              "    </tr>\n",
              "  </tbody>\n",
              "</table>\n",
              "</div>"
            ],
            "text/plain": [
              "           f1_score  n_instances\n",
              "spy        0.222222         61.0\n",
              "short      0.295082        194.0\n",
              "fantasy    0.089888        307.0\n",
              "mystery    0.175439        376.0\n",
              "war        0.541667        488.0\n",
              "animation  0.474747        606.0\n",
              "adventure  0.197802        635.0\n",
              "sci_fi     0.547771        743.0\n",
              "musical    0.224066        788.0\n",
              "western    0.374291        909.0\n",
              "horror     0.575390       1378.0\n",
              "crime      0.229075       1414.0\n",
              "thriller   0.243281       1503.0\n",
              "action     0.325949       1905.0\n",
              "romantic   0.320592       2215.0\n",
              "comedy     0.563100       6733.0\n",
              "drama      0.597671       8614.0"
            ]
          },
          "execution_count": 18,
          "metadata": {},
          "output_type": "execute_result"
        }
      ],
      "source": [
        "label_scores[label_scores['f1_score'] > 0.05].sort_values(by='n_instances')"
      ]
    },
    {
      "cell_type": "code",
      "execution_count": 19,
      "metadata": {
        "id": "CA5t5glP9mVp"
      },
      "outputs": [],
      "source": [
        "best_classes = label_scores[label_scores['f1_score'] > 0.05].sort_values(by='n_instances').index.to_list()\n",
        "genres_shortened = df_filtered_ml['Genre'].apply(lambda labels: list(filter(lambda label: label in best_classes , labels)))"
      ]
    },
    {
      "cell_type": "code",
      "execution_count": 20,
      "metadata": {
        "id": "w26S58jtmeD1"
      },
      "outputs": [],
      "source": [
        "data_shortened = pd.concat([df_filtered_ml.Plot, genres_shortened], axis=1)\n",
        "data_shortened = data_shortened[data_shortened['Genre'].apply(lambda x: len(x) > 0)]"
      ]
    },
    {
      "cell_type": "code",
      "execution_count": 21,
      "metadata": {
        "id": "r9s15h0DVpVX"
      },
      "outputs": [],
      "source": [
        "data_shortened.to_csv('..\\data\\processed\\data_processed_shortened.csv')"
      ]
    },
    {
      "cell_type": "code",
      "execution_count": 11,
      "metadata": {
        "id": "0gvXel8CLaMf"
      },
      "outputs": [],
      "source": [
        "mlb = MultiLabelBinarizer()\n",
        "shortened_classes = mlb.fit_transform(data_shortened['Genre'])"
      ]
    },
    {
      "cell_type": "code",
      "execution_count": 14,
      "metadata": {},
      "outputs": [
        {
          "data": {
            "text/plain": [
              "['..\\\\models\\\\utils\\\\binarizer.pkl']"
            ]
          },
          "execution_count": 14,
          "metadata": {},
          "output_type": "execute_result"
        }
      ],
      "source": [
        "joblib.dump(mlb, r'..\\models\\utils\\binarizer.pkl')"
      ]
    },
    {
      "cell_type": "code",
      "execution_count": 24,
      "metadata": {
        "colab": {
          "base_uri": "https://localhost:8080/"
        },
        "id": "clEygL36LC9i",
        "outputId": "279c751f-8dd4-4d73-c373-1faec572f546"
      },
      "outputs": [],
      "source": [
        "X_train, X_test, y_train, y_test = train_test_split(data_shortened.Plot,\n",
        "                                                shortened_classes, shuffle=True, random_state=SEED, stratify=shortened_classes)\n",
        "X_train = vectorizer_lemm.transform(X_train)\n",
        "X_test = vectorizer_lemm.transform(X_test)"
      ]
    },
    {
      "cell_type": "code",
      "execution_count": 25,
      "metadata": {
        "id": "WSAIp6vML6Dk"
      },
      "outputs": [],
      "source": [
        "log_reg_mll_reduced = ClassifierChain(LogisticRegression(n_jobs=-1, random_state=SEED, C=4.3))"
      ]
    },
    {
      "cell_type": "code",
      "execution_count": 26,
      "metadata": {},
      "outputs": [
        {
          "name": "stdout",
          "output_type": "stream",
          "text": [
            "model's train score = 0.7453787504799517\n",
            "model's test score = 0.43106284962158603\n",
            "model's jaccard train score = 0.808252427184466\n",
            "model's hamming train loss = 0.023273222403985456\n",
            "model's jaccard test score = 0.4960787539760887\n",
            "model's hamming test loss = 0.06309157424075257\n",
            "model's one match test score = 0.5623560381704508\n",
            "models f1 weighted test score = 0.5030881493671039\n"
          ]
        }
      ],
      "source": [
        "train_evaluate_mll(log_reg_mll_reduced, X_train, X_test, y_train, y_test);\n",
        "f1 = f1_score(y_test, log_reg_mll_reduced.predict(X_test), average='weighted')\n",
        "print(f'models f1 weighted test score = {f1}')"
      ]
    },
    {
      "cell_type": "code",
      "execution_count": 27,
      "metadata": {},
      "outputs": [
        {
          "name": "stdout",
          "output_type": "stream",
          "text": [
            "              precision    recall  f1-score   support\n",
            "\n",
            "      action       0.76      0.22      0.34       477\n",
            "   adventure       0.88      0.09      0.16       158\n",
            "   animation       1.00      0.46      0.63       151\n",
            "      comedy       0.71      0.52      0.60      1682\n",
            "       crime       0.64      0.19      0.29       354\n",
            "       drama       0.59      0.70      0.64      2155\n",
            "     fantasy       0.86      0.08      0.14        76\n",
            "      horror       0.80      0.53      0.64       345\n",
            "     musical       0.62      0.13      0.22       198\n",
            "     mystery       0.56      0.16      0.25        94\n",
            "    romantic       0.52      0.21      0.29       555\n",
            "      sci_fi       0.70      0.56      0.63       186\n",
            "       short       0.67      0.17      0.27        48\n",
            "         spy       1.00      0.07      0.12        15\n",
            "    thriller       0.17      0.41      0.24       375\n",
            "         war       0.62      0.44      0.52       122\n",
            "     western       0.40      0.82      0.53       227\n",
            "\n",
            "   micro avg       0.56      0.48      0.52      7218\n",
            "   macro avg       0.68      0.34      0.38      7218\n",
            "weighted avg       0.63      0.48      0.50      7218\n",
            " samples avg       0.55      0.50      0.52      7218\n",
            "\n"
          ]
        }
      ],
      "source": [
        "print(classification_report(y_test, log_reg_mll_reduced.predict(X_test), target_names=mlb.classes_))"
      ]
    },
    {
      "cell_type": "code",
      "execution_count": 80,
      "metadata": {
        "id": "KgD8piWDTwVL"
      },
      "outputs": [],
      "source": [
        "pickle.dump(log_reg_mll_reduced, open(r'../models\\multilabel_models\\ML models\\log_reg_mll_reduced', 'wb'))"
      ]
    },
    {
      "attachments": {},
      "cell_type": "markdown",
      "metadata": {
        "id": "lNBo9bTj3-ip"
      },
      "source": [
        "# Words importance plots"
      ]
    },
    {
      "cell_type": "code",
      "execution_count": null,
      "metadata": {
        "colab": {
          "base_uri": "https://localhost:8080/",
          "height": 449
        },
        "id": "B89fEjVZPYRi",
        "outputId": "5bd81960-8084-4db3-c892-71356256716b"
      },
      "outputs": [
        {
          "data": {
            "image/png": "[encoded data removed]",
            "text/plain": [
              "<Figure size 640x480 with 1 Axes>"
            ]
          },
          "metadata": {},
          "output_type": "display_data"
        }
      ],
      "source": [
        "plot_importance(log_reg_mll_reduced, vectorizer_lemm.get_feature_names_out(), mlb.classes_)"
      ]
    },
    {
      "cell_type": "code",
      "execution_count": null,
      "metadata": {
        "colab": {
          "base_uri": "https://localhost:8080/",
          "height": 1000
        },
        "id": "xzPjDDViVlV4",
        "outputId": "73810586-ef7e-4ddc-8c97-2349773b5be5"
      },
      "outputs": [
        {
          "data": {
            "image/png": "[encoded data removed]",
            "text/plain": [
              "<Figure size 640x480 with 1 Axes>"
            ]
          },
          "metadata": {},
          "output_type": "display_data"
        },
        {
          "data": {
            "image/png": "[encoded data removed]",
            "text/plain": [
              "<Figure size 640x480 with 1 Axes>"
            ]
          },
          "metadata": {},
          "output_type": "display_data"
        },
        {
          "data": {
            "image/png": "[encoded data removed]",
            "text/plain": [
              "<Figure size 640x480 with 1 Axes>"
            ]
          },
          "metadata": {},
          "output_type": "display_data"
        },
        {
          "data": {
            "image/png": "[encoded data removed]",
            "text/plain": [
              "<Figure size 640x480 with 1 Axes>"
            ]
          },
          "metadata": {},
          "output_type": "display_data"
        }
      ],
      "source": [
        "for genre in ('drama', 'comedy', 'horror', 'western'):\n",
        "    plot_importance(log_reg_mll_reduced, vectorizer_lemm.get_feature_names_out(), mlb.classes_, genre)\n",
        "    plt.show()"
      ]
    },
    {
      "cell_type": "markdown",
      "metadata": {},
      "source": [
        "I'd like to save such plots to all labels as it might be a useful information."
      ]
    },
    {
      "cell_type": "code",
      "execution_count": null,
      "metadata": {},
      "outputs": [],
      "source": [
        "for genre in mlb.classes_:\n",
        "    plot_importance(log_reg_mll_reduced, vectorizer_lemm.get_feature_names_out(), mlb.classes_, genre)\n",
        "    plt.savefig(f'../reports/figures/{genre}.png');"
      ]
    },
    {
      "cell_type": "code",
      "execution_count": 130,
      "metadata": {},
      "outputs": [
        {
          "data": {
            "image/png": "[encoded data removed]",
            "text/plain": [
              "<Figure size 640x480 with 1 Axes>"
            ]
          },
          "metadata": {},
          "output_type": "display_data"
        }
      ],
      "source": [
        "plot_importance(log_reg_mll_reduced, vectorizer_lemm.get_feature_names_out(), mlb.classes_)\n",
        "plt.savefig(f'../reports/figures/average.png');"
      ]
    },
    {
      "cell_type": "markdown",
      "metadata": {},
      "source": [
        "# Conclusions"
      ]
    },
    {
      "attachments": {},
      "cell_type": "markdown",
      "metadata": {
        "id": "RDqwxwV2cqbp"
      },
      "source": [
        "From words importance plots I see that the most important words are pretty logical and predictable - for comedy we get words about family, for horror - vampires and ghosts, for western - ranch, sheriff and so on."
      ]
    },
    {
      "attachments": {},
      "cell_type": "markdown",
      "metadata": {
        "id": "HaZMIO2i3-iq"
      },
      "source": [
        "The best model after hyperparameters tuning appears to be chained logistic regression with jaccard score of 0.427 and full matcg accuracy of \n",
        "0.36. "
      ]
    },
    {
      "cell_type": "markdown",
      "metadata": {},
      "source": [
        "After that I've tried to train model only on instances with the most common and best predicted classes and achieved even better results - 0.431 full match accuracy and 0.496 jaccard score."
      ]
    },
    {
      "attachments": {},
      "cell_type": "markdown",
      "metadata": {
        "id": "9wggNmOZ3-iq"
      },
      "source": [
        "All in all, using multilabel approach hasn't improved full match accuracy but it does give more meaningful information and is better in terms of all avg's of f1 score."
      ]
    }
  ],
  "metadata": {
    "colab": {
      "provenance": []
    },
    "kernelspec": {
      "display_name": "Python 3",
      "name": "python3"
    },
    "language_info": {
      "codemirror_mode": {
        "name": "ipython",
        "version": 3
      },
      "file_extension": ".py",
      "mimetype": "text/x-python",
      "name": "python",
      "nbconvert_exporter": "python",
      "pygments_lexer": "ipython3",
      "version": "3.10.5"
    }
  },
  "nbformat": 4,
  "nbformat_minor": 0
}
