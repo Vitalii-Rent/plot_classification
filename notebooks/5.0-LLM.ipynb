{
  "cells": [
    {
      "attachments": {},
      "cell_type": "markdown",
      "metadata": {},
      "source": [
        "## Imports"
      ]
    },
    {
      "cell_type": "code",
      "execution_count": 1,
      "metadata": {},
      "outputs": [],
      "source": [
        "import transformers\n",
        "from datasets import Dataset\n",
        "from transformers import DataCollatorWithPadding\n",
        "import numpy as np # linear algebra\n",
        "import pandas as pd # data processing, CSV file I/O (e.g. pd.read_csv)\n",
        "import seaborn as sns\n",
        "import matplotlib.pyplot as plt\n",
        "from sklearn.metrics import classification_report, jaccard_score, hamming_loss, f1_score\n",
        "from sklearn.preprocessing import MultiLabelBinarizer\n",
        "from sklearn.model_selection import train_test_split\n",
        "from torchtext.data.utils import get_tokenizer\n",
        "from torch.nn import functional as F\n",
        "import torch\n",
        "import random\n",
        "import os"
      ]
    },
    {
      "cell_type": "code",
      "execution_count": 2,
      "metadata": {},
      "outputs": [],
      "source": [
        "import sys\n",
        "sys.path.append('..')"
      ]
    },
    {
      "cell_type": "code",
      "execution_count": 3,
      "metadata": {},
      "outputs": [],
      "source": [
        "from src.data.nn_utils import get_whole_target, MovieHFDatasetMLL, MovieHFDataset\n",
        "from src.data.text_processing import replace_labels, partial_clean_text\n",
        "from src.models.eval_nn_utils import compute_metrics_mlc, multi_label_metrics, compute_metrics, transform_predictions\n",
        "from src.models.train_predict import evaluate_ml"
      ]
    },
    {
      "cell_type": "code",
      "execution_count": 3,
      "metadata": {},
      "outputs": [],
      "source": [
        "from dotenv import load_dotenv\n",
        "import os\n",
        "load_dotenv()\n",
        "SEED=int(os.getenv('SEED'))"
      ]
    },
    {
      "cell_type": "code",
      "execution_count": 4,
      "metadata": {},
      "outputs": [],
      "source": [
        "device = torch.device('cuda' if torch.cuda.is_available() else 'cpu')\n",
        "\n",
        "def seed_everything(seed):\n",
        "    os.environ[\"PYTHONHASHSEED\"] = str(seed)\n",
        "    torch.manual_seed(seed)\n",
        "    np.random.seed(seed)\n",
        "    random.seed(seed)\n",
        "    torch.cuda.manual_seed_all(seed)\n",
        "    torch.backends.cudnn.deterministic = True\n",
        "    torch.backends.cudnn.benchmark = False\n",
        "\n",
        "seed_everything(SEED)"
      ]
    },
    {
      "cell_type": "markdown",
      "metadata": {
        "id": "3AiXxWuESofQ"
      },
      "source": [
        "For fine-tuning of big models I'm going to use less transformed dataset - the only transformation I'm going to use is cleaning, without deleting stop words, punctuation and lemmatizing. Later work will be done using standart hugging face methods tokenizer and trainer."
      ]
    },
    {
      "cell_type": "markdown",
      "metadata": {
        "id": "l2a9qctwX6od"
      },
      "source": [
        "## Data processing"
      ]
    },
    {
      "cell_type": "code",
      "execution_count": 5,
      "metadata": {},
      "outputs": [],
      "source": [
        "df_filtered = pd.read_csv('../data/interim/data_intermidiate.csv')"
      ]
    },
    {
      "cell_type": "code",
      "execution_count": 6,
      "metadata": {},
      "outputs": [],
      "source": [
        "replacements = [\n",
        "    ('animated', 'animation'),\n",
        "    ('biography', 'biographical'),\n",
        "    ('biopic', 'biographical'),\n",
        "    ('com', 'com'),\n",
        "    ('com', 'comedy'),\n",
        "    ('docudrama', 'documentary drama'),\n",
        "    ('dramedy', 'drama comedy'),\n",
        "    ('sci fi', 'sci_fi'),\n",
        "    ('science fiction', 'sci_fi'),\n",
        "    ('film', ''),\n",
        "    ('world war ii', 'world_ii war'),\n",
        "    ('rom ', 'romantic '),\n",
        "    ('romance', 'romantic'),\n",
        "    ('comedyedy', 'comedy')\n",
        "]"
      ]
    },
    {
      "cell_type": "code",
      "execution_count": 7,
      "metadata": {
        "id": "mkK_ExAv1E5Y"
      },
      "outputs": [],
      "source": [
        "labels = df_filtered['Genre'].apply(lambda x: replace_labels(x, replacements))"
      ]
    },
    {
      "cell_type": "code",
      "execution_count": 8,
      "metadata": {
        "id": "KKwp58pvY8BF"
      },
      "outputs": [],
      "source": [
        "plots_cleaned = df_filtered['Plot'].apply(partial_clean_text)"
      ]
    },
    {
      "cell_type": "code",
      "execution_count": 9,
      "metadata": {
        "id": "F9SWnSflH9Kj"
      },
      "outputs": [],
      "source": [
        "from transformers import AutoTokenizer\n",
        "\n",
        "tokenizer = AutoTokenizer.from_pretrained(\"distilbert-base-uncased\")"
      ]
    },
    {
      "cell_type": "code",
      "execution_count": 10,
      "metadata": {
        "id": "hxMj54c2t-0D"
      },
      "outputs": [],
      "source": [
        "X_train, X_val, y_train, y_val = train_test_split(plots_cleaned, labels, test_size=0.2, stratify=labels)"
      ]
    },
    {
      "cell_type": "code",
      "execution_count": 11,
      "metadata": {
        "id": "HPeA5lEMt-2v"
      },
      "outputs": [],
      "source": [
        "X_train_tokenized = tokenizer(X_train.to_list(), truncation=True, max_length=512)\n",
        "X_val_tokenized = tokenizer(X_val.to_list(), truncation=True, max_length=512)"
      ]
    },
    {
      "cell_type": "code",
      "execution_count": 12,
      "metadata": {
        "id": "VaD4oukpHJ3P"
      },
      "outputs": [],
      "source": [
        "labels_unique = labels.unique()\n",
        "num_labels = len(labels_unique)\n",
        "label2id, id2label = dict(), dict()\n",
        "for i, label in enumerate(labels_unique):\n",
        "    label2id[label] = str(i)\n",
        "    id2label[str(i)] = label"
      ]
    },
    {
      "cell_type": "code",
      "execution_count": null,
      "metadata": {
        "colab": {
          "base_uri": "https://localhost:8080/"
        },
        "id": "TtXRmjQ7t-5j",
        "outputId": "039f6efa-c20c-44f6-854c-735fed64f0ec"
      },
      "outputs": [],
      "source": [
        "train_mlc_dataset = MovieHFDataset(X_train_tokenized, y_train, label2id)\n",
        "val_mlc_dataset = MovieHFDataset(X_val_tokenized, y_val, label2id)"
      ]
    },
    {
      "cell_type": "markdown",
      "metadata": {},
      "source": [
        "# Training"
      ]
    },
    {
      "cell_type": "markdown",
      "metadata": {
        "id": "XkqgmFY2YCTm"
      },
      "source": [
        "## Multiclass"
      ]
    },
    {
      "cell_type": "code",
      "execution_count": 14,
      "metadata": {
        "id": "oWiI444JE_Wq"
      },
      "outputs": [],
      "source": [
        "data_collator = DataCollatorWithPadding(tokenizer=tokenizer)"
      ]
    },
    {
      "cell_type": "code",
      "execution_count": 15,
      "metadata": {
        "id": "6KUOR7-PUikx"
      },
      "outputs": [],
      "source": [
        "from transformers import AutoModelForSequenceClassification, TrainingArguments, Trainer"
      ]
    },
    {
      "cell_type": "code",
      "execution_count": 16,
      "metadata": {
        "colab": {
          "base_uri": "https://localhost:8080/",
          "height": 104,
          "referenced_widgets": [
            "a337da2f83ce4662aad8aec58f981233",
            "ece2b625c5604acb9dae56d972811379",
            "58a41eafb0eb4958b018a9979cb07a9c",
            "4101dd6cb43b4c1997c3df9625796df9",
            "00e2f00736d14abebe54b9fc455aa937",
            "79f30e754bef4251abb695bec2bd5db2",
            "d68cf8aea31047df9a2a3c58f9b529f9",
            "da4f69f974204531abb31c2346f112d9",
            "9baf501e680c4724959e1f05cb0a3700",
            "55f02abac22448b08c8058d1c46a8a27",
            "f1a314eb4bdd446495473a65dadceaa8"
          ]
        },
        "id": "dH2BchJjTs88",
        "outputId": "04fbd443-9f6b-4359-b210-0fe481cc3cac"
      },
      "outputs": [
        {
          "data": {
            "application/vnd.jupyter.widget-view+json": {
              "model_id": "f072b38ffa39430eaf9ba549aedc5425",
              "version_major": 2,
              "version_minor": 0
            },
            "text/plain": [
              "Downloading model.safetensors:   0%|          | 0.00/268M [00:00<?, ?B/s]"
            ]
          },
          "metadata": {},
          "output_type": "display_data"
        },
        {
          "name": "stderr",
          "output_type": "stream",
          "text": [
            "c:\\Users\\user\\AppData\\Local\\Programs\\Python\\Python310\\lib\\site-packages\\huggingface_hub\\file_download.py:133: UserWarning: `huggingface_hub` cache-system uses symlinks by default to efficiently store duplicated files but your machine does not support them in C:\\Users\\user\\.cache\\huggingface\\hub. Caching files will still work but in a degraded version that might require more space on your disk. This warning can be disabled by setting the `HF_HUB_DISABLE_SYMLINKS_WARNING` environment variable. For more details, see https://huggingface.co/docs/huggingface_hub/how-to-cache#limitations.\n",
            "To support symlinks on Windows, you either need to activate Developer Mode or to run Python as an administrator. In order to see activate developer mode, see this article: https://docs.microsoft.com/en-us/windows/apps/get-started/enable-your-device-for-development\n",
            "  warnings.warn(message)\n",
            "Some weights of DistilBertForSequenceClassification were not initialized from the model checkpoint at distilbert-base-uncased and are newly initialized: ['pre_classifier.weight', 'pre_classifier.bias', 'classifier.bias', 'classifier.weight']\n",
            "You should probably TRAIN this model on a down-stream task to be able to use it for predictions and inference.\n"
          ]
        }
      ],
      "source": [
        "model = AutoModelForSequenceClassification.from_pretrained(\n",
        "    \"distilbert-base-uncased\", num_labels=num_labels\n",
        ")\n",
        "model = model.to(device)"
      ]
    },
    {
      "cell_type": "code",
      "execution_count": null,
      "metadata": {},
      "outputs": [],
      "source": [
        "! pip install -U accelerate\n",
        "! pip install -U transformers\n",
        "! pip install -U transformers[torch]"
      ]
    },
    {
      "cell_type": "code",
      "execution_count": null,
      "metadata": {
        "id": "4xnHc--0Qxb3"
      },
      "outputs": [],
      "source": [
        "training_args = TrainingArguments(\n",
        "    output_dir=\"Bert_clf\",\n",
        "    learning_rate=2e-5,\n",
        "    num_train_epochs=2,\n",
        "    weight_decay=0.01,\n",
        "    evaluation_strategy=\"epoch\",\n",
        "    save_strategy=\"epoch\",\n",
        "    load_best_model_at_end=True,\n",
        ")\n",
        "\n",
        "trainer_mlc = Trainer(\n",
        "    model=model,\n",
        "    args=training_args,\n",
        "    train_dataset=train_mlc_dataset,\n",
        "    eval_dataset=val_mlc_dataset,\n",
        "    data_collator=data_collator,\n",
        "    compute_metrics=compute_metrics_mlc,\n",
        ")\n"
      ]
    },
    {
      "cell_type": "code",
      "execution_count": null,
      "metadata": {},
      "outputs": [
        {
          "name": "stderr",
          "output_type": "stream",
          "text": [
            "/usr/local/lib/python3.10/dist-packages/transformers/optimization.py:411: FutureWarning: This implementation of AdamW is deprecated and will be removed in a future version. Use the PyTorch implementation torch.optim.AdamW instead, or set `no_deprecation_warning=True` to disable this warning\n",
            "  warnings.warn(\n",
            "You're using a DistilBertTokenizerFast tokenizer. Please note that with a fast tokenizer, using the `__call__` method is faster than using a method to encode the text followed by a call to the `pad` method to get a padded encoding.\n"
          ]
        },
        {
          "data": {
            "text/html": [
              "\n",
              "    <div>\n",
              "      \n",
              "      <progress value='7797' max='7797' style='width:300px; height:20px; vertical-align: middle;'></progress>\n",
              "      [7797/7797 55:34, Epoch 3/3]\n",
              "    </div>\n",
              "    <table border=\"1\" class=\"dataframe\">\n",
              "  <thead>\n",
              " <tr style=\"text-align: left;\">\n",
              "      <th>Epoch</th>\n",
              "      <th>Training Loss</th>\n",
              "      <th>Validation Loss</th>\n",
              "      <th>Accuracy</th>\n",
              "      <th>F1</th>\n",
              "    </tr>\n",
              "  </thead>\n",
              "  <tbody>\n",
              "    <tr>\n",
              "      <td>1</td>\n",
              "      <td>2.344700</td>\n",
              "      <td>2.277169</td>\n",
              "      <td>0.436622</td>\n",
              "      <td>0.359649</td>\n",
              "    </tr>\n",
              "    <tr>\n",
              "      <td>2</td>\n",
              "      <td>1.994400</td>\n",
              "      <td>2.136765</td>\n",
              "      <td>0.457011</td>\n",
              "      <td>0.392894</td>\n",
              "    </tr>\n",
              "    <tr>\n",
              "      <td>3</td>\n",
              "      <td>1.814600</td>\n",
              "      <td>2.137366</td>\n",
              "      <td>0.462589</td>\n",
              "      <td>0.400411</td>\n",
              "    </tr>\n",
              "  </tbody>\n",
              "</table><p>"
            ],
            "text/plain": [
              "<IPython.core.display.HTML object>"
            ]
          },
          "metadata": {},
          "output_type": "display_data"
        },
        {
          "data": {
            "text/plain": [
              "TrainOutput(global_step=7797, training_loss=2.1801505045385046, metrics={'train_runtime': 3335.0577, 'train_samples_per_second': 18.703, 'train_steps_per_second': 2.338, 'total_flos': 8261922572612064.0, 'train_loss': 2.1801505045385046, 'epoch': 3.0})"
            ]
          },
          "metadata": {},
          "output_type": "display_data"
        }
      ],
      "source": [
        "trainer_mlc.train()"
      ]
    },
    {
      "cell_type": "code",
      "execution_count": null,
      "metadata": {
        "id": "HxJ4KFOrd1e2"
      },
      "outputs": [],
      "source": [
        "trainer_mlc.save_model(\"../models/multiclass_models/NN models/bert_multi_class\")"
      ]
    },
    {
      "cell_type": "markdown",
      "metadata": {
        "id": "pB3MVhCqYGlo"
      },
      "source": [
        "## Multilabel"
      ]
    },
    {
      "cell_type": "code",
      "execution_count": null,
      "metadata": {
        "id": "LLSAbJO2BRbh"
      },
      "outputs": [],
      "source": [
        "labels = labels.apply(lambda x: x.split())"
      ]
    },
    {
      "cell_type": "code",
      "execution_count": null,
      "metadata": {
        "colab": {
          "base_uri": "https://localhost:8080/"
        },
        "id": "XVAsJKrTuANM",
        "outputId": "9fbf6518-fe80-403e-8d34-f94a78e2875f"
      },
      "outputs": [
        {
          "data": {
            "text/plain": [
              "0                 [western]\n",
              "1                  [comedy]\n",
              "2                   [short]\n",
              "3            [biographical]\n",
              "4                  [comedy]\n",
              "                ...        \n",
              "25986               [drama]\n",
              "25987               [drama]\n",
              "25988              [comedy]\n",
              "25989              [comedy]\n",
              "25990    [romantic, comedy]\n",
              "Name: Genre, Length: 25991, dtype: object"
            ]
          },
          "execution_count": 78,
          "metadata": {},
          "output_type": "execute_result"
        }
      ],
      "source": [
        "labels"
      ]
    },
    {
      "cell_type": "code",
      "execution_count": null,
      "metadata": {
        "id": "3sZpHinEZP_G"
      },
      "outputs": [],
      "source": [
        "mlb = MultiLabelBinarizer()\n",
        "one_hot_labels = mlb.fit_transform(labels)"
      ]
    },
    {
      "cell_type": "code",
      "execution_count": null,
      "metadata": {
        "id": "rD2vlVFpYvFN"
      },
      "outputs": [],
      "source": [
        "one_hot_train = mlb.transform(y_train.apply(lambda x: x.split()))\n",
        "one_hot_val = mlb.transform(y_val.apply(lambda x: x.split()))"
      ]
    },
    {
      "cell_type": "code",
      "execution_count": null,
      "metadata": {
        "colab": {
          "base_uri": "https://localhost:8080/"
        },
        "id": "X5hj3U4wZP_G",
        "outputId": "e34dc7c0-36ce-419d-82ff-0dfe4654ec63"
      },
      "outputs": [
        {
          "data": {
            "text/plain": [
              "array(['action', 'adventure', 'animation', 'anime', 'arts',\n",
              "       'biographical', 'black', 'comedy', 'costume', 'crime',\n",
              "       'devotional', 'disaster', 'documentary', 'drama', 'epic', 'family',\n",
              "       'fantasy', 'feature', 'folklore', 'historical', 'horror', 'kaiju',\n",
              "       'literary', 'martial', 'masala', 'melodrama', 'mockumentary',\n",
              "       'musical', 'mystery', 'mythology', 'noir', 'period', 'political',\n",
              "       'propaganda', 'psychological', 'romantic', 'sci_fi', 'screwball',\n",
              "       'serial', 'sex', 'short', 'slapstick', 'slasher', 'social',\n",
              "       'sports', 'spy', 'subject', 'superhero', 'suspense',\n",
              "       'swashbuckler', 'thriller', 'tokusatsu', 'war', 'western',\n",
              "       'world_ii'], dtype=object)"
            ]
          },
          "execution_count": 211,
          "metadata": {},
          "output_type": "execute_result"
        }
      ],
      "source": [
        "mlb.classes_"
      ]
    },
    {
      "cell_type": "code",
      "execution_count": null,
      "metadata": {
        "id": "iuFJsAhmO7gB"
      },
      "outputs": [],
      "source": [
        "id2label = {idx:label for idx, label in enumerate(mlb.classes_)}\n",
        "label2id = {label:idx for idx, label in enumerate(mlb.classes_)}"
      ]
    },
    {
      "cell_type": "markdown",
      "metadata": {
        "id": "d47WYt_sZvlJ"
      },
      "source": [
        "There are some classes that are very simmilar - animated and animation, 'biographical', 'biography', 'biopic'; com and comedy, docudrama can be split into documentary and drama, dramedy - to drama and comedy, sci and fi sjhould be merged to sci-fi, 'rom', 'romance', 'romantic' should be merged to romantic, world and ii should be merged to 'world war ii' as this is the only case thay appear."
      ]
    },
    {
      "cell_type": "code",
      "execution_count": null,
      "metadata": {
        "id": "oJ41RoSfY-jD"
      },
      "outputs": [],
      "source": [
        "train_dataset_mll = MovieHFDatasetMLL(X_train_tokenized, one_hot_train, label2id)\n",
        "val_dataset_mll = MovieHFDatasetMLL(X_val_tokenized, one_hot_val, label2id)"
      ]
    },
    {
      "cell_type": "code",
      "execution_count": null,
      "metadata": {
        "colab": {
          "base_uri": "https://localhost:8080/"
        },
        "id": "yMcaic7nU8ng",
        "outputId": "d77df8ac-5a0d-44cf-c3b8-6e326e4a7e87"
      },
      "outputs": [
        {
          "name": "stderr",
          "output_type": "stream",
          "text": [
            "Some weights of DistilBertForSequenceClassification were not initialized from the model checkpoint at distilbert-base-uncased and are newly initialized: ['pre_classifier.weight', 'classifier.weight', 'pre_classifier.bias', 'classifier.bias']\n",
            "You should probably TRAIN this model on a down-stream task to be able to use it for predictions and inference.\n"
          ]
        }
      ],
      "source": [
        "model_mll = AutoModelForSequenceClassification.from_pretrained(\"distilbert-base-uncased\",\n",
        "                                                           problem_type=\"multi_label_classification\",\n",
        "                                                           num_labels=len(mlb.classes_))"
      ]
    },
    {
      "cell_type": "code",
      "execution_count": null,
      "metadata": {
        "id": "Vhwm1fhSXtbC"
      },
      "outputs": [],
      "source": [
        "args = TrainingArguments(\n",
        "    'MLL_tuned_Bert',\n",
        "    evaluation_strategy = \"epoch\",\n",
        "    save_strategy = \"epoch\",\n",
        "    learning_rate=2e-5,\n",
        "    num_train_epochs=4,\n",
        "    weight_decay=0.01,\n",
        "    load_best_model_at_end=True,\n",
        "    metric_for_best_model='f1'\n",
        "    #push_to_hub=True,\n",
        ")"
      ]
    },
    {
      "cell_type": "code",
      "execution_count": null,
      "metadata": {
        "id": "xbcFSc3KYSBI"
      },
      "outputs": [],
      "source": [
        "trainer_mll = Trainer(\n",
        "    model_mll,\n",
        "    args,\n",
        "    train_dataset=train_dataset_mll,\n",
        "    eval_dataset=val_dataset_mll,\n",
        "    tokenizer=tokenizer,\n",
        "    compute_metrics=compute_metrics\n",
        ")"
      ]
    },
    {
      "cell_type": "code",
      "execution_count": null,
      "metadata": {},
      "outputs": [
        {
          "name": "stderr",
          "output_type": "stream",
          "text": [
            "/usr/local/lib/python3.10/dist-packages/transformers/optimization.py:411: FutureWarning: This implementation of AdamW is deprecated and will be removed in a future version. Use the PyTorch implementation torch.optim.AdamW instead, or set `no_deprecation_warning=True` to disable this warning\n",
            "  warnings.warn(\n"
          ]
        },
        {
          "data": {
            "text/html": [
              "\n",
              "    <div>\n",
              "      \n",
              "      <progress value='7797' max='7797' style='width:300px; height:20px; vertical-align: middle;'></progress>\n",
              "      [7797/7797 55:14, Epoch 3/3]\n",
              "    </div>\n",
              "    <table border=\"1\" class=\"dataframe\">\n",
              "  <thead>\n",
              " <tr style=\"text-align: left;\">\n",
              "      <th>Epoch</th>\n",
              "      <th>Training Loss</th>\n",
              "      <th>Validation Loss</th>\n",
              "      <th>F1</th>\n",
              "      <th>Roc Auc</th>\n",
              "      <th>Accuracy</th>\n",
              "      <th>Jaccard</th>\n",
              "    </tr>\n",
              "  </thead>\n",
              "  <tbody>\n",
              "    <tr>\n",
              "      <td>1</td>\n",
              "      <td>0.054100</td>\n",
              "      <td>0.051630</td>\n",
              "      <td>0.350929</td>\n",
              "      <td>0.624399</td>\n",
              "      <td>0.281400</td>\n",
              "      <td>0.325992</td>\n",
              "    </tr>\n",
              "    <tr>\n",
              "      <td>2</td>\n",
              "      <td>0.044400</td>\n",
              "      <td>0.047199</td>\n",
              "      <td>0.478889</td>\n",
              "      <td>0.681938</td>\n",
              "      <td>0.373918</td>\n",
              "      <td>0.441399</td>\n",
              "    </tr>\n",
              "    <tr>\n",
              "      <td>3</td>\n",
              "      <td>0.038900</td>\n",
              "      <td>0.046717</td>\n",
              "      <td>0.508579</td>\n",
              "      <td>0.698249</td>\n",
              "      <td>0.396230</td>\n",
              "      <td>0.471357</td>\n",
              "    </tr>\n",
              "  </tbody>\n",
              "</table><p>"
            ],
            "text/plain": [
              "<IPython.core.display.HTML object>"
            ]
          },
          "metadata": {},
          "output_type": "display_data"
        },
        {
          "data": {
            "text/plain": [
              "TrainOutput(global_step=7797, training_loss=0.05480613319540813, metrics={'train_runtime': 3315.0203, 'train_samples_per_second': 18.816, 'train_steps_per_second': 2.352, 'total_flos': 8249586564603120.0, 'train_loss': 0.05480613319540813, 'epoch': 3.0})"
            ]
          },
          "metadata": {},
          "output_type": "display_data"
        }
      ],
      "source": [
        "trainer_mll.train()"
      ]
    },
    {
      "cell_type": "code",
      "execution_count": null,
      "metadata": {
        "id": "_mhlU3TacrC6"
      },
      "outputs": [],
      "source": [
        "trainer_mll.save_model(\"../models/multilabel_models/NN models/bert_multi-label\")"
      ]
    },
    {
      "cell_type": "markdown",
      "metadata": {},
      "source": [
        "# Evaluation"
      ]
    },
    {
      "cell_type": "markdown",
      "metadata": {
        "id": "cgXpsRQbZJti"
      },
      "source": [
        "## Evaluation multiclasss"
      ]
    },
    {
      "cell_type": "code",
      "execution_count": null,
      "metadata": {
        "id": "nMU_X_YnZNFH"
      },
      "outputs": [],
      "source": [
        "bert_mlc = AutoModelForSequenceClassification.from_pretrained(\"/content/drive/MyDrive/Models/bert_tuned\")\n",
        "\n"
      ]
    },
    {
      "cell_type": "code",
      "execution_count": null,
      "metadata": {
        "id": "LDmkck0ghniB"
      },
      "outputs": [],
      "source": [
        "trained_mlc = Trainer(\n",
        "    model=bert_mlc,\n",
        "    args=training_args,\n",
        "    train_dataset=train_mlc_dataset,\n",
        "    eval_dataset=val_mlc_dataset,\n",
        "    data_collator=data_collator,\n",
        ")"
      ]
    },
    {
      "cell_type": "code",
      "execution_count": null,
      "metadata": {
        "id": "Acm7wTxldQyr"
      },
      "outputs": [],
      "source": [
        "train_pred = trained_mlc.predict(train_mlc_dataset)"
      ]
    },
    {
      "cell_type": "code",
      "execution_count": null,
      "metadata": {
        "id": "D5KlNF5Sh5Ck"
      },
      "outputs": [],
      "source": [
        "test_pred = trained_mlc.predict(val_mlc_dataset)"
      ]
    },
    {
      "cell_type": "code",
      "execution_count": null,
      "metadata": {
        "colab": {
          "base_uri": "https://localhost:8080/"
        },
        "id": "tB5-bNcGnqUs",
        "outputId": "a30fb12c-e46d-4a7f-f773-d805e98cf30b"
      },
      "outputs": [
        {
          "name": "stdout",
          "output_type": "stream",
          "text": [
            "                             precision    recall  f1-score   support\n",
            "\n",
            "                    western       0.78      0.96      0.86       692\n",
            "                     comedy       0.59      0.75      0.66      3518\n",
            "                      short       0.00      0.00      0.00        24\n",
            "               biographical       0.00      0.00      0.00       170\n",
            "                      drama       0.51      0.82      0.63      4793\n",
            "                  adventure       0.51      0.58      0.54       421\n",
            "                     horror       0.58      0.89      0.70       937\n",
            "                      crime       0.31      0.39      0.35       454\n",
            "               drama horror       0.00      0.00      0.00        12\n",
            "           historical drama       0.00      0.00      0.00        52\n",
            "                    fantasy       0.38      0.02      0.04       163\n",
            "                       epic       0.00      0.00      0.00         8\n",
            "                 historical       0.00      0.00      0.00        62\n",
            "               comedy short       0.00      0.00      0.00        42\n",
            "             comedy western       0.00      0.00      0.00        13\n",
            "           action adventure       0.00      0.00      0.00        27\n",
            "             romantic drama       0.00      0.00      0.00       204\n",
            "                    mystery       0.00      0.00      0.00       248\n",
            "                crime drama       0.02      0.00      0.00       399\n",
            "                   romantic       0.00      0.00      0.00       752\n",
            "               comedy drama       0.02      0.03      0.02       445\n",
            "                  war drama       0.00      0.00      0.00        68\n",
            "                        spy       0.00      0.00      0.00        22\n",
            "            romantic comedy       0.00      0.00      0.00       461\n",
            "                 propaganda       0.00      0.00      0.00        10\n",
            "             drama romantic       0.00      0.00      0.00       106\n",
            "                  melodrama       0.00      0.00      0.00        31\n",
            "               period drama       0.00      0.00      0.00        10\n",
            "               swashbuckler       0.00      0.00      0.00         8\n",
            "            drama adventure       0.00      0.00      0.00        33\n",
            "               crime comedy       0.00      0.00      0.00        47\n",
            "                documentary       0.00      0.00      0.00        58\n",
            "                        war       0.00      0.00      0.00       218\n",
            "          fantasy adventure       0.00      0.00      0.00        10\n",
            "                   thriller       0.00      0.00      0.00       787\n",
            "           mystery thriller       0.00      0.00      0.00        14\n",
            "             crime thriller       0.00      0.00      0.00        66\n",
            "           fantasy romantic       0.00      0.00      0.00         9\n",
            "            comedy romantic       0.00      0.00      0.00        89\n",
            "                    musical       0.00      0.00      0.00       373\n",
            "             musical comedy       0.00      0.00      0.00       137\n",
            "             comedy mystery       0.00      0.00      0.00        19\n",
            "                  drama war       0.00      0.03      0.01        37\n",
            "              horror comedy       0.00      0.00      0.00        57\n",
            "                drama crime       0.00      0.00      0.00        55\n",
            "              costume drama       0.00      0.00      0.00        13\n",
            "                     action       0.00      0.00      0.00       897\n",
            "             drama thriller       0.00      0.00      0.00        40\n",
            "              drama musical       0.00      0.00      0.00        35\n",
            "                       noir       0.00      0.01      0.00       276\n",
            "                     sports       0.00      0.00      0.00        18\n",
            "             comedy musical       0.00      0.00      0.00        57\n",
            "              drama mystery       0.00      0.00      0.00        19\n",
            "                  animation       0.00      0.00      0.00       368\n",
            "                     sci_fi       0.00      0.00      0.00       524\n",
            "               comedy crime       0.00      0.00      0.00        39\n",
            "               drama sports       0.00      0.00      0.00        18\n",
            "              comedy horror       0.00      0.00      0.00        36\n",
            "            adventure drama       0.00      0.00      0.00         9\n",
            "             comedy fantasy       0.00      0.00      0.00        20\n",
            "         drama biographical       0.00      0.00      0.00        38\n",
            "               drama action       0.00      0.00      0.00        29\n",
            "              sci_fi horror       0.00      0.00      0.00         9\n",
            "          adventure fantasy       0.00      0.00      0.00         8\n",
            "                     serial       0.00      0.00      0.00        57\n",
            "               sports drama       0.00      0.00      0.00        18\n",
            "             western comedy       0.00      0.00      0.00        22\n",
            "                   suspense       0.00      0.00      0.00        83\n",
            "           musical romantic       0.00      0.00      0.00         9\n",
            "            comedy thriller       0.00      0.00      0.00        26\n",
            "           screwball comedy       0.00      0.00      0.00         9\n",
            "               spy thriller       0.00      0.00      0.00        11\n",
            "              sci_fi comedy       0.00      0.00      0.00        25\n",
            "            animation short       0.00      0.00      0.00        74\n",
            "              musical drama       0.00      0.00      0.00        18\n",
            "                     family       0.00      0.00      0.00       173\n",
            "              action comedy       0.00      0.00      0.00       101\n",
            "           fantasy thriller       0.00      0.00      0.00        10\n",
            "          documentary drama       0.00      0.00      0.00        13\n",
            "                 war comedy       0.00      0.00      0.00        11\n",
            "               drama comedy       0.00      0.00      0.00        54\n",
            "         biographical drama       0.00      0.00      0.00        31\n",
            "              short subject       0.00      0.00      0.00        15\n",
            "               family drama       0.00      0.00      0.00        67\n",
            "                 animation        0.00      0.00      0.00        20\n",
            "               black comedy       0.00      0.00      0.00        42\n",
            "                  slapstick       0.00      0.00      0.00        10\n",
            "               action drama       0.00      0.00      0.00        95\n",
            "                  disaster        0.00      0.00      0.00         9\n",
            "            political drama       0.00      0.00      0.00         8\n",
            "                   disaster       0.00      0.00      0.00         8\n",
            "         political thriller       0.00      0.00      0.00        16\n",
            "          animation feature       0.00      0.00      0.00        11\n",
            "                    slasher       0.00      0.00      0.00        10\n",
            "              comedy action       0.00      0.00      0.00        27\n",
            "               mockumentary       0.00      0.00      0.00        25\n",
            "               crime action       0.00      0.00      0.00         8\n",
            "               martial arts       0.00      0.00      0.00        37\n",
            "              comedy sports       0.00      0.00      0.00         9\n",
            "           animation family       0.00      0.00      0.00        11\n",
            "               drama family       0.00      0.00      0.00        33\n",
            "              comedy family       0.00      0.00      0.00        30\n",
            "             action fantasy       0.00      0.00      0.00        10\n",
            "                  superhero       0.00      0.00      0.00        38\n",
            "              sports comedy       0.00      0.00      0.00         9\n",
            "            horror thriller       0.00      0.00      0.00        33\n",
            "              action horror       0.00      0.00      0.00        10\n",
            "              comedy sci_fi       0.00      0.00      0.00         8\n",
            "            action thriller       0.00      0.00      0.00       118\n",
            "              action sci_fi       0.00      0.00      0.00        29\n",
            "             family fantasy       0.00      0.00      0.00        16\n",
            "     psychological thriller       0.00      0.00      0.00        18\n",
            "               action crime       0.00      0.00      0.00        26\n",
            "      comedy drama romantic       0.00      0.00      0.00        14\n",
            "         action crime drama       0.00      0.00      0.00        28\n",
            "                     social       0.00      0.00      0.00        66\n",
            "                    family        0.00      0.00      0.00        11\n",
            "          romantic thriller       0.00      0.00      0.00        32\n",
            "                      anime       0.00      0.00      0.00        90\n",
            "            action romantic       0.00      0.00      0.00        62\n",
            "            romantic action       0.00      0.00      0.00        17\n",
            "               world_ii war       0.00      0.00      0.00        56\n",
            "             literary drama       0.00      0.00      0.00        16\n",
            "                 spy action       0.00      0.00      0.00        16\n",
            "                 sex comedy       0.00      0.00      0.00        10\n",
            "             thriller drama       0.00      0.00      0.00        18\n",
            "          suspense thriller       0.00      0.00      0.00        14\n",
            "     horror romantic comedy       0.00      0.00      0.00         9\n",
            "                  mythology       0.00      0.00      0.00        18\n",
            "                 devotional       0.00      0.00      0.00        10\n",
            "        social family drama       0.00      0.00      0.00        11\n",
            "               social drama       0.00      0.00      0.00        34\n",
            "               drama social       0.00      0.00      0.00        10\n",
            "action crime drama romantic       0.00      0.00      0.00         9\n",
            "                     masala       0.00      0.00      0.00        13\n",
            "              action masala       0.00      0.00      0.00        17\n",
            "                   folklore       0.00      0.00      0.00        14\n",
            "                      kaiju       0.00      0.00      0.00        10\n",
            "                  tokusatsu       0.00      0.00      0.00        22\n",
            "\n",
            "                   accuracy                           0.41     20792\n",
            "                  macro avg       0.03      0.03      0.03     20792\n",
            "               weighted avg       0.29      0.41      0.34     20792\n",
            "\n"
          ]
        },
        {
          "name": "stderr",
          "output_type": "stream",
          "text": [
            "/usr/local/lib/python3.10/dist-packages/sklearn/metrics/_classification.py:1344: UndefinedMetricWarning: Precision and F-score are ill-defined and being set to 0.0 in labels with no predicted samples. Use `zero_division` parameter to control this behavior.\n",
            "  _warn_prf(average, modifier, msg_start, len(result))\n",
            "/usr/local/lib/python3.10/dist-packages/sklearn/metrics/_classification.py:1344: UndefinedMetricWarning: Precision and F-score are ill-defined and being set to 0.0 in labels with no predicted samples. Use `zero_division` parameter to control this behavior.\n",
            "  _warn_prf(average, modifier, msg_start, len(result))\n",
            "/usr/local/lib/python3.10/dist-packages/sklearn/metrics/_classification.py:1344: UndefinedMetricWarning: Precision and F-score are ill-defined and being set to 0.0 in labels with no predicted samples. Use `zero_division` parameter to control this behavior.\n",
            "  _warn_prf(average, modifier, msg_start, len(result))\n"
          ]
        }
      ],
      "source": [
        "print(classification_report(train_pred.label_ids, np.argmax(train_pred.predictions, axis=1), target_names=list(id2label.values())))"
      ]
    },
    {
      "cell_type": "markdown",
      "metadata": {
        "id": "WYPd1YNNp9Fg"
      },
      "source": [
        "From above report I see that vast majority of classes are never predicted but those few that do are predicted in the most accurate way across all models with an accuracy of 41%."
      ]
    },
    {
      "cell_type": "code",
      "execution_count": null,
      "metadata": {
        "colab": {
          "base_uri": "https://localhost:8080/"
        },
        "id": "UpB3fEWRpzkA",
        "outputId": "50c45e5e-aaca-41d6-9dd9-25e90bfaac38"
      },
      "outputs": [
        {
          "name": "stdout",
          "output_type": "stream",
          "text": [
            "                             precision    recall  f1-score   support\n",
            "\n",
            "                    western       0.74      0.95      0.83       173\n",
            "                     comedy       0.54      0.70      0.61       880\n",
            "                      short       0.00      0.00      0.00         6\n",
            "               biographical       0.00      0.00      0.00        43\n",
            "                      drama       0.48      0.78      0.59      1198\n",
            "                  adventure       0.47      0.51      0.49       106\n",
            "                     horror       0.56      0.89      0.69       235\n",
            "                      crime       0.26      0.29      0.27       114\n",
            "               drama horror       0.00      0.00      0.00         3\n",
            "           historical drama       0.00      0.00      0.00        13\n",
            "                    fantasy       0.00      0.00      0.00        41\n",
            "                       epic       0.00      0.00      0.00         2\n",
            "                 historical       0.00      0.00      0.00        15\n",
            "               comedy short       0.00      0.00      0.00        10\n",
            "             comedy western       0.00      0.00      0.00         3\n",
            "           action adventure       0.00      0.00      0.00         7\n",
            "             romantic drama       0.00      0.00      0.00        51\n",
            "                    mystery       0.00      0.00      0.00        62\n",
            "                crime drama       0.06      0.01      0.02       100\n",
            "                   romantic       0.00      0.00      0.00       188\n",
            "               comedy drama       0.01      0.01      0.01       111\n",
            "                  war drama       0.00      0.00      0.00        17\n",
            "                        spy       0.00      0.00      0.00         5\n",
            "            romantic comedy       0.00      0.00      0.00       116\n",
            "                 propaganda       0.00      0.00      0.00         3\n",
            "             drama romantic       0.00      0.00      0.00        26\n",
            "                  melodrama       0.00      0.00      0.00         8\n",
            "               period drama       0.00      0.00      0.00         2\n",
            "               swashbuckler       0.00      0.00      0.00         2\n",
            "            drama adventure       0.00      0.00      0.00         8\n",
            "               crime comedy       0.00      0.00      0.00        12\n",
            "                documentary       0.00      0.00      0.00        15\n",
            "                        war       0.00      0.00      0.00        55\n",
            "          fantasy adventure       0.00      0.00      0.00         2\n",
            "                   thriller       0.00      0.00      0.00       197\n",
            "           mystery thriller       0.00      0.00      0.00         4\n",
            "             crime thriller       0.00      0.00      0.00        16\n",
            "           fantasy romantic       0.00      0.00      0.00         2\n",
            "            comedy romantic       0.00      0.00      0.00        22\n",
            "                    musical       0.00      0.00      0.00        94\n",
            "             musical comedy       0.00      0.00      0.00        35\n",
            "             comedy mystery       0.00      0.00      0.00         5\n",
            "                  drama war       0.00      0.00      0.00         9\n",
            "              horror comedy       0.00      0.00      0.00        14\n",
            "                drama crime       0.00      0.00      0.00        14\n",
            "              costume drama       0.00      0.00      0.00         3\n",
            "                     action       0.00      0.00      0.00       224\n",
            "             drama thriller       0.00      0.00      0.00        10\n",
            "              drama musical       0.00      0.00      0.00         9\n",
            "                       noir       0.00      0.00      0.00        69\n",
            "                     sports       0.00      0.00      0.00         5\n",
            "             comedy musical       0.00      0.00      0.00        14\n",
            "              drama mystery       0.00      0.00      0.00         5\n",
            "                  animation       0.00      0.00      0.00        92\n",
            "                     sci_fi       0.00      0.00      0.00       131\n",
            "               comedy crime       0.00      0.00      0.00        10\n",
            "               drama sports       0.00      0.00      0.00         4\n",
            "              comedy horror       0.01      0.11      0.01         9\n",
            "            adventure drama       0.00      0.00      0.00         2\n",
            "             comedy fantasy       0.00      0.00      0.00         5\n",
            "         drama biographical       0.00      0.00      0.00         9\n",
            "               drama action       0.00      0.00      0.00         7\n",
            "              sci_fi horror       0.00      0.00      0.00         2\n",
            "          adventure fantasy       0.08      0.50      0.14         2\n",
            "                     serial       0.00      0.00      0.00        14\n",
            "               sports drama       0.00      0.00      0.00         5\n",
            "             western comedy       0.00      0.00      0.00         6\n",
            "                   suspense       0.00      0.00      0.00        21\n",
            "           musical romantic       0.00      0.00      0.00         2\n",
            "            comedy thriller       0.00      0.00      0.00         6\n",
            "           screwball comedy       0.00      0.00      0.00         2\n",
            "               spy thriller       0.00      0.00      0.00         3\n",
            "              sci_fi comedy       0.00      0.00      0.00         6\n",
            "            animation short       0.00      0.00      0.00        19\n",
            "              musical drama       0.00      0.00      0.00         5\n",
            "                     family       0.00      0.00      0.00        44\n",
            "              action comedy       0.00      0.00      0.00        25\n",
            "           fantasy thriller       0.00      0.00      0.00         2\n",
            "          documentary drama       0.00      0.00      0.00         3\n",
            "                 war comedy       0.00      0.00      0.00         3\n",
            "               drama comedy       0.00      0.00      0.00        14\n",
            "         biographical drama       0.00      0.00      0.00         8\n",
            "              short subject       0.00      0.00      0.00         4\n",
            "               family drama       0.00      0.00      0.00        17\n",
            "                 animation        0.00      0.00      0.00         5\n",
            "               black comedy       0.00      0.00      0.00        10\n",
            "                  slapstick       0.00      0.00      0.00         2\n",
            "               action drama       0.00      0.00      0.00        24\n",
            "                  disaster        0.00      0.00      0.00         2\n",
            "            political drama       0.00      0.00      0.00         2\n",
            "                   disaster       0.00      0.00      0.00         2\n",
            "         political thriller       0.00      0.00      0.00         4\n",
            "          animation feature       0.00      0.00      0.00         3\n",
            "                    slasher       0.00      0.00      0.00         2\n",
            "              comedy action       0.00      0.00      0.00         7\n",
            "               mockumentary       0.00      0.00      0.00         6\n",
            "               crime action       0.00      0.00      0.00         2\n",
            "               martial arts       0.00      0.00      0.00         9\n",
            "              comedy sports       0.00      0.00      0.00         2\n",
            "           animation family       0.00      0.00      0.00         3\n",
            "               drama family       0.00      0.00      0.00         8\n",
            "              comedy family       0.00      0.00      0.00         7\n",
            "             action fantasy       0.00      0.00      0.00         3\n",
            "                  superhero       0.00      0.00      0.00        10\n",
            "              sports comedy       0.00      0.00      0.00         2\n",
            "            horror thriller       0.00      0.00      0.00         8\n",
            "              action horror       0.00      0.00      0.00         2\n",
            "              comedy sci_fi       0.00      0.00      0.00         2\n",
            "            action thriller       0.00      0.00      0.00        29\n",
            "              action sci_fi       0.00      0.00      0.00         7\n",
            "             family fantasy       0.00      0.00      0.00         4\n",
            "     psychological thriller       0.00      0.00      0.00         5\n",
            "               action crime       0.00      0.00      0.00         6\n",
            "      comedy drama romantic       0.00      0.00      0.00         4\n",
            "         action crime drama       0.00      0.00      0.00         7\n",
            "                     social       0.00      0.00      0.00        17\n",
            "                    family        0.00      0.00      0.00         3\n",
            "          romantic thriller       0.00      0.00      0.00         8\n",
            "                      anime       0.00      0.00      0.00        22\n",
            "            action romantic       0.00      0.00      0.00        15\n",
            "            romantic action       0.00      0.00      0.00         4\n",
            "               world_ii war       0.00      0.00      0.00        14\n",
            "             literary drama       0.00      0.00      0.00         4\n",
            "                 spy action       0.00      0.00      0.00         4\n",
            "                 sex comedy       0.00      0.00      0.00         3\n",
            "             thriller drama       0.00      0.00      0.00         4\n",
            "          suspense thriller       0.00      0.00      0.00         4\n",
            "     horror romantic comedy       0.00      0.00      0.00         2\n",
            "                  mythology       0.00      0.00      0.00         4\n",
            "                 devotional       0.00      0.00      0.00         2\n",
            "        social family drama       0.00      0.00      0.00         3\n",
            "               social drama       0.00      0.00      0.00         8\n",
            "               drama social       0.00      0.00      0.00         3\n",
            "action crime drama romantic       0.00      0.00      0.00         2\n",
            "                     masala       0.00      0.00      0.00         3\n",
            "              action masala       0.00      0.00      0.00         4\n",
            "                   folklore       0.00      0.00      0.00         3\n",
            "                      kaiju       0.00      0.00      0.00         3\n",
            "                  tokusatsu       0.00      0.00      0.00         6\n",
            "\n",
            "                   accuracy                           0.39      5199\n",
            "                  macro avg       0.02      0.03      0.03      5199\n",
            "               weighted avg       0.27      0.39      0.31      5199\n",
            "\n"
          ]
        },
        {
          "name": "stderr",
          "output_type": "stream",
          "text": [
            "/usr/local/lib/python3.10/dist-packages/sklearn/metrics/_classification.py:1344: UndefinedMetricWarning: Precision and F-score are ill-defined and being set to 0.0 in labels with no predicted samples. Use `zero_division` parameter to control this behavior.\n",
            "  _warn_prf(average, modifier, msg_start, len(result))\n",
            "/usr/local/lib/python3.10/dist-packages/sklearn/metrics/_classification.py:1344: UndefinedMetricWarning: Precision and F-score are ill-defined and being set to 0.0 in labels with no predicted samples. Use `zero_division` parameter to control this behavior.\n",
            "  _warn_prf(average, modifier, msg_start, len(result))\n",
            "/usr/local/lib/python3.10/dist-packages/sklearn/metrics/_classification.py:1344: UndefinedMetricWarning: Precision and F-score are ill-defined and being set to 0.0 in labels with no predicted samples. Use `zero_division` parameter to control this behavior.\n",
            "  _warn_prf(average, modifier, msg_start, len(result))\n"
          ]
        }
      ],
      "source": [
        "print(classification_report(test_pred.label_ids, np.argmax(test_pred.predictions, axis=1), target_names=list(id2label.values())))"
      ]
    },
    {
      "cell_type": "code",
      "execution_count": null,
      "metadata": {
        "colab": {
          "base_uri": "https://localhost:8080/"
        },
        "id": "CxrAtis6sEEo",
        "outputId": "7d0656d2-7514-439a-e879-5bcb9b97285b"
      },
      "outputs": [
        {
          "name": "stdout",
          "output_type": "stream",
          "text": [
            "Number of predicted classes = 17\n"
          ]
        }
      ],
      "source": [
        "print(f'Number of predicted classes = {len(np.unique(np.argmax(test_pred.predictions, axis=1)))}')"
      ]
    },
    {
      "cell_type": "markdown",
      "metadata": {
        "id": "3F13KVTEqoFS"
      },
      "source": [
        "Test report is also not great - only 17 classes out of 138 were at least predicted and overall accuracy is 0.39 which is nearly identical to logistic regression which is surpassed by 1% in terms of weighted f1 score. the best classified classes are traditionally western, horror, drama and comedy."
      ]
    },
    {
      "cell_type": "code",
      "execution_count": null,
      "metadata": {
        "colab": {
          "base_uri": "https://localhost:8080/"
        },
        "id": "gJJWUJ1mqubf",
        "outputId": "1fa9ab0d-ab77-4544-89b8-8c270f3ddfe1"
      },
      "outputs": [
        {
          "name": "stdout",
          "output_type": "stream",
          "text": [
            "Test accuracy of tuned bert classifier = 0.385843431429121\n"
          ]
        }
      ],
      "source": [
        "accuracy_bert_mlc = (test_pred.label_ids == np.argmax(test_pred.predictions, axis=1)).sum()/len(test_pred.predictions,)\n",
        "print(f'Test accuracy of tuned bert classifier = {accuracy_bert_mlc}')"
      ]
    },
    {
      "cell_type": "markdown",
      "metadata": {
        "id": "mhmNOruosVuI"
      },
      "source": [
        "Test accuracy appears to be slightly worse then the logistic regression and so few conclusiob could be made. Main one is that nn methods need a lot of high quality data and they cannot learn from just few examples. For the most frequent classes - drama and comedy, bert far surpasses logistic regression which has f1 score for them of 0.48 and 0.49 while bert - 0.59 and 0.61 but it cannot accurately predict less frequent classes and so the result is not great."
      ]
    },
    {
      "cell_type": "markdown",
      "metadata": {
        "id": "Gc4MUQvUvbB_"
      },
      "source": [
        "## Evaluation multilabel"
      ]
    },
    {
      "cell_type": "code",
      "execution_count": null,
      "metadata": {
        "id": "LXgux5BRv1NM"
      },
      "outputs": [],
      "source": [
        "bert_mll = AutoModelForSequenceClassification.from_pretrained(\"/content/drive/MyDrive/Models/mll_bert_tuned\")"
      ]
    },
    {
      "cell_type": "code",
      "execution_count": null,
      "metadata": {
        "id": "xMyvraUUrlXp"
      },
      "outputs": [],
      "source": [
        "trained_mll = Trainer(\n",
        "    bert_mll,\n",
        "    args,\n",
        "    train_dataset=train_dataset_mll,\n",
        "    eval_dataset=val_dataset_mll,\n",
        "    tokenizer=tokenizer\n",
        ")"
      ]
    },
    {
      "cell_type": "code",
      "execution_count": null,
      "metadata": {
        "colab": {
          "base_uri": "https://localhost:8080/",
          "height": 17
        },
        "id": "GIM7vOw5vyeg",
        "outputId": "e244fd6d-e50e-4cc9-ef8f-ddd7b4520f02"
      },
      "outputs": [
        {
          "data": {
            "text/html": [],
            "text/plain": [
              "<IPython.core.display.HTML object>"
            ]
          },
          "metadata": {},
          "output_type": "display_data"
        }
      ],
      "source": [
        "train_pred_mll = trained_mll.predict(train_dataset_mll)"
      ]
    },
    {
      "cell_type": "code",
      "execution_count": null,
      "metadata": {
        "colab": {
          "base_uri": "https://localhost:8080/",
          "height": 17
        },
        "id": "qey3GscJwMVh",
        "outputId": "c1f56d7f-cd68-4f30-8184-d28f85be8927"
      },
      "outputs": [
        {
          "data": {
            "text/html": [],
            "text/plain": [
              "<IPython.core.display.HTML object>"
            ]
          },
          "metadata": {},
          "output_type": "display_data"
        }
      ],
      "source": [
        "test_pred_mll = trained_mll.predict(val_dataset_mll)"
      ]
    },
    {
      "cell_type": "code",
      "execution_count": null,
      "metadata": {
        "id": "d2g0EbayzV8j"
      },
      "outputs": [],
      "source": [
        "trans_pred_train = transform_predictions(train_pred_mll.predictions)\n",
        "trans_pred_test = transform_predictions(test_pred_mll.predictions)"
      ]
    },
    {
      "cell_type": "code",
      "execution_count": null,
      "metadata": {
        "colab": {
          "base_uri": "https://localhost:8080/"
        },
        "id": "k0eDBE8Owpxh",
        "outputId": "d93accbf-5421-4687-b1ab-be1225ea7ae9"
      },
      "outputs": [
        {
          "name": "stdout",
          "output_type": "stream",
          "text": [
            "               precision    recall  f1-score   support\n",
            "\n",
            "       action       0.72      0.52      0.60      1526\n",
            "    adventure       0.79      0.45      0.58       508\n",
            "    animation       0.88      0.67      0.76       484\n",
            "        anime       0.00      0.00      0.00        90\n",
            "         arts       0.00      0.00      0.00        37\n",
            " biographical       0.00      0.00      0.00       239\n",
            "        black       0.00      0.00      0.00        42\n",
            "       comedy       0.86      0.69      0.77      5386\n",
            "      costume       0.00      0.00      0.00        13\n",
            "        crime       0.65      0.27      0.38      1131\n",
            "   devotional       0.00      0.00      0.00        10\n",
            "     disaster       0.00      0.00      0.00        17\n",
            "  documentary       0.00      0.00      0.00        71\n",
            "        drama       0.74      0.75      0.75      6892\n",
            "         epic       0.00      0.00      0.00         8\n",
            "       family       0.00      0.00      0.00       352\n",
            "      fantasy       0.00      0.00      0.00       246\n",
            "      feature       0.00      0.00      0.00        11\n",
            "     folklore       0.00      0.00      0.00        14\n",
            "   historical       0.00      0.00      0.00       114\n",
            "       horror       0.80      0.80      0.80      1103\n",
            "        kaiju       0.00      0.00      0.00        10\n",
            "     literary       0.00      0.00      0.00        16\n",
            "      martial       0.00      0.00      0.00        37\n",
            "       masala       0.00      0.00      0.00        30\n",
            "    melodrama       0.00      0.00      0.00        31\n",
            " mockumentary       0.00      0.00      0.00        25\n",
            "      musical       0.76      0.39      0.51       629\n",
            "      mystery       0.00      0.00      0.00       300\n",
            "    mythology       0.00      0.00      0.00        18\n",
            "         noir       0.00      0.00      0.00       276\n",
            "       period       0.00      0.00      0.00        10\n",
            "    political       0.00      0.00      0.00        24\n",
            "   propaganda       0.00      0.00      0.00        10\n",
            "psychological       0.00      0.00      0.00        18\n",
            "     romantic       0.71      0.34      0.46      1773\n",
            "       sci_fi       0.74      0.73      0.74       595\n",
            "    screwball       0.00      0.00      0.00         9\n",
            "       serial       0.00      0.00      0.00        57\n",
            "          sex       0.00      0.00      0.00        10\n",
            "        short       0.67      0.01      0.03       155\n",
            "    slapstick       0.00      0.00      0.00        10\n",
            "      slasher       0.00      0.00      0.00        10\n",
            "       social       0.00      0.00      0.00       121\n",
            "       sports       0.00      0.00      0.00        72\n",
            "          spy       0.00      0.00      0.00        49\n",
            "      subject       0.00      0.00      0.00        15\n",
            "    superhero       0.00      0.00      0.00        38\n",
            "     suspense       0.00      0.00      0.00        97\n",
            " swashbuckler       0.00      0.00      0.00         8\n",
            "     thriller       0.74      0.24      0.36      1203\n",
            "    tokusatsu       0.00      0.00      0.00        22\n",
            "          war       0.77      0.64      0.70       390\n",
            "      western       0.93      0.94      0.93       727\n",
            "     world_ii       0.00      0.00      0.00        56\n",
            "\n",
            "    micro avg       0.78      0.56      0.65     25145\n",
            "    macro avg       0.20      0.14      0.15     25145\n",
            " weighted avg       0.69      0.56      0.60     25145\n",
            "  samples avg       0.65      0.59      0.60     25145\n",
            "\n"
          ]
        },
        {
          "name": "stderr",
          "output_type": "stream",
          "text": [
            "/usr/local/lib/python3.10/dist-packages/sklearn/metrics/_classification.py:1344: UndefinedMetricWarning: Precision and F-score are ill-defined and being set to 0.0 in labels with no predicted samples. Use `zero_division` parameter to control this behavior.\n",
            "  _warn_prf(average, modifier, msg_start, len(result))\n",
            "/usr/local/lib/python3.10/dist-packages/sklearn/metrics/_classification.py:1344: UndefinedMetricWarning: Precision and F-score are ill-defined and being set to 0.0 in samples with no predicted labels. Use `zero_division` parameter to control this behavior.\n",
            "  _warn_prf(average, modifier, msg_start, len(result))\n"
          ]
        }
      ],
      "source": [
        "print(classification_report(train_pred_mll.label_ids, trans_pred_train, target_names=list(id2label.values())))"
      ]
    },
    {
      "cell_type": "code",
      "execution_count": null,
      "metadata": {
        "colab": {
          "base_uri": "https://localhost:8080/"
        },
        "id": "yRX3OA7gCwe7",
        "outputId": "c009ba16-6b7c-4472-866e-2ccf42337666"
      },
      "outputs": [
        {
          "name": "stderr",
          "output_type": "stream",
          "text": [
            "/usr/local/lib/python3.10/dist-packages/sklearn/metrics/_classification.py:1344: UndefinedMetricWarning: Precision and F-score are ill-defined and being set to 0.0 in labels with no predicted samples. Use `zero_division` parameter to control this behavior.\n",
            "  _warn_prf(average, modifier, msg_start, len(result))\n",
            "/usr/local/lib/python3.10/dist-packages/sklearn/metrics/_classification.py:1344: UndefinedMetricWarning: Precision and F-score are ill-defined and being set to 0.0 in samples with no predicted labels. Use `zero_division` parameter to control this behavior.\n",
            "  _warn_prf(average, modifier, msg_start, len(result))\n"
          ]
        }
      ],
      "source": [
        "mll_bert_report = classification_report(test_pred_mll.label_ids, trans_pred_test, target_names=list(id2label.values()))"
      ]
    },
    {
      "cell_type": "code",
      "execution_count": null,
      "metadata": {
        "colab": {
          "base_uri": "https://localhost:8080/"
        },
        "id": "flhwGnhu7F7U",
        "outputId": "96c9fcb9-8d65-4343-de96-9831ae5601a8"
      },
      "outputs": [
        {
          "name": "stdout",
          "output_type": "stream",
          "text": [
            "               precision    recall  f1-score   support\n",
            "\n",
            "       action       0.74      0.52      0.61       379\n",
            "    adventure       0.78      0.33      0.46       127\n",
            "    animation       0.89      0.66      0.76       122\n",
            "        anime       0.00      0.00      0.00        22\n",
            "         arts       0.00      0.00      0.00         9\n",
            " biographical       0.00      0.00      0.00        60\n",
            "        black       0.00      0.00      0.00        10\n",
            "       comedy       0.86      0.69      0.77      1347\n",
            "      costume       0.00      0.00      0.00         3\n",
            "        crime       0.53      0.19      0.28       283\n",
            "   devotional       0.00      0.00      0.00         2\n",
            "     disaster       0.00      0.00      0.00         4\n",
            "  documentary       0.00      0.00      0.00        18\n",
            "        drama       0.72      0.76      0.74      1722\n",
            "         epic       0.00      0.00      0.00         2\n",
            "       family       0.00      0.00      0.00        89\n",
            "      fantasy       0.00      0.00      0.00        61\n",
            "      feature       0.00      0.00      0.00         3\n",
            "     folklore       0.00      0.00      0.00         3\n",
            "   historical       0.00      0.00      0.00        28\n",
            "       horror       0.78      0.81      0.80       275\n",
            "        kaiju       0.00      0.00      0.00         3\n",
            "     literary       0.00      0.00      0.00         4\n",
            "      martial       0.00      0.00      0.00         9\n",
            "       masala       0.00      0.00      0.00         7\n",
            "    melodrama       0.00      0.00      0.00         8\n",
            " mockumentary       0.00      0.00      0.00         6\n",
            "      musical       0.78      0.36      0.49       159\n",
            "      mystery       0.00      0.00      0.00        76\n",
            "    mythology       0.00      0.00      0.00         4\n",
            "         noir       0.00      0.00      0.00        69\n",
            "       period       0.00      0.00      0.00         2\n",
            "    political       0.00      0.00      0.00         6\n",
            "   propaganda       0.00      0.00      0.00         3\n",
            "psychological       0.00      0.00      0.00         5\n",
            "     romantic       0.71      0.34      0.46       442\n",
            "       sci_fi       0.68      0.65      0.66       148\n",
            "    screwball       0.00      0.00      0.00         2\n",
            "       serial       0.00      0.00      0.00        14\n",
            "          sex       0.00      0.00      0.00         3\n",
            "        short       0.00      0.00      0.00        39\n",
            "    slapstick       0.00      0.00      0.00         2\n",
            "      slasher       0.00      0.00      0.00         2\n",
            "       social       0.00      0.00      0.00        31\n",
            "       sports       0.00      0.00      0.00        18\n",
            "          spy       0.00      0.00      0.00        12\n",
            "      subject       0.00      0.00      0.00         4\n",
            "    superhero       0.00      0.00      0.00        10\n",
            "     suspense       0.00      0.00      0.00        25\n",
            " swashbuckler       0.00      0.00      0.00         2\n",
            "     thriller       0.63      0.18      0.28       300\n",
            "    tokusatsu       0.00      0.00      0.00         6\n",
            "          war       0.83      0.61      0.71        98\n",
            "      western       0.86      0.89      0.88       182\n",
            "     world_ii       0.00      0.00      0.00        14\n",
            "\n",
            "    micro avg       0.76      0.55      0.64      6284\n",
            "    macro avg       0.18      0.13      0.14      6284\n",
            " weighted avg       0.67      0.55      0.59      6284\n",
            "  samples avg       0.63      0.57      0.59      6284\n",
            "\n"
          ]
        }
      ],
      "source": [
        "print(mll_bert_report)"
      ]
    },
    {
      "cell_type": "markdown",
      "metadata": {
        "id": "3H31FDyn-3Xu"
      },
      "source": [
        "From classiffication report I see that multilabel problem is much more suitable as there are much less classes and classes are more presented. The scores goy much higher - micro f1 score is now 64% and weighted - 59%. The downside is that still most of the classes are predicted poorly, model needs at least 500 instances to start classifying it."
      ]
    },
    {
      "cell_type": "markdown",
      "metadata": {
        "id": "S6zN9GViAV5Z"
      },
      "source": [
        "Next I'll get some numeric metrics"
      ]
    },
    {
      "cell_type": "code",
      "execution_count": null,
      "metadata": {
        "colab": {
          "base_uri": "https://localhost:8080/"
        },
        "id": "cc4vrtzy9302",
        "outputId": "ca98bbaa-711b-44fb-d23a-0eff47a70448"
      },
      "outputs": [
        {
          "name": "stdout",
          "output_type": "stream",
          "text": [
            "model's test score = 0.48432390844393153\n",
            "model's jaccard test score = 0.5632974289927549\n",
            "model's hamming test loss = 0.01372641591914529\n",
            "model's one match test score = 0.6441623389113291\n"
          ]
        }
      ],
      "source": [
        "evaluate_ml(test_pred_mll.label_ids, trans_pred_test, 'test')"
      ]
    },
    {
      "cell_type": "code",
      "execution_count": null,
      "metadata": {
        "colab": {
          "base_uri": "https://localhost:8080/"
        },
        "id": "HIdKItWD-GKX",
        "outputId": "48a809fb-fe05-40f4-bbbf-47ceff1caf2e"
      },
      "outputs": [
        {
          "name": "stdout",
          "output_type": "stream",
          "text": [
            "model's train score = 0.49850904193920736\n",
            "model's jaccard train score = 0.5768685071181224\n",
            "model's hamming train loss = 0.01320612823113785\n",
            "model's one match train score = 0.6571758368603309\n"
          ]
        }
      ],
      "source": [
        "evaluate_ml(train_pred_mll.label_ids, trans_pred_train, 'train')"
      ]
    },
    {
      "cell_type": "markdown",
      "metadata": {
        "id": "ONiCa-z-Aa0U"
      },
      "source": [
        "From numeric metrics I see that model is not overfitting, it's full match accuracy is much higher then the best multiclass accuray - 0.48 vs 0.39. More adequete and less strict jaccard score here is 0.56 in test case and in 65% of cases model gives at least some match."
      ]
    },
    {
      "cell_type": "markdown",
      "metadata": {
        "id": "UvLhDzXLDXtO"
      },
      "source": [
        "I want to plot number of instances of each class vs it's f1 score."
      ]
    },
    {
      "cell_type": "code",
      "execution_count": null,
      "metadata": {
        "id": "LpZanX9yEQNh"
      },
      "outputs": [],
      "source": [
        "counts_test = np.sum(test_pred_mll.label_ids == 1, axis=0)\n",
        "counts_train = np.sum(train_pred_mll.label_ids == 1, axis=0)\n",
        "counts = counts_train + counts_test"
      ]
    },
    {
      "cell_type": "code",
      "execution_count": null,
      "metadata": {
        "id": "Nq3CVhpxFMiS"
      },
      "outputs": [],
      "source": [
        "f1_scores = f1_score(test_pred_mll.label_ids, trans_pred_test, average=None)"
      ]
    },
    {
      "cell_type": "code",
      "execution_count": null,
      "metadata": {
        "id": "3plU8aeyD91S"
      },
      "outputs": [],
      "source": [
        "label_scores = pd.DataFrame(np.array([f1_scores, counts]).T, columns=['f1_score', 'n_instances'], index=list(id2label.values()))"
      ]
    },
    {
      "cell_type": "code",
      "execution_count": null,
      "metadata": {
        "colab": {
          "base_uri": "https://localhost:8080/"
        },
        "id": "3nhEW7buGyAR",
        "outputId": "49097b09-4e9d-4263-eba5-e233d9ab61fe"
      },
      "outputs": [
        {
          "name": "stdout",
          "output_type": "stream",
          "text": [
            "Correlation between n_instances and f1 score = 0.6250997362051567\n"
          ]
        }
      ],
      "source": [
        "print(f'Correlation between n_instances and f1 score = {label_scores.f1_score.corr(label_scores.n_instances)}')"
      ]
    },
    {
      "cell_type": "markdown",
      "metadata": {
        "id": "UZHhp0ezItUy"
      },
      "source": [
        "Correlation between quality of predictions and number of classes is very high but what number of instances is needed to get at least some non zero predictions qualtity?"
      ]
    },
    {
      "cell_type": "code",
      "execution_count": null,
      "metadata": {
        "colab": {
          "base_uri": "https://localhost:8080/",
          "height": 457
        },
        "id": "-QV06W_XGjD3",
        "outputId": "58c9dfe1-2b65-4ab5-e851-0734c8a9af59"
      },
      "outputs": [
        {
          "data": {
            "text/html": [
              "\n",
              "  <div id=\"df-805d4bd7-2097-42af-82c9-c03f2cf7b62f\">\n",
              "    <div class=\"colab-df-container\">\n",
              "      <div>\n",
              "<style scoped>\n",
              "    .dataframe tbody tr th:only-of-type {\n",
              "        vertical-align: middle;\n",
              "    }\n",
              "\n",
              "    .dataframe tbody tr th {\n",
              "        vertical-align: top;\n",
              "    }\n",
              "\n",
              "    .dataframe thead th {\n",
              "        text-align: right;\n",
              "    }\n",
              "</style>\n",
              "<table border=\"1\" class=\"dataframe\">\n",
              "  <thead>\n",
              "    <tr style=\"text-align: right;\">\n",
              "      <th></th>\n",
              "      <th>f1_score</th>\n",
              "      <th>n_instances</th>\n",
              "    </tr>\n",
              "  </thead>\n",
              "  <tbody>\n",
              "    <tr>\n",
              "      <th>war</th>\n",
              "      <td>0.705882</td>\n",
              "      <td>488.0</td>\n",
              "    </tr>\n",
              "    <tr>\n",
              "      <th>animation</th>\n",
              "      <td>0.760563</td>\n",
              "      <td>606.0</td>\n",
              "    </tr>\n",
              "    <tr>\n",
              "      <th>adventure</th>\n",
              "      <td>0.464088</td>\n",
              "      <td>635.0</td>\n",
              "    </tr>\n",
              "    <tr>\n",
              "      <th>sci_fi</th>\n",
              "      <td>0.662069</td>\n",
              "      <td>743.0</td>\n",
              "    </tr>\n",
              "    <tr>\n",
              "      <th>musical</th>\n",
              "      <td>0.491379</td>\n",
              "      <td>788.0</td>\n",
              "    </tr>\n",
              "    <tr>\n",
              "      <th>western</th>\n",
              "      <td>0.875676</td>\n",
              "      <td>909.0</td>\n",
              "    </tr>\n",
              "    <tr>\n",
              "      <th>horror</th>\n",
              "      <td>0.795699</td>\n",
              "      <td>1378.0</td>\n",
              "    </tr>\n",
              "    <tr>\n",
              "      <th>crime</th>\n",
              "      <td>0.281250</td>\n",
              "      <td>1414.0</td>\n",
              "    </tr>\n",
              "    <tr>\n",
              "      <th>thriller</th>\n",
              "      <td>0.276042</td>\n",
              "      <td>1503.0</td>\n",
              "    </tr>\n",
              "    <tr>\n",
              "      <th>action</th>\n",
              "      <td>0.610853</td>\n",
              "      <td>1905.0</td>\n",
              "    </tr>\n",
              "    <tr>\n",
              "      <th>romantic</th>\n",
              "      <td>0.463415</td>\n",
              "      <td>2215.0</td>\n",
              "    </tr>\n",
              "    <tr>\n",
              "      <th>comedy</th>\n",
              "      <td>0.766202</td>\n",
              "      <td>6733.0</td>\n",
              "    </tr>\n",
              "    <tr>\n",
              "      <th>drama</th>\n",
              "      <td>0.740157</td>\n",
              "      <td>8614.0</td>\n",
              "    </tr>\n",
              "  </tbody>\n",
              "</table>\n",
              "</div>\n",
              "      <button class=\"colab-df-convert\" onclick=\"convertToInteractive('df-805d4bd7-2097-42af-82c9-c03f2cf7b62f')\"\n",
              "              title=\"Convert this dataframe to an interactive table.\"\n",
              "              style=\"display:none;\">\n",
              "        \n",
              "  <svg xmlns=\"http://www.w3.org/2000/svg\" height=\"24px\"viewBox=\"0 0 24 24\"\n",
              "       width=\"24px\">\n",
              "    <path d=\"M0 0h24v24H0V0z\" fill=\"none\"/>\n",
              "    <path d=\"M18.56 5.44l.94 2.06.94-2.06 2.06-.94-2.06-.94-.94-2.06-.94 2.06-2.06.94zm-11 1L8.5 8.5l.94-2.06 2.06-.94-2.06-.94L8.5 2.5l-.94 2.06-2.06.94zm10 10l.94 2.06.94-2.06 2.06-.94-2.06-.94-.94-2.06-.94 2.06-2.06.94z\"/><path d=\"M17.41 7.96l-1.37-1.37c-.4-.4-.92-.59-1.43-.59-.52 0-1.04.2-1.43.59L10.3 9.45l-7.72 7.72c-.78.78-.78 2.05 0 2.83L4 21.41c.39.39.9.59 1.41.59.51 0 1.02-.2 1.41-.59l7.78-7.78 2.81-2.81c.8-.78.8-2.07 0-2.86zM5.41 20L4 18.59l7.72-7.72 1.47 1.35L5.41 20z\"/>\n",
              "  </svg>\n",
              "      </button>\n",
              "      \n",
              "  <style>\n",
              "    .colab-df-container {\n",
              "      display:flex;\n",
              "      flex-wrap:wrap;\n",
              "      gap: 12px;\n",
              "    }\n",
              "\n",
              "    .colab-df-convert {\n",
              "      background-color: #E8F0FE;\n",
              "      border: none;\n",
              "      border-radius: 50%;\n",
              "      cursor: pointer;\n",
              "      display: none;\n",
              "      fill: #1967D2;\n",
              "      height: 32px;\n",
              "      padding: 0 0 0 0;\n",
              "      width: 32px;\n",
              "    }\n",
              "\n",
              "    .colab-df-convert:hover {\n",
              "      background-color: #E2EBFA;\n",
              "      box-shadow: 0px 1px 2px rgba(60, 64, 67, 0.3), 0px 1px 3px 1px rgba(60, 64, 67, 0.15);\n",
              "      fill: #174EA6;\n",
              "    }\n",
              "\n",
              "    [theme=dark] .colab-df-convert {\n",
              "      background-color: #3B4455;\n",
              "      fill: #D2E3FC;\n",
              "    }\n",
              "\n",
              "    [theme=dark] .colab-df-convert:hover {\n",
              "      background-color: #434B5C;\n",
              "      box-shadow: 0px 1px 3px 1px rgba(0, 0, 0, 0.15);\n",
              "      filter: drop-shadow(0px 1px 2px rgba(0, 0, 0, 0.3));\n",
              "      fill: #FFFFFF;\n",
              "    }\n",
              "  </style>\n",
              "\n",
              "      <script>\n",
              "        const buttonEl =\n",
              "          document.querySelector('#df-805d4bd7-2097-42af-82c9-c03f2cf7b62f button.colab-df-convert');\n",
              "        buttonEl.style.display =\n",
              "          google.colab.kernel.accessAllowed ? 'block' : 'none';\n",
              "\n",
              "        async function convertToInteractive(key) {\n",
              "          const element = document.querySelector('#df-805d4bd7-2097-42af-82c9-c03f2cf7b62f');\n",
              "          const dataTable =\n",
              "            await google.colab.kernel.invokeFunction('convertToInteractive',\n",
              "                                                     [key], {});\n",
              "          if (!dataTable) return;\n",
              "\n",
              "          const docLinkHtml = 'Like what you see? Visit the ' +\n",
              "            '<a target=\"_blank\" href=https://colab.research.google.com/notebooks/data_table.ipynb>data table notebook</a>'\n",
              "            + ' to learn more about interactive tables.';\n",
              "          element.innerHTML = '';\n",
              "          dataTable['output_type'] = 'display_data';\n",
              "          await google.colab.output.renderOutput(dataTable, element);\n",
              "          const docLink = document.createElement('div');\n",
              "          docLink.innerHTML = docLinkHtml;\n",
              "          element.appendChild(docLink);\n",
              "        }\n",
              "      </script>\n",
              "    </div>\n",
              "  </div>\n",
              "  "
            ],
            "text/plain": [
              "           f1_score  n_instances\n",
              "war        0.705882        488.0\n",
              "animation  0.760563        606.0\n",
              "adventure  0.464088        635.0\n",
              "sci_fi     0.662069        743.0\n",
              "musical    0.491379        788.0\n",
              "western    0.875676        909.0\n",
              "horror     0.795699       1378.0\n",
              "crime      0.281250       1414.0\n",
              "thriller   0.276042       1503.0\n",
              "action     0.610853       1905.0\n",
              "romantic   0.463415       2215.0\n",
              "comedy     0.766202       6733.0\n",
              "drama      0.740157       8614.0"
            ]
          },
          "execution_count": 340,
          "metadata": {},
          "output_type": "execute_result"
        }
      ],
      "source": [
        "label_scores[label_scores['f1_score'] > 0].sort_values(by='n_instances')"
      ]
    },
    {
      "cell_type": "markdown",
      "metadata": {
        "id": "tnYIBXVuJhxC"
      },
      "source": [
        "The smallest number of instances with non-zero f1 is 488 and the label is war. so I guess 500 can be called a logical  point to filter out the infrequent classes"
      ]
    },
    {
      "cell_type": "markdown",
      "metadata": {
        "id": "mbVLq7G0J3TY"
      },
      "source": [
        "Things to do - try models with smaller number of labels - for example only the above, perform same steps on calc"
      ]
    },
    {
      "cell_type": "markdown",
      "metadata": {
        "id": "41ufFzgQdZlB"
      },
      "source": [
        "# Multilabel with best labels"
      ]
    },
    {
      "cell_type": "markdown",
      "metadata": {
        "id": "anhGA58Oes4b"
      },
      "source": [
        "Below are the best classes from multilabel ml part. I'll fine tune bert only on those and compare the result."
      ]
    },
    {
      "cell_type": "code",
      "execution_count": null,
      "metadata": {
        "id": "6GKorQkuNPZq"
      },
      "outputs": [],
      "source": [
        "best_classes = ['spy', 'short', 'fantasy', 'mystery', 'war', 'animation', 'adventure', 'sci_fi', 'musical', 'western', 'horror', 'crime', 'thriller', 'action', 'romantic', 'comedy', 'drama']"
      ]
    },
    {
      "cell_type": "code",
      "execution_count": null,
      "metadata": {
        "id": "6TzNjd4Ce-N6"
      },
      "outputs": [],
      "source": [
        "genres_shortened = labels.apply(lambda labels: list(filter(lambda label: label in best_classes , labels)))"
      ]
    },
    {
      "cell_type": "code",
      "execution_count": null,
      "metadata": {
        "id": "NAFdCy8Ze-N9"
      },
      "outputs": [],
      "source": [
        "data_shortened = pd.concat([plots_cleaned, genres_shortened], axis=1)\n",
        "data_shortened = data_shortened[data_shortened['Genre'].apply(lambda x: len(x) > 0)]"
      ]
    },
    {
      "cell_type": "code",
      "execution_count": null,
      "metadata": {
        "id": "Ns00hzVLgSD9"
      },
      "outputs": [],
      "source": [
        "X_train, X_val, y_train, y_val = train_test_split(data_shortened.Plot, data_shortened.Genre, test_size=0.2, stratify=data_shortened.Genre)"
      ]
    },
    {
      "cell_type": "code",
      "execution_count": null,
      "metadata": {
        "id": "M3LCYSIzgSD_"
      },
      "outputs": [],
      "source": [
        "X_train_tokenized = tokenizer(X_train.to_list(), truncation=True, max_length=512)\n",
        "X_val_tokenized = tokenizer(X_val.to_list(), truncation=True, max_length=512)"
      ]
    },
    {
      "cell_type": "code",
      "execution_count": null,
      "metadata": {
        "id": "Wu7aUrTbeigH"
      },
      "outputs": [],
      "source": [
        "mlb = MultiLabelBinarizer()\n",
        "one_hot_labels = mlb.fit_transform(data_shortened.Genre)"
      ]
    },
    {
      "cell_type": "code",
      "execution_count": null,
      "metadata": {
        "id": "BTKBQS2NeigJ"
      },
      "outputs": [],
      "source": [
        "one_hot_train = mlb.transform(y_train)\n",
        "one_hot_val = mlb.transform(y_val)"
      ]
    },
    {
      "cell_type": "code",
      "execution_count": null,
      "metadata": {
        "id": "ZX3NRYWfeigL"
      },
      "outputs": [],
      "source": [
        "id2label = {idx:label for idx, label in enumerate(mlb.classes_)}\n",
        "label2id = {label:idx for idx, label in enumerate(mlb.classes_)}"
      ]
    },
    {
      "cell_type": "code",
      "execution_count": null,
      "metadata": {
        "id": "HhiflSpMhC2q"
      },
      "outputs": [],
      "source": [
        "train_dataset_mll_shortened = MovieHFDatasetMLL(X_train_tokenized, one_hot_train, label2id)\n",
        "val_dataset_mll_shortened = MovieHFDatasetMLL(X_val_tokenized, one_hot_val, label2id)"
      ]
    },
    {
      "cell_type": "code",
      "execution_count": null,
      "metadata": {
        "colab": {
          "base_uri": "https://localhost:8080/"
        },
        "id": "ic5JlGbbhGvK",
        "outputId": "b52c2398-50e7-4402-9236-73eb940abdab"
      },
      "outputs": [
        {
          "name": "stderr",
          "output_type": "stream",
          "text": [
            "Some weights of DistilBertForSequenceClassification were not initialized from the model checkpoint at distilbert-base-uncased and are newly initialized: ['pre_classifier.bias', 'classifier.weight', 'classifier.bias', 'pre_classifier.weight']\n",
            "You should probably TRAIN this model on a down-stream task to be able to use it for predictions and inference.\n"
          ]
        }
      ],
      "source": [
        "model_mll_shortened = AutoModelForSequenceClassification.from_pretrained(\"distilbert-base-uncased\",\n",
        "                                                           problem_type=\"multi_label_classification\",\n",
        "                                                           num_labels=len(mlb.classes_))"
      ]
    },
    {
      "cell_type": "code",
      "execution_count": null,
      "metadata": {
        "id": "MiCxku_chXcc"
      },
      "outputs": [],
      "source": [
        "training_args = TrainingArguments(\n",
        "    output_dir=\"Bert_clf\",\n",
        "    learning_rate=2e-5,\n",
        "    num_train_epochs=4,\n",
        "    weight_decay=0.01,\n",
        "    evaluation_strategy=\"epoch\",\n",
        "    save_strategy=\"epoch\",\n",
        "    load_best_model_at_end=True,\n",
        ")\n",
        "trainer_mll_shortened = Trainer(\n",
        "    model_mll_shortened,\n",
        "    training_args,\n",
        "    train_dataset=train_dataset_mll_shortened,\n",
        "    eval_dataset=val_dataset_mll_shortened,\n",
        "    tokenizer=tokenizer,\n",
        "    compute_metrics=compute_metrics\n",
        ")"
      ]
    },
    {
      "cell_type": "code",
      "execution_count": null,
      "metadata": {
        "colab": {
          "base_uri": "https://localhost:8080/",
          "height": 325
        },
        "id": "h1JDJYXIhXcf",
        "outputId": "831ffa4d-1fc4-465e-e18a-5eb207242e27"
      },
      "outputs": [
        {
          "name": "stderr",
          "output_type": "stream",
          "text": [
            "/usr/local/lib/python3.10/dist-packages/transformers/optimization.py:411: FutureWarning: This implementation of AdamW is deprecated and will be removed in a future version. Use the PyTorch implementation torch.optim.AdamW instead, or set `no_deprecation_warning=True` to disable this warning\n",
            "  warnings.warn(\n",
            "You're using a DistilBertTokenizerFast tokenizer. Please note that with a fast tokenizer, using the `__call__` method is faster than using a method to encode the text followed by a call to the `pad` method to get a padded encoding.\n"
          ]
        },
        {
          "data": {
            "text/html": [
              "\n",
              "    <div>\n",
              "      \n",
              "      <progress value='9724' max='9724' style='width:300px; height:20px; vertical-align: middle;'></progress>\n",
              "      [9724/9724 1:09:38, Epoch 4/4]\n",
              "    </div>\n",
              "    <table border=\"1\" class=\"dataframe\">\n",
              "  <thead>\n",
              " <tr style=\"text-align: left;\">\n",
              "      <th>Epoch</th>\n",
              "      <th>Training Loss</th>\n",
              "      <th>Validation Loss</th>\n",
              "      <th>F1</th>\n",
              "      <th>Roc Auc</th>\n",
              "      <th>Accuracy</th>\n",
              "    </tr>\n",
              "  </thead>\n",
              "  <tbody>\n",
              "    <tr>\n",
              "      <td>1</td>\n",
              "      <td>0.140400</td>\n",
              "      <td>0.131868</td>\n",
              "      <td>0.524024</td>\n",
              "      <td>0.704443</td>\n",
              "      <td>0.387289</td>\n",
              "    </tr>\n",
              "    <tr>\n",
              "      <td>2</td>\n",
              "      <td>0.113500</td>\n",
              "      <td>0.124194</td>\n",
              "      <td>0.586427</td>\n",
              "      <td>0.746023</td>\n",
              "      <td>0.453928</td>\n",
              "    </tr>\n",
              "    <tr>\n",
              "      <td>3</td>\n",
              "      <td>0.090500</td>\n",
              "      <td>0.129072</td>\n",
              "      <td>0.605263</td>\n",
              "      <td>0.763313</td>\n",
              "      <td>0.474907</td>\n",
              "    </tr>\n",
              "    <tr>\n",
              "      <td>4</td>\n",
              "      <td>0.076200</td>\n",
              "      <td>0.133059</td>\n",
              "      <td>0.601684</td>\n",
              "      <td>0.764913</td>\n",
              "      <td>0.472645</td>\n",
              "    </tr>\n",
              "  </tbody>\n",
              "</table><p>"
            ],
            "text/plain": [
              "<IPython.core.display.HTML object>"
            ]
          },
          "metadata": {},
          "output_type": "display_data"
        },
        {
          "data": {
            "text/plain": [
              "TrainOutput(global_step=9724, training_loss=0.11261177043373424, metrics={'train_runtime': 4178.7206, 'train_samples_per_second': 18.615, 'train_steps_per_second': 2.327, 'total_flos': 1.0285368944726064e+16, 'train_loss': 0.11261177043373424, 'epoch': 4.0})"
            ]
          },
          "execution_count": 92,
          "metadata": {},
          "output_type": "execute_result"
        }
      ],
      "source": [
        "trainer_mll_shortened.train()"
      ]
    },
    {
      "cell_type": "code",
      "execution_count": null,
      "metadata": {
        "id": "bktXah6qhXcg"
      },
      "outputs": [],
      "source": [
        "trainer_mll_shortened.save_model(\"/content/drive/MyDrive/Models/mll_bert_tuned_shortened\")"
      ]
    },
    {
      "cell_type": "code",
      "execution_count": null,
      "metadata": {
        "colab": {
          "base_uri": "https://localhost:8080/",
          "height": 17
        },
        "id": "dbGUOapjlauq",
        "outputId": "a9c03589-505b-4952-db24-161d7e713bc1"
      },
      "outputs": [
        {
          "data": {
            "text/html": [],
            "text/plain": [
              "<IPython.core.display.HTML object>"
            ]
          },
          "metadata": {},
          "output_type": "display_data"
        }
      ],
      "source": [
        "train_pred = trainer_mll_shortened.predict(train_dataset_mll_shortened)"
      ]
    },
    {
      "cell_type": "code",
      "execution_count": null,
      "metadata": {
        "colab": {
          "base_uri": "https://localhost:8080/",
          "height": 17
        },
        "id": "ck-DTk7Glauu",
        "outputId": "ad043bbe-9259-4ce5-c017-b81d9c8c38d5"
      },
      "outputs": [
        {
          "data": {
            "text/html": [],
            "text/plain": [
              "<IPython.core.display.HTML object>"
            ]
          },
          "metadata": {},
          "output_type": "display_data"
        }
      ],
      "source": [
        "test_pred = trainer_mll_shortened.predict(val_dataset_mll_shortened)"
      ]
    },
    {
      "cell_type": "code",
      "execution_count": null,
      "metadata": {
        "id": "BnbMo5Vvlz8i"
      },
      "outputs": [],
      "source": [
        "trans_pred_train = transform_predictions(train_pred.predictions)\n",
        "trans_pred_test = transform_predictions(test_pred.predictions)"
      ]
    },
    {
      "cell_type": "code",
      "execution_count": null,
      "metadata": {
        "colab": {
          "base_uri": "https://localhost:8080/"
        },
        "id": "tl9MKFCelm5J",
        "outputId": "fa93714d-8c19-420e-bb03-8a23e96c1664"
      },
      "outputs": [
        {
          "name": "stdout",
          "output_type": "stream",
          "text": [
            "model's train score = 0.5806551138993161\n",
            "model's jaccard train score = 0.6562323237517355\n",
            "model's hamming train loss = 0.034497986987256465\n",
            "model's one match train score = 0.7335321643441147\n"
          ]
        }
      ],
      "source": [
        "evaluate_ml(train_pred.label_ids, trans_pred_train, 'train')"
      ]
    },
    {
      "cell_type": "code",
      "execution_count": null,
      "metadata": {
        "colab": {
          "base_uri": "https://localhost:8080/"
        },
        "id": "MGNAzAZflm5G",
        "outputId": "7af3e41c-f251-4d18-ba80-3b4c2dde6e81"
      },
      "outputs": [
        {
          "name": "stdout",
          "output_type": "stream",
          "text": [
            "model's test score = 0.4539284245166598\n",
            "model's jaccard test score = 0.5217160290689702\n",
            "model's hamming test loss = 0.05013671449657609\n",
            "model's one match test score = 0.5913204442616208\n"
          ]
        }
      ],
      "source": [
        "evaluate_ml(test_pred.label_ids, trans_pred_test, 'test')"
      ]
    },
    {
      "cell_type": "markdown",
      "metadata": {
        "id": "uXZ3MadP7ffa"
      },
      "source": [
        "Achieved results are 2% better both in terms of jaccard score and full-match score then a corresponding chained logistic regression."
      ]
    },
    {
      "cell_type": "markdown",
      "metadata": {},
      "source": [
        "# Conclusions"
      ]
    },
    {
      "cell_type": "markdown",
      "metadata": {},
      "source": [
        "All in all, fine tuned bert appear to be the most powerful models - they achieve the best results in all - multiclass, multilabel and multuilabel with the most frequent classes, although the difference between it and log_reg is not that huge - 5% in mlc, 3% in mll and only 2% in mll with less classes. And so, because log_reg is much more interpretable, in scripts for prediction I'll have 2 options - bert and log_reg, depending on importance of speed and interpretability for potential user."
      ]
    }
  ],
  "metadata": {
    "colab": {
      "provenance": []
    },
    "kernelspec": {
      "display_name": "Python 3",
      "name": "python3"
    },
    "language_info": {
      "codemirror_mode": {
        "name": "ipython",
        "version": 3
      },
      "file_extension": ".py",
      "mimetype": "text/x-python",
      "name": "python",
      "nbconvert_exporter": "python",
      "pygments_lexer": "ipython3",
      "version": "3.10.5"
    }
  },
  "nbformat": 4,
  "nbformat_minor": 0
}
