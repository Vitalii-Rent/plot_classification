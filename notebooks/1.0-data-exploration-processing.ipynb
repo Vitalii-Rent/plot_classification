{
  "cells": [
    {
      "attachments": {},
      "cell_type": "markdown",
      "metadata": {
        "id": "DLhl6uVE3-gw"
      },
      "source": [
        "# Imports and data loading"
      ]
    },
    {
      "cell_type": "code",
      "execution_count": 1,
      "metadata": {},
      "outputs": [],
      "source": [
        "import sys\n",
        "sys.path.append('..')"
      ]
    },
    {
      "cell_type": "code",
      "execution_count": 2,
      "metadata": {
        "id": "wAIxZwEw3-g6"
      },
      "outputs": [],
      "source": [
        "import numpy as np # linear algebra\n",
        "import pandas as pd # data processing, CSV file I/O (e.g. pd.read_csv)\n",
        "import seaborn as sns\n",
        "import matplotlib.pyplot as plt\n",
        "#from src.features import clean_text\n",
        "from src.data.text_processing import clean_text, filter_rare, replace_labels, lemming, remove_stopwords"
      ]
    },
    {
      "cell_type": "code",
      "execution_count": 2,
      "metadata": {},
      "outputs": [
        {
          "name": "stderr",
          "output_type": "stream",
          "text": [
            "[nltk_data] Downloading package stopwords to\n",
            "[nltk_data]     C:\\Users\\user\\AppData\\Roaming\\nltk_data...\n",
            "[nltk_data]   Package stopwords is already up-to-date!\n",
            "[nltk_data] Downloading package punkt to\n",
            "[nltk_data]     C:\\Users\\user\\AppData\\Roaming\\nltk_data...\n",
            "[nltk_data]   Package punkt is already up-to-date!\n",
            "[nltk_data] Downloading package wordnet to\n",
            "[nltk_data]     C:\\Users\\user\\AppData\\Roaming\\nltk_data...\n",
            "[nltk_data]   Package wordnet is already up-to-date!\n",
            "[nltk_data] Downloading package omw-1.4 to\n",
            "[nltk_data]     C:\\Users\\user\\AppData\\Roaming\\nltk_data...\n",
            "[nltk_data]   Package omw-1.4 is already up-to-date!\n",
            "[nltk_data] Error loading corpora/wordnet: Package 'corpora/wordnet'\n",
            "[nltk_data]     not found in index\n"
          ]
        },
        {
          "data": {
            "text/plain": [
              "False"
            ]
          },
          "execution_count": 2,
          "metadata": {},
          "output_type": "execute_result"
        }
      ],
      "source": [
        "import nltk\n",
        "from nltk import word_tokenize\n",
        "from nltk.corpus import stopwords\n",
        "nltk.download('stopwords')\n",
        "nltk.download('punkt')\n",
        "nltk.download('wordnet')\n",
        "nltk.download('omw-1.4')\n",
        "nltk.download('corpora/wordnet')"
      ]
    },
    {
      "cell_type": "code",
      "execution_count": 3,
      "metadata": {
        "id": "imnunTz45ESP"
      },
      "outputs": [],
      "source": [
        "df = pd.read_csv('../data/raw/wiki_movie_plots_deduped.csv')"
      ]
    },
    {
      "attachments": {},
      "cell_type": "markdown",
      "metadata": {
        "id": "jyoMXZ9g3-hF"
      },
      "source": [
        "# Initial analysis"
      ]
    },
    {
      "cell_type": "code",
      "execution_count": 4,
      "metadata": {
        "colab": {
          "base_uri": "https://localhost:8080/",
          "height": 354
        },
        "id": "4j_WhQkD3-hH",
        "outputId": "28211e69-d36a-4c3b-aa43-84229c08a3f4"
      },
      "outputs": [
        {
          "data": {
            "text/html": [
              "<div>\n",
              "<style scoped>\n",
              "    .dataframe tbody tr th:only-of-type {\n",
              "        vertical-align: middle;\n",
              "    }\n",
              "\n",
              "    .dataframe tbody tr th {\n",
              "        vertical-align: top;\n",
              "    }\n",
              "\n",
              "    .dataframe thead th {\n",
              "        text-align: right;\n",
              "    }\n",
              "</style>\n",
              "<table border=\"1\" class=\"dataframe\">\n",
              "  <thead>\n",
              "    <tr style=\"text-align: right;\">\n",
              "      <th></th>\n",
              "      <th>Release Year</th>\n",
              "      <th>Title</th>\n",
              "      <th>Origin/Ethnicity</th>\n",
              "      <th>Director</th>\n",
              "      <th>Cast</th>\n",
              "      <th>Genre</th>\n",
              "      <th>Wiki Page</th>\n",
              "      <th>Plot</th>\n",
              "    </tr>\n",
              "  </thead>\n",
              "  <tbody>\n",
              "    <tr>\n",
              "      <th>0</th>\n",
              "      <td>1901</td>\n",
              "      <td>Kansas Saloon Smashers</td>\n",
              "      <td>American</td>\n",
              "      <td>Unknown</td>\n",
              "      <td>NaN</td>\n",
              "      <td>unknown</td>\n",
              "      <td>https://en.wikipedia.org/wiki/Kansas_Saloon_Sm...</td>\n",
              "      <td>A bartender is working at a saloon, serving dr...</td>\n",
              "    </tr>\n",
              "    <tr>\n",
              "      <th>1</th>\n",
              "      <td>1901</td>\n",
              "      <td>Love by the Light of the Moon</td>\n",
              "      <td>American</td>\n",
              "      <td>Unknown</td>\n",
              "      <td>NaN</td>\n",
              "      <td>unknown</td>\n",
              "      <td>https://en.wikipedia.org/wiki/Love_by_the_Ligh...</td>\n",
              "      <td>The moon, painted with a smiling face hangs ov...</td>\n",
              "    </tr>\n",
              "    <tr>\n",
              "      <th>2</th>\n",
              "      <td>1901</td>\n",
              "      <td>The Martyred Presidents</td>\n",
              "      <td>American</td>\n",
              "      <td>Unknown</td>\n",
              "      <td>NaN</td>\n",
              "      <td>unknown</td>\n",
              "      <td>https://en.wikipedia.org/wiki/The_Martyred_Pre...</td>\n",
              "      <td>The film, just over a minute long, is composed...</td>\n",
              "    </tr>\n",
              "    <tr>\n",
              "      <th>3</th>\n",
              "      <td>1901</td>\n",
              "      <td>Terrible Teddy, the Grizzly King</td>\n",
              "      <td>American</td>\n",
              "      <td>Unknown</td>\n",
              "      <td>NaN</td>\n",
              "      <td>unknown</td>\n",
              "      <td>https://en.wikipedia.org/wiki/Terrible_Teddy,_...</td>\n",
              "      <td>Lasting just 61 seconds and consisting of two ...</td>\n",
              "    </tr>\n",
              "    <tr>\n",
              "      <th>4</th>\n",
              "      <td>1902</td>\n",
              "      <td>Jack and the Beanstalk</td>\n",
              "      <td>American</td>\n",
              "      <td>George S. Fleming, Edwin S. Porter</td>\n",
              "      <td>NaN</td>\n",
              "      <td>unknown</td>\n",
              "      <td>https://en.wikipedia.org/wiki/Jack_and_the_Bea...</td>\n",
              "      <td>The earliest known adaptation of the classic f...</td>\n",
              "    </tr>\n",
              "  </tbody>\n",
              "</table>\n",
              "</div>"
            ],
            "text/plain": [
              "   Release Year                             Title Origin/Ethnicity  \\\n",
              "0          1901            Kansas Saloon Smashers         American   \n",
              "1          1901     Love by the Light of the Moon         American   \n",
              "2          1901           The Martyred Presidents         American   \n",
              "3          1901  Terrible Teddy, the Grizzly King         American   \n",
              "4          1902            Jack and the Beanstalk         American   \n",
              "\n",
              "                             Director Cast    Genre  \\\n",
              "0                             Unknown  NaN  unknown   \n",
              "1                             Unknown  NaN  unknown   \n",
              "2                             Unknown  NaN  unknown   \n",
              "3                             Unknown  NaN  unknown   \n",
              "4  George S. Fleming, Edwin S. Porter  NaN  unknown   \n",
              "\n",
              "                                           Wiki Page  \\\n",
              "0  https://en.wikipedia.org/wiki/Kansas_Saloon_Sm...   \n",
              "1  https://en.wikipedia.org/wiki/Love_by_the_Ligh...   \n",
              "2  https://en.wikipedia.org/wiki/The_Martyred_Pre...   \n",
              "3  https://en.wikipedia.org/wiki/Terrible_Teddy,_...   \n",
              "4  https://en.wikipedia.org/wiki/Jack_and_the_Bea...   \n",
              "\n",
              "                                                Plot  \n",
              "0  A bartender is working at a saloon, serving dr...  \n",
              "1  The moon, painted with a smiling face hangs ov...  \n",
              "2  The film, just over a minute long, is composed...  \n",
              "3  Lasting just 61 seconds and consisting of two ...  \n",
              "4  The earliest known adaptation of the classic f...  "
            ]
          },
          "execution_count": 4,
          "metadata": {},
          "output_type": "execute_result"
        }
      ],
      "source": [
        "df.head()"
      ]
    },
    {
      "cell_type": "code",
      "execution_count": 47,
      "metadata": {
        "colab": {
          "base_uri": "https://localhost:8080/"
        },
        "id": "CKh7afic3-hI",
        "outputId": "852c8a78-2e0a-4eb3-93c2-6c75d3b6cc54"
      },
      "outputs": [
        {
          "data": {
            "text/plain": [
              "(34886, 8)"
            ]
          },
          "execution_count": 47,
          "metadata": {},
          "output_type": "execute_result"
        }
      ],
      "source": [
        "df.shape"
      ]
    },
    {
      "cell_type": "code",
      "execution_count": 48,
      "metadata": {
        "colab": {
          "base_uri": "https://localhost:8080/"
        },
        "id": "tUDMOO6A3-hJ",
        "outputId": "7320c3db-5694-4217-addf-e7753c82b875"
      },
      "outputs": [
        {
          "data": {
            "text/plain": [
              "Release Year         int64\n",
              "Title               object\n",
              "Origin/Ethnicity    object\n",
              "Director            object\n",
              "Cast                object\n",
              "Genre               object\n",
              "Wiki Page           object\n",
              "Plot                object\n",
              "dtype: object"
            ]
          },
          "execution_count": 48,
          "metadata": {},
          "output_type": "execute_result"
        }
      ],
      "source": [
        "df.dtypes"
      ]
    },
    {
      "cell_type": "code",
      "execution_count": 49,
      "metadata": {
        "id": "SIm7keKC3-hL"
      },
      "outputs": [],
      "source": [
        "df['Release Year'] = df['Release Year'].astype(int)"
      ]
    },
    {
      "cell_type": "code",
      "execution_count": 50,
      "metadata": {
        "colab": {
          "base_uri": "https://localhost:8080/"
        },
        "id": "_skJ17vF3-hL",
        "outputId": "1304dcb4-20b7-40ed-a6f3-8ded91c54883"
      },
      "outputs": [
        {
          "data": {
            "text/plain": [
              "Release Year           0\n",
              "Title                  0\n",
              "Origin/Ethnicity       0\n",
              "Director               0\n",
              "Cast                1422\n",
              "Genre                  0\n",
              "Wiki Page              0\n",
              "Plot                   0\n",
              "dtype: int64"
            ]
          },
          "execution_count": 50,
          "metadata": {},
          "output_type": "execute_result"
        }
      ],
      "source": [
        "df.isna().sum()"
      ]
    },
    {
      "cell_type": "code",
      "execution_count": 51,
      "metadata": {
        "colab": {
          "base_uri": "https://localhost:8080/"
        },
        "id": "lA5-ZUiI3-hM",
        "outputId": "ed6899f2-5265-4993-80cf-483cdf9508d9"
      },
      "outputs": [
        {
          "data": {
            "text/plain": [
              "unknown                          6083\n",
              "drama                            5964\n",
              "comedy                           4379\n",
              "horror                           1167\n",
              "action                           1098\n",
              "                                 ... \n",
              "cbc-tv miniseries                   1\n",
              "bio-drama                           1\n",
              "national film board docudrama       1\n",
              "cult drama                          1\n",
              "horror romantic comedy              1\n",
              "Name: Genre, Length: 2265, dtype: int64"
            ]
          },
          "execution_count": 51,
          "metadata": {},
          "output_type": "execute_result"
        }
      ],
      "source": [
        "df['Genre'].value_counts()"
      ]
    },
    {
      "attachments": {},
      "cell_type": "markdown",
      "metadata": {
        "id": "mwKdG2Ee3-hN"
      },
      "source": [
        "It seems like there are quite a lot of very rare classes. and many of them are a combination of other like horror romantic comedy"
      ]
    },
    {
      "cell_type": "code",
      "execution_count": 52,
      "metadata": {
        "colab": {
          "base_uri": "https://localhost:8080/"
        },
        "id": "_vzbaA4n3-hN",
        "outputId": "6c20a0cd-f7d3-4376-fdc6-913931a173e4"
      },
      "outputs": [
        {
          "data": {
            "text/plain": [
              "0.06492575818379866"
            ]
          },
          "execution_count": 52,
          "metadata": {},
          "output_type": "execute_result"
        }
      ],
      "source": [
        "len(df['Genre'].unique())/len(df)"
      ]
    },
    {
      "cell_type": "code",
      "execution_count": 53,
      "metadata": {
        "colab": {
          "base_uri": "https://localhost:8080/"
        },
        "id": "CL6GwTU43-hP",
        "outputId": "ec924470-f986-4c45-c657-c1980f6ad8ba"
      },
      "outputs": [
        {
          "data": {
            "text/plain": [
              "0.8980679928911312"
            ]
          },
          "execution_count": 53,
          "metadata": {},
          "output_type": "execute_result"
        }
      ],
      "source": [
        "df['Genre'].value_counts()[df['Genre'].value_counts() > 10].sum()/len(df)"
      ]
    },
    {
      "attachments": {},
      "cell_type": "markdown",
      "metadata": {
        "id": "VyS5oQRS3-hP"
      },
      "source": [
        "10% of dataset has very rare classes."
      ]
    },
    {
      "cell_type": "code",
      "execution_count": 54,
      "metadata": {
        "colab": {
          "base_uri": "https://localhost:8080/"
        },
        "id": "56AiBL_m3-hP",
        "outputId": "cf962b5e-baf4-41fd-ea43-44c37a221ce9"
      },
      "outputs": [
        {
          "data": {
            "text/plain": [
              "adventure, fantasy               9\n",
              "action-adventure, fantasy        9\n",
              "political drama                  9\n",
              "musical, comedy                  9\n",
              "comedy, drama, romance           9\n",
              "                                ..\n",
              "cbc-tv miniseries                1\n",
              "bio-drama                        1\n",
              "national film board docudrama    1\n",
              "cult drama                       1\n",
              "horror romantic comedy           1\n",
              "Name: Genre, Length: 2093, dtype: int64"
            ]
          },
          "execution_count": 54,
          "metadata": {},
          "output_type": "execute_result"
        }
      ],
      "source": [
        "df['Genre'].value_counts()[df['Genre'].value_counts() < 10]"
      ]
    },
    {
      "attachments": {},
      "cell_type": "markdown",
      "metadata": {
        "id": "0pBuFInx3-hR"
      },
      "source": [
        "# Preprocessing and cleaning"
      ]
    },
    {
      "cell_type": "code",
      "execution_count": 56,
      "metadata": {
        "id": "cCqpty7x3-hR"
      },
      "outputs": [],
      "source": [
        "df['Genre'] = df['Genre'].apply(clean_text)"
      ]
    },
    {
      "cell_type": "code",
      "execution_count": 57,
      "metadata": {
        "id": "_C0md4r1MeEJ"
      },
      "outputs": [],
      "source": [
        "df['Genre'] = df['Genre'].apply(lambda x: 'unknown' if x == '' else x)"
      ]
    },
    {
      "cell_type": "code",
      "execution_count": 58,
      "metadata": {
        "colab": {
          "base_uri": "https://localhost:8080/"
        },
        "id": "R8P2gR6s3-hR",
        "outputId": "be79ac47-a4c5-4183-c9ec-88399662b284"
      },
      "outputs": [
        {
          "data": {
            "text/plain": [
              "biographical drama                                  9\n",
              "action adventure fantasy                            9\n",
              "science fiction thriller                            9\n",
              "thriller romance                                    9\n",
              "animation comedy                                    9\n",
              "                                                   ..\n",
              "historical biodrama on the early years of hitler    1\n",
              "short black comedy                                  1\n",
              "dance film horror from the novel by bram stoker     1\n",
              "epic drama set years ago in the canadian arctic     1\n",
              "adapted from the play by alexandre goyette          1\n",
              "Name: Genre, Length: 1635, dtype: int64"
            ]
          },
          "execution_count": 58,
          "metadata": {},
          "output_type": "execute_result"
        }
      ],
      "source": [
        "df['Genre'].value_counts()[df['Genre'].value_counts() < 10]"
      ]
    },
    {
      "attachments": {},
      "cell_type": "markdown",
      "metadata": {
        "id": "x4XIm6xY3-hT"
      },
      "source": [
        "There are already much fewer unfrequent classes - 1635 vs 2093"
      ]
    },
    {
      "cell_type": "code",
      "execution_count": 59,
      "metadata": {
        "id": "QAXKyQgI3-hT"
      },
      "outputs": [],
      "source": [
        "df['Genre'] = df['Genre'].apply(lambda x: x.split())"
      ]
    },
    {
      "attachments": {},
      "cell_type": "markdown",
      "metadata": {
        "id": "fURRoTgS3-hT"
      },
      "source": [
        "Perhaps I could somehow choose some numer of most frequent classes and assign those classes to the rare classes that contain the frequent ones. But I don't know and for now I'll just drop the rare ones."
      ]
    },
    {
      "cell_type": "code",
      "execution_count": 60,
      "metadata": {
        "colab": {
          "base_uri": "https://localhost:8080/"
        },
        "id": "T6T3XD6C3-hT",
        "outputId": "397f04f9-654d-47b6-a9d1-504270242292"
      },
      "outputs": [
        {
          "data": {
            "text/plain": [
              "[unknown]                    6116\n",
              "[drama]                      5991\n",
              "[comedy]                     4398\n",
              "[horror]                     1172\n",
              "[action]                     1121\n",
              "                             ... \n",
              "[fantasy, romance]             11\n",
              "[disaster, film]               11\n",
              "[horror, romance, comedy]      11\n",
              "[comedy, sports]               11\n",
              "[screwball, comedy]            11\n",
              "Name: Genre, Length: 144, dtype: int64"
            ]
          },
          "execution_count": 60,
          "metadata": {},
          "output_type": "execute_result"
        }
      ],
      "source": [
        "df['Genre'].value_counts()[df['Genre'].value_counts() > 10]"
      ]
    },
    {
      "cell_type": "code",
      "execution_count": 61,
      "metadata": {
        "colab": {
          "base_uri": "https://localhost:8080/"
        },
        "id": "DJCpydWy3-hU",
        "outputId": "183ff8ce-d504-4bd4-a139-236d64bd2ac1"
      },
      "outputs": [
        {
          "data": {
            "text/plain": [
              "[comedy, drama]                                         556\n",
              "[crime, drama]                                          499\n",
              "[romantic, comedy]                                      479\n",
              "[science, fiction]                                      433\n",
              "[film, noir]                                            345\n",
              "                                                       ... \n",
              "[tv, miniseries, docudrama]                               1\n",
              "[religious, drama]                                        1\n",
              "[drama, based, on, the, novel, by, rohinton, mistry]      1\n",
              "[drama, based, on, the, novel, by, russell, banks]        1\n",
              "[adventure, romance, fantasy, film]                       1\n",
              "Name: Genre, Length: 1651, dtype: int64"
            ]
          },
          "execution_count": 61,
          "metadata": {},
          "output_type": "execute_result"
        }
      ],
      "source": [
        "df['Genre'][df['Genre'].apply(lambda x: len(x)>1)].value_counts()"
      ]
    },
    {
      "cell_type": "code",
      "execution_count": 62,
      "metadata": {
        "colab": {
          "base_uri": "https://localhost:8080/"
        },
        "id": "oN0tdNhl3-hU",
        "outputId": "b1bc1c32-e058-4adf-c300-d5e64fa30a3d"
      },
      "outputs": [
        {
          "data": {
            "text/plain": [
              "0.9203405377515336"
            ]
          },
          "execution_count": 62,
          "metadata": {},
          "output_type": "execute_result"
        }
      ],
      "source": [
        "df['Genre'].value_counts()[df['Genre'].value_counts() >= 10].sum()/len(df)"
      ]
    },
    {
      "cell_type": "code",
      "execution_count": 63,
      "metadata": {
        "colab": {
          "base_uri": "https://localhost:8080/"
        },
        "id": "McFBq9Y33-hU",
        "outputId": "927daa74-d6dd-4beb-83b5-0226d6466bec"
      },
      "outputs": [
        {
          "data": {
            "text/plain": [
              "0.07965946224846643"
            ]
          },
          "execution_count": 63,
          "metadata": {},
          "output_type": "execute_result"
        }
      ],
      "source": [
        "df['Genre'].value_counts()[df['Genre'].value_counts() < 10].sum()/len(df)"
      ]
    },
    {
      "attachments": {},
      "cell_type": "markdown",
      "metadata": {
        "id": "_xBEJtFL3-hV"
      },
      "source": [
        "## Filtering data to get rid of 'unknown' and rare classes"
      ]
    },
    {
      "cell_type": "code",
      "execution_count": 66,
      "metadata": {
        "id": "dpaICHDM3-hX"
      },
      "outputs": [],
      "source": [
        "df_filtered = filter_rare(df)"
      ]
    },
    {
      "cell_type": "code",
      "execution_count": 67,
      "metadata": {
        "id": "SBGmpZZb3-hY"
      },
      "outputs": [],
      "source": [
        "df_filtered['Genre'] = df_filtered['Genre'].apply(lambda x: ' '.join(x))"
      ]
    },
    {
      "cell_type": "code",
      "execution_count": 67,
      "metadata": {
        "id": "pyPVB8T13-hZ"
      },
      "outputs": [],
      "source": [
        "df_filtered = df_filtered[df_filtered['Genre'] != 'unknown']\n",
        "df_filtered = df_filtered.reset_index()"
      ]
    },
    {
      "cell_type": "code",
      "execution_count": 68,
      "metadata": {
        "colab": {
          "base_uri": "https://localhost:8080/"
        },
        "id": "KHNcY_me3-hZ",
        "outputId": "f63db0fe-fb6f-459b-ca39-e3b6a7a16dcc"
      },
      "outputs": [
        {
          "data": {
            "text/plain": [
              "drama                     5991\n",
              "comedy                    4398\n",
              "horror                    1172\n",
              "action                    1121\n",
              "thriller                   984\n",
              "                          ... \n",
              "crime action                10\n",
              "adventure fantasy           10\n",
              "comedy science fiction      10\n",
              "epic                        10\n",
              "disaster                    10\n",
              "Name: Genre, Length: 150, dtype: int64"
            ]
          },
          "execution_count": 68,
          "metadata": {},
          "output_type": "execute_result"
        }
      ],
      "source": [
        "df_filtered['Genre'].value_counts()"
      ]
    },
    {
      "cell_type": "code",
      "execution_count": 70,
      "metadata": {
        "id": "g6HbqPokgSzE"
      },
      "outputs": [],
      "source": [
        "replacements = [\n",
        "    ('animated', 'animation'),\n",
        "    ('biography', 'biographical'),\n",
        "    ('biopic', 'biographical'),\n",
        "    ('com', 'com'),\n",
        "    ('com', 'comedy'),\n",
        "    ('docudrama', 'documentary drama'),\n",
        "    ('dramedy', 'drama comedy'),\n",
        "    ('sci fi', 'sci_fi'),\n",
        "    ('science fiction', 'sci_fi'),\n",
        "    ('film', ''),\n",
        "    ('world war ii', 'world_ii war'),\n",
        "    ('rom ', 'romantic '),\n",
        "    ('romance', 'romantic'),\n",
        "    ('comedyedy', 'comedy')\n",
        "]"
      ]
    },
    {
      "cell_type": "code",
      "execution_count": 73,
      "metadata": {
        "id": "5Db4VZH4jqBF"
      },
      "outputs": [],
      "source": [
        "df_filtered['Genre'] = df_filtered['Genre'].apply(lambda x: replace_labels(x, replacements))"
      ]
    },
    {
      "cell_type": "code",
      "execution_count": null,
      "metadata": {},
      "outputs": [],
      "source": [
        "df_filtered.to_csv('../data/interim/data_intermidiate')"
      ]
    },
    {
      "attachments": {},
      "cell_type": "markdown",
      "metadata": {
        "id": "5xM1PMt7r8XN"
      },
      "source": [
        "# Text processing"
      ]
    },
    {
      "attachments": {},
      "cell_type": "markdown",
      "metadata": {
        "id": "3Xe5LVbHsJQN"
      },
      "source": [
        "For all the models other then LLM I'll perform lemmatizing and removing stop words."
      ]
    },
    {
      "cell_type": "code",
      "execution_count": 74,
      "metadata": {
        "id": "Bta2gGUV3-hh"
      },
      "outputs": [],
      "source": [
        "en_stopwords = stopwords.words('english')"
      ]
    },
    {
      "cell_type": "code",
      "execution_count": null,
      "metadata": {
        "id": "lwBFq_se3-iE"
      },
      "outputs": [],
      "source": [
        "df_filtered_processed =df_filtered.copy()"
      ]
    },
    {
      "cell_type": "code",
      "execution_count": 76,
      "metadata": {
        "id": "ueJ7Z3Vf3-iE"
      },
      "outputs": [],
      "source": [
        "df_filtered_processed['Plot'] = df_filtered_processed['Plot'].apply(clean_text)\n",
        "df_filtered_processed['Plot'] = df_filtered_processed['Plot'].apply(lambda X: word_tokenize(X))\n",
        "df_filtered_processed['Plot']=df_filtered_processed['Plot'].apply(lambda x: remove_stopwords(x, en_stopwords))\n"
      ]
    },
    {
      "cell_type": "code",
      "execution_count": 77,
      "metadata": {},
      "outputs": [],
      "source": [
        "df_filtered_processed.to_csv('../data/processed/data_processed_no_lemming.csv')"
      ]
    },
    {
      "cell_type": "code",
      "execution_count": null,
      "metadata": {},
      "outputs": [],
      "source": [
        "df_filtered_processed['Plot']=df_filtered_processed['Plot'].apply(lemming)\n",
        "df_filtered_processed.to_csv('../data/processed/data_processed.csv')"
      ]
    },
    {
      "cell_type": "code",
      "execution_count": null,
      "metadata": {
        "id": "NLQR_PpdtBnE"
      },
      "outputs": [],
      "source": [
        "labels = df_filtered.Genre.unique()\n",
        "num_labels = len(labels)\n",
        "label2id, id2label = dict(), dict()\n",
        "for i, label in enumerate(labels):\n",
        "    label2id[label] = str(i)\n",
        "    id2label[str(i)] = label"
      ]
    },
    {
      "cell_type": "code",
      "execution_count": null,
      "metadata": {
        "colab": {
          "base_uri": "https://localhost:8080/"
        },
        "id": "EH7gM9_KtEN2",
        "outputId": "10a0302b-75c9-4d93-8910-92fe930ad8ad"
      },
      "outputs": [
        {
          "data": {
            "text/plain": [
              "{'western': '0',\n",
              " 'comedy': '1',\n",
              " 'short': '2',\n",
              " 'biographical': '3',\n",
              " 'drama': '4',\n",
              " 'adventure': '5',\n",
              " 'horror': '6',\n",
              " 'crime': '7',\n",
              " 'drama horror': '8',\n",
              " 'historical drama': '9',\n",
              " 'fantasy': '10',\n",
              " 'epic': '11',\n",
              " 'historical': '12',\n",
              " 'comedy short': '13',\n",
              " 'comedy western': '14',\n",
              " 'action adventure': '15',\n",
              " 'romantic drama': '16',\n",
              " 'mystery': '17',\n",
              " 'crime drama': '18',\n",
              " 'romantic': '19',\n",
              " 'comedy drama': '20',\n",
              " 'war drama': '21',\n",
              " 'spy': '22',\n",
              " 'romantic comedy': '23',\n",
              " 'propaganda': '24',\n",
              " 'drama romantic': '25',\n",
              " 'melodrama': '26',\n",
              " 'period drama': '27',\n",
              " 'swashbuckler': '28',\n",
              " 'drama adventure': '29',\n",
              " 'crime comedy': '30',\n",
              " 'documentary': '31',\n",
              " 'war': '32',\n",
              " 'fantasy adventure': '33',\n",
              " 'thriller': '34',\n",
              " 'mystery thriller': '35',\n",
              " 'crime thriller': '36',\n",
              " 'fantasy romantic': '37',\n",
              " 'comedy romantic': '38',\n",
              " 'musical': '39',\n",
              " 'musical comedy': '40',\n",
              " 'comedy mystery': '41',\n",
              " 'drama war': '42',\n",
              " 'horror comedy': '43',\n",
              " 'drama crime': '44',\n",
              " 'costume drama': '45',\n",
              " 'action': '46',\n",
              " 'drama thriller': '47',\n",
              " 'drama musical': '48',\n",
              " ' noir': '49',\n",
              " 'sports': '50',\n",
              " 'comedy musical': '51',\n",
              " 'drama mystery': '52',\n",
              " 'animation': '53',\n",
              " 'sci_fi': '54',\n",
              " 'comedy crime': '55',\n",
              " 'drama sports': '56',\n",
              " 'comedy horror': '57',\n",
              " 'adventure drama': '58',\n",
              " 'comedy fantasy': '59',\n",
              " 'drama biographical': '60',\n",
              " 'drama action': '61',\n",
              " 'sci_fi horror': '62',\n",
              " 'adventure fantasy': '63',\n",
              " 'serial': '64',\n",
              " 'sports drama': '65',\n",
              " 'western comedy': '66',\n",
              " 'suspense': '67',\n",
              " 'musical romantic': '68',\n",
              " 'comedy thriller': '69',\n",
              " 'screwball comedy': '70',\n",
              " 'spy thriller': '71',\n",
              " 'sci_fi comedy': '72',\n",
              " 'animation short': '73',\n",
              " 'musical drama': '74',\n",
              " 'family': '75',\n",
              " 'action comedy': '76',\n",
              " 'fantasy thriller': '77',\n",
              " 'documentary drama': '78',\n",
              " 'war comedy': '79',\n",
              " 'drama comedy': '80',\n",
              " 'biographical drama': '81',\n",
              " 'short subject': '82',\n",
              " 'family drama': '83',\n",
              " 'animation ': '84',\n",
              " 'black comedy': '85',\n",
              " 'slapstick': '86',\n",
              " 'action drama': '87',\n",
              " 'disaster ': '88',\n",
              " 'political drama': '89',\n",
              " 'disaster': '90',\n",
              " 'political thriller': '91',\n",
              " 'animation feature': '92',\n",
              " 'slasher': '93',\n",
              " 'comedy action': '94',\n",
              " 'mockumentary': '95',\n",
              " 'crime action': '96',\n",
              " 'martial arts': '97',\n",
              " 'comedy sports': '98',\n",
              " 'animation family': '99',\n",
              " 'drama family': '100',\n",
              " 'comedy family': '101',\n",
              " 'action fantasy': '102',\n",
              " 'superhero': '103',\n",
              " 'sports comedy': '104',\n",
              " 'horror thriller': '105',\n",
              " 'action horror': '106',\n",
              " 'comedy sci_fi': '107',\n",
              " 'action thriller': '108',\n",
              " 'action sci_fi': '109',\n",
              " 'family fantasy': '110',\n",
              " 'psychological thriller': '111',\n",
              " 'action crime': '112',\n",
              " 'comedy drama romantic': '113',\n",
              " 'action crime drama': '114',\n",
              " 'social': '115',\n",
              " 'family ': '116',\n",
              " 'romantic thriller': '117',\n",
              " 'anime': '118',\n",
              " 'action romantic': '119',\n",
              " 'romantic action': '120',\n",
              " 'world_ii war': '121',\n",
              " 'literary drama': '122',\n",
              " 'spy action': '123',\n",
              " 'sex comedy': '124',\n",
              " 'thriller drama': '125',\n",
              " 'suspense thriller': '126',\n",
              " 'horror romantic comedy': '127',\n",
              " 'mythology': '128',\n",
              " 'devotional': '129',\n",
              " 'social family drama': '130',\n",
              " 'social drama': '131',\n",
              " 'drama social': '132',\n",
              " 'action crime drama romantic': '133',\n",
              " 'masala': '134',\n",
              " 'action masala': '135',\n",
              " 'folklore': '136',\n",
              " 'kaiju': '137',\n",
              " 'tokusatsu': '138'}"
            ]
          },
          "execution_count": 46,
          "metadata": {},
          "output_type": "execute_result"
        }
      ],
      "source": [
        "label2id"
      ]
    },
    {
      "attachments": {},
      "cell_type": "markdown",
      "metadata": {
        "id": "xCgDLXBIcS2d"
      },
      "source": [
        "There are some classes that are very simmilar - animated and animation, 'biographical', 'biography', 'biopic'; com and comedy, docudrama can be split into documentary and drama, dramedy - to drama and comedy, sci and fi sjhould be merged to sci-fi, as well as science fiction, 'rom', 'romance', 'romantic' should be merged to romantic, world and ii should be merged to 'world war ii' as this is the only case thay appear."
      ]
    }
  ],
  "metadata": {
    "colab": {
      "provenance": []
    },
    "kernelspec": {
      "display_name": "Python 3",
      "name": "python3"
    },
    "language_info": {
      "codemirror_mode": {
        "name": "ipython",
        "version": 3
      },
      "file_extension": ".py",
      "mimetype": "text/x-python",
      "name": "python",
      "nbconvert_exporter": "python",
      "pygments_lexer": "ipython3",
      "version": "3.10.5"
    }
  },
  "nbformat": 4,
  "nbformat_minor": 0
}
