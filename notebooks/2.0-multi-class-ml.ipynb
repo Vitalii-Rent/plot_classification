{
  "cells": [
    {
      "attachments": {},
      "cell_type": "markdown",
      "metadata": {},
      "source": [
        "## Imports"
      ]
    },
    {
      "cell_type": "code",
      "execution_count": 1,
      "metadata": {},
      "outputs": [],
      "source": [
        "import numpy as np \n",
        "import pandas as pd\n",
        "import seaborn as sns\n",
        "import matplotlib.pyplot as plt\n",
        "from sklearn.feature_extraction.text import TfidfVectorizer\n",
        "from sklearn.naive_bayes import MultinomialNB\n",
        "from sklearn.linear_model import LogisticRegression\n",
        "from sklearn.preprocessing import OrdinalEncoder\n",
        "from sklearn.metrics import classification_report, multilabel_confusion_matrix, f1_score\n",
        "from sklearn.ensemble import RandomForestClassifier\n",
        "from sklearn.ensemble import GradientBoostingClassifier\n",
        "import pickle\n",
        "import ast"
      ]
    },
    {
      "cell_type": "code",
      "execution_count": 2,
      "metadata": {},
      "outputs": [],
      "source": [
        "import sys\n",
        "sys.path.append('..')"
      ]
    },
    {
      "cell_type": "code",
      "execution_count": 3,
      "metadata": {},
      "outputs": [],
      "source": [
        "\n",
        "from src.models.tune_utils import tune_hyperparams_optuna, tune_hyperparams_rand\n",
        "from src.models.train_predict import evaluate_ml, train_evaluate\n",
        "from src.features.build_features import split_transform_data"
      ]
    },
    {
      "cell_type": "code",
      "execution_count": 5,
      "metadata": {},
      "outputs": [],
      "source": [
        "from dotenv import load_dotenv\n",
        "import os\n",
        "load_dotenv()\n",
        "SEED=int(os.getenv('SEED'))"
      ]
    },
    {
      "attachments": {},
      "cell_type": "markdown",
      "metadata": {
        "id": "zPwNTuWZBnbI"
      },
      "source": [
        "## Data processing for multiclasss case"
      ]
    },
    {
      "attachments": {},
      "cell_type": "markdown",
      "metadata": {
        "id": "j1t5hpK73-ha"
      },
      "source": [
        "Now I'll clean and lemmatize the reviews."
      ]
    },
    {
      "cell_type": "code",
      "execution_count": 7,
      "metadata": {
        "id": "pjY_OidkBti2"
      },
      "outputs": [],
      "source": [
        "#df_mlt_class = pd.read_csv(r'C:\\Users\\user\\Desktop\\plot_project\\data\\processed\\data_processed')\n",
        "df_mlt_class = pd.read_csv('../data/processed/data_processed.csv')"
      ]
    },
    {
      "cell_type": "code",
      "execution_count": 11,
      "metadata": {},
      "outputs": [],
      "source": [
        "df_mlt_class['Plot'] = df_mlt_class['Plot'].apply(ast.literal_eval)"
      ]
    },
    {
      "attachments": {},
      "cell_type": "markdown",
      "metadata": {
        "id": "LIGEUQBp3-hi"
      },
      "source": [
        "After text preprocessing is more or less finished, it's time to encode the target and vectorize the texts."
      ]
    },
    {
      "cell_type": "code",
      "execution_count": 12,
      "metadata": {
        "id": "zIINxpMf3-hj"
      },
      "outputs": [],
      "source": [
        "encoder = OrdinalEncoder()\n",
        "labels = df_mlt_class['Genre'].unique()\n",
        "df_mlt_class['Genre'] = encoder.fit_transform(df_mlt_class['Genre'].to_numpy().reshape(-1, 1))"
      ]
    },
    {
      "cell_type": "code",
      "execution_count": 14,
      "metadata": {
        "colab": {
          "base_uri": "https://localhost:8080/",
          "height": 563
        },
        "id": "-aqHJsEh3-hm",
        "outputId": "566dfbd5-52ec-4f27-e427-e3623af6aeda"
      },
      "outputs": [
        {
          "data": {
            "text/html": [
              "<div>\n",
              "<style scoped>\n",
              "    .dataframe tbody tr th:only-of-type {\n",
              "        vertical-align: middle;\n",
              "    }\n",
              "\n",
              "    .dataframe tbody tr th {\n",
              "        vertical-align: top;\n",
              "    }\n",
              "\n",
              "    .dataframe thead th {\n",
              "        text-align: right;\n",
              "    }\n",
              "</style>\n",
              "<table border=\"1\" class=\"dataframe\">\n",
              "  <thead>\n",
              "    <tr style=\"text-align: right;\">\n",
              "      <th></th>\n",
              "      <th>Unnamed: 0</th>\n",
              "      <th>index</th>\n",
              "      <th>Release Year</th>\n",
              "      <th>Title</th>\n",
              "      <th>Origin/Ethnicity</th>\n",
              "      <th>Director</th>\n",
              "      <th>Cast</th>\n",
              "      <th>Genre</th>\n",
              "      <th>Wiki Page</th>\n",
              "      <th>Plot</th>\n",
              "    </tr>\n",
              "  </thead>\n",
              "  <tbody>\n",
              "    <tr>\n",
              "      <th>25986</th>\n",
              "      <td>25986</td>\n",
              "      <td>34875</td>\n",
              "      <td>2011</td>\n",
              "      <td>Once Upon a Time in Anatolia</td>\n",
              "      <td>Turkish</td>\n",
              "      <td>Nuri Bilge Ceylan</td>\n",
              "      <td>Yılmaz Erdoğan, Taner Birsel &amp; Ufuk Karaali</td>\n",
              "      <td>53.0</td>\n",
              "      <td>https://en.wikipedia.org/wiki/Once_Upon_a_Time...</td>\n",
              "      <td>[night, three, car, carry, small, group, men, ...</td>\n",
              "    </tr>\n",
              "    <tr>\n",
              "      <th>25987</th>\n",
              "      <td>25987</td>\n",
              "      <td>34876</td>\n",
              "      <td>2013</td>\n",
              "      <td>Selam</td>\n",
              "      <td>Turkish</td>\n",
              "      <td>Levent Demirkale</td>\n",
              "      <td>Bucin Abdullah, Selma Alispahic, Tina Cvitanov...</td>\n",
              "      <td>53.0</td>\n",
              "      <td>https://en.wikipedia.org/wiki/Selam_(film)</td>\n",
              "      <td>[film, open, senegalese, boy, named, khadim, t...</td>\n",
              "    </tr>\n",
              "    <tr>\n",
              "      <th>25988</th>\n",
              "      <td>25988</td>\n",
              "      <td>34882</td>\n",
              "      <td>2017</td>\n",
              "      <td>Çalgı Çengi İkimiz</td>\n",
              "      <td>Turkish</td>\n",
              "      <td>Selçuk Aydemir</td>\n",
              "      <td>Ahmet Kural, Murat Cemcir</td>\n",
              "      <td>26.0</td>\n",
              "      <td>https://en.wikipedia.org/wiki/%C3%87alg%C4%B1_...</td>\n",
              "      <td>[two, musician, salih, gürkan, described, adve...</td>\n",
              "    </tr>\n",
              "    <tr>\n",
              "      <th>25989</th>\n",
              "      <td>25989</td>\n",
              "      <td>34883</td>\n",
              "      <td>2017</td>\n",
              "      <td>Olanlar Oldu</td>\n",
              "      <td>Turkish</td>\n",
              "      <td>Hakan Algül</td>\n",
              "      <td>Ata Demirer, Tuvana Türkay, Ülkü Duru</td>\n",
              "      <td>26.0</td>\n",
              "      <td>https://en.wikipedia.org/wiki/Olanlar_Oldu</td>\n",
              "      <td>[zafer, sailor, living, mother, döndü, coastal...</td>\n",
              "    </tr>\n",
              "    <tr>\n",
              "      <th>25990</th>\n",
              "      <td>25990</td>\n",
              "      <td>34884</td>\n",
              "      <td>2017</td>\n",
              "      <td>Non-Transferable</td>\n",
              "      <td>Turkish</td>\n",
              "      <td>Brendan Bradley</td>\n",
              "      <td>YouTubers Shanna Malcolm, Shira Lazar, Sara Fl...</td>\n",
              "      <td>104.0</td>\n",
              "      <td>https://en.wikipedia.org/wiki/Non-Transferable...</td>\n",
              "      <td>[film, centre, around, young, woman, named, am...</td>\n",
              "    </tr>\n",
              "  </tbody>\n",
              "</table>\n",
              "</div>"
            ],
            "text/plain": [
              "       Unnamed: 0  index  Release Year                         Title  \\\n",
              "25986       25986  34875          2011  Once Upon a Time in Anatolia   \n",
              "25987       25987  34876          2013                         Selam   \n",
              "25988       25988  34882          2017            Çalgı Çengi İkimiz   \n",
              "25989       25989  34883          2017                  Olanlar Oldu   \n",
              "25990       25990  34884          2017              Non-Transferable   \n",
              "\n",
              "      Origin/Ethnicity           Director  \\\n",
              "25986          Turkish  Nuri Bilge Ceylan   \n",
              "25987          Turkish   Levent Demirkale   \n",
              "25988          Turkish     Selçuk Aydemir   \n",
              "25989          Turkish        Hakan Algül   \n",
              "25990          Turkish    Brendan Bradley   \n",
              "\n",
              "                                                    Cast  Genre  \\\n",
              "25986        Yılmaz Erdoğan, Taner Birsel & Ufuk Karaali   53.0   \n",
              "25987  Bucin Abdullah, Selma Alispahic, Tina Cvitanov...   53.0   \n",
              "25988                          Ahmet Kural, Murat Cemcir   26.0   \n",
              "25989              Ata Demirer, Tuvana Türkay, Ülkü Duru   26.0   \n",
              "25990  YouTubers Shanna Malcolm, Shira Lazar, Sara Fl...  104.0   \n",
              "\n",
              "                                               Wiki Page  \\\n",
              "25986  https://en.wikipedia.org/wiki/Once_Upon_a_Time...   \n",
              "25987         https://en.wikipedia.org/wiki/Selam_(film)   \n",
              "25988  https://en.wikipedia.org/wiki/%C3%87alg%C4%B1_...   \n",
              "25989         https://en.wikipedia.org/wiki/Olanlar_Oldu   \n",
              "25990  https://en.wikipedia.org/wiki/Non-Transferable...   \n",
              "\n",
              "                                                    Plot  \n",
              "25986  [night, three, car, carry, small, group, men, ...  \n",
              "25987  [film, open, senegalese, boy, named, khadim, t...  \n",
              "25988  [two, musician, salih, gürkan, described, adve...  \n",
              "25989  [zafer, sailor, living, mother, döndü, coastal...  \n",
              "25990  [film, centre, around, young, woman, named, am...  "
            ]
          },
          "execution_count": 14,
          "metadata": {},
          "output_type": "execute_result"
        }
      ],
      "source": [
        "df_mlt_class.tail()"
      ]
    },
    {
      "attachments": {},
      "cell_type": "markdown",
      "metadata": {
        "id": "vEi4l_-w3-hm"
      },
      "source": [
        "I see that plots are sorted by origin and so last ones are all Turkish so I'll shuffle the instances before splitting."
      ]
    },
    {
      "cell_type": "markdown",
      "metadata": {},
      "source": [
        "# Creation, evaluation and saving models"
      ]
    },
    {
      "attachments": {},
      "cell_type": "markdown",
      "metadata": {
        "id": "sWEcaMGyt4hS"
      },
      "source": [
        "## Embedding and splitting of data"
      ]
    },
    {
      "cell_type": "code",
      "execution_count": 15,
      "metadata": {
        "colab": {
          "base_uri": "https://localhost:8080/"
        },
        "id": "xN-cBgpp3-ho",
        "outputId": "7c5ed200-05d7-439b-c82d-ce55bb65d47f"
      },
      "outputs": [],
      "source": [
        "vectorizer_lemm = TfidfVectorizer(tokenizer=lambda x: x, lowercase=False)\n",
        "X_train, X_test, y_train, y_test = split_transform_data(df_mlt_class.Plot, df_mlt_class.Genre, vectorizer_lemm)"
      ]
    },
    {
      "attachments": {},
      "cell_type": "markdown",
      "metadata": {
        "id": "AqqgHLG93-hn"
      },
      "source": [
        "## Baseline Bayes"
      ]
    },
    {
      "cell_type": "code",
      "execution_count": 47,
      "metadata": {
        "id": "cI382o9y3-ho"
      },
      "outputs": [],
      "source": [
        "bayes = MultinomialNB()"
      ]
    },
    {
      "cell_type": "code",
      "execution_count": 48,
      "metadata": {
        "colab": {
          "base_uri": "https://localhost:8080/"
        },
        "id": "3ymBzRwjTd0A",
        "outputId": "ce83b240-dac7-46a3-ec0f-978329e4da2c"
      },
      "outputs": [
        {
          "name": "stdout",
          "output_type": "stream",
          "text": [
            "model's train acc score = 0.23039039655260862\n",
            "model's test acc score = 0.23053247152970144\n",
            "model's train f1 score = 0.08632314987373312\n",
            "model's test f1 score = 0.08637759938756698\n"
          ]
        }
      ],
      "source": [
        "baseline_bayes = train_evaluate(bayes, X_train, X_test, y_train, y_test)"
      ]
    },
    {
      "attachments": {},
      "cell_type": "markdown",
      "metadata": {
        "id": "TJZUgopi3-hp"
      },
      "source": [
        "Considering model has 151 unique classes, achived accuracy might be considered a reasonable baseline, although it is not that much better then a dummy classifier that would have achieved around 20% by predicting the most frequent class."
      ]
    },
    {
      "cell_type": "code",
      "execution_count": 49,
      "metadata": {
        "colab": {
          "base_uri": "https://localhost:8080/"
        },
        "id": "VasU-TFl3-hq",
        "outputId": "de120403-94c7-400c-8828-bdf6b4248610"
      },
      "outputs": [
        {
          "name": "stdout",
          "output_type": "stream",
          "text": [
            "                             precision    recall  f1-score   support\n",
            "\n",
            "                       noir       0.00      0.00      0.00       259\n",
            "                     action       0.00      0.00      0.00       841\n",
            "           action adventure       0.00      0.00      0.00        25\n",
            "              action comedy       0.00      0.00      0.00        94\n",
            "               action crime       0.00      0.00      0.00        24\n",
            "         action crime drama       0.00      0.00      0.00        26\n",
            "action crime drama romantic       0.00      0.00      0.00         8\n",
            "               action drama       0.00      0.00      0.00        89\n",
            "             action fantasy       0.00      0.00      0.00        10\n",
            "              action horror       0.00      0.00      0.00         9\n",
            "              action masala       0.00      0.00      0.00        16\n",
            "            action romantic       0.00      0.00      0.00        58\n",
            "              action sci_fi       0.00      0.00      0.00        27\n",
            "            action thriller       0.00      0.00      0.00       110\n",
            "                  adventure       0.00      0.00      0.00       395\n",
            "            adventure drama       0.00      0.00      0.00         8\n",
            "          adventure fantasy       0.00      0.00      0.00         8\n",
            "                  animation       0.00      0.00      0.00       345\n",
            "                 animation        0.00      0.00      0.00        19\n",
            "           animation family       0.00      0.00      0.00        11\n",
            "          animation feature       0.00      0.00      0.00        11\n",
            "            animation short       0.00      0.00      0.00        70\n",
            "                      anime       0.00      0.00      0.00        84\n",
            "               biographical       0.00      0.00      0.00       160\n",
            "         biographical drama       0.00      0.00      0.00        29\n",
            "               black comedy       0.00      0.00      0.00        39\n",
            "                     comedy       0.00      0.00      0.00      3298\n",
            "              comedy action       0.00      0.00      0.00        25\n",
            "               comedy crime       0.00      0.00      0.00        37\n",
            "               comedy drama       0.00      0.00      0.00       417\n",
            "      comedy drama romantic       0.00      0.00      0.00        14\n",
            "              comedy family       0.00      0.00      0.00        28\n",
            "             comedy fantasy       0.00      0.00      0.00        19\n",
            "              comedy horror       0.00      0.00      0.00        34\n",
            "             comedy musical       0.00      0.00      0.00        53\n",
            "             comedy mystery       0.00      0.00      0.00        18\n",
            "            comedy romantic       0.00      0.00      0.00        83\n",
            "              comedy sci_fi       0.00      0.00      0.00         8\n",
            "               comedy short       0.00      0.00      0.00        39\n",
            "              comedy sports       0.00      0.00      0.00         8\n",
            "            comedy thriller       0.00      0.00      0.00        24\n",
            "             comedy western       0.00      0.00      0.00        12\n",
            "              costume drama       0.00      0.00      0.00        12\n",
            "                      crime       0.00      0.00      0.00       426\n",
            "               crime action       0.00      0.00      0.00         8\n",
            "               crime comedy       0.00      0.00      0.00        44\n",
            "                crime drama       0.00      0.00      0.00       374\n",
            "             crime thriller       0.00      0.00      0.00        61\n",
            "                 devotional       0.00      0.00      0.00         9\n",
            "                   disaster       0.00      0.00      0.00         8\n",
            "                  disaster        0.00      0.00      0.00         8\n",
            "                documentary       0.00      0.00      0.00        55\n",
            "          documentary drama       0.00      0.00      0.00        12\n",
            "                      drama       0.23      1.00      0.37      4493\n",
            "               drama action       0.00      0.00      0.00        27\n",
            "            drama adventure       0.00      0.00      0.00        31\n",
            "         drama biographical       0.00      0.00      0.00        35\n",
            "               drama comedy       0.00      0.00      0.00        51\n",
            "                drama crime       0.00      0.00      0.00        52\n",
            "               drama family       0.00      0.00      0.00        31\n",
            "               drama horror       0.00      0.00      0.00        11\n",
            "              drama musical       0.00      0.00      0.00        33\n",
            "              drama mystery       0.00      0.00      0.00        18\n",
            "             drama romantic       0.00      0.00      0.00        99\n",
            "               drama social       0.00      0.00      0.00        10\n",
            "               drama sports       0.00      0.00      0.00        16\n",
            "             drama thriller       0.00      0.00      0.00        37\n",
            "                  drama war       0.00      0.00      0.00        34\n",
            "                       epic       0.00      0.00      0.00         8\n",
            "                     family       0.00      0.00      0.00       163\n",
            "                    family        0.00      0.00      0.00        11\n",
            "               family drama       0.00      0.00      0.00        63\n",
            "             family fantasy       0.00      0.00      0.00        15\n",
            "                    fantasy       0.00      0.00      0.00       153\n",
            "          fantasy adventure       0.00      0.00      0.00         9\n",
            "           fantasy romantic       0.00      0.00      0.00         8\n",
            "           fantasy thriller       0.00      0.00      0.00         9\n",
            "                   folklore       0.00      0.00      0.00        13\n",
            "                 historical       0.00      0.00      0.00        58\n",
            "           historical drama       0.00      0.00      0.00        49\n",
            "                     horror       0.00      0.00      0.00       879\n",
            "              horror comedy       0.00      0.00      0.00        53\n",
            "     horror romantic comedy       0.00      0.00      0.00         8\n",
            "            horror thriller       0.00      0.00      0.00        31\n",
            "                      kaiju       0.00      0.00      0.00        10\n",
            "             literary drama       0.00      0.00      0.00        15\n",
            "               martial arts       0.00      0.00      0.00        34\n",
            "                     masala       0.00      0.00      0.00        12\n",
            "                  melodrama       0.00      0.00      0.00        29\n",
            "               mockumentary       0.00      0.00      0.00        23\n",
            "                    musical       0.00      0.00      0.00       350\n",
            "             musical comedy       0.00      0.00      0.00       129\n",
            "              musical drama       0.00      0.00      0.00        17\n",
            "           musical romantic       0.00      0.00      0.00         8\n",
            "                    mystery       0.00      0.00      0.00       232\n",
            "           mystery thriller       0.00      0.00      0.00        14\n",
            "                  mythology       0.00      0.00      0.00        17\n",
            "               period drama       0.00      0.00      0.00         9\n",
            "            political drama       0.00      0.00      0.00         8\n",
            "         political thriller       0.00      0.00      0.00        15\n",
            "                 propaganda       0.00      0.00      0.00        10\n",
            "     psychological thriller       0.00      0.00      0.00        17\n",
            "                   romantic       0.00      0.00      0.00       705\n",
            "            romantic action       0.00      0.00      0.00        16\n",
            "            romantic comedy       0.00      0.00      0.00       433\n",
            "             romantic drama       0.00      0.00      0.00       191\n",
            "          romantic thriller       0.00      0.00      0.00        30\n",
            "                     sci_fi       0.00      0.00      0.00       491\n",
            "              sci_fi comedy       0.00      0.00      0.00        23\n",
            "              sci_fi horror       0.00      0.00      0.00         8\n",
            "           screwball comedy       0.00      0.00      0.00         8\n",
            "                     serial       0.00      0.00      0.00        53\n",
            "                 sex comedy       0.00      0.00      0.00        10\n",
            "                      short       0.00      0.00      0.00        22\n",
            "              short subject       0.00      0.00      0.00        14\n",
            "                  slapstick       0.00      0.00      0.00         9\n",
            "                    slasher       0.00      0.00      0.00         9\n",
            "                     social       0.00      0.00      0.00        62\n",
            "               social drama       0.00      0.00      0.00        31\n",
            "        social family drama       0.00      0.00      0.00        11\n",
            "                     sports       0.00      0.00      0.00        17\n",
            "              sports comedy       0.00      0.00      0.00         8\n",
            "               sports drama       0.00      0.00      0.00        17\n",
            "                        spy       0.00      0.00      0.00        20\n",
            "                 spy action       0.00      0.00      0.00        15\n",
            "               spy thriller       0.00      0.00      0.00        11\n",
            "                  superhero       0.00      0.00      0.00        36\n",
            "                   suspense       0.00      0.00      0.00        78\n",
            "          suspense thriller       0.00      0.00      0.00        14\n",
            "               swashbuckler       0.00      0.00      0.00         8\n",
            "                   thriller       0.00      0.00      0.00       738\n",
            "             thriller drama       0.00      0.00      0.00        16\n",
            "                  tokusatsu       0.00      0.00      0.00        21\n",
            "                        war       0.00      0.00      0.00       205\n",
            "                 war comedy       0.00      0.00      0.00        11\n",
            "                  war drama       0.00      0.00      0.00        64\n",
            "                    western       0.00      0.00      0.00       649\n",
            "             western comedy       0.00      0.00      0.00        21\n",
            "               world_ii war       0.00      0.00      0.00        52\n",
            "\n",
            "                   accuracy                           0.23     19493\n",
            "                  macro avg       0.00      0.01      0.00     19493\n",
            "               weighted avg       0.05      0.23      0.09     19493\n",
            "\n"
          ]
        },
        {
          "name": "stderr",
          "output_type": "stream",
          "text": [
            "c:\\Users\\user\\AppData\\Local\\Programs\\Python\\Python310\\lib\\site-packages\\sklearn\\metrics\\_classification.py:1334: UndefinedMetricWarning: Precision and F-score are ill-defined and being set to 0.0 in labels with no predicted samples. Use `zero_division` parameter to control this behavior.\n",
            "  _warn_prf(average, modifier, msg_start, len(result))\n",
            "c:\\Users\\user\\AppData\\Local\\Programs\\Python\\Python310\\lib\\site-packages\\sklearn\\metrics\\_classification.py:1334: UndefinedMetricWarning: Precision and F-score are ill-defined and being set to 0.0 in labels with no predicted samples. Use `zero_division` parameter to control this behavior.\n",
            "  _warn_prf(average, modifier, msg_start, len(result))\n",
            "c:\\Users\\user\\AppData\\Local\\Programs\\Python\\Python310\\lib\\site-packages\\sklearn\\metrics\\_classification.py:1334: UndefinedMetricWarning: Precision and F-score are ill-defined and being set to 0.0 in labels with no predicted samples. Use `zero_division` parameter to control this behavior.\n",
            "  _warn_prf(average, modifier, msg_start, len(result))\n"
          ]
        }
      ],
      "source": [
        "print(classification_report(y_train, baseline_bayes.predict(X_train), target_names=encoder.categories_[0]))"
      ]
    },
    {
      "attachments": {},
      "cell_type": "markdown",
      "metadata": {
        "id": "HnrABCPS3-hq"
      },
      "source": [
        "From this classification report I see that the only classes that have been classified are drama and comedy. The reason of that I think is in quantitative nature of naive bayes and so only 2 most frequent classes are present. Next, I'll look at conf matrixes of those 2 classes."
      ]
    },
    {
      "cell_type": "code",
      "execution_count": 44,
      "metadata": {
        "id": "N-NjQz293-hr"
      },
      "outputs": [],
      "source": [
        "conf_matrixes = multilabel_confusion_matrix(y_train, baseline_bayes.predict(X_train))"
      ]
    },
    {
      "cell_type": "code",
      "execution_count": null,
      "metadata": {
        "colab": {
          "base_uri": "https://localhost:8080/",
          "height": 467
        },
        "id": "yuvj0xuK3-hr",
        "outputId": "f1fd4153-7959-4539-b849-c20c6d22e1c7"
      },
      "outputs": [
        {
          "data": {
            "text/plain": [
              "<Axes: >"
            ]
          },
          "execution_count": 72,
          "metadata": {},
          "output_type": "execute_result"
        },
        {
          "data": {
            "image/png": "[encoded data removed]",
            "text/plain": [
              "<Figure size 700x500 with 2 Axes>"
            ]
          },
          "metadata": {},
          "output_type": "display_data"
        }
      ],
      "source": [
        "sns.set(rc={\"figure.figsize\":(7, 5)})\n",
        "sns.heatmap(conf_matrixes[np.where(encoder.categories_[0] == 'drama')[0][0]], annot=True)"
      ]
    },
    {
      "attachments": {},
      "cell_type": "markdown",
      "metadata": {
        "id": "5C5967T63-hs"
      },
      "source": [
        "From confusion matrix I see that for dramas the most common(actially nearly only present) mistake is when not dramas are classified as dramas and so recall of this class is very high but presicion is low."
      ]
    },
    {
      "cell_type": "code",
      "execution_count": null,
      "metadata": {
        "colab": {
          "base_uri": "https://localhost:8080/",
          "height": 467
        },
        "id": "jVakI3z43-hs",
        "outputId": "8b06c375-8fa3-41d5-d25b-0825858b7cab"
      },
      "outputs": [
        {
          "data": {
            "text/plain": [
              "<Axes: >"
            ]
          },
          "execution_count": 73,
          "metadata": {},
          "output_type": "execute_result"
        },
        {
          "data": {
            "image/png": "[encoded data removed]",
            "text/plain": [
              "<Figure size 700x500 with 2 Axes>"
            ]
          },
          "metadata": {},
          "output_type": "display_data"
        }
      ],
      "source": [
        "sns.heatmap(conf_matrixes[np.where(encoder.categories_[0] == 'comedy')[0][0]], annot=True)"
      ]
    },
    {
      "attachments": {},
      "cell_type": "markdown",
      "metadata": {
        "id": "qXy8Aubk3-ht"
      },
      "source": [
        "For comedies the most common mistake is false negative and so precision is higher then recall."
      ]
    },
    {
      "cell_type": "code",
      "execution_count": null,
      "metadata": {
        "id": "LUrzFQ65VKgz"
      },
      "outputs": [],
      "source": [
        "pickle.dump(baseline_bayes, open('models/bayes', 'wb'))"
      ]
    },
    {
      "attachments": {},
      "cell_type": "markdown",
      "metadata": {
        "id": "Ml09mdCP3-ht"
      },
      "source": [
        "## Logistic Regression"
      ]
    },
    {
      "cell_type": "code",
      "execution_count": null,
      "metadata": {
        "colab": {
          "base_uri": "https://localhost:8080/"
        },
        "id": "Ffya91ORerYR",
        "outputId": "2ddef2ce-fac0-4cfe-e025-78e0563bae41"
      },
      "outputs": [
        {
          "name": "stderr",
          "output_type": "stream",
          "text": [
            "/usr/local/lib/python3.10/dist-packages/sklearn/linear_model/_logistic.py:458: ConvergenceWarning: lbfgs failed to converge (status=1):\n",
            "STOP: TOTAL NO. of ITERATIONS REACHED LIMIT.\n",
            "\n",
            "Increase the number of iterations (max_iter) or scale the data as shown in:\n",
            "    https://scikit-learn.org/stable/modules/preprocessing.html\n",
            "Please also refer to the documentation for alternative solver options:\n",
            "    https://scikit-learn.org/stable/modules/linear_model.html#logistic-regression\n",
            "  n_iter_i = _check_optimize_result(\n"
          ]
        },
        {
          "name": "stdout",
          "output_type": "stream",
          "text": [
            "model's train acc score = 0.5457343661827323\n",
            "model's test acc score = 0.3910433979686057\n",
            "model's train f1 score = 0.453790761407548\n",
            "model's test f1 score = 0.30298565098560004\n"
          ]
        }
      ],
      "source": [
        "log_reg = LogisticRegression(random_state=SEED)\n",
        "linear_clf = train_evaluate(log_reg, X_train, X_test, y_train, y_test)"
      ]
    },
    {
      "attachments": {},
      "cell_type": "markdown",
      "metadata": {
        "id": "SZ0jwGnT3-hv"
      },
      "source": [
        "Logistic regression works much better and although it hasn't converged, the results are much better - 53% accuracy on train and 39 on test. perhaps there is sense in setting iterations to higher value"
      ]
    },
    {
      "cell_type": "code",
      "execution_count": null,
      "metadata": {
        "colab": {
          "base_uri": "https://localhost:8080/",
          "height": 303
        },
        "id": "UGisd7T1V4JS",
        "outputId": "26350c9c-320b-48ae-ee52-0437a2ab7ca1"
      },
      "outputs": [
        {
          "name": "stderr",
          "output_type": "stream",
          "text": [
            "/usr/local/lib/python3.10/dist-packages/sklearn/linear_model/_logistic.py:458: ConvergenceWarning: lbfgs failed to converge (status=1):\n",
            "STOP: TOTAL NO. of ITERATIONS REACHED LIMIT.\n",
            "\n",
            "Increase the number of iterations (max_iter) or scale the data as shown in:\n",
            "    https://scikit-learn.org/stable/modules/preprocessing.html\n",
            "Please also refer to the documentation for alternative solver options:\n",
            "    https://scikit-learn.org/stable/modules/linear_model.html#logistic-regression\n",
            "  n_iter_i = _check_optimize_result(\n"
          ]
        },
        {
          "name": "stdout",
          "output_type": "stream",
          "text": [
            "model's train acc score = 0.5460421689837377\n",
            "model's test acc score = 0.3902739304401354\n",
            "model's train f1 score = 0.45389726941492226\n",
            "model's test f1 score = 0.3020652460347582\n"
          ]
        },
        {
          "data": {
            "text/html": [
              "<style>#sk-container-id-1 {color: black;background-color: white;}#sk-container-id-1 pre{padding: 0;}#sk-container-id-1 div.sk-toggleable {background-color: white;}#sk-container-id-1 label.sk-toggleable__label {cursor: pointer;display: block;width: 100%;margin-bottom: 0;padding: 0.3em;box-sizing: border-box;text-align: center;}#sk-container-id-1 label.sk-toggleable__label-arrow:before {content: \"▸\";float: left;margin-right: 0.25em;color: #696969;}#sk-container-id-1 label.sk-toggleable__label-arrow:hover:before {color: black;}#sk-container-id-1 div.sk-estimator:hover label.sk-toggleable__label-arrow:before {color: black;}#sk-container-id-1 div.sk-toggleable__content {max-height: 0;max-width: 0;overflow: hidden;text-align: left;background-color: #f0f8ff;}#sk-container-id-1 div.sk-toggleable__content pre {margin: 0.2em;color: black;border-radius: 0.25em;background-color: #f0f8ff;}#sk-container-id-1 input.sk-toggleable__control:checked~div.sk-toggleable__content {max-height: 200px;max-width: 100%;overflow: auto;}#sk-container-id-1 input.sk-toggleable__control:checked~label.sk-toggleable__label-arrow:before {content: \"▾\";}#sk-container-id-1 div.sk-estimator input.sk-toggleable__control:checked~label.sk-toggleable__label {background-color: #d4ebff;}#sk-container-id-1 div.sk-label input.sk-toggleable__control:checked~label.sk-toggleable__label {background-color: #d4ebff;}#sk-container-id-1 input.sk-hidden--visually {border: 0;clip: rect(1px 1px 1px 1px);clip: rect(1px, 1px, 1px, 1px);height: 1px;margin: -1px;overflow: hidden;padding: 0;position: absolute;width: 1px;}#sk-container-id-1 div.sk-estimator {font-family: monospace;background-color: #f0f8ff;border: 1px dotted black;border-radius: 0.25em;box-sizing: border-box;margin-bottom: 0.5em;}#sk-container-id-1 div.sk-estimator:hover {background-color: #d4ebff;}#sk-container-id-1 div.sk-parallel-item::after {content: \"\";width: 100%;border-bottom: 1px solid gray;flex-grow: 1;}#sk-container-id-1 div.sk-label:hover label.sk-toggleable__label {background-color: #d4ebff;}#sk-container-id-1 div.sk-serial::before {content: \"\";position: absolute;border-left: 1px solid gray;box-sizing: border-box;top: 0;bottom: 0;left: 50%;z-index: 0;}#sk-container-id-1 div.sk-serial {display: flex;flex-direction: column;align-items: center;background-color: white;padding-right: 0.2em;padding-left: 0.2em;position: relative;}#sk-container-id-1 div.sk-item {position: relative;z-index: 1;}#sk-container-id-1 div.sk-parallel {display: flex;align-items: stretch;justify-content: center;background-color: white;position: relative;}#sk-container-id-1 div.sk-item::before, #sk-container-id-1 div.sk-parallel-item::before {content: \"\";position: absolute;border-left: 1px solid gray;box-sizing: border-box;top: 0;bottom: 0;left: 50%;z-index: -1;}#sk-container-id-1 div.sk-parallel-item {display: flex;flex-direction: column;z-index: 1;position: relative;background-color: white;}#sk-container-id-1 div.sk-parallel-item:first-child::after {align-self: flex-end;width: 50%;}#sk-container-id-1 div.sk-parallel-item:last-child::after {align-self: flex-start;width: 50%;}#sk-container-id-1 div.sk-parallel-item:only-child::after {width: 0;}#sk-container-id-1 div.sk-dashed-wrapped {border: 1px dashed gray;margin: 0 0.4em 0.5em 0.4em;box-sizing: border-box;padding-bottom: 0.4em;background-color: white;}#sk-container-id-1 div.sk-label label {font-family: monospace;font-weight: bold;display: inline-block;line-height: 1.2em;}#sk-container-id-1 div.sk-label-container {text-align: center;}#sk-container-id-1 div.sk-container {/* jupyter's `normalize.less` sets `[hidden] { display: none; }` but bootstrap.min.css set `[hidden] { display: none !important; }` so we also need the `!important` here to be able to override the default hidden behavior on the sphinx rendered scikit-learn.org. See: https://github.com/scikit-learn/scikit-learn/issues/21755 */display: inline-block !important;position: relative;}#sk-container-id-1 div.sk-text-repr-fallback {display: none;}</style><div id=\"sk-container-id-1\" class=\"sk-top-container\"><div class=\"sk-text-repr-fallback\"><pre>LogisticRegression(max_iter=150, random_state=12)</pre><b>In a Jupyter environment, please rerun this cell to show the HTML representation or trust the notebook. <br />On GitHub, the HTML representation is unable to render, please try loading this page with nbviewer.org.</b></div><div class=\"sk-container\" hidden><div class=\"sk-item\"><div class=\"sk-estimator sk-toggleable\"><input class=\"sk-toggleable__control sk-hidden--visually\" id=\"sk-estimator-id-1\" type=\"checkbox\" checked><label for=\"sk-estimator-id-1\" class=\"sk-toggleable__label sk-toggleable__label-arrow\">LogisticRegression</label><div class=\"sk-toggleable__content\"><pre>LogisticRegression(max_iter=150, random_state=12)</pre></div></div></div></div></div>"
            ],
            "text/plain": [
              "LogisticRegression(max_iter=150, random_state=12)"
            ]
          },
          "execution_count": 77,
          "metadata": {},
          "output_type": "execute_result"
        }
      ],
      "source": [
        "log_reg_more_iter = LogisticRegression(random_state=SEED, max_iter=150)\n",
        "train_evaluate(log_reg_more_iter, X_train, X_test, y_train, y_test)"
      ]
    },
    {
      "attachments": {},
      "cell_type": "markdown",
      "metadata": {
        "id": "jhz2ink9fXrK"
      },
      "source": [
        "Increasing number of iterations hasn't increased the result so I'll stick to the default one"
      ]
    },
    {
      "cell_type": "code",
      "execution_count": null,
      "metadata": {
        "colab": {
          "base_uri": "https://localhost:8080/"
        },
        "id": "DZtk4cuW3-hv",
        "outputId": "f8ecad74-8a67-49ed-a53b-14aec19c456d"
      },
      "outputs": [
        {
          "name": "stdout",
          "output_type": "stream",
          "text": [
            "                             precision    recall  f1-score   support\n",
            "\n",
            "                       noir       1.00      0.04      0.08       259\n",
            "                     action       0.67      0.61      0.64       841\n",
            "           action adventure       0.00      0.00      0.00        25\n",
            "              action comedy       0.00      0.00      0.00        94\n",
            "               action crime       0.00      0.00      0.00        24\n",
            "         action crime drama       0.00      0.00      0.00        26\n",
            "action crime drama romantic       0.00      0.00      0.00         8\n",
            "               action drama       0.00      0.00      0.00        89\n",
            "             action fantasy       0.00      0.00      0.00        10\n",
            "              action horror       0.00      0.00      0.00         9\n",
            "              action masala       0.00      0.00      0.00        16\n",
            "            action romantic       0.00      0.00      0.00        58\n",
            "              action sci_fi       0.00      0.00      0.00        27\n",
            "            action thriller       0.00      0.00      0.00       110\n",
            "                  adventure       0.78      0.34      0.47       395\n",
            "            adventure drama       0.00      0.00      0.00         8\n",
            "          adventure fantasy       0.00      0.00      0.00         8\n",
            "                  animation       0.77      0.46      0.57       345\n",
            "                 animation        0.00      0.00      0.00        19\n",
            "           animation family       0.00      0.00      0.00        11\n",
            "          animation feature       0.00      0.00      0.00        11\n",
            "            animation short       0.50      0.01      0.03        70\n",
            "                      anime       0.00      0.00      0.00        84\n",
            "               biographical       0.00      0.00      0.00       160\n",
            "         biographical drama       0.00      0.00      0.00        29\n",
            "               black comedy       0.00      0.00      0.00        39\n",
            "                     comedy       0.56      0.90      0.69      3298\n",
            "              comedy action       0.00      0.00      0.00        25\n",
            "               comedy crime       0.00      0.00      0.00        37\n",
            "               comedy drama       1.00      0.00      0.00       417\n",
            "      comedy drama romantic       0.00      0.00      0.00        14\n",
            "              comedy family       0.00      0.00      0.00        28\n",
            "             comedy fantasy       0.00      0.00      0.00        19\n",
            "              comedy horror       0.00      0.00      0.00        34\n",
            "             comedy musical       0.00      0.00      0.00        53\n",
            "             comedy mystery       0.00      0.00      0.00        18\n",
            "            comedy romantic       0.00      0.00      0.00        83\n",
            "              comedy sci_fi       0.00      0.00      0.00         8\n",
            "               comedy short       0.88      0.36      0.51        39\n",
            "              comedy sports       0.00      0.00      0.00         8\n",
            "            comedy thriller       0.00      0.00      0.00        24\n",
            "             comedy western       0.00      0.00      0.00        12\n",
            "              costume drama       0.00      0.00      0.00        12\n",
            "                      crime       0.79      0.28      0.41       426\n",
            "               crime action       0.00      0.00      0.00         8\n",
            "               crime comedy       0.00      0.00      0.00        44\n",
            "                crime drama       0.93      0.14      0.25       374\n",
            "             crime thriller       0.00      0.00      0.00        61\n",
            "                 devotional       0.00      0.00      0.00         9\n",
            "                   disaster       0.00      0.00      0.00         8\n",
            "                  disaster        0.00      0.00      0.00         8\n",
            "                documentary       0.00      0.00      0.00        55\n",
            "          documentary drama       0.00      0.00      0.00        12\n",
            "                      drama       0.44      0.96      0.60      4493\n",
            "               drama action       0.00      0.00      0.00        27\n",
            "            drama adventure       0.00      0.00      0.00        31\n",
            "         drama biographical       0.00      0.00      0.00        35\n",
            "               drama comedy       0.00      0.00      0.00        51\n",
            "                drama crime       0.00      0.00      0.00        52\n",
            "               drama family       0.00      0.00      0.00        31\n",
            "               drama horror       0.00      0.00      0.00        11\n",
            "              drama musical       0.00      0.00      0.00        33\n",
            "              drama mystery       0.00      0.00      0.00        18\n",
            "             drama romantic       0.00      0.00      0.00        99\n",
            "               drama social       0.00      0.00      0.00        10\n",
            "               drama sports       0.00      0.00      0.00        16\n",
            "             drama thriller       0.00      0.00      0.00        37\n",
            "                  drama war       0.00      0.00      0.00        34\n",
            "                       epic       0.00      0.00      0.00         8\n",
            "                     family       0.00      0.00      0.00       163\n",
            "                    family        0.00      0.00      0.00        11\n",
            "               family drama       0.00      0.00      0.00        63\n",
            "             family fantasy       0.00      0.00      0.00        15\n",
            "                    fantasy       0.00      0.00      0.00       153\n",
            "          fantasy adventure       0.00      0.00      0.00         9\n",
            "           fantasy romantic       0.00      0.00      0.00         8\n",
            "           fantasy thriller       0.00      0.00      0.00         9\n",
            "                   folklore       0.00      0.00      0.00        13\n",
            "                 historical       0.00      0.00      0.00        58\n",
            "           historical drama       0.00      0.00      0.00        49\n",
            "                     horror       0.78      0.81      0.80       879\n",
            "              horror comedy       0.00      0.00      0.00        53\n",
            "     horror romantic comedy       0.00      0.00      0.00         8\n",
            "            horror thriller       0.00      0.00      0.00        31\n",
            "                      kaiju       0.00      0.00      0.00        10\n",
            "             literary drama       0.00      0.00      0.00        15\n",
            "               martial arts       0.00      0.00      0.00        34\n",
            "                     masala       0.00      0.00      0.00        12\n",
            "                  melodrama       0.00      0.00      0.00        29\n",
            "               mockumentary       0.00      0.00      0.00        23\n",
            "                    musical       0.89      0.12      0.21       350\n",
            "             musical comedy       0.00      0.00      0.00       129\n",
            "              musical drama       0.00      0.00      0.00        17\n",
            "           musical romantic       0.00      0.00      0.00         8\n",
            "                    mystery       0.89      0.25      0.39       232\n",
            "           mystery thriller       0.00      0.00      0.00        14\n",
            "                  mythology       0.00      0.00      0.00        17\n",
            "               period drama       0.00      0.00      0.00         9\n",
            "            political drama       0.00      0.00      0.00         8\n",
            "         political thriller       0.00      0.00      0.00        15\n",
            "                 propaganda       0.00      0.00      0.00        10\n",
            "     psychological thriller       0.00      0.00      0.00        17\n",
            "                   romantic       0.72      0.40      0.52       705\n",
            "            romantic action       0.00      0.00      0.00        16\n",
            "            romantic comedy       1.00      0.03      0.05       433\n",
            "             romantic drama       1.00      0.01      0.02       191\n",
            "          romantic thriller       0.00      0.00      0.00        30\n",
            "                     sci_fi       0.80      0.71      0.75       491\n",
            "              sci_fi comedy       0.00      0.00      0.00        23\n",
            "              sci_fi horror       0.00      0.00      0.00         8\n",
            "           screwball comedy       0.00      0.00      0.00         8\n",
            "                     serial       0.00      0.00      0.00        53\n",
            "                 sex comedy       0.00      0.00      0.00        10\n",
            "                      short       0.00      0.00      0.00        22\n",
            "              short subject       0.00      0.00      0.00        14\n",
            "                  slapstick       0.00      0.00      0.00         9\n",
            "                    slasher       0.00      0.00      0.00         9\n",
            "                     social       0.00      0.00      0.00        62\n",
            "               social drama       0.00      0.00      0.00        31\n",
            "        social family drama       0.00      0.00      0.00        11\n",
            "                     sports       0.00      0.00      0.00        17\n",
            "              sports comedy       0.00      0.00      0.00         8\n",
            "               sports drama       0.00      0.00      0.00        17\n",
            "                        spy       0.00      0.00      0.00        20\n",
            "                 spy action       0.00      0.00      0.00        15\n",
            "               spy thriller       0.00      0.00      0.00        11\n",
            "                  superhero       0.00      0.00      0.00        36\n",
            "                   suspense       0.00      0.00      0.00        78\n",
            "          suspense thriller       0.00      0.00      0.00        14\n",
            "               swashbuckler       0.00      0.00      0.00         8\n",
            "                   thriller       0.81      0.30      0.43       738\n",
            "             thriller drama       0.00      0.00      0.00        16\n",
            "                  tokusatsu       0.00      0.00      0.00        21\n",
            "                        war       0.71      0.49      0.58       205\n",
            "                 war comedy       0.00      0.00      0.00        11\n",
            "                  war drama       0.00      0.00      0.00        64\n",
            "                    western       0.90      0.87      0.88       649\n",
            "             western comedy       0.00      0.00      0.00        21\n",
            "               world_ii war       0.00      0.00      0.00        52\n",
            "\n",
            "                   accuracy                           0.55     19493\n",
            "                  macro avg       0.12      0.06      0.06     19493\n",
            "               weighted avg       0.53      0.55      0.45     19493\n",
            "\n"
          ]
        },
        {
          "name": "stderr",
          "output_type": "stream",
          "text": [
            "/usr/local/lib/python3.10/dist-packages/sklearn/metrics/_classification.py:1344: UndefinedMetricWarning: Precision and F-score are ill-defined and being set to 0.0 in labels with no predicted samples. Use `zero_division` parameter to control this behavior.\n",
            "  _warn_prf(average, modifier, msg_start, len(result))\n",
            "/usr/local/lib/python3.10/dist-packages/sklearn/metrics/_classification.py:1344: UndefinedMetricWarning: Precision and F-score are ill-defined and being set to 0.0 in labels with no predicted samples. Use `zero_division` parameter to control this behavior.\n",
            "  _warn_prf(average, modifier, msg_start, len(result))\n",
            "/usr/local/lib/python3.10/dist-packages/sklearn/metrics/_classification.py:1344: UndefinedMetricWarning: Precision and F-score are ill-defined and being set to 0.0 in labels with no predicted samples. Use `zero_division` parameter to control this behavior.\n",
            "  _warn_prf(average, modifier, msg_start, len(result))\n"
          ]
        }
      ],
      "source": [
        "print(classification_report(y_train, linear_clf.predict(X_train), target_names=encoder.categories_[0]))"
      ]
    },
    {
      "attachments": {},
      "cell_type": "markdown",
      "metadata": {
        "id": "sRogwS8y3-hv"
      },
      "source": [
        "Logistic regression works much better because much more classes are present - not just 2 as in case of naive bayes although most classes are also not present here - macro f1 score is only 0.06. Interestingly, the best f1 score is not in most common classes, but in rather rare but specific like horror or western. Considering there is a great difference between train and test score, let's check out test report."
      ]
    },
    {
      "cell_type": "code",
      "execution_count": null,
      "metadata": {
        "colab": {
          "base_uri": "https://localhost:8080/"
        },
        "id": "4RhnNt-c3-hw",
        "outputId": "5a9ac029-945c-4d3c-b2c3-38726a980188"
      },
      "outputs": [
        {
          "name": "stdout",
          "output_type": "stream",
          "text": [
            "                             precision    recall  f1-score   support\n",
            "\n",
            "                       noir       0.00      0.00      0.00        86\n",
            "                     action       0.35      0.27      0.30       280\n",
            "           action adventure       0.00      0.00      0.00         9\n",
            "              action comedy       0.00      0.00      0.00        32\n",
            "               action crime       0.00      0.00      0.00         8\n",
            "         action crime drama       0.00      0.00      0.00         9\n",
            "action crime drama romantic       0.00      0.00      0.00         3\n",
            "               action drama       0.00      0.00      0.00        30\n",
            "             action fantasy       0.00      0.00      0.00         3\n",
            "              action horror       0.00      0.00      0.00         3\n",
            "              action masala       0.00      0.00      0.00         5\n",
            "            action romantic       0.00      0.00      0.00        19\n",
            "              action sci_fi       0.00      0.00      0.00         9\n",
            "            action thriller       0.00      0.00      0.00        37\n",
            "                  adventure       0.44      0.13      0.20       132\n",
            "            adventure drama       0.00      0.00      0.00         3\n",
            "          adventure fantasy       0.00      0.00      0.00         2\n",
            "                  animation       0.56      0.27      0.36       115\n",
            "                 animation        0.00      0.00      0.00         6\n",
            "           animation family       0.00      0.00      0.00         3\n",
            "          animation feature       0.00      0.00      0.00         3\n",
            "            animation short       0.00      0.00      0.00        23\n",
            "                      anime       0.00      0.00      0.00        28\n",
            "               biographical       0.00      0.00      0.00        53\n",
            "         biographical drama       0.00      0.00      0.00        10\n",
            "               black comedy       0.00      0.00      0.00        13\n",
            "                     comedy       0.40      0.63      0.49      1100\n",
            "              comedy action       0.00      0.00      0.00         9\n",
            "               comedy crime       0.00      0.00      0.00        12\n",
            "               comedy drama       0.00      0.00      0.00       139\n",
            "      comedy drama romantic       0.00      0.00      0.00         4\n",
            "              comedy family       0.00      0.00      0.00         9\n",
            "             comedy fantasy       0.00      0.00      0.00         6\n",
            "              comedy horror       0.00      0.00      0.00        11\n",
            "             comedy musical       0.00      0.00      0.00        18\n",
            "             comedy mystery       0.00      0.00      0.00         6\n",
            "            comedy romantic       0.00      0.00      0.00        28\n",
            "              comedy sci_fi       0.00      0.00      0.00         2\n",
            "               comedy short       0.00      0.00      0.00        13\n",
            "              comedy sports       0.00      0.00      0.00         3\n",
            "            comedy thriller       0.00      0.00      0.00         8\n",
            "             comedy western       0.00      0.00      0.00         4\n",
            "              costume drama       0.00      0.00      0.00         4\n",
            "                      crime       0.38      0.07      0.12       142\n",
            "               crime action       0.00      0.00      0.00         2\n",
            "               crime comedy       0.00      0.00      0.00        15\n",
            "                crime drama       0.00      0.00      0.00       125\n",
            "             crime thriller       0.00      0.00      0.00        21\n",
            "                 devotional       0.00      0.00      0.00         3\n",
            "                   disaster       0.00      0.00      0.00         2\n",
            "                  disaster        0.00      0.00      0.00         3\n",
            "                documentary       0.00      0.00      0.00        18\n",
            "          documentary drama       0.00      0.00      0.00         4\n",
            "                      drama       0.34      0.83      0.48      1498\n",
            "               drama action       0.00      0.00      0.00         9\n",
            "            drama adventure       0.00      0.00      0.00        10\n",
            "         drama biographical       0.00      0.00      0.00        12\n",
            "               drama comedy       0.00      0.00      0.00        17\n",
            "                drama crime       0.00      0.00      0.00        17\n",
            "               drama family       0.00      0.00      0.00        10\n",
            "               drama horror       0.00      0.00      0.00         4\n",
            "              drama musical       0.00      0.00      0.00        11\n",
            "              drama mystery       0.00      0.00      0.00         6\n",
            "             drama romantic       0.00      0.00      0.00        33\n",
            "               drama social       0.00      0.00      0.00         3\n",
            "               drama sports       0.00      0.00      0.00         6\n",
            "             drama thriller       0.00      0.00      0.00        13\n",
            "                  drama war       0.00      0.00      0.00        12\n",
            "                       epic       0.00      0.00      0.00         2\n",
            "                     family       0.00      0.00      0.00        54\n",
            "                    family        0.00      0.00      0.00         3\n",
            "               family drama       0.00      0.00      0.00        21\n",
            "             family fantasy       0.00      0.00      0.00         5\n",
            "                    fantasy       0.00      0.00      0.00        51\n",
            "          fantasy adventure       0.00      0.00      0.00         3\n",
            "           fantasy romantic       0.00      0.00      0.00         3\n",
            "           fantasy thriller       0.00      0.00      0.00         3\n",
            "                   folklore       0.00      0.00      0.00         4\n",
            "                 historical       0.00      0.00      0.00        19\n",
            "           historical drama       0.00      0.00      0.00        16\n",
            "                     horror       0.60      0.60      0.60       293\n",
            "              horror comedy       0.00      0.00      0.00        18\n",
            "     horror romantic comedy       0.00      0.00      0.00         3\n",
            "            horror thriller       0.00      0.00      0.00        10\n",
            "                      kaiju       0.00      0.00      0.00         3\n",
            "             literary drama       0.00      0.00      0.00         5\n",
            "               martial arts       0.00      0.00      0.00        12\n",
            "                     masala       0.00      0.00      0.00         4\n",
            "                  melodrama       0.00      0.00      0.00        10\n",
            "               mockumentary       0.00      0.00      0.00         8\n",
            "                    musical       0.67      0.02      0.03       117\n",
            "             musical comedy       0.00      0.00      0.00        43\n",
            "              musical drama       0.00      0.00      0.00         6\n",
            "           musical romantic       0.00      0.00      0.00         3\n",
            "                    mystery       0.53      0.10      0.17        78\n",
            "           mystery thriller       0.00      0.00      0.00         4\n",
            "                  mythology       0.00      0.00      0.00         5\n",
            "               period drama       0.00      0.00      0.00         3\n",
            "            political drama       0.00      0.00      0.00         2\n",
            "         political thriller       0.00      0.00      0.00         5\n",
            "                 propaganda       0.00      0.00      0.00         3\n",
            "     psychological thriller       0.00      0.00      0.00         6\n",
            "                   romantic       0.36      0.16      0.22       235\n",
            "            romantic action       0.00      0.00      0.00         5\n",
            "            romantic comedy       0.00      0.00      0.00       144\n",
            "             romantic drama       0.00      0.00      0.00        64\n",
            "          romantic thriller       0.00      0.00      0.00        10\n",
            "                     sci_fi       0.60      0.44      0.51       164\n",
            "              sci_fi comedy       0.00      0.00      0.00         8\n",
            "              sci_fi horror       0.00      0.00      0.00         3\n",
            "           screwball comedy       0.00      0.00      0.00         3\n",
            "                     serial       0.00      0.00      0.00        18\n",
            "                 sex comedy       0.00      0.00      0.00         3\n",
            "                      short       0.00      0.00      0.00         8\n",
            "              short subject       0.00      0.00      0.00         5\n",
            "                  slapstick       0.00      0.00      0.00         3\n",
            "                    slasher       0.00      0.00      0.00         3\n",
            "                     social       0.00      0.00      0.00        21\n",
            "               social drama       0.00      0.00      0.00        11\n",
            "        social family drama       0.00      0.00      0.00         3\n",
            "                     sports       0.00      0.00      0.00         6\n",
            "              sports comedy       0.00      0.00      0.00         3\n",
            "               sports drama       0.00      0.00      0.00         6\n",
            "                        spy       0.00      0.00      0.00         7\n",
            "                 spy action       0.00      0.00      0.00         5\n",
            "               spy thriller       0.00      0.00      0.00         3\n",
            "                  superhero       0.00      0.00      0.00        12\n",
            "                   suspense       0.00      0.00      0.00        26\n",
            "          suspense thriller       0.00      0.00      0.00         4\n",
            "               swashbuckler       0.00      0.00      0.00         2\n",
            "                   thriller       0.27      0.05      0.09       246\n",
            "             thriller drama       0.00      0.00      0.00         6\n",
            "                  tokusatsu       0.00      0.00      0.00         7\n",
            "                        war       0.53      0.25      0.34        68\n",
            "                 war comedy       0.00      0.00      0.00         3\n",
            "                  war drama       0.00      0.00      0.00        21\n",
            "                    western       0.83      0.69      0.76       216\n",
            "             western comedy       0.00      0.00      0.00         7\n",
            "               world_ii war       0.00      0.00      0.00        18\n",
            "\n",
            "                   accuracy                           0.39      6498\n",
            "                  macro avg       0.05      0.03      0.03      6498\n",
            "               weighted avg       0.31      0.39      0.30      6498\n",
            "\n"
          ]
        },
        {
          "name": "stderr",
          "output_type": "stream",
          "text": [
            "/usr/local/lib/python3.10/dist-packages/sklearn/metrics/_classification.py:1344: UndefinedMetricWarning: Precision and F-score are ill-defined and being set to 0.0 in labels with no predicted samples. Use `zero_division` parameter to control this behavior.\n",
            "  _warn_prf(average, modifier, msg_start, len(result))\n",
            "/usr/local/lib/python3.10/dist-packages/sklearn/metrics/_classification.py:1344: UndefinedMetricWarning: Precision and F-score are ill-defined and being set to 0.0 in labels with no predicted samples. Use `zero_division` parameter to control this behavior.\n",
            "  _warn_prf(average, modifier, msg_start, len(result))\n",
            "/usr/local/lib/python3.10/dist-packages/sklearn/metrics/_classification.py:1344: UndefinedMetricWarning: Precision and F-score are ill-defined and being set to 0.0 in labels with no predicted samples. Use `zero_division` parameter to control this behavior.\n",
            "  _warn_prf(average, modifier, msg_start, len(result))\n"
          ]
        }
      ],
      "source": [
        "print(classification_report(y_test, linear_clf.predict(X_test), target_names=encoder.categories_[0]))"
      ]
    },
    {
      "cell_type": "code",
      "execution_count": null,
      "metadata": {
        "colab": {
          "base_uri": "https://localhost:8080/"
        },
        "id": "FRbUOWsy3-hw",
        "outputId": "74c23bc0-c9ca-47c8-c66e-904de6801bbb"
      },
      "outputs": [
        {
          "data": {
            "text/plain": [
              "22"
            ]
          },
          "execution_count": 80,
          "metadata": {},
          "output_type": "execute_result"
        }
      ],
      "source": [
        "len(np.unique(linear_clf.predict(X_train)))"
      ]
    },
    {
      "cell_type": "code",
      "execution_count": null,
      "metadata": {
        "colab": {
          "base_uri": "https://localhost:8080/"
        },
        "id": "kPWPZq8O3-hx",
        "outputId": "c39cb68e-487c-491f-9cec-75bdb1416c30"
      },
      "outputs": [
        {
          "data": {
            "text/plain": [
              "17"
            ]
          },
          "execution_count": 81,
          "metadata": {},
          "output_type": "execute_result"
        }
      ],
      "source": [
        "len(np.unique(linear_clf.predict(X_test)))"
      ]
    },
    {
      "attachments": {},
      "cell_type": "markdown",
      "metadata": {
        "id": "MEgL359X3-hx"
      },
      "source": [
        "Test result are simmilar to tran in terms of precision and recall but worse - the best classified classes are again drama, comedy, horror and western. also there is no big difference in classes presence - in both cases around 15% of classes are present."
      ]
    },
    {
      "attachments": {},
      "cell_type": "markdown",
      "metadata": {
        "id": "RdxcOq6g3-hy"
      },
      "source": [
        "For ensable models, i'll try bagging as it is natively multiclass, I think training boosting in ovr manner will take too much time."
      ]
    },
    {
      "cell_type": "code",
      "execution_count": null,
      "metadata": {
        "id": "TOFG_e9KWiRQ"
      },
      "outputs": [],
      "source": [
        "pickle.dump(linear_clf, open('models/log_reg', 'wb'))"
      ]
    },
    {
      "attachments": {},
      "cell_type": "markdown",
      "metadata": {
        "id": "0LKH1tr43-hy"
      },
      "source": [
        "## Random Forest"
      ]
    },
    {
      "cell_type": "code",
      "execution_count": null,
      "metadata": {
        "colab": {
          "base_uri": "https://localhost:8080/",
          "height": 144
        },
        "id": "UVTY0h-q3-hy",
        "outputId": "02dd7403-382b-4f30-bbdd-95e8b87230b8"
      },
      "outputs": [
        {
          "name": "stdout",
          "output_type": "stream",
          "text": [
            "model's train acc score = 0.9948186528497409\n",
            "model's test acc score = 0.32779316712834716\n",
            "model's train f1 score = 0.9948145723750224\n",
            "model's test f1 score = 0.2347063581707205\n"
          ]
        },
        {
          "data": {
            "text/html": [
              "<style>#sk-container-id-2 {color: black;background-color: white;}#sk-container-id-2 pre{padding: 0;}#sk-container-id-2 div.sk-toggleable {background-color: white;}#sk-container-id-2 label.sk-toggleable__label {cursor: pointer;display: block;width: 100%;margin-bottom: 0;padding: 0.3em;box-sizing: border-box;text-align: center;}#sk-container-id-2 label.sk-toggleable__label-arrow:before {content: \"▸\";float: left;margin-right: 0.25em;color: #696969;}#sk-container-id-2 label.sk-toggleable__label-arrow:hover:before {color: black;}#sk-container-id-2 div.sk-estimator:hover label.sk-toggleable__label-arrow:before {color: black;}#sk-container-id-2 div.sk-toggleable__content {max-height: 0;max-width: 0;overflow: hidden;text-align: left;background-color: #f0f8ff;}#sk-container-id-2 div.sk-toggleable__content pre {margin: 0.2em;color: black;border-radius: 0.25em;background-color: #f0f8ff;}#sk-container-id-2 input.sk-toggleable__control:checked~div.sk-toggleable__content {max-height: 200px;max-width: 100%;overflow: auto;}#sk-container-id-2 input.sk-toggleable__control:checked~label.sk-toggleable__label-arrow:before {content: \"▾\";}#sk-container-id-2 div.sk-estimator input.sk-toggleable__control:checked~label.sk-toggleable__label {background-color: #d4ebff;}#sk-container-id-2 div.sk-label input.sk-toggleable__control:checked~label.sk-toggleable__label {background-color: #d4ebff;}#sk-container-id-2 input.sk-hidden--visually {border: 0;clip: rect(1px 1px 1px 1px);clip: rect(1px, 1px, 1px, 1px);height: 1px;margin: -1px;overflow: hidden;padding: 0;position: absolute;width: 1px;}#sk-container-id-2 div.sk-estimator {font-family: monospace;background-color: #f0f8ff;border: 1px dotted black;border-radius: 0.25em;box-sizing: border-box;margin-bottom: 0.5em;}#sk-container-id-2 div.sk-estimator:hover {background-color: #d4ebff;}#sk-container-id-2 div.sk-parallel-item::after {content: \"\";width: 100%;border-bottom: 1px solid gray;flex-grow: 1;}#sk-container-id-2 div.sk-label:hover label.sk-toggleable__label {background-color: #d4ebff;}#sk-container-id-2 div.sk-serial::before {content: \"\";position: absolute;border-left: 1px solid gray;box-sizing: border-box;top: 0;bottom: 0;left: 50%;z-index: 0;}#sk-container-id-2 div.sk-serial {display: flex;flex-direction: column;align-items: center;background-color: white;padding-right: 0.2em;padding-left: 0.2em;position: relative;}#sk-container-id-2 div.sk-item {position: relative;z-index: 1;}#sk-container-id-2 div.sk-parallel {display: flex;align-items: stretch;justify-content: center;background-color: white;position: relative;}#sk-container-id-2 div.sk-item::before, #sk-container-id-2 div.sk-parallel-item::before {content: \"\";position: absolute;border-left: 1px solid gray;box-sizing: border-box;top: 0;bottom: 0;left: 50%;z-index: -1;}#sk-container-id-2 div.sk-parallel-item {display: flex;flex-direction: column;z-index: 1;position: relative;background-color: white;}#sk-container-id-2 div.sk-parallel-item:first-child::after {align-self: flex-end;width: 50%;}#sk-container-id-2 div.sk-parallel-item:last-child::after {align-self: flex-start;width: 50%;}#sk-container-id-2 div.sk-parallel-item:only-child::after {width: 0;}#sk-container-id-2 div.sk-dashed-wrapped {border: 1px dashed gray;margin: 0 0.4em 0.5em 0.4em;box-sizing: border-box;padding-bottom: 0.4em;background-color: white;}#sk-container-id-2 div.sk-label label {font-family: monospace;font-weight: bold;display: inline-block;line-height: 1.2em;}#sk-container-id-2 div.sk-label-container {text-align: center;}#sk-container-id-2 div.sk-container {/* jupyter's `normalize.less` sets `[hidden] { display: none; }` but bootstrap.min.css set `[hidden] { display: none !important; }` so we also need the `!important` here to be able to override the default hidden behavior on the sphinx rendered scikit-learn.org. See: https://github.com/scikit-learn/scikit-learn/issues/21755 */display: inline-block !important;position: relative;}#sk-container-id-2 div.sk-text-repr-fallback {display: none;}</style><div id=\"sk-container-id-2\" class=\"sk-top-container\"><div class=\"sk-text-repr-fallback\"><pre>RandomForestClassifier(n_jobs=-1, random_state=12)</pre><b>In a Jupyter environment, please rerun this cell to show the HTML representation or trust the notebook. <br />On GitHub, the HTML representation is unable to render, please try loading this page with nbviewer.org.</b></div><div class=\"sk-container\" hidden><div class=\"sk-item\"><div class=\"sk-estimator sk-toggleable\"><input class=\"sk-toggleable__control sk-hidden--visually\" id=\"sk-estimator-id-2\" type=\"checkbox\" checked><label for=\"sk-estimator-id-2\" class=\"sk-toggleable__label sk-toggleable__label-arrow\">RandomForestClassifier</label><div class=\"sk-toggleable__content\"><pre>RandomForestClassifier(n_jobs=-1, random_state=12)</pre></div></div></div></div></div>"
            ],
            "text/plain": [
              "RandomForestClassifier(n_jobs=-1, random_state=12)"
            ]
          },
          "execution_count": 83,
          "metadata": {},
          "output_type": "execute_result"
        }
      ],
      "source": [
        "forest = RandomForestClassifier(n_jobs=-1, random_state=SEED)\n",
        "train_evaluate(forest, X_train, X_test, y_train, y_test)"
      ]
    },
    {
      "attachments": {},
      "cell_type": "markdown",
      "metadata": {
        "id": "pA36pf0Z3-hz"
      },
      "source": [
        "I see there is a lot of overfitting so I'll try to do hyperparameters tuning later on"
      ]
    },
    {
      "cell_type": "code",
      "execution_count": null,
      "metadata": {
        "colab": {
          "base_uri": "https://localhost:8080/"
        },
        "id": "t3esYN9a3-h2",
        "outputId": "dfffd445-9acb-4c7a-81c5-bd9e1e05bac8"
      },
      "outputs": [
        {
          "data": {
            "text/plain": [
              "46"
            ]
          },
          "execution_count": 84,
          "metadata": {},
          "output_type": "execute_result"
        }
      ],
      "source": [
        "len(np.unique(forest.predict(X_test)))"
      ]
    },
    {
      "attachments": {},
      "cell_type": "markdown",
      "metadata": {
        "id": "wEbPyUQJ3-h2"
      },
      "source": [
        "Number of classes is much higher then in case of logistic regression, which is a good sign."
      ]
    },
    {
      "cell_type": "code",
      "execution_count": null,
      "metadata": {
        "colab": {
          "base_uri": "https://localhost:8080/"
        },
        "id": "PxWIiA3k3-h2",
        "outputId": "fe8e558f-eefb-4a2d-c4bc-467f7f55fa26"
      },
      "outputs": [
        {
          "name": "stdout",
          "output_type": "stream",
          "text": [
            "                             precision    recall  f1-score   support\n",
            "\n",
            "                       noir       0.50      0.01      0.02        86\n",
            "                     action       0.44      0.09      0.14       280\n",
            "           action adventure       0.00      0.00      0.00         9\n",
            "              action comedy       0.00      0.00      0.00        32\n",
            "               action crime       0.00      0.00      0.00         8\n",
            "         action crime drama       0.00      0.00      0.00         9\n",
            "action crime drama romantic       0.00      0.00      0.00         3\n",
            "               action drama       0.00      0.00      0.00        30\n",
            "             action fantasy       0.00      0.00      0.00         3\n",
            "              action horror       0.00      0.00      0.00         3\n",
            "              action masala       0.00      0.00      0.00         5\n",
            "            action romantic       0.00      0.00      0.00        19\n",
            "              action sci_fi       1.00      0.22      0.36         9\n",
            "            action thriller       0.00      0.00      0.00        37\n",
            "                  adventure       0.14      0.01      0.01       132\n",
            "            adventure drama       0.00      0.00      0.00         3\n",
            "          adventure fantasy       0.00      0.00      0.00         2\n",
            "                  animation       0.54      0.17      0.25       115\n",
            "                 animation        0.00      0.00      0.00         6\n",
            "           animation family       0.00      0.00      0.00         3\n",
            "          animation feature       0.00      0.00      0.00         3\n",
            "            animation short       0.00      0.00      0.00        23\n",
            "                      anime       1.00      0.04      0.07        28\n",
            "               biographical       1.00      0.02      0.04        53\n",
            "         biographical drama       0.00      0.00      0.00        10\n",
            "               black comedy       0.00      0.00      0.00        13\n",
            "                     comedy       0.36      0.42      0.39      1100\n",
            "              comedy action       0.00      0.00      0.00         9\n",
            "               comedy crime       0.00      0.00      0.00        12\n",
            "               comedy drama       0.00      0.00      0.00       139\n",
            "      comedy drama romantic       0.00      0.00      0.00         4\n",
            "              comedy family       0.00      0.00      0.00         9\n",
            "             comedy fantasy       0.00      0.00      0.00         6\n",
            "              comedy horror       0.00      0.00      0.00        11\n",
            "             comedy musical       0.00      0.00      0.00        18\n",
            "             comedy mystery       0.00      0.00      0.00         6\n",
            "            comedy romantic       0.00      0.00      0.00        28\n",
            "              comedy sci_fi       0.00      0.00      0.00         2\n",
            "               comedy short       0.00      0.00      0.00        13\n",
            "              comedy sports       0.00      0.00      0.00         3\n",
            "            comedy thriller       0.00      0.00      0.00         8\n",
            "             comedy western       0.00      0.00      0.00         4\n",
            "              costume drama       0.00      0.00      0.00         4\n",
            "                      crime       0.21      0.02      0.04       142\n",
            "               crime action       0.00      0.00      0.00         2\n",
            "               crime comedy       0.00      0.00      0.00        15\n",
            "                crime drama       0.50      0.01      0.02       125\n",
            "             crime thriller       0.50      0.05      0.09        21\n",
            "                 devotional       0.00      0.00      0.00         3\n",
            "                   disaster       0.00      0.00      0.00         2\n",
            "                  disaster        0.00      0.00      0.00         3\n",
            "                documentary       0.00      0.00      0.00        18\n",
            "          documentary drama       0.00      0.00      0.00         4\n",
            "                      drama       0.29      0.89      0.43      1498\n",
            "               drama action       0.00      0.00      0.00         9\n",
            "            drama adventure       0.00      0.00      0.00        10\n",
            "         drama biographical       0.00      0.00      0.00        12\n",
            "               drama comedy       0.00      0.00      0.00        17\n",
            "                drama crime       0.00      0.00      0.00        17\n",
            "               drama family       0.00      0.00      0.00        10\n",
            "               drama horror       0.00      0.00      0.00         4\n",
            "              drama musical       0.00      0.00      0.00        11\n",
            "              drama mystery       0.00      0.00      0.00         6\n",
            "             drama romantic       0.00      0.00      0.00        33\n",
            "               drama social       0.00      0.00      0.00         3\n",
            "               drama sports       0.00      0.00      0.00         6\n",
            "             drama thriller       0.50      0.08      0.13        13\n",
            "                  drama war       0.00      0.00      0.00        12\n",
            "                       epic       0.00      0.00      0.00         2\n",
            "                     family       0.00      0.00      0.00        54\n",
            "                    family        0.00      0.00      0.00         3\n",
            "               family drama       0.50      0.05      0.09        21\n",
            "             family fantasy       0.00      0.00      0.00         5\n",
            "                    fantasy       0.25      0.02      0.04        51\n",
            "          fantasy adventure       0.00      0.00      0.00         3\n",
            "           fantasy romantic       0.00      0.00      0.00         3\n",
            "           fantasy thriller       0.00      0.00      0.00         3\n",
            "                   folklore       0.00      0.00      0.00         4\n",
            "                 historical       0.00      0.00      0.00        19\n",
            "           historical drama       0.00      0.00      0.00        16\n",
            "                     horror       0.60      0.35      0.45       293\n",
            "              horror comedy       0.00      0.00      0.00        18\n",
            "     horror romantic comedy       0.00      0.00      0.00         3\n",
            "            horror thriller       0.00      0.00      0.00        10\n",
            "                      kaiju       0.00      0.00      0.00         3\n",
            "             literary drama       0.00      0.00      0.00         5\n",
            "               martial arts       0.00      0.00      0.00        12\n",
            "                     masala       0.00      0.00      0.00         4\n",
            "                  melodrama       0.00      0.00      0.00        10\n",
            "               mockumentary       0.00      0.00      0.00         8\n",
            "                    musical       1.00      0.01      0.02       117\n",
            "             musical comedy       0.00      0.00      0.00        43\n",
            "              musical drama       0.00      0.00      0.00         6\n",
            "           musical romantic       0.00      0.00      0.00         3\n",
            "                    mystery       0.50      0.01      0.03        78\n",
            "           mystery thriller       0.00      0.00      0.00         4\n",
            "                  mythology       0.00      0.00      0.00         5\n",
            "               period drama       0.00      0.00      0.00         3\n",
            "            political drama       0.00      0.00      0.00         2\n",
            "         political thriller       0.00      0.00      0.00         5\n",
            "                 propaganda       0.00      0.00      0.00         3\n",
            "     psychological thriller       0.00      0.00      0.00         6\n",
            "                   romantic       0.14      0.00      0.01       235\n",
            "            romantic action       0.00      0.00      0.00         5\n",
            "            romantic comedy       0.00      0.00      0.00       144\n",
            "             romantic drama       0.00      0.00      0.00        64\n",
            "          romantic thriller       0.00      0.00      0.00        10\n",
            "                     sci_fi       0.59      0.30      0.40       164\n",
            "              sci_fi comedy       0.00      0.00      0.00         8\n",
            "              sci_fi horror       0.00      0.00      0.00         3\n",
            "           screwball comedy       0.00      0.00      0.00         3\n",
            "                     serial       0.00      0.00      0.00        18\n",
            "                 sex comedy       0.00      0.00      0.00         3\n",
            "                      short       0.00      0.00      0.00         8\n",
            "              short subject       0.00      0.00      0.00         5\n",
            "                  slapstick       0.00      0.00      0.00         3\n",
            "                    slasher       0.00      0.00      0.00         3\n",
            "                     social       0.00      0.00      0.00        21\n",
            "               social drama       0.00      0.00      0.00        11\n",
            "        social family drama       0.00      0.00      0.00         3\n",
            "                     sports       0.00      0.00      0.00         6\n",
            "              sports comedy       0.00      0.00      0.00         3\n",
            "               sports drama       0.00      0.00      0.00         6\n",
            "                        spy       0.00      0.00      0.00         7\n",
            "                 spy action       0.00      0.00      0.00         5\n",
            "               spy thriller       0.00      0.00      0.00         3\n",
            "                  superhero       0.00      0.00      0.00        12\n",
            "                   suspense       0.00      0.00      0.00        26\n",
            "          suspense thriller       0.00      0.00      0.00         4\n",
            "               swashbuckler       0.00      0.00      0.00         2\n",
            "                   thriller       0.00      0.00      0.00       246\n",
            "             thriller drama       0.00      0.00      0.00         6\n",
            "                  tokusatsu       0.00      0.00      0.00         7\n",
            "                        war       0.67      0.06      0.11        68\n",
            "                 war comedy       0.00      0.00      0.00         3\n",
            "                  war drama       0.00      0.00      0.00        21\n",
            "                    western       0.87      0.55      0.67       216\n",
            "             western comedy       0.00      0.00      0.00         7\n",
            "               world_ii war       0.00      0.00      0.00        18\n",
            "\n",
            "                   accuracy                           0.33      6498\n",
            "                  macro avg       0.09      0.02      0.03      6498\n",
            "               weighted avg       0.31      0.33      0.23      6498\n",
            "\n"
          ]
        },
        {
          "name": "stderr",
          "output_type": "stream",
          "text": [
            "/usr/local/lib/python3.10/dist-packages/sklearn/metrics/_classification.py:1344: UndefinedMetricWarning: Precision and F-score are ill-defined and being set to 0.0 in labels with no predicted samples. Use `zero_division` parameter to control this behavior.\n",
            "  _warn_prf(average, modifier, msg_start, len(result))\n",
            "/usr/local/lib/python3.10/dist-packages/sklearn/metrics/_classification.py:1344: UndefinedMetricWarning: Precision and F-score are ill-defined and being set to 0.0 in labels with no predicted samples. Use `zero_division` parameter to control this behavior.\n",
            "  _warn_prf(average, modifier, msg_start, len(result))\n",
            "/usr/local/lib/python3.10/dist-packages/sklearn/metrics/_classification.py:1344: UndefinedMetricWarning: Precision and F-score are ill-defined and being set to 0.0 in labels with no predicted samples. Use `zero_division` parameter to control this behavior.\n",
            "  _warn_prf(average, modifier, msg_start, len(result))\n"
          ]
        }
      ],
      "source": [
        "print(classification_report(y_test, forest.predict(X_test), target_names=encoder.categories_[0]))"
      ]
    },
    {
      "attachments": {},
      "cell_type": "markdown",
      "metadata": {
        "id": "TlhxA05k3-h2"
      },
      "source": [
        "There are much more classes presented but in most cases the prediction are not very accurate - only westerns have f1 score higher then 0.5"
      ]
    },
    {
      "attachments": {},
      "cell_type": "markdown",
      "metadata": {
        "id": "aKIzXG6MZ2uE"
      },
      "source": [
        "## Boosting"
      ]
    },
    {
      "cell_type": "code",
      "execution_count": null,
      "metadata": {
        "colab": {
          "base_uri": "https://localhost:8080/",
          "height": 381
        },
        "id": "_eINDbkTZ70-",
        "outputId": "2366cf89-9db2-4ddf-a61e-18b4fcb2621b"
      },
      "outputs": [
        {
          "name": "stdout",
          "output_type": "stream",
          "text": [
            "      Iter       Train Loss   Remaining Time \n",
            "         1           2.9067          677.44m\n",
            "         2       64751.1913          667.46m\n"
          ]
        },
        {
          "ename": "KeyboardInterrupt",
          "evalue": "ignored",
          "output_type": "error",
          "traceback": [
            "\u001b[0;31m---------------------------------------------------------------------------\u001b[0m",
            "\u001b[0;31mKeyboardInterrupt\u001b[0m                         Traceback (most recent call last)",
            "\u001b[0;32m<ipython-input-86-38f298858048>\u001b[0m in \u001b[0;36m<cell line: 2>\u001b[0;34m()\u001b[0m\n\u001b[1;32m      1\u001b[0m \u001b[0mboosting\u001b[0m \u001b[0;34m=\u001b[0m \u001b[0mGradientBoostingClassifier\u001b[0m\u001b[0;34m(\u001b[0m\u001b[0mrandom_state\u001b[0m\u001b[0;34m=\u001b[0m\u001b[0mSEED\u001b[0m\u001b[0;34m,\u001b[0m \u001b[0mverbose\u001b[0m\u001b[0;34m=\u001b[0m\u001b[0;36m1\u001b[0m\u001b[0;34m,\u001b[0m \u001b[0mn_iter_no_change\u001b[0m\u001b[0;34m=\u001b[0m\u001b[0;36m5\u001b[0m\u001b[0;34m)\u001b[0m\u001b[0;34m\u001b[0m\u001b[0;34m\u001b[0m\u001b[0m\n\u001b[0;32m----> 2\u001b[0;31m \u001b[0mtrain_evaluate\u001b[0m\u001b[0;34m(\u001b[0m\u001b[0mboosting\u001b[0m\u001b[0;34m,\u001b[0m \u001b[0mX_train\u001b[0m\u001b[0;34m,\u001b[0m \u001b[0mX_test\u001b[0m\u001b[0;34m,\u001b[0m \u001b[0my_train\u001b[0m\u001b[0;34m,\u001b[0m \u001b[0my_test\u001b[0m\u001b[0;34m)\u001b[0m\u001b[0;34m\u001b[0m\u001b[0;34m\u001b[0m\u001b[0m\n\u001b[0m",
            "\u001b[0;32m<ipython-input-73-e8cf201dc7a6>\u001b[0m in \u001b[0;36mtrain_evaluate\u001b[0;34m(model, X_train, X_test, y_train, y_test)\u001b[0m\n\u001b[1;32m      1\u001b[0m \u001b[0;32mdef\u001b[0m \u001b[0mtrain_evaluate\u001b[0m\u001b[0;34m(\u001b[0m\u001b[0mmodel\u001b[0m\u001b[0;34m,\u001b[0m \u001b[0mX_train\u001b[0m\u001b[0;34m,\u001b[0m \u001b[0mX_test\u001b[0m\u001b[0;34m,\u001b[0m \u001b[0my_train\u001b[0m\u001b[0;34m,\u001b[0m \u001b[0my_test\u001b[0m\u001b[0;34m)\u001b[0m\u001b[0;34m:\u001b[0m\u001b[0;34m\u001b[0m\u001b[0;34m\u001b[0m\u001b[0m\n\u001b[0;32m----> 2\u001b[0;31m     \u001b[0mmodel\u001b[0m\u001b[0;34m.\u001b[0m\u001b[0mfit\u001b[0m\u001b[0;34m(\u001b[0m\u001b[0mX_train\u001b[0m\u001b[0;34m,\u001b[0m \u001b[0my_train\u001b[0m\u001b[0;34m)\u001b[0m\u001b[0;34m\u001b[0m\u001b[0;34m\u001b[0m\u001b[0m\n\u001b[0m\u001b[1;32m      3\u001b[0m     \u001b[0mprint\u001b[0m\u001b[0;34m(\u001b[0m\u001b[0;34mf\"model's train acc score = {model.score(X_train, y_train)}\"\u001b[0m\u001b[0;34m)\u001b[0m\u001b[0;34m\u001b[0m\u001b[0;34m\u001b[0m\u001b[0m\n\u001b[1;32m      4\u001b[0m     \u001b[0mprint\u001b[0m\u001b[0;34m(\u001b[0m\u001b[0;34mf\"model's test acc score = {model.score(X_test, y_test)}\"\u001b[0m\u001b[0;34m)\u001b[0m\u001b[0;34m\u001b[0m\u001b[0;34m\u001b[0m\u001b[0m\n\u001b[1;32m      5\u001b[0m     \u001b[0mprint\u001b[0m\u001b[0;34m(\u001b[0m\u001b[0;34mf\"model's train f1 score = {f1_score(y_train, model.predict(X_train), average='weighted')}\"\u001b[0m\u001b[0;34m)\u001b[0m\u001b[0;34m\u001b[0m\u001b[0;34m\u001b[0m\u001b[0m\n",
            "\u001b[0;32m/usr/local/lib/python3.10/dist-packages/sklearn/ensemble/_gb.py\u001b[0m in \u001b[0;36mfit\u001b[0;34m(self, X, y, sample_weight, monitor)\u001b[0m\n\u001b[1;32m    536\u001b[0m \u001b[0;34m\u001b[0m\u001b[0m\n\u001b[1;32m    537\u001b[0m         \u001b[0;31m# fit the boosting stages\u001b[0m\u001b[0;34m\u001b[0m\u001b[0;34m\u001b[0m\u001b[0m\n\u001b[0;32m--> 538\u001b[0;31m         n_stages = self._fit_stages(\n\u001b[0m\u001b[1;32m    539\u001b[0m             \u001b[0mX\u001b[0m\u001b[0;34m,\u001b[0m\u001b[0;34m\u001b[0m\u001b[0;34m\u001b[0m\u001b[0m\n\u001b[1;32m    540\u001b[0m             \u001b[0my\u001b[0m\u001b[0;34m,\u001b[0m\u001b[0;34m\u001b[0m\u001b[0;34m\u001b[0m\u001b[0m\n",
            "\u001b[0;32m/usr/local/lib/python3.10/dist-packages/sklearn/ensemble/_gb.py\u001b[0m in \u001b[0;36m_fit_stages\u001b[0;34m(self, X, y, raw_predictions, sample_weight, random_state, X_val, y_val, sample_weight_val, begin_at_stage, monitor)\u001b[0m\n\u001b[1;32m    613\u001b[0m \u001b[0;34m\u001b[0m\u001b[0m\n\u001b[1;32m    614\u001b[0m             \u001b[0;31m# fit next stage of trees\u001b[0m\u001b[0;34m\u001b[0m\u001b[0;34m\u001b[0m\u001b[0m\n\u001b[0;32m--> 615\u001b[0;31m             raw_predictions = self._fit_stage(\n\u001b[0m\u001b[1;32m    616\u001b[0m                 \u001b[0mi\u001b[0m\u001b[0;34m,\u001b[0m\u001b[0;34m\u001b[0m\u001b[0;34m\u001b[0m\u001b[0m\n\u001b[1;32m    617\u001b[0m                 \u001b[0mX\u001b[0m\u001b[0;34m,\u001b[0m\u001b[0;34m\u001b[0m\u001b[0;34m\u001b[0m\u001b[0m\n",
            "\u001b[0;32m/usr/local/lib/python3.10/dist-packages/sklearn/ensemble/_gb.py\u001b[0m in \u001b[0;36m_fit_stage\u001b[0;34m(self, i, X, y, raw_predictions, sample_weight, sample_mask, random_state, X_csc, X_csr)\u001b[0m\n\u001b[1;32m    255\u001b[0m \u001b[0;34m\u001b[0m\u001b[0m\n\u001b[1;32m    256\u001b[0m             \u001b[0mX\u001b[0m \u001b[0;34m=\u001b[0m \u001b[0mX_csr\u001b[0m \u001b[0;32mif\u001b[0m \u001b[0mX_csr\u001b[0m \u001b[0;32mis\u001b[0m \u001b[0;32mnot\u001b[0m \u001b[0;32mNone\u001b[0m \u001b[0;32melse\u001b[0m \u001b[0mX\u001b[0m\u001b[0;34m\u001b[0m\u001b[0;34m\u001b[0m\u001b[0m\n\u001b[0;32m--> 257\u001b[0;31m             \u001b[0mtree\u001b[0m\u001b[0;34m.\u001b[0m\u001b[0mfit\u001b[0m\u001b[0;34m(\u001b[0m\u001b[0mX\u001b[0m\u001b[0;34m,\u001b[0m \u001b[0mresidual\u001b[0m\u001b[0;34m,\u001b[0m \u001b[0msample_weight\u001b[0m\u001b[0;34m=\u001b[0m\u001b[0msample_weight\u001b[0m\u001b[0;34m,\u001b[0m \u001b[0mcheck_input\u001b[0m\u001b[0;34m=\u001b[0m\u001b[0;32mFalse\u001b[0m\u001b[0;34m)\u001b[0m\u001b[0;34m\u001b[0m\u001b[0;34m\u001b[0m\u001b[0m\n\u001b[0m\u001b[1;32m    258\u001b[0m \u001b[0;34m\u001b[0m\u001b[0m\n\u001b[1;32m    259\u001b[0m             \u001b[0;31m# update tree leaves\u001b[0m\u001b[0;34m\u001b[0m\u001b[0;34m\u001b[0m\u001b[0m\n",
            "\u001b[0;32m/usr/local/lib/python3.10/dist-packages/sklearn/tree/_classes.py\u001b[0m in \u001b[0;36mfit\u001b[0;34m(self, X, y, sample_weight, check_input)\u001b[0m\n\u001b[1;32m   1245\u001b[0m         \"\"\"\n\u001b[1;32m   1246\u001b[0m \u001b[0;34m\u001b[0m\u001b[0m\n\u001b[0;32m-> 1247\u001b[0;31m         super().fit(\n\u001b[0m\u001b[1;32m   1248\u001b[0m             \u001b[0mX\u001b[0m\u001b[0;34m,\u001b[0m\u001b[0;34m\u001b[0m\u001b[0;34m\u001b[0m\u001b[0m\n\u001b[1;32m   1249\u001b[0m             \u001b[0my\u001b[0m\u001b[0;34m,\u001b[0m\u001b[0;34m\u001b[0m\u001b[0;34m\u001b[0m\u001b[0m\n",
            "\u001b[0;32m/usr/local/lib/python3.10/dist-packages/sklearn/tree/_classes.py\u001b[0m in \u001b[0;36mfit\u001b[0;34m(self, X, y, sample_weight, check_input)\u001b[0m\n\u001b[1;32m    377\u001b[0m             )\n\u001b[1;32m    378\u001b[0m \u001b[0;34m\u001b[0m\u001b[0m\n\u001b[0;32m--> 379\u001b[0;31m         \u001b[0mbuilder\u001b[0m\u001b[0;34m.\u001b[0m\u001b[0mbuild\u001b[0m\u001b[0;34m(\u001b[0m\u001b[0mself\u001b[0m\u001b[0;34m.\u001b[0m\u001b[0mtree_\u001b[0m\u001b[0;34m,\u001b[0m \u001b[0mX\u001b[0m\u001b[0;34m,\u001b[0m \u001b[0my\u001b[0m\u001b[0;34m,\u001b[0m \u001b[0msample_weight\u001b[0m\u001b[0;34m)\u001b[0m\u001b[0;34m\u001b[0m\u001b[0;34m\u001b[0m\u001b[0m\n\u001b[0m\u001b[1;32m    380\u001b[0m \u001b[0;34m\u001b[0m\u001b[0m\n\u001b[1;32m    381\u001b[0m         \u001b[0;32mif\u001b[0m \u001b[0mself\u001b[0m\u001b[0;34m.\u001b[0m\u001b[0mn_outputs_\u001b[0m \u001b[0;34m==\u001b[0m \u001b[0;36m1\u001b[0m \u001b[0;32mand\u001b[0m \u001b[0mis_classifier\u001b[0m\u001b[0;34m(\u001b[0m\u001b[0mself\u001b[0m\u001b[0;34m)\u001b[0m\u001b[0;34m:\u001b[0m\u001b[0;34m\u001b[0m\u001b[0;34m\u001b[0m\u001b[0m\n",
            "\u001b[0;31mKeyboardInterrupt\u001b[0m: "
          ]
        }
      ],
      "source": [
        "boosting = GradientBoostingClassifier(random_state=SEED, verbose=1, n_iter_no_change=5)\n",
        "train_evaluate(boosting, X_train, X_test, y_train, y_test)"
      ]
    },
    {
      "attachments": {},
      "cell_type": "markdown",
      "metadata": {
        "id": "8j6uRDaQkIXn"
      },
      "source": [
        "Evaluated time is very big so I won't try boosting algorithms."
      ]
    },
    {
      "attachments": {},
      "cell_type": "markdown",
      "metadata": {
        "id": "yXjhbBAIpbQ7"
      },
      "source": [
        "# Hyperparameters tuning"
      ]
    },
    {
      "attachments": {},
      "cell_type": "markdown",
      "metadata": {
        "id": "0Y_JnHFxBOAf"
      },
      "source": [
        "### optuna"
      ]
    },
    {
      "cell_type": "code",
      "execution_count": null,
      "metadata": {
        "colab": {
          "base_uri": "https://localhost:8080/"
        },
        "id": "5YtccKmxpuar",
        "outputId": "5fe02574-3159-4cd5-f3ed-6851b6c31ed8"
      },
      "outputs": [
        {
          "name": "stdout",
          "output_type": "stream",
          "text": [
            "Collecting optuna\n",
            "  Downloading optuna-3.2.0-py3-none-any.whl (390 kB)\n",
            "\u001b[2K     \u001b[90m━━━━━━━━━━━━━━━━━━━━━━━━━━━━━━━━━━━━━━━\u001b[0m \u001b[32m390.6/390.6 kB\u001b[0m \u001b[31m5.4 MB/s\u001b[0m eta \u001b[36m0:00:00\u001b[0m\n",
            "\u001b[?25hCollecting alembic>=1.5.0 (from optuna)\n",
            "  Downloading alembic-1.11.1-py3-none-any.whl (224 kB)\n",
            "\u001b[2K     \u001b[90m━━━━━━━━━━━━━━━━━━━━━━━━━━━━━━━━━━━━━━\u001b[0m \u001b[32m224.5/224.5 kB\u001b[0m \u001b[31m10.1 MB/s\u001b[0m eta \u001b[36m0:00:00\u001b[0m\n",
            "\u001b[?25hCollecting cmaes>=0.9.1 (from optuna)\n",
            "  Downloading cmaes-0.10.0-py3-none-any.whl (29 kB)\n",
            "Collecting colorlog (from optuna)\n",
            "  Downloading colorlog-6.7.0-py2.py3-none-any.whl (11 kB)\n",
            "Requirement already satisfied: numpy in /usr/local/lib/python3.10/dist-packages (from optuna) (1.22.4)\n",
            "Requirement already satisfied: packaging>=20.0 in /usr/local/lib/python3.10/dist-packages (from optuna) (23.1)\n",
            "Requirement already satisfied: sqlalchemy>=1.3.0 in /usr/local/lib/python3.10/dist-packages (from optuna) (2.0.18)\n",
            "Requirement already satisfied: tqdm in /usr/local/lib/python3.10/dist-packages (from optuna) (4.65.0)\n",
            "Requirement already satisfied: PyYAML in /usr/local/lib/python3.10/dist-packages (from optuna) (6.0)\n",
            "Collecting Mako (from alembic>=1.5.0->optuna)\n",
            "  Downloading Mako-1.2.4-py3-none-any.whl (78 kB)\n",
            "\u001b[2K     \u001b[90m━━━━━━━━━━━━━━━━━━━━━━━━━━━━━━━━━━━━━━━━\u001b[0m \u001b[32m78.7/78.7 kB\u001b[0m \u001b[31m8.5 MB/s\u001b[0m eta \u001b[36m0:00:00\u001b[0m\n",
            "\u001b[?25hRequirement already satisfied: typing-extensions>=4 in /usr/local/lib/python3.10/dist-packages (from alembic>=1.5.0->optuna) (4.7.1)\n",
            "Requirement already satisfied: greenlet!=0.4.17 in /usr/local/lib/python3.10/dist-packages (from sqlalchemy>=1.3.0->optuna) (2.0.2)\n",
            "Requirement already satisfied: MarkupSafe>=0.9.2 in /usr/local/lib/python3.10/dist-packages (from Mako->alembic>=1.5.0->optuna) (2.1.3)\n",
            "Installing collected packages: Mako, colorlog, cmaes, alembic, optuna\n",
            "Successfully installed Mako-1.2.4 alembic-1.11.1 cmaes-0.10.0 colorlog-6.7.0 optuna-3.2.0\n"
          ]
        }
      ],
      "source": [
        "! pip install optuna"
      ]
    },
    {
      "cell_type": "code",
      "execution_count": 16,
      "metadata": {
        "id": "gKz4H7VFpudh"
      },
      "outputs": [],
      "source": [
        "import optuna\n",
        "from sklearn.model_selection import cross_val_score"
      ]
    },
    {
      "cell_type": "code",
      "execution_count": 19,
      "metadata": {},
      "outputs": [],
      "source": [
        "def objective_log_reg(trial):\n",
        "    params = {'C': trial.suggest_float('C', 0, 5)}\n",
        "    clf = LogisticRegression(random_state=SEED, **params)\n",
        "    score = cross_val_score(clf, X_train, y_train, scoring='f1_weighted', cv=3, n_jobs=1).mean()\n",
        "    return score\n",
        "\n",
        "\n",
        "def objective_forest(trial):\n",
        "    params = {'max_depth': trial.suggest_int('max_depth', 16, 256, 16),\n",
        "              'min_samples_split': trial.suggest_float('min_samples_split', 0.00001, 0.01)\n",
        "              }\n",
        "    clf = RandomForestClassifier(random_state=SEED, n_jobs=-1, **params)\n",
        "    score = cross_val_score(clf, X_train, y_train, scoring='f1_weighted', cv=3).mean()\n",
        "    return score"
      ]
    },
    {
      "attachments": {},
      "cell_type": "markdown",
      "metadata": {
        "id": "zAhnYZGlmcdx"
      },
      "source": [
        "I was unable to use optuna for log_reg as I don't have enough ram, for it I'll use random search."
      ]
    },
    {
      "cell_type": "code",
      "execution_count": null,
      "metadata": {},
      "outputs": [
        {
          "name": "stderr",
          "output_type": "stream",
          "text": [
            "[I 2023-07-19 17:09:49,613] A new study created in memory with name: no-name-d20c8bd4-ea75-4b82-af31-938bd4429db2\n"
          ]
        },
        {
          "data": {
            "application/vnd.jupyter.widget-view+json": {
              "model_id": "7c2afa1ea4fb491798b914ec193c433c",
              "version_major": 2,
              "version_minor": 0
            },
            "text/plain": [
              "  0%|          | 0/20 [00:00<?, ?it/s]"
            ]
          },
          "metadata": {},
          "output_type": "display_data"
        },
        {
          "name": "stdout",
          "output_type": "stream",
          "text": [
            "[I 2023-07-19 17:11:38,761] Trial 0 finished with value: 0.21395661888315778 and parameters: {'max_depth': 176, 'min_samples_split': 0.008677416685524346}. Best is trial 0 with value: 0.21395661888315778.\n",
            "[I 2023-07-19 17:13:46,730] Trial 1 finished with value: 0.22148923710664636 and parameters: {'max_depth': 112, 'min_samples_split': 0.0030177882757179237}. Best is trial 1 with value: 0.22148923710664636.\n",
            "[I 2023-07-19 17:14:14,442] Trial 2 finished with value: 0.11409340166564734 and parameters: {'max_depth': 16, 'min_samples_split': 0.004038484125666778}. Best is trial 1 with value: 0.22148923710664636.\n",
            "[I 2023-07-19 17:17:54,221] Trial 3 finished with value: 0.22883734196954988 and parameters: {'max_depth': 128, 'min_samples_split': 0.00034520067828141366}. Best is trial 3 with value: 0.22883734196954988.\n",
            "[I 2023-07-19 17:20:02,035] Trial 4 finished with value: 0.22195563128903273 and parameters: {'max_depth': 128, 'min_samples_split': 0.003729470251905469}. Best is trial 3 with value: 0.22883734196954988.\n",
            "[I 2023-07-19 17:21:40,802] Trial 5 finished with value: 0.21254357656375092 and parameters: {'max_depth': 64, 'min_samples_split': 0.0025847544427992854}. Best is trial 3 with value: 0.22883734196954988.\n",
            "[I 2023-07-19 17:23:37,405] Trial 6 finished with value: 0.218227147837164 and parameters: {'max_depth': 160, 'min_samples_split': 0.0064289527614468595}. Best is trial 3 with value: 0.22883734196954988.\n",
            "[I 2023-07-19 17:26:10,956] Trial 7 finished with value: 0.2291844590738963 and parameters: {'max_depth': 208, 'min_samples_split': 0.002326118033152595}. Best is trial 7 with value: 0.2291844590738963.\n",
            "[I 2023-07-19 17:26:39,186] Trial 8 finished with value: 0.11500450411152428 and parameters: {'max_depth': 16, 'min_samples_split': 0.0029279910870919908}. Best is trial 7 with value: 0.2291844590738963.\n",
            "[I 2023-07-19 17:28:46,765] Trial 9 finished with value: 0.22239782347498804 and parameters: {'max_depth': 112, 'min_samples_split': 0.003252701701666956}. Best is trial 7 with value: 0.2291844590738963.\n",
            "[I 2023-07-19 17:35:53,592] Trial 10 finished with value: 0.2309137838541527 and parameters: {'max_depth': 256, 'min_samples_split': 3.479187767121538e-05}. Best is trial 10 with value: 0.2309137838541527.\n",
            "[I 2023-07-19 17:39:36,183] Trial 11 finished with value: 0.23061724876396003 and parameters: {'max_depth': 256, 'min_samples_split': 0.0005332923019226732}. Best is trial 10 with value: 0.2309137838541527.\n",
            "[I 2023-07-19 17:43:39,597] Trial 12 finished with value: 0.23121114518405186 and parameters: {'max_depth': 256, 'min_samples_split': 0.00033675618734788776}. Best is trial 12 with value: 0.23121114518405186.\n",
            "[I 2023-07-19 17:50:41,104] Trial 13 finished with value: 0.2309137838541527 and parameters: {'max_depth': 256, 'min_samples_split': 1.2445653612564649e-05}. Best is trial 12 with value: 0.23121114518405186.\n",
            "[I 2023-07-19 17:53:39,233] Trial 14 finished with value: 0.23004127423604018 and parameters: {'max_depth': 224, 'min_samples_split': 0.0013773993594267983}. Best is trial 12 with value: 0.23121114518405186.\n",
            "[I 2023-07-19 17:56:25,590] Trial 15 finished with value: 0.2269398378422706 and parameters: {'max_depth': 208, 'min_samples_split': 0.0015111402532051535}. Best is trial 12 with value: 0.23121114518405186.\n",
            "[I 2023-07-19 17:59:21,389] Trial 16 finished with value: 0.22852739130491187 and parameters: {'max_depth': 240, 'min_samples_split': 0.0015317373465292866}. Best is trial 12 with value: 0.23121114518405186.\n",
            "[I 2023-07-19 18:01:24,493] Trial 17 finished with value: 0.21840261477589262 and parameters: {'max_depth': 176, 'min_samples_split': 0.005543588618934611}. Best is trial 12 with value: 0.23121114518405186.\n",
            "[I 2023-07-19 18:04:23,986] Trial 18 finished with value: 0.22925494349364503 and parameters: {'max_depth': 192, 'min_samples_split': 0.0011408489975344922}. Best is trial 12 with value: 0.23121114518405186.\n",
            "[I 2023-07-19 18:09:06,485] Trial 19 finished with value: 0.23157935165270435 and parameters: {'max_depth': 224, 'min_samples_split': 0.0001873931461362329}. Best is trial 19 with value: 0.23157935165270435.\n",
            "Best f1 score: 0.23157935165270435\n",
            "Best Params: {'max_depth': 224, 'min_samples_split': 0.0001873931461362329}\n"
          ]
        }
      ],
      "source": [
        "forest_study = tune_hyperparams_optuna(objective_forest, 20, 'f1')"
      ]
    },
    {
      "cell_type": "code",
      "execution_count": null,
      "metadata": {
        "colab": {
          "base_uri": "https://localhost:8080/"
        },
        "id": "8IvdkUSOGzC1",
        "outputId": "ff33f543-85d3-4232-c7ef-f9c847b2e0d6"
      },
      "outputs": [
        {
          "name": "stdout",
          "output_type": "stream",
          "text": [
            "model's train acc score = 0.9903042117683271\n",
            "model's test acc score = 0.32717759310557093\n",
            "model's train f1 score = 0.9902755119264223\n",
            "model's test f1 score = 0.23255098755208825\n"
          ]
        }
      ],
      "source": [
        "forest_tuned = train_evaluate(RandomForestClassifier(random_state=SEED, n_jobs=-1, **forest_study.best_params),\n",
        "                              X_train, X_test, y_train, y_test)"
      ]
    },
    {
      "attachments": {},
      "cell_type": "markdown",
      "metadata": {
        "id": "zs7S2xnSvW01"
      },
      "source": [
        "Hyperparameters tuning has not given significant improvement for random forest."
      ]
    },
    {
      "attachments": {},
      "cell_type": "markdown",
      "metadata": {
        "id": "pdeYgTf7BP5Q"
      },
      "source": [
        "### rand search for log_reg"
      ]
    },
    {
      "cell_type": "code",
      "execution_count": null,
      "metadata": {
        "id": "bt-5VTFQCGHW"
      },
      "outputs": [],
      "source": [
        "from sklearn.model_selection import RandomizedSearchCV"
      ]
    },
    {
      "cell_type": "code",
      "execution_count": null,
      "metadata": {
        "id": "WpIuTBfPETMq"
      },
      "outputs": [],
      "source": [
        "from scipy.stats import norm"
      ]
    },
    {
      "cell_type": "code",
      "execution_count": null,
      "metadata": {
        "colab": {
          "base_uri": "https://localhost:8080/"
        },
        "id": "GDGsadKcBSDM",
        "outputId": "283590c9-9761-40c5-8a1a-54e86370e182"
      },
      "outputs": [
        {
          "name": "stdout",
          "output_type": "stream",
          "text": [
            "Fitting 3 folds for each of 10 candidates, totalling 30 fits\n"
          ]
        },
        {
          "name": "stderr",
          "output_type": "stream",
          "text": [
            "/usr/local/lib/python3.10/dist-packages/sklearn/linear_model/_logistic.py:458: ConvergenceWarning: lbfgs failed to converge (status=1):\n",
            "STOP: TOTAL NO. of ITERATIONS REACHED LIMIT.\n",
            "\n",
            "Increase the number of iterations (max_iter) or scale the data as shown in:\n",
            "    https://scikit-learn.org/stable/modules/preprocessing.html\n",
            "Please also refer to the documentation for alternative solver options:\n",
            "    https://scikit-learn.org/stable/modules/linear_model.html#logistic-regression\n",
            "  n_iter_i = _check_optimize_result(\n"
          ]
        },
        {
          "name": "stdout",
          "output_type": "stream",
          "text": [
            "[CV] END ................................C=1.472985831489979; total time= 8.6min\n"
          ]
        },
        {
          "name": "stderr",
          "output_type": "stream",
          "text": [
            "/usr/local/lib/python3.10/dist-packages/sklearn/linear_model/_logistic.py:458: ConvergenceWarning: lbfgs failed to converge (status=1):\n",
            "STOP: TOTAL NO. of ITERATIONS REACHED LIMIT.\n",
            "\n",
            "Increase the number of iterations (max_iter) or scale the data as shown in:\n",
            "    https://scikit-learn.org/stable/modules/preprocessing.html\n",
            "Please also refer to the documentation for alternative solver options:\n",
            "    https://scikit-learn.org/stable/modules/linear_model.html#logistic-regression\n",
            "  n_iter_i = _check_optimize_result(\n"
          ]
        },
        {
          "name": "stdout",
          "output_type": "stream",
          "text": [
            "[CV] END ................................C=1.472985831489979; total time= 7.4min\n"
          ]
        },
        {
          "name": "stderr",
          "output_type": "stream",
          "text": [
            "/usr/local/lib/python3.10/dist-packages/sklearn/linear_model/_logistic.py:458: ConvergenceWarning: lbfgs failed to converge (status=1):\n",
            "STOP: TOTAL NO. of ITERATIONS REACHED LIMIT.\n",
            "\n",
            "Increase the number of iterations (max_iter) or scale the data as shown in:\n",
            "    https://scikit-learn.org/stable/modules/preprocessing.html\n",
            "Please also refer to the documentation for alternative solver options:\n",
            "    https://scikit-learn.org/stable/modules/linear_model.html#logistic-regression\n",
            "  n_iter_i = _check_optimize_result(\n"
          ]
        },
        {
          "name": "stdout",
          "output_type": "stream",
          "text": [
            "[CV] END ................................C=1.472985831489979; total time= 7.1min\n",
            "[CV] END ...............................C=0.3185741205605549; total time= 6.1min\n",
            "[CV] END ...............................C=0.3185741205605549; total time= 6.2min\n",
            "[CV] END ...............................C=0.3185741205605549; total time= 5.9min\n"
          ]
        },
        {
          "name": "stderr",
          "output_type": "stream",
          "text": [
            "/usr/local/lib/python3.10/dist-packages/sklearn/linear_model/_logistic.py:458: ConvergenceWarning: lbfgs failed to converge (status=1):\n",
            "STOP: TOTAL NO. of ITERATIONS REACHED LIMIT.\n",
            "\n",
            "Increase the number of iterations (max_iter) or scale the data as shown in:\n",
            "    https://scikit-learn.org/stable/modules/preprocessing.html\n",
            "Please also refer to the documentation for alternative solver options:\n",
            "    https://scikit-learn.org/stable/modules/linear_model.html#logistic-regression\n",
            "  n_iter_i = _check_optimize_result(\n"
          ]
        },
        {
          "name": "stdout",
          "output_type": "stream",
          "text": [
            "[CV] END ................................C=1.242439496690478; total time= 7.0min\n"
          ]
        },
        {
          "name": "stderr",
          "output_type": "stream",
          "text": [
            "/usr/local/lib/python3.10/dist-packages/sklearn/linear_model/_logistic.py:458: ConvergenceWarning: lbfgs failed to converge (status=1):\n",
            "STOP: TOTAL NO. of ITERATIONS REACHED LIMIT.\n",
            "\n",
            "Increase the number of iterations (max_iter) or scale the data as shown in:\n",
            "    https://scikit-learn.org/stable/modules/preprocessing.html\n",
            "Please also refer to the documentation for alternative solver options:\n",
            "    https://scikit-learn.org/stable/modules/linear_model.html#logistic-regression\n",
            "  n_iter_i = _check_optimize_result(\n"
          ]
        },
        {
          "name": "stdout",
          "output_type": "stream",
          "text": [
            "[CV] END ................................C=1.242439496690478; total time= 7.0min\n"
          ]
        },
        {
          "name": "stderr",
          "output_type": "stream",
          "text": [
            "/usr/local/lib/python3.10/dist-packages/sklearn/linear_model/_logistic.py:458: ConvergenceWarning: lbfgs failed to converge (status=1):\n",
            "STOP: TOTAL NO. of ITERATIONS REACHED LIMIT.\n",
            "\n",
            "Increase the number of iterations (max_iter) or scale the data as shown in:\n",
            "    https://scikit-learn.org/stable/modules/preprocessing.html\n",
            "Please also refer to the documentation for alternative solver options:\n",
            "    https://scikit-learn.org/stable/modules/linear_model.html#logistic-regression\n",
            "  n_iter_i = _check_optimize_result(\n"
          ]
        },
        {
          "name": "stdout",
          "output_type": "stream",
          "text": [
            "[CV] END ................................C=1.242439496690478; total time= 7.1min\n",
            "[CV] END ..............................C=-0.7007356340383315; total time=   0.0s\n",
            "[CV] END ..............................C=-0.7007356340383315; total time=   0.0s\n",
            "[CV] END ..............................C=-0.7007356340383315; total time=   0.0s\n"
          ]
        },
        {
          "name": "stderr",
          "output_type": "stream",
          "text": [
            "/usr/local/lib/python3.10/dist-packages/sklearn/linear_model/_logistic.py:458: ConvergenceWarning: lbfgs failed to converge (status=1):\n",
            "STOP: TOTAL NO. of ITERATIONS REACHED LIMIT.\n",
            "\n",
            "Increase the number of iterations (max_iter) or scale the data as shown in:\n",
            "    https://scikit-learn.org/stable/modules/preprocessing.html\n",
            "Please also refer to the documentation for alternative solver options:\n",
            "    https://scikit-learn.org/stable/modules/linear_model.html#logistic-regression\n",
            "  n_iter_i = _check_optimize_result(\n"
          ]
        },
        {
          "name": "stdout",
          "output_type": "stream",
          "text": [
            "[CV] END ...............................C=1.7531428339492003; total time= 6.9min\n"
          ]
        },
        {
          "name": "stderr",
          "output_type": "stream",
          "text": [
            "/usr/local/lib/python3.10/dist-packages/sklearn/linear_model/_logistic.py:458: ConvergenceWarning: lbfgs failed to converge (status=1):\n",
            "STOP: TOTAL NO. of ITERATIONS REACHED LIMIT.\n",
            "\n",
            "Increase the number of iterations (max_iter) or scale the data as shown in:\n",
            "    https://scikit-learn.org/stable/modules/preprocessing.html\n",
            "Please also refer to the documentation for alternative solver options:\n",
            "    https://scikit-learn.org/stable/modules/linear_model.html#logistic-regression\n",
            "  n_iter_i = _check_optimize_result(\n"
          ]
        },
        {
          "name": "stdout",
          "output_type": "stream",
          "text": [
            "[CV] END ...............................C=1.7531428339492003; total time= 7.1min\n"
          ]
        },
        {
          "name": "stderr",
          "output_type": "stream",
          "text": [
            "/usr/local/lib/python3.10/dist-packages/sklearn/linear_model/_logistic.py:458: ConvergenceWarning: lbfgs failed to converge (status=1):\n",
            "STOP: TOTAL NO. of ITERATIONS REACHED LIMIT.\n",
            "\n",
            "Increase the number of iterations (max_iter) or scale the data as shown in:\n",
            "    https://scikit-learn.org/stable/modules/preprocessing.html\n",
            "Please also refer to the documentation for alternative solver options:\n",
            "    https://scikit-learn.org/stable/modules/linear_model.html#logistic-regression\n",
            "  n_iter_i = _check_optimize_result(\n"
          ]
        },
        {
          "name": "stdout",
          "output_type": "stream",
          "text": [
            "[CV] END ...............................C=1.7531428339492003; total time= 7.0min\n",
            "[CV] END ...............................C=-0.534721340208044; total time=   0.0s\n",
            "[CV] END ...............................C=-0.534721340208044; total time=   0.0s\n",
            "[CV] END ...............................C=-0.534721340208044; total time=   0.0s\n"
          ]
        },
        {
          "name": "stderr",
          "output_type": "stream",
          "text": [
            "/usr/local/lib/python3.10/dist-packages/sklearn/linear_model/_logistic.py:458: ConvergenceWarning: lbfgs failed to converge (status=1):\n",
            "STOP: TOTAL NO. of ITERATIONS REACHED LIMIT.\n",
            "\n",
            "Increase the number of iterations (max_iter) or scale the data as shown in:\n",
            "    https://scikit-learn.org/stable/modules/preprocessing.html\n",
            "Please also refer to the documentation for alternative solver options:\n",
            "    https://scikit-learn.org/stable/modules/linear_model.html#logistic-regression\n",
            "  n_iter_i = _check_optimize_result(\n"
          ]
        },
        {
          "name": "stdout",
          "output_type": "stream",
          "text": [
            "[CV] END ...............................C=1.0051270781322723; total time= 6.9min\n"
          ]
        },
        {
          "name": "stderr",
          "output_type": "stream",
          "text": [
            "/usr/local/lib/python3.10/dist-packages/sklearn/linear_model/_logistic.py:458: ConvergenceWarning: lbfgs failed to converge (status=1):\n",
            "STOP: TOTAL NO. of ITERATIONS REACHED LIMIT.\n",
            "\n",
            "Increase the number of iterations (max_iter) or scale the data as shown in:\n",
            "    https://scikit-learn.org/stable/modules/preprocessing.html\n",
            "Please also refer to the documentation for alternative solver options:\n",
            "    https://scikit-learn.org/stable/modules/linear_model.html#logistic-regression\n",
            "  n_iter_i = _check_optimize_result(\n"
          ]
        },
        {
          "name": "stdout",
          "output_type": "stream",
          "text": [
            "[CV] END ...............................C=1.0051270781322723; total time= 6.9min\n"
          ]
        },
        {
          "name": "stderr",
          "output_type": "stream",
          "text": [
            "/usr/local/lib/python3.10/dist-packages/sklearn/linear_model/_logistic.py:458: ConvergenceWarning: lbfgs failed to converge (status=1):\n",
            "STOP: TOTAL NO. of ITERATIONS REACHED LIMIT.\n",
            "\n",
            "Increase the number of iterations (max_iter) or scale the data as shown in:\n",
            "    https://scikit-learn.org/stable/modules/preprocessing.html\n",
            "Please also refer to the documentation for alternative solver options:\n",
            "    https://scikit-learn.org/stable/modules/linear_model.html#logistic-regression\n",
            "  n_iter_i = _check_optimize_result(\n"
          ]
        },
        {
          "name": "stdout",
          "output_type": "stream",
          "text": [
            "[CV] END ...............................C=1.0051270781322723; total time= 7.1min\n"
          ]
        },
        {
          "name": "stderr",
          "output_type": "stream",
          "text": [
            "/usr/local/lib/python3.10/dist-packages/sklearn/linear_model/_logistic.py:458: ConvergenceWarning: lbfgs failed to converge (status=1):\n",
            "STOP: TOTAL NO. of ITERATIONS REACHED LIMIT.\n",
            "\n",
            "Increase the number of iterations (max_iter) or scale the data as shown in:\n",
            "    https://scikit-learn.org/stable/modules/preprocessing.html\n",
            "Please also refer to the documentation for alternative solver options:\n",
            "    https://scikit-learn.org/stable/modules/linear_model.html#logistic-regression\n",
            "  n_iter_i = _check_optimize_result(\n"
          ]
        },
        {
          "name": "stdout",
          "output_type": "stream",
          "text": [
            "[CV] END ...............................C=0.8797723298438087; total time= 7.1min\n"
          ]
        },
        {
          "name": "stderr",
          "output_type": "stream",
          "text": [
            "/usr/local/lib/python3.10/dist-packages/sklearn/linear_model/_logistic.py:458: ConvergenceWarning: lbfgs failed to converge (status=1):\n",
            "STOP: TOTAL NO. of ITERATIONS REACHED LIMIT.\n",
            "\n",
            "Increase the number of iterations (max_iter) or scale the data as shown in:\n",
            "    https://scikit-learn.org/stable/modules/preprocessing.html\n",
            "Please also refer to the documentation for alternative solver options:\n",
            "    https://scikit-learn.org/stable/modules/linear_model.html#logistic-regression\n",
            "  n_iter_i = _check_optimize_result(\n"
          ]
        },
        {
          "name": "stdout",
          "output_type": "stream",
          "text": [
            "[CV] END ...............................C=0.8797723298438087; total time= 7.0min\n"
          ]
        },
        {
          "name": "stderr",
          "output_type": "stream",
          "text": [
            "/usr/local/lib/python3.10/dist-packages/sklearn/linear_model/_logistic.py:458: ConvergenceWarning: lbfgs failed to converge (status=1):\n",
            "STOP: TOTAL NO. of ITERATIONS REACHED LIMIT.\n",
            "\n",
            "Increase the number of iterations (max_iter) or scale the data as shown in:\n",
            "    https://scikit-learn.org/stable/modules/preprocessing.html\n",
            "Please also refer to the documentation for alternative solver options:\n",
            "    https://scikit-learn.org/stable/modules/linear_model.html#logistic-regression\n",
            "  n_iter_i = _check_optimize_result(\n"
          ]
        },
        {
          "name": "stdout",
          "output_type": "stream",
          "text": [
            "[CV] END ...............................C=0.8797723298438087; total time= 7.1min\n",
            "[CV] END ..............................C=0.19301812142704866; total time= 5.0min\n",
            "[CV] END ..............................C=0.19301812142704866; total time= 5.1min\n",
            "[CV] END ..............................C=0.19301812142704866; total time= 5.0min\n"
          ]
        },
        {
          "name": "stderr",
          "output_type": "stream",
          "text": [
            "/usr/local/lib/python3.10/dist-packages/sklearn/linear_model/_logistic.py:458: ConvergenceWarning: lbfgs failed to converge (status=1):\n",
            "STOP: TOTAL NO. of ITERATIONS REACHED LIMIT.\n",
            "\n",
            "Increase the number of iterations (max_iter) or scale the data as shown in:\n",
            "    https://scikit-learn.org/stable/modules/preprocessing.html\n",
            "Please also refer to the documentation for alternative solver options:\n",
            "    https://scikit-learn.org/stable/modules/linear_model.html#logistic-regression\n",
            "  n_iter_i = _check_optimize_result(\n"
          ]
        },
        {
          "name": "stdout",
          "output_type": "stream",
          "text": [
            "[CV] END ...............................C=3.8718193949889166; total time= 7.0min\n"
          ]
        },
        {
          "name": "stderr",
          "output_type": "stream",
          "text": [
            "/usr/local/lib/python3.10/dist-packages/sklearn/linear_model/_logistic.py:458: ConvergenceWarning: lbfgs failed to converge (status=1):\n",
            "STOP: TOTAL NO. of ITERATIONS REACHED LIMIT.\n",
            "\n",
            "Increase the number of iterations (max_iter) or scale the data as shown in:\n",
            "    https://scikit-learn.org/stable/modules/preprocessing.html\n",
            "Please also refer to the documentation for alternative solver options:\n",
            "    https://scikit-learn.org/stable/modules/linear_model.html#logistic-regression\n",
            "  n_iter_i = _check_optimize_result(\n"
          ]
        },
        {
          "name": "stdout",
          "output_type": "stream",
          "text": [
            "[CV] END ...............................C=3.8718193949889166; total time= 7.1min\n"
          ]
        },
        {
          "name": "stderr",
          "output_type": "stream",
          "text": [
            "/usr/local/lib/python3.10/dist-packages/sklearn/linear_model/_logistic.py:458: ConvergenceWarning: lbfgs failed to converge (status=1):\n",
            "STOP: TOTAL NO. of ITERATIONS REACHED LIMIT.\n",
            "\n",
            "Increase the number of iterations (max_iter) or scale the data as shown in:\n",
            "    https://scikit-learn.org/stable/modules/preprocessing.html\n",
            "Please also refer to the documentation for alternative solver options:\n",
            "    https://scikit-learn.org/stable/modules/linear_model.html#logistic-regression\n",
            "  n_iter_i = _check_optimize_result(\n"
          ]
        },
        {
          "name": "stdout",
          "output_type": "stream",
          "text": [
            "[CV] END ...............................C=3.8718193949889166; total time= 7.0min\n"
          ]
        },
        {
          "name": "stderr",
          "output_type": "stream",
          "text": [
            "/usr/local/lib/python3.10/dist-packages/sklearn/model_selection/_validation.py:378: FitFailedWarning: \n",
            "6 fits failed out of a total of 30.\n",
            "The score on these train-test partitions for these parameters will be set to nan.\n",
            "If these failures are not expected, you can try to debug them by setting error_score='raise'.\n",
            "\n",
            "Below are more details about the failures:\n",
            "--------------------------------------------------------------------------------\n",
            "3 fits failed with the following error:\n",
            "Traceback (most recent call last):\n",
            "  File \"/usr/local/lib/python3.10/dist-packages/sklearn/model_selection/_validation.py\", line 686, in _fit_and_score\n",
            "    estimator.fit(X_train, y_train, **fit_params)\n",
            "  File \"/usr/local/lib/python3.10/dist-packages/sklearn/linear_model/_logistic.py\", line 1160, in fit\n",
            "    self._validate_params()\n",
            "  File \"/usr/local/lib/python3.10/dist-packages/sklearn/base.py\", line 600, in _validate_params\n",
            "    validate_parameter_constraints(\n",
            "  File \"/usr/local/lib/python3.10/dist-packages/sklearn/utils/_param_validation.py\", line 97, in validate_parameter_constraints\n",
            "    raise InvalidParameterError(\n",
            "sklearn.utils._param_validation.InvalidParameterError: The 'C' parameter of LogisticRegression must be a float in the range (0, inf]. Got -0.7007356340383315 instead.\n",
            "\n",
            "--------------------------------------------------------------------------------\n",
            "3 fits failed with the following error:\n",
            "Traceback (most recent call last):\n",
            "  File \"/usr/local/lib/python3.10/dist-packages/sklearn/model_selection/_validation.py\", line 686, in _fit_and_score\n",
            "    estimator.fit(X_train, y_train, **fit_params)\n",
            "  File \"/usr/local/lib/python3.10/dist-packages/sklearn/linear_model/_logistic.py\", line 1160, in fit\n",
            "    self._validate_params()\n",
            "  File \"/usr/local/lib/python3.10/dist-packages/sklearn/base.py\", line 600, in _validate_params\n",
            "    validate_parameter_constraints(\n",
            "  File \"/usr/local/lib/python3.10/dist-packages/sklearn/utils/_param_validation.py\", line 97, in validate_parameter_constraints\n",
            "    raise InvalidParameterError(\n",
            "sklearn.utils._param_validation.InvalidParameterError: The 'C' parameter of LogisticRegression must be a float in the range (0, inf]. Got -0.534721340208044 instead.\n",
            "\n",
            "  warnings.warn(some_fits_failed_message, FitFailedWarning)\n",
            "/usr/local/lib/python3.10/dist-packages/sklearn/model_selection/_search.py:952: UserWarning: One or more of the test scores are non-finite: [0.29533851 0.1994213  0.28838207        nan 0.3016984         nan\n",
            " 0.27527061 0.2671781  0.16894711 0.3258939 ]\n",
            "  warnings.warn(\n",
            "/usr/local/lib/python3.10/dist-packages/sklearn/linear_model/_logistic.py:458: ConvergenceWarning: lbfgs failed to converge (status=1):\n",
            "STOP: TOTAL NO. of ITERATIONS REACHED LIMIT.\n",
            "\n",
            "Increase the number of iterations (max_iter) or scale the data as shown in:\n",
            "    https://scikit-learn.org/stable/modules/preprocessing.html\n",
            "Please also refer to the documentation for alternative solver options:\n",
            "    https://scikit-learn.org/stable/modules/linear_model.html#logistic-regression\n",
            "  n_iter_i = _check_optimize_result(\n"
          ]
        },
        {
          "name": "stdout",
          "output_type": "stream",
          "text": [
            "Best hyperparameters: {'C': 3.8718193949889166}\n",
            "Best f1 score: 0.3258939024998495\n"
          ]
        }
      ],
      "source": [
        "params_dict = {\n",
        "    'C': norm(loc=1, scale=1)  # Sampling 100 values uniformly from 0 to 10\n",
        "}\n",
        "\n",
        "tuned_log_reg = tune_hyperparams_rand(LogisticRegression(random_state=SEED), params_dict, X_train, y_train)"
      ]
    },
    {
      "cell_type": "code",
      "execution_count": null,
      "metadata": {
        "id": "r3Tl__TtGn0R"
      },
      "outputs": [],
      "source": [
        "pickle.dump(tuned_log_reg, open('models/tuned_log_reg', 'wb'))"
      ]
    },
    {
      "cell_type": "code",
      "execution_count": null,
      "metadata": {
        "colab": {
          "base_uri": "https://localhost:8080/"
        },
        "id": "WFNHxUIo7yVp",
        "outputId": "77a3aadb-1f98-4b6e-cee2-780b42db0bcb"
      },
      "outputs": [
        {
          "data": {
            "text/plain": [
              "0.8408146514133279"
            ]
          },
          "execution_count": 71,
          "metadata": {},
          "output_type": "execute_result"
        }
      ],
      "source": [
        "tuned_log_reg.score(X_train, y_train)"
      ]
    },
    {
      "cell_type": "code",
      "execution_count": null,
      "metadata": {
        "colab": {
          "base_uri": "https://localhost:8080/"
        },
        "id": "a0sZtEyi71vK",
        "outputId": "98b59782-b76b-4118-b8ba-44239f57417a"
      },
      "outputs": [
        {
          "data": {
            "text/plain": [
              "0.41089566020313945"
            ]
          },
          "execution_count": 72,
          "metadata": {},
          "output_type": "execute_result"
        }
      ],
      "source": [
        "tuned_log_reg.score(X_test, y_test)"
      ]
    },
    {
      "attachments": {},
      "cell_type": "markdown",
      "metadata": {
        "id": "wk8BEnBT3-h3"
      },
      "source": [
        "# Conclusions"
      ]
    },
    {
      "attachments": {},
      "cell_type": "markdown",
      "metadata": {
        "id": "9UBwds8R3-h4"
      },
      "source": [
        "All in all, classification problem in multiclass variant appears to quite hard as there is a big overlap between classes and many classes are not presented enough to make accurate predictions. The best model is logistic regression with it's test accuracy = 0.41 and weighted f1 score = 0.325 after hyperparameters tuning."
      ]
    }
  ],
  "metadata": {
    "colab": {
      "provenance": []
    },
    "kernelspec": {
      "display_name": "Python 3",
      "name": "python3"
    },
    "language_info": {
      "codemirror_mode": {
        "name": "ipython",
        "version": 3
      },
      "file_extension": ".py",
      "mimetype": "text/x-python",
      "name": "python",
      "nbconvert_exporter": "python",
      "pygments_lexer": "ipython3",
      "version": "3.10.5"
    }
  },
  "nbformat": 4,
  "nbformat_minor": 0
}
