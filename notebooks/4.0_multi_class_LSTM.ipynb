{
  "cells": [
    {
      "cell_type": "markdown",
      "metadata": {
        "id": "HOieD2Gp3-h5"
      },
      "source": [
        "# Imports"
      ]
    },
    {
      "cell_type": "code",
      "execution_count": 1,
      "metadata": {
        "id": "jjs0jLWF6qFl"
      },
      "outputs": [],
      "source": [
        "import numpy as np # linear algebra\n",
        "import pandas as pd # data processing, CSV file I/O (e.g. pd.read_csv)\n",
        "import seaborn as sns\n",
        "import matplotlib.pyplot as plt\n",
        "from sklearn.preprocessing import OrdinalEncoder\n",
        "import os\n",
        "import random\n",
        "import torch\n",
        "from torchmetrics import Accuracy\n",
        "from torch.utils.tensorboard import SummaryWriter"
      ]
    },
    {
      "cell_type": "code",
      "execution_count": 2,
      "metadata": {
        "id": "SW0lhCz56qFn"
      },
      "outputs": [],
      "source": [
        "from gensim.models import Word2Vec, FastText\n",
        "import gensim.downloader as api\n",
        "from sklearn.metrics import classification_report\n",
        "import bokeh.models as bm, bokeh.plotting as pl\n"
      ]
    },
    {
      "cell_type": "code",
      "execution_count": 3,
      "metadata": {
        "id": "CgsJGfBl6qFp"
      },
      "outputs": [],
      "source": [
        "from dotenv import load_dotenv\n",
        "import os\n",
        "load_dotenv()\n",
        "SEED=int(os.getenv('SEED'))"
      ]
    },
    {
      "cell_type": "code",
      "execution_count": 4,
      "metadata": {
        "id": "4JDKlWrV6qFq"
      },
      "outputs": [],
      "source": [
        "device = torch.device('cuda' if torch.cuda.is_available() else 'cpu')\n",
        "\n",
        "def seed_everything(seed):\n",
        "    os.environ[\"PYTHONHASHSEED\"] = str(seed)\n",
        "    torch.manual_seed(seed)\n",
        "    np.random.seed(seed)\n",
        "    random.seed(seed)\n",
        "    torch.cuda.manual_seed_all(seed)\n",
        "    torch.backends.cudnn.deterministic = True\n",
        "    torch.backends.cudnn.benchmark = False\n",
        "\n",
        "seed_everything(SEED)"
      ]
    },
    {
      "cell_type": "code",
      "execution_count": 5,
      "metadata": {
        "id": "YwE_lEAc6qFr"
      },
      "outputs": [],
      "source": [
        "import sys\n",
        "sys.path.append('..')"
      ]
    },
    {
      "cell_type": "code",
      "execution_count": 6,
      "metadata": {
        "id": "Ic5fBGKt6qFs"
      },
      "outputs": [],
      "source": [
        "from src.data.nn_utils import *\n",
        "from src.models.eval_nn_utils import evaluate_model, get_np_targets\n",
        "from src.visualization.visualize import draw_vectors, get_tsne_projection\n",
        "from src.models.train_predict import *"
      ]
    },
    {
      "cell_type": "markdown",
      "metadata": {
        "id": "2ivK1jKZXv6o"
      },
      "source": [
        "# Data Processing"
      ]
    },
    {
      "cell_type": "code",
      "execution_count": null,
      "metadata": {
        "id": "qq2bO8x7CHtg"
      },
      "outputs": [],
      "source": [
        "df_filtered_nn = pd.read_csv('../data/processed/data_processed_no_lemming')"
      ]
    },
    {
      "cell_type": "code",
      "execution_count": null,
      "metadata": {
        "id": "_KSLXE--3-h7"
      },
      "outputs": [],
      "source": [
        "df_filtered_nn = df_filtered_nn.reset_index()"
      ]
    },
    {
      "cell_type": "code",
      "execution_count": null,
      "metadata": {
        "id": "pYV9ztOgehBf"
      },
      "outputs": [],
      "source": [
        "df_filtered_nn['Plot']=df_filtered_nn['Plot'].apply(lambda x: ' '.join(x))"
      ]
    },
    {
      "cell_type": "markdown",
      "metadata": {
        "id": "INZwZf7qMU9i"
      },
      "source": [
        "Creating custom dataset and splitting the data."
      ]
    },
    {
      "cell_type": "code",
      "execution_count": null,
      "metadata": {
        "id": "yu9r74snZxIw"
      },
      "outputs": [],
      "source": [
        "dataset = MoviePLotsDataset(df_filtered_nn.Plot, df_filtered_nn.Genre)"
      ]
    },
    {
      "cell_type": "code",
      "execution_count": null,
      "metadata": {
        "id": "RXgW6_p_YeaJ"
      },
      "outputs": [],
      "source": [
        "generator = torch.Generator().manual_seed(SEED)\n",
        "train_subset, val_subset, test_subset = random_split(dataset, [0.75, 0.125, 0.125], generator=generator)"
      ]
    },
    {
      "cell_type": "markdown",
      "metadata": {
        "id": "49LrboeSMN50"
      },
      "source": [
        "## Creating vocabulary"
      ]
    },
    {
      "cell_type": "code",
      "execution_count": null,
      "metadata": {
        "id": "DOx764AQJoHZ"
      },
      "outputs": [],
      "source": [
        "tokenizer = get_tokenizer('basic_english')\n",
        "\n",
        "vocab = get_vocab(train_subset, tokenizer)"
      ]
    },
    {
      "cell_type": "markdown",
      "metadata": {
        "id": "m_hMOlxzNE3i"
      },
      "source": [
        "# Bucket dataloader utils"
      ]
    },
    {
      "cell_type": "code",
      "execution_count": null,
      "metadata": {
        "id": "ueV7Ky-fjmNK"
      },
      "outputs": [],
      "source": [
        "encoder = OrdinalEncoder()\n",
        "encoder.fit(df_filtered_nn['Genre'].to_numpy().reshape(-1, 1));"
      ]
    },
    {
      "cell_type": "code",
      "execution_count": null,
      "metadata": {
        "id": "gbioyJj6JoOr"
      },
      "outputs": [],
      "source": [
        "\n",
        "text_transform = lambda text: vocab(tokenizer(text))\n",
        "label_transform = lambda label: encoder.transform(np.array(label).reshape(-1, 1))[0][0]\n",
        "\n",
        "def collate_batch(batch):\n",
        "    label_list, text_list = [], []\n",
        "    for (_label, _text) in batch:\n",
        "        #print(_label)\n",
        "        label_list.append(label_transform(_label))\n",
        "        processed_text = torch.tensor(text_transform(_text))\n",
        "        text_list.append(processed_text)\n",
        "    return pad_sequence(text_list, padding_value=1.0), torch.tensor(label_list, dtype=torch.long)"
      ]
    },
    {
      "cell_type": "code",
      "execution_count": null,
      "metadata": {
        "id": "K5e2QZFnQRMy"
      },
      "outputs": [],
      "source": [
        "bucket_dataloader = DataLoader(train_subset,\n",
        "                               batch_sampler=BatchSamplerSimilarLength(\n",
        "                                     dataset=train_subset,\n",
        "                                     batch_size=16),\n",
        "                               collate_fn=collate_batch)"
      ]
    },
    {
      "cell_type": "code",
      "execution_count": null,
      "metadata": {
        "id": "60OP2hG_3-iB"
      },
      "outputs": [],
      "source": [
        "texts = [tokenizer(text) for text in df_filtered_nn.Plot]\n",
        "word2vec_emb = Word2Vec(texts,\n",
        "                 vector_size=32,      # embedding vector size\n",
        "                 min_count=5,  # consider words that occured at least 4 times\n",
        "                 window=5,\n",
        "                 workers=2).wv"
      ]
    },
    {
      "cell_type": "code",
      "execution_count": null,
      "metadata": {
        "colab": {
          "base_uri": "https://localhost:8080/"
        },
        "id": "obC4xq1HtD3d",
        "outputId": "57f06525-7e6f-44e0-92ec-0b20c8596b51"
      },
      "outputs": [
        {
          "data": {
            "text/plain": [
              "array([-0.00574573,  0.6876102 , -1.4397521 , -0.7084056 , -1.1946324 ,\n",
              "        0.34313405,  1.9234267 , -1.2126812 , -0.9450241 ,  2.4132478 ,\n",
              "       -0.63826317,  1.5583279 , -1.6262739 ,  0.345427  , -1.8287905 ,\n",
              "       -0.20957346, -0.83093745,  1.2358985 , -5.191705  ,  2.2568421 ,\n",
              "        2.256946  , -0.00996144,  0.97180945,  1.853633  ,  1.9129637 ,\n",
              "       -2.4262538 , -0.38523382, -1.98292   ,  0.2716784 , -3.7975988 ,\n",
              "       -2.5451398 , -0.6977667 ], dtype=float32)"
            ]
          },
          "execution_count": 56,
          "metadata": {},
          "output_type": "execute_result"
        }
      ],
      "source": [
        "word2vec_emb['happy']"
      ]
    },
    {
      "cell_type": "code",
      "execution_count": null,
      "metadata": {
        "colab": {
          "base_uri": "https://localhost:8080/",
          "height": 472
        },
        "id": "_buheXDopodA",
        "outputId": "18291fce-3f48-4bae-ea0e-ee9250ad0306"
      },
      "outputs": [
        {
          "data": {
            "application/javascript": "(function(root) {\n  function now() {\n    return new Date();\n  }\n\n  const force = true;\n\n  if (typeof root._bokeh_onload_callbacks === \"undefined\" || force === true) {\n    root._bokeh_onload_callbacks = [];\n    root._bokeh_is_loading = undefined;\n  }\n\nconst JS_MIME_TYPE = 'application/javascript';\n  const HTML_MIME_TYPE = 'text/html';\n  const EXEC_MIME_TYPE = 'application/vnd.bokehjs_exec.v0+json';\n  const CLASS_NAME = 'output_bokeh rendered_html';\n\n  /**\n   * Render data to the DOM node\n   */\n  function render(props, node) {\n    const script = document.createElement(\"script\");\n    node.appendChild(script);\n  }\n\n  /**\n   * Handle when an output is cleared or removed\n   */\n  function handleClearOutput(event, handle) {\n    const cell = handle.cell;\n\n    const id = cell.output_area._bokeh_element_id;\n    const server_id = cell.output_area._bokeh_server_id;\n    // Clean up Bokeh references\n    if (id != null && id in Bokeh.index) {\n      Bokeh.index[id].model.document.clear();\n      delete Bokeh.index[id];\n    }\n\n    if (server_id !== undefined) {\n      // Clean up Bokeh references\n      const cmd_clean = \"from bokeh.io.state import curstate; print(curstate().uuid_to_server['\" + server_id + \"'].get_sessions()[0].document.roots[0]._id)\";\n      cell.notebook.kernel.execute(cmd_clean, {\n        iopub: {\n          output: function(msg) {\n            const id = msg.content.text.trim();\n            if (id in Bokeh.index) {\n              Bokeh.index[id].model.document.clear();\n              delete Bokeh.index[id];\n            }\n          }\n        }\n      });\n      // Destroy server and session\n      const cmd_destroy = \"import bokeh.io.notebook as ion; ion.destroy_server('\" + server_id + \"')\";\n      cell.notebook.kernel.execute(cmd_destroy);\n    }\n  }\n\n  /**\n   * Handle when a new output is added\n   */\n  function handleAddOutput(event, handle) {\n    const output_area = handle.output_area;\n    const output = handle.output;\n\n    // limit handleAddOutput to display_data with EXEC_MIME_TYPE content only\n    if ((output.output_type != \"display_data\") || (!Object.prototype.hasOwnProperty.call(output.data, EXEC_MIME_TYPE))) {\n      return\n    }\n\n    const toinsert = output_area.element.find(\".\" + CLASS_NAME.split(' ')[0]);\n\n    if (output.metadata[EXEC_MIME_TYPE][\"id\"] !== undefined) {\n      toinsert[toinsert.length - 1].firstChild.textContent = output.data[JS_MIME_TYPE];\n      // store reference to embed id on output_area\n      output_area._bokeh_element_id = output.metadata[EXEC_MIME_TYPE][\"id\"];\n    }\n    if (output.metadata[EXEC_MIME_TYPE][\"server_id\"] !== undefined) {\n      const bk_div = document.createElement(\"div\");\n      bk_div.innerHTML = output.data[HTML_MIME_TYPE];\n      const script_attrs = bk_div.children[0].attributes;\n      for (let i = 0; i < script_attrs.length; i++) {\n        toinsert[toinsert.length - 1].firstChild.setAttribute(script_attrs[i].name, script_attrs[i].value);\n        toinsert[toinsert.length - 1].firstChild.textContent = bk_div.children[0].textContent\n      }\n      // store reference to server id on output_area\n      output_area._bokeh_server_id = output.metadata[EXEC_MIME_TYPE][\"server_id\"];\n    }\n  }\n\n  function register_renderer(events, OutputArea) {\n\n    function append_mime(data, metadata, element) {\n      // create a DOM node to render to\n      const toinsert = this.create_output_subarea(\n        metadata,\n        CLASS_NAME,\n        EXEC_MIME_TYPE\n      );\n      this.keyboard_manager.register_events(toinsert);\n      // Render to node\n      const props = {data: data, metadata: metadata[EXEC_MIME_TYPE]};\n      render(props, toinsert[toinsert.length - 1]);\n      element.append(toinsert);\n      return toinsert\n    }\n\n    /* Handle when an output is cleared or removed */\n    events.on('clear_output.CodeCell', handleClearOutput);\n    events.on('delete.Cell', handleClearOutput);\n\n    /* Handle when a new output is added */\n    events.on('output_added.OutputArea', handleAddOutput);\n\n    /**\n     * Register the mime type and append_mime function with output_area\n     */\n    OutputArea.prototype.register_mime_type(EXEC_MIME_TYPE, append_mime, {\n      /* Is output safe? */\n      safe: true,\n      /* Index of renderer in `output_area.display_order` */\n      index: 0\n    });\n  }\n\n  // register the mime type if in Jupyter Notebook environment and previously unregistered\n  if (root.Jupyter !== undefined) {\n    const events = require('base/js/events');\n    const OutputArea = require('notebook/js/outputarea').OutputArea;\n\n    if (OutputArea.prototype.mime_types().indexOf(EXEC_MIME_TYPE) == -1) {\n      register_renderer(events, OutputArea);\n    }\n  }\n  if (typeof (root._bokeh_timeout) === \"undefined\" || force === true) {\n    root._bokeh_timeout = Date.now() + 5000;\n    root._bokeh_failed_load = false;\n  }\n\n  const NB_LOAD_WARNING = {'data': {'text/html':\n     \"<div style='background-color: #fdd'>\\n\"+\n     \"<p>\\n\"+\n     \"BokehJS does not appear to have successfully loaded. If loading BokehJS from CDN, this \\n\"+\n     \"may be due to a slow or bad network connection. Possible fixes:\\n\"+\n     \"</p>\\n\"+\n     \"<ul>\\n\"+\n     \"<li>re-rerun `output_notebook()` to attempt to load from CDN again, or</li>\\n\"+\n     \"<li>use INLINE resources instead, as so:</li>\\n\"+\n     \"</ul>\\n\"+\n     \"<code>\\n\"+\n     \"from bokeh.resources import INLINE\\n\"+\n     \"output_notebook(resources=INLINE)\\n\"+\n     \"</code>\\n\"+\n     \"</div>\"}};\n\n  function display_loaded() {\n    const el = document.getElementById(null);\n    if (el != null) {\n      el.textContent = \"BokehJS is loading...\";\n    }\n    if (root.Bokeh !== undefined) {\n      if (el != null) {\n        el.textContent = \"BokehJS \" + root.Bokeh.version + \" successfully loaded.\";\n      }\n    } else if (Date.now() < root._bokeh_timeout) {\n      setTimeout(display_loaded, 100)\n    }\n  }\n\n  function run_callbacks() {\n    try {\n      root._bokeh_onload_callbacks.forEach(function(callback) {\n        if (callback != null)\n          callback();\n      });\n    } finally {\n      delete root._bokeh_onload_callbacks\n    }\n    console.debug(\"Bokeh: all callbacks have finished\");\n  }\n\n  function load_libs(css_urls, js_urls, callback) {\n    if (css_urls == null) css_urls = [];\n    if (js_urls == null) js_urls = [];\n\n    root._bokeh_onload_callbacks.push(callback);\n    if (root._bokeh_is_loading > 0) {\n      console.debug(\"Bokeh: BokehJS is being loaded, scheduling callback at\", now());\n      return null;\n    }\n    if (js_urls == null || js_urls.length === 0) {\n      run_callbacks();\n      return null;\n    }\n    console.debug(\"Bokeh: BokehJS not loaded, scheduling load and callback at\", now());\n    root._bokeh_is_loading = css_urls.length + js_urls.length;\n\n    function on_load() {\n      root._bokeh_is_loading--;\n      if (root._bokeh_is_loading === 0) {\n        console.debug(\"Bokeh: all BokehJS libraries/stylesheets loaded\");\n        run_callbacks()\n      }\n    }\n\n    function on_error(url) {\n      console.error(\"failed to load \" + url);\n    }\n\n    for (let i = 0; i < css_urls.length; i++) {\n      const url = css_urls[i];\n      const element = document.createElement(\"link\");\n      element.onload = on_load;\n      element.onerror = on_error.bind(null, url);\n      element.rel = \"stylesheet\";\n      element.type = \"text/css\";\n      element.href = url;\n      console.debug(\"Bokeh: injecting link tag for BokehJS stylesheet: \", url);\n      document.body.appendChild(element);\n    }\n\n    for (let i = 0; i < js_urls.length; i++) {\n      const url = js_urls[i];\n      const element = document.createElement('script');\n      element.onload = on_load;\n      element.onerror = on_error.bind(null, url);\n      element.async = false;\n      element.src = url;\n      console.debug(\"Bokeh: injecting script tag for BokehJS library: \", url);\n      document.head.appendChild(element);\n    }\n  };\n\n  function inject_raw_css(css) {\n    const element = document.createElement(\"style\");\n    element.appendChild(document.createTextNode(css));\n    document.body.appendChild(element);\n  }\n\n  const js_urls = [\"https://cdn.bokeh.org/bokeh/release/bokeh-2.4.3.min.js\", \"https://cdn.bokeh.org/bokeh/release/bokeh-gl-2.4.3.min.js\", \"https://cdn.bokeh.org/bokeh/release/bokeh-widgets-2.4.3.min.js\", \"https://cdn.bokeh.org/bokeh/release/bokeh-tables-2.4.3.min.js\", \"https://cdn.bokeh.org/bokeh/release/bokeh-mathjax-2.4.3.min.js\"];\n  const css_urls = [];\n\n  const inline_js = [    function(Bokeh) {\n      Bokeh.set_log_level(\"info\");\n    },\nfunction(Bokeh) {\n    }\n  ];\n\n  function run_inline_js() {\n    if (root.Bokeh !== undefined || force === true) {\n          for (let i = 0; i < inline_js.length; i++) {\n      inline_js[i].call(root, root.Bokeh);\n    }\n} else if (Date.now() < root._bokeh_timeout) {\n      setTimeout(run_inline_js, 100);\n    } else if (!root._bokeh_failed_load) {\n      console.log(\"Bokeh: BokehJS failed to load within specified timeout.\");\n      root._bokeh_failed_load = true;\n    } else if (force !== true) {\n      const cell = $(document.getElementById(null)).parents('.cell').data().cell;\n      cell.output_area.append_execute_result(NB_LOAD_WARNING)\n    }\n  }\n\n  if (root._bokeh_is_loading === 0) {\n    console.debug(\"Bokeh: BokehJS loaded, going straight to plotting\");\n    run_inline_js();\n  } else {\n    load_libs(css_urls, js_urls, function() {\n      console.debug(\"Bokeh: BokehJS plotting callback run at\", now());\n      run_inline_js();\n    });\n  }\n}(window));",
            "application/vnd.bokehjs_load.v0+json": ""
          },
          "metadata": {},
          "output_type": "display_data"
        },
        {
          "data": {
            "text/html": [
              "\n",
              "  <div class=\"bk-root\" id=\"38e13280-d512-4aaa-8c72-b85d835ceb02\" data-root-id=\"1003\"></div>\n"
            ]
          },
          "metadata": {},
          "output_type": "display_data"
        },
        {
          "data": {
            "application/javascript": "(function(root) {\n  function embed_document(root) {\n  const docs_json = {\"94e387d3-c207-41b0-a09b-1b69cc847a29\":{\"defs\":[],\"roots\":{\"references\":[{\"attributes\":{\"below\":[{\"id\":\"1012\"}],\"center\":[{\"id\":\"1015\"},{\"id\":\"1019\"}],\"height\":400,\"left\":[{\"id\":\"1016\"}],\"renderers\":[{\"id\":\"1038\"}],\"title\":{\"id\":\"1042\"},\"toolbar\":{\"id\":\"1027\"},\"x_range\":{\"id\":\"1004\"},\"x_scale\":{\"id\":\"1008\"},\"y_range\":{\"id\":\"1006\"},\"y_scale\":{\"id\":\"1010\"}},\"id\":\"1003\",\"subtype\":\"Figure\",\"type\":\"Plot\"},{\"attributes\":{\"bottom_units\":\"screen\",\"coordinates\":null,\"fill_alpha\":0.5,\"fill_color\":\"lightgrey\",\"group\":null,\"left_units\":\"screen\",\"level\":\"overlay\",\"line_alpha\":1.0,\"line_color\":\"black\",\"line_dash\":[4,4],\"line_width\":2,\"right_units\":\"screen\",\"syncable\":false,\"top_units\":\"screen\"},\"id\":\"1026\",\"type\":\"BoxAnnotation\"},{\"attributes\":{\"source\":{\"id\":\"1002\"}},\"id\":\"1039\",\"type\":\"CDSView\"},{\"attributes\":{\"active_scroll\":{\"id\":\"1021\"},\"tools\":[{\"id\":\"1020\"},{\"id\":\"1021\"},{\"id\":\"1022\"},{\"id\":\"1023\"},{\"id\":\"1024\"},{\"id\":\"1025\"},{\"id\":\"1040\"}]},\"id\":\"1027\",\"type\":\"Toolbar\"},{\"attributes\":{\"fill_alpha\":{\"value\":0.25},\"fill_color\":{\"field\":\"color\"},\"hatch_alpha\":{\"value\":0.25},\"hatch_color\":{\"field\":\"color\"},\"line_alpha\":{\"value\":0.25},\"line_color\":{\"field\":\"color\"},\"size\":{\"value\":10},\"x\":{\"field\":\"x\"},\"y\":{\"field\":\"y\"}},\"id\":\"1035\",\"type\":\"Scatter\"},{\"attributes\":{\"coordinates\":null,\"data_source\":{\"id\":\"1002\"},\"glyph\":{\"id\":\"1035\"},\"group\":null,\"hover_glyph\":null,\"muted_glyph\":{\"id\":\"1037\"},\"nonselection_glyph\":{\"id\":\"1036\"},\"view\":{\"id\":\"1039\"}},\"id\":\"1038\",\"type\":\"GlyphRenderer\"},{\"attributes\":{\"callback\":null,\"tooltips\":[[\"token\",\"@token\"]]},\"id\":\"1040\",\"type\":\"HoverTool\"},{\"attributes\":{\"coordinates\":null,\"group\":null},\"id\":\"1042\",\"type\":\"Title\"},{\"attributes\":{},\"id\":\"1049\",\"type\":\"AllLabels\"},{\"attributes\":{\"coordinates\":null,\"formatter\":{\"id\":\"1048\"},\"group\":null,\"major_label_policy\":{\"id\":\"1049\"},\"ticker\":{\"id\":\"1013\"}},\"id\":\"1012\",\"type\":\"LinearAxis\"},{\"attributes\":{},\"id\":\"1050\",\"type\":\"UnionRenderers\"},{\"attributes\":{\"fill_alpha\":{\"value\":0.2},\"fill_color\":{\"field\":\"color\"},\"hatch_alpha\":{\"value\":0.2},\"hatch_color\":{\"field\":\"color\"},\"line_alpha\":{\"value\":0.2},\"line_color\":{\"field\":\"color\"},\"size\":{\"value\":10},\"x\":{\"field\":\"x\"},\"y\":{\"field\":\"y\"}},\"id\":\"1037\",\"type\":\"Scatter\"},{\"attributes\":{},\"id\":\"1004\",\"type\":\"DataRange1d\"},{\"attributes\":{},\"id\":\"1051\",\"type\":\"Selection\"},{\"attributes\":{},\"id\":\"1006\",\"type\":\"DataRange1d\"},{\"attributes\":{\"coordinates\":null,\"formatter\":{\"id\":\"1045\"},\"group\":null,\"major_label_policy\":{\"id\":\"1046\"},\"ticker\":{\"id\":\"1017\"}},\"id\":\"1016\",\"type\":\"LinearAxis\"},{\"attributes\":{},\"id\":\"1010\",\"type\":\"LinearScale\"},{\"attributes\":{},\"id\":\"1048\",\"type\":\"BasicTickFormatter\"},{\"attributes\":{},\"id\":\"1008\",\"type\":\"LinearScale\"},{\"attributes\":{},\"id\":\"1020\",\"type\":\"PanTool\"},{\"attributes\":{},\"id\":\"1013\",\"type\":\"BasicTicker\"},{\"attributes\":{\"axis\":{\"id\":\"1012\"},\"coordinates\":null,\"group\":null,\"ticker\":null},\"id\":\"1015\",\"type\":\"Grid\"},{\"attributes\":{},\"id\":\"1046\",\"type\":\"AllLabels\"},{\"attributes\":{\"axis\":{\"id\":\"1016\"},\"coordinates\":null,\"dimension\":1,\"group\":null,\"ticker\":null},\"id\":\"1019\",\"type\":\"Grid\"},{\"attributes\":{},\"id\":\"1017\",\"type\":\"BasicTicker\"},{\"attributes\":{},\"id\":\"1025\",\"type\":\"HelpTool\"},{\"attributes\":{},\"id\":\"1021\",\"type\":\"WheelZoomTool\"},{\"attributes\":{\"fill_alpha\":{\"value\":0.1},\"fill_color\":{\"field\":\"color\"},\"hatch_alpha\":{\"value\":0.1},\"hatch_color\":{\"field\":\"color\"},\"line_alpha\":{\"value\":0.1},\"line_color\":{\"field\":\"color\"},\"size\":{\"value\":10},\"x\":{\"field\":\"x\"},\"y\":{\"field\":\"y\"}},\"id\":\"1036\",\"type\":\"Scatter\"},{\"attributes\":{\"overlay\":{\"id\":\"1026\"}},\"id\":\"1022\",\"type\":\"BoxZoomTool\"},{\"attributes\":{},\"id\":\"1045\",\"type\":\"BasicTickFormatter\"},{\"attributes\":{},\"id\":\"1023\",\"type\":\"SaveTool\"},{\"attributes\":{\"data\":{\"color\":[\"green\",\"green\",\"green\",\"green\",\"green\",\"green\",\"green\",\"green\",\"green\",\"green\",\"green\",\"green\",\"green\",\"green\",\"green\",\"green\",\"green\",\"green\",\"green\",\"green\",\"green\",\"green\",\"green\",\"green\",\"green\",\"green\",\"green\",\"green\",\"green\",\"green\",\"green\",\"green\",\"green\",\"green\",\"green\",\"green\",\"green\",\"green\",\"green\",\"green\",\"green\",\"green\",\"green\",\"green\",\"green\",\"green\",\"green\",\"green\",\"green\",\"green\",\"green\",\"green\",\"green\",\"green\",\"green\",\"green\",\"green\",\"green\",\"green\",\"green\",\"green\",\"green\",\"green\",\"green\",\"green\",\"green\",\"green\",\"green\",\"green\",\"green\",\"green\",\"green\",\"green\",\"green\",\"green\",\"green\",\"green\",\"green\",\"green\",\"green\",\"green\",\"green\",\"green\",\"green\",\"green\",\"green\",\"green\",\"green\",\"green\",\"green\",\"green\",\"green\",\"green\",\"green\",\"green\",\"green\",\"green\",\"green\",\"green\",\"green\",\"green\",\"green\",\"green\",\"green\",\"green\",\"green\",\"green\",\"green\",\"green\",\"green\",\"green\",\"green\",\"green\",\"green\",\"green\",\"green\",\"green\",\"green\",\"green\",\"green\",\"green\",\"green\",\"green\",\"green\",\"green\",\"green\",\"green\",\"green\",\"green\",\"green\",\"green\",\"green\",\"green\",\"green\",\"green\",\"green\",\"green\",\"green\",\"green\",\"green\",\"green\",\"green\",\"green\",\"green\",\"green\",\"green\",\"green\",\"green\",\"green\",\"green\",\"green\",\"green\",\"green\",\"green\",\"green\",\"green\",\"green\",\"green\",\"green\",\"green\",\"green\",\"green\",\"green\",\"green\",\"green\",\"green\",\"green\",\"green\",\"green\",\"green\",\"green\",\"green\",\"green\",\"green\",\"green\",\"green\",\"green\",\"green\",\"green\",\"green\",\"green\",\"green\",\"green\",\"green\",\"green\",\"green\",\"green\",\"green\",\"green\",\"green\",\"green\",\"green\",\"green\",\"green\",\"green\",\"green\",\"green\",\"green\",\"green\",\"green\",\"green\",\"green\",\"green\",\"green\",\"green\",\"green\",\"green\",\"green\",\"green\",\"green\",\"green\",\"green\",\"green\",\"green\",\"green\",\"green\",\"green\",\"green\",\"green\",\"green\",\"green\",\"green\",\"green\",\"green\",\"green\",\"green\",\"green\",\"green\",\"green\",\"green\",\"green\",\"green\",\"green\",\"green\",\"green\",\"green\",\"green\",\"green\",\"green\",\"green\",\"green\",\"green\",\"green\",\"green\",\"green\",\"green\",\"green\",\"green\",\"green\",\"green\",\"green\",\"green\",\"green\",\"green\",\"green\",\"green\",\"green\",\"green\",\"green\",\"green\",\"green\",\"green\",\"green\",\"green\",\"green\",\"green\",\"green\",\"green\",\"green\",\"green\",\"green\",\"green\",\"green\",\"green\",\"green\",\"green\",\"green\",\"green\",\"green\",\"green\",\"green\",\"green\",\"green\",\"green\",\"green\",\"green\",\"green\",\"green\",\"green\",\"green\",\"green\",\"green\",\"green\",\"green\",\"green\",\"green\",\"green\",\"green\",\"green\",\"green\",\"green\",\"green\",\"green\",\"green\",\"green\",\"green\",\"green\",\"green\",\"green\",\"green\",\"green\",\"green\",\"green\",\"green\",\"green\",\"green\",\"green\",\"green\",\"green\",\"green\",\"green\",\"green\",\"green\",\"green\",\"green\",\"green\",\"green\",\"green\",\"green\",\"green\",\"green\",\"green\",\"green\",\"green\",\"green\",\"green\",\"green\",\"green\",\"green\",\"green\",\"green\",\"green\",\"green\",\"green\",\"green\",\"green\",\"green\",\"green\",\"green\",\"green\",\"green\",\"green\",\"green\",\"green\",\"green\",\"green\",\"green\",\"green\",\"green\",\"green\",\"green\",\"green\",\"green\",\"green\",\"green\",\"green\",\"green\",\"green\",\"green\",\"green\",\"green\",\"green\",\"green\",\"green\",\"green\",\"green\",\"green\",\"green\",\"green\",\"green\",\"green\",\"green\",\"green\",\"green\",\"green\",\"green\",\"green\",\"green\",\"green\",\"green\",\"green\",\"green\",\"green\",\"green\",\"green\",\"green\",\"green\",\"green\",\"green\",\"green\",\"green\",\"green\",\"green\",\"green\",\"green\",\"green\",\"green\",\"green\",\"green\",\"green\",\"green\",\"green\",\"green\",\"green\",\"green\",\"green\",\"green\",\"green\",\"green\",\"green\",\"green\",\"green\",\"green\",\"green\",\"green\",\"green\",\"green\",\"green\",\"green\",\"green\",\"green\",\"green\",\"green\",\"green\",\"green\",\"green\",\"green\",\"green\",\"green\",\"green\",\"green\",\"green\",\"green\",\"green\",\"green\",\"green\",\"green\",\"green\",\"green\",\"green\",\"green\",\"green\",\"green\",\"green\",\"green\",\"green\",\"green\",\"green\",\"green\",\"green\",\"green\",\"green\",\"green\",\"green\",\"green\",\"green\",\"green\",\"green\",\"green\",\"green\",\"green\",\"green\",\"green\",\"green\",\"green\",\"green\",\"green\",\"green\",\"green\",\"green\",\"green\",\"green\",\"green\",\"green\",\"green\",\"green\",\"green\",\"green\",\"green\",\"green\",\"green\",\"green\",\"green\",\"green\",\"green\",\"green\",\"green\",\"green\",\"green\",\"green\",\"green\",\"green\",\"green\",\"green\",\"green\",\"green\",\"green\",\"green\",\"green\",\"green\",\"green\",\"green\",\"green\",\"green\",\"green\",\"green\",\"green\",\"green\",\"green\",\"green\",\"green\",\"green\",\"green\",\"green\",\"green\",\"green\",\"green\",\"green\",\"green\",\"green\",\"green\",\"green\",\"green\",\"green\",\"green\",\"green\",\"green\",\"green\",\"green\",\"green\",\"green\",\"green\",\"green\",\"green\",\"green\",\"green\",\"green\",\"green\",\"green\",\"green\",\"green\",\"green\",\"green\",\"green\",\"green\",\"green\",\"green\",\"green\",\"green\",\"green\",\"green\",\"green\",\"green\",\"green\",\"green\",\"green\",\"green\",\"green\",\"green\",\"green\",\"green\",\"green\",\"green\",\"green\",\"green\",\"green\",\"green\",\"green\",\"green\",\"green\",\"green\",\"green\",\"green\",\"green\",\"green\",\"green\",\"green\",\"green\",\"green\",\"green\",\"green\",\"green\",\"green\",\"green\",\"green\",\"green\",\"green\",\"green\",\"green\",\"green\",\"green\",\"green\",\"green\",\"green\",\"green\",\"green\",\"green\",\"green\",\"green\",\"green\",\"green\",\"green\",\"green\",\"green\",\"green\",\"green\",\"green\",\"green\",\"green\",\"green\",\"green\",\"green\",\"green\",\"green\",\"green\",\"green\",\"green\",\"green\",\"green\",\"green\",\"green\",\"green\",\"green\",\"green\",\"green\",\"green\",\"green\",\"green\",\"green\",\"green\",\"green\",\"green\",\"green\",\"green\",\"green\",\"green\",\"green\",\"green\",\"green\",\"green\",\"green\",\"green\",\"green\",\"green\",\"green\",\"green\",\"green\",\"green\",\"green\",\"green\",\"green\",\"green\",\"green\",\"green\",\"green\",\"green\",\"green\",\"green\",\"green\",\"green\",\"green\",\"green\",\"green\",\"green\",\"green\",\"green\",\"green\",\"green\",\"green\",\"green\",\"green\",\"green\",\"green\",\"green\",\"green\",\"green\",\"green\",\"green\",\"green\",\"green\",\"green\",\"green\",\"green\",\"green\",\"green\",\"green\",\"green\",\"green\",\"green\",\"green\",\"green\",\"green\",\"green\",\"green\",\"green\",\"green\",\"green\",\"green\",\"green\",\"green\",\"green\",\"green\",\"green\",\"green\",\"green\",\"green\",\"green\",\"green\",\"green\",\"green\",\"green\",\"green\",\"green\",\"green\",\"green\",\"green\",\"green\",\"green\",\"green\",\"green\",\"green\",\"green\",\"green\",\"green\",\"green\",\"green\",\"green\",\"green\",\"green\",\"green\",\"green\",\"green\",\"green\",\"green\",\"green\",\"green\",\"green\",\"green\",\"green\",\"green\",\"green\",\"green\",\"green\",\"green\",\"green\",\"green\",\"green\",\"green\",\"green\",\"green\",\"green\",\"green\",\"green\",\"green\",\"green\",\"green\",\"green\",\"green\",\"green\",\"green\",\"green\",\"green\",\"green\",\"green\",\"green\",\"green\",\"green\",\"green\",\"green\",\"green\",\"green\",\"green\",\"green\",\"green\",\"green\",\"green\",\"green\",\"green\",\"green\",\"green\",\"green\",\"green\",\"green\",\"green\",\"green\",\"green\",\"green\",\"green\",\"green\",\"green\",\"green\",\"green\",\"green\",\"green\",\"green\",\"green\",\"green\",\"green\",\"green\",\"green\",\"green\",\"green\",\"green\",\"green\",\"green\",\"green\",\"green\",\"green\",\"green\",\"green\",\"green\",\"green\",\"green\",\"green\",\"green\",\"green\",\"green\",\"green\",\"green\",\"green\",\"green\",\"green\",\"green\",\"green\",\"green\",\"green\",\"green\",\"green\",\"green\",\"green\",\"green\",\"green\",\"green\",\"green\",\"green\",\"green\",\"green\",\"green\",\"green\",\"green\",\"green\",\"green\",\"green\",\"green\",\"green\",\"green\",\"green\",\"green\",\"green\",\"green\",\"green\",\"green\",\"green\",\"green\",\"green\",\"green\",\"green\",\"green\",\"green\",\"green\",\"green\",\"green\",\"green\",\"green\",\"green\",\"green\",\"green\",\"green\",\"green\",\"green\",\"green\",\"green\",\"green\",\"green\",\"green\",\"green\",\"green\",\"green\",\"green\",\"green\",\"green\",\"green\",\"green\",\"green\",\"green\",\"green\",\"green\",\"green\",\"green\",\"green\",\"green\",\"green\",\"green\",\"green\",\"green\",\"green\",\"green\",\"green\",\"green\",\"green\",\"green\",\"green\",\"green\",\"green\",\"green\",\"green\",\"green\",\"green\",\"green\",\"green\",\"green\",\"green\",\"green\",\"green\",\"green\",\"green\",\"green\",\"green\",\"green\",\"green\",\"green\",\"green\",\"green\",\"green\",\"green\",\"green\",\"green\",\"green\",\"green\",\"green\",\"green\",\"green\",\"green\",\"green\",\"green\",\"green\",\"green\",\"green\",\"green\",\"green\",\"green\",\"green\",\"green\",\"green\",\"green\",\"green\",\"green\",\"green\",\"green\",\"green\",\"green\",\"green\",\"green\",\"green\",\"green\",\"green\",\"green\",\"green\",\"green\",\"green\",\"green\",\"green\",\"green\",\"green\",\"green\",\"green\",\"green\",\"green\",\"green\",\"green\",\"green\",\"green\",\"green\",\"green\",\"green\",\"green\",\"green\",\"green\",\"green\",\"green\",\"green\",\"green\",\"green\",\"green\",\"green\",\"green\",\"green\",\"green\",\"green\",\"green\"],\"token\":[\"one\",\"back\",\"father\",\"two\",\"tells\",\"man\",\"home\",\"new\",\"love\",\"get\",\"later\",\"time\",\"also\",\"house\",\"police\",\"family\",\"life\",\"finds\",\"find\",\"mother\",\"however\",\"day\",\"goes\",\"takes\",\"wife\",\"go\",\"film\",\"away\",\"take\",\"help\",\"money\",\"night\",\"gets\",\"son\",\"tries\",\"first\",\"friend\",\"killed\",\"men\",\"death\",\"car\",\"young\",\"next\",\"daughter\",\"becomes\",\"old\",\"leave\",\"leaves\",\"decides\",\"another\",\"kill\",\"comes\",\"make\",\"way\",\"asks\",\"friends\",\"returns\",\"years\",\"woman\",\"begins\",\"soon\",\"\\u2019\",\"meets\",\"school\",\"meanwhile\",\"story\",\"john\",\"brother\",\"town\",\"return\",\"named\",\"tom\",\"girl\",\"arrives\",\"see\",\"escape\",\"three\",\"work\",\"room\",\"eventually\",\"finally\",\"sees\",\"wants\",\"reveals\",\"together\",\"husband\",\"would\",\"makes\",\"gives\",\"group\",\"falls\",\"still\",\"city\",\"become\",\"job\",\"dead\",\"fight\",\"discovers\",\"come\",\"well\",\"dr\",\"meet\",\"like\",\"married\",\"end\",\"people\",\"jack\",\"ends\",\"attempts\",\"local\",\"says\",\"kills\",\"party\",\"along\",\"sister\",\"refuses\",\"even\",\"head\",\"turns\",\"body\",\"marry\",\"children\",\"marriage\",\"war\",\"left\",\"learns\",\"parents\",\"joe\",\"world\",\"place\",\"hospital\",\"leaving\",\"realizes\",\"relationship\",\"runs\",\"agrees\",\"starts\",\"team\",\"year\",\"show\",\"last\",\"murder\",\"around\",\"gang\",\"plan\",\"boy\",\"run\",\"much\",\"set\",\"instead\",\"lives\",\"killing\",\"though\",\"never\",\"order\",\"upon\",\"going\",\"give\",\"calls\",\"found\",\"train\",\"child\",\"taken\",\"behind\",\"several\",\"former\",\"long\",\"without\",\"david\",\"know\",\"michael\",\"due\",\"gun\",\"apartment\",\"despite\",\"attack\",\"paul\",\"trying\",\"shows\",\"since\",\"village\",\"shot\",\"officer\",\"real\",\"mary\",\"george\",\"attempt\",\"hand\",\"stop\",\"using\",\"plans\",\"york\",\"name\",\"company\",\"must\",\"jerry\",\"live\",\"sam\",\"mr\",\"manages\",\"good\",\"including\",\"ship\",\"frank\",\"stay\",\"scene\",\"hotel\",\"harry\",\"arrive\",\"working\",\"small\",\"business\",\"american\",\"call\",\"fire\",\"dies\",\"tell\",\"taking\",\"try\",\"couple\",\"offers\",\"wedding\",\"following\",\"women\",\"king\",\"morning\",\"living\",\"called\",\"high\",\"made\",\"many\",\"face\",\"save\",\"outside\",\"station\",\"inside\",\"shoots\",\"part\",\"orders\",\"girlfriend\",\"peter\",\"use\",\"prison\",\"baby\",\"days\",\"bill\",\"everyone\",\"revealed\",\"able\",\"secret\",\"keep\",\"appears\",\"jim\",\"doctor\",\"movie\",\"escapes\",\"getting\",\"although\",\"army\",\"breaks\",\"case\",\"explains\",\"captain\",\"fall\",\"making\",\"believes\",\"game\",\"mrs\",\"sent\",\"best\",\"begin\",\"start\",\"could\",\"forced\",\"visit\",\"uses\",\"office\",\"actually\",\"charlie\",\"turn\",\"mike\",\"works\",\"decide\",\"johnny\",\"play\",\"discover\",\"ben\",\"unable\",\"little\",\"black\",\"college\",\"past\",\"telling\",\"lost\",\"final\",\"nick\",\"suicide\",\"whose\",\"door\",\"james\",\"arrested\",\"leads\",\"girls\",\"law\",\"others\",\"alone\",\"crew\",\"meeting\",\"given\",\"sends\",\"owner\",\"richard\",\"big\",\"seeing\",\"second\",\"phone\",\"robert\",\"henry\",\"four\",\"put\",\"boss\",\"heart\",\"things\",\"billy\",\"sex\",\"rest\",\"seen\",\"causing\",\"force\",\"break\",\"quickly\",\"island\",\"accidentally\",\"front\",\"follows\",\"visits\",\"free\",\"jimmy\",\"water\",\"died\",\"forces\",\"white\",\"confronts\",\"knows\",\"building\",\"dog\",\"told\",\"states\",\"loves\",\"affair\",\"looking\",\"uncle\",\"saying\",\"steve\",\"immediately\",\"agent\",\"max\",\"truth\",\"accident\",\"rescue\",\"london\",\"let\",\"earlier\",\"search\",\"informs\",\"across\",\"crime\",\"happy\",\"want\",\"bring\",\"used\",\"may\",\"move\",\"large\",\"bank\",\"right\",\"wealthy\",\"true\",\"boys\",\"close\",\"members\",\"land\",\"club\",\"revenge\",\"suddenly\",\"look\",\"pay\",\"\\u2013\",\"british\",\"person\",\"bob\",\"killer\",\"believe\",\"drive\",\"news\",\"boyfriend\",\"convinces\",\"country\",\"late\",\"enough\",\"control\",\"accepts\",\"known\",\"care\",\"tony\",\"sets\",\"battle\",\"join\",\"hands\",\"attacks\",\"book\",\"missing\",\"drug\",\"chance\",\"van\",\"led\",\"near\",\"feels\",\"danny\",\"boat\",\"leader\",\"mission\",\"open\",\"enters\",\"brings\",\"power\",\"side\",\"jane\",\"eddie\",\"red\",\"state\",\"continues\",\"learn\",\"murdered\",\"something\",\"great\",\"caught\",\"dance\",\"dinner\",\"towards\",\"helps\",\"nearby\",\"shoot\",\"deal\",\"receives\",\"point\",\"alive\",\"truck\",\"already\",\"charles\",\"jail\",\"involved\",\"alex\",\"ray\",\"brothers\",\"camp\",\"court\",\"everything\",\"claims\",\"bar\",\"trip\",\"fact\",\"store\",\"talk\",\"letter\",\"mark\",\"knowing\",\"ex\",\"j\",\"situation\",\"air\",\"student\",\"attacked\",\"driver\",\"street\",\"helen\",\"lee\",\"pregnant\",\"chris\",\"martin\",\"continue\",\"race\",\"opens\",\"rich\",\"window\",\"class\",\"earth\",\"demands\",\"win\",\"chief\",\"giving\",\"thinks\",\"general\",\"united\",\"waiting\",\"months\",\"returning\",\"star\",\"hit\",\"partner\",\"detective\",\"nothing\",\"chase\",\"walks\",\"captured\",\"lady\",\"scott\",\"act\",\"lead\",\"playing\",\"someone\",\"blood\",\"every\",\"needs\",\"information\",\"stolen\",\"looks\",\"soldiers\",\"feelings\",\"identity\",\"initially\",\"finding\",\"insists\",\"anna\",\"running\",\"causes\",\"younger\",\"arrest\",\"throws\",\"career\",\"evidence\",\"steal\",\"seems\",\"human\",\"gold\",\"events\",\"entire\",\"leading\",\"tommy\",\"radio\",\"horse\",\"u\",\"loses\",\"bed\",\"brought\",\"government\",\"drives\",\"future\",\"band\",\"five\",\"successful\",\"interest\",\"onto\",\"alice\",\"change\",\"present\",\"ann\",\"road\",\"threatens\",\"inspector\",\"invites\",\"beautiful\",\"german\",\"sarah\",\"music\",\"military\",\"full\",\"realizing\",\"date\",\"william\",\"self\",\"anne\",\"board\",\"top\",\"kate\",\"met\",\"jeff\",\"mind\",\"suggests\",\"angry\",\"confesses\",\"admits\",\"coming\",\"bomb\",\"major\",\"president\",\"gone\",\"fellow\",\"happened\",\"larry\",\"plane\",\"moves\",\"plot\",\"better\",\"miss\",\"always\",\"realize\",\"die\",\"number\",\"sheriff\",\"susan\",\"spend\",\"secretly\",\"half\",\"church\",\"pair\",\"bugs\",\"process\",\"flees\",\"discovered\",\"students\",\"manager\",\"played\",\"hears\",\"professor\",\"wounded\",\"reveal\",\"stops\",\"middle\",\"convince\",\"reach\",\"form\",\"released\",\"teacher\",\"travel\",\"ever\",\"evening\",\"support\",\"ride\",\"watch\",\"joins\",\"jake\",\"encounters\",\"hiding\",\"river\",\"shop\",\"believing\",\"notices\",\"series\",\"flee\",\"wins\",\"follow\",\"shown\",\"childhood\",\"really\",\"officers\",\"stage\",\"offer\",\"private\",\"fails\",\"assistant\",\"result\",\"kiss\",\"criminal\",\"injured\",\"drunk\",\"puts\",\"enter\",\"short\",\"security\",\"lover\",\"buy\",\"different\",\"area\",\"dream\",\"trouble\",\"rather\",\"public\",\"restaurant\",\"song\",\"plays\",\"exchange\",\"bus\",\"walter\",\"japanese\",\"thinking\",\"idea\",\"food\",\"dan\",\"bobby\",\"matt\",\"share\",\"member\",\"mysterious\",\"bad\",\"warns\",\"driving\",\"destroy\",\"attention\",\"ravi\",\"arthur\",\"dying\",\"safe\",\"julie\",\"among\",\"park\",\"wanted\",\"catches\",\"revealing\",\"ring\",\"de\",\"queen\",\"judge\",\"got\",\"times\",\"encounter\",\"hidden\",\"almost\",\"promises\",\"remains\",\"bond\",\"shortly\",\"becoming\",\"adam\",\"sell\",\"lord\",\"crash\",\"within\",\"los\",\"success\",\"base\",\"contact\",\"various\",\"god\",\"french\",\"paris\",\"line\",\"castle\",\"elizabeth\",\"thus\",\"unaware\",\"angeles\",\"shooting\",\"older\",\"england\",\"saves\",\"newspaper\",\"six\",\"pulls\",\"singh\",\"investigate\",\"remaining\",\"changes\",\"terry\",\"hard\",\"note\",\"eric\",\"reaches\",\"wrong\",\"held\",\"lawyer\",\"heads\",\"c\",\"shocked\",\"beach\",\"dave\",\"raja\",\"pete\",\"colonel\",\"cat\",\"romantic\",\"smith\",\"guard\",\"keeps\",\"longer\",\"hearing\",\"robbery\",\"guy\",\"capture\",\"done\",\"broken\",\"machine\",\"singer\",\"anything\",\"poor\",\"abandoned\",\"murders\",\"pass\",\"thomas\",\"fighting\",\"might\",\"andy\",\"ground\",\"accept\",\"maggie\",\"falling\",\"wishes\",\"prince\",\"india\",\"else\",\"jason\",\"ghost\",\"sea\",\"avoid\",\"moment\",\"agree\",\"previous\",\"walk\",\"role\",\"operation\",\"nearly\",\"edward\",\"unconscious\",\"female\",\"hold\",\"yet\",\"ask\",\"estate\",\"box\",\"tree\",\"based\",\"dreams\",\"amy\",\"san\",\"need\",\"catch\",\"flight\",\"sir\",\"reluctantly\",\"hide\",\"steals\",\"farm\",\"returned\",\"location\",\"marries\",\"indian\",\"rose\",\"divorce\",\"prove\",\"send\",\"personal\",\"pilot\",\"problems\",\"responsible\",\"wakes\",\"joan\",\"cut\",\"birth\",\"saved\",\"manage\",\"mansion\",\"west\",\"medical\",\"charge\",\"whole\",\"clear\",\"incident\",\"aunt\",\"talking\",\"kids\",\"jean\",\"cross\",\"ram\",\"kevin\",\"sally\",\"fred\",\"wall\",\"attend\",\"kidnapped\",\"rushes\",\"journey\",\"suspects\",\"vijay\",\"suspicious\",\"hired\",\"position\",\"training\",\"ultimately\",\"voice\",\"roy\",\"ways\",\"friendship\",\"audience\",\"early\",\"fear\",\"raj\",\"linda\",\"protect\",\"service\",\"determined\",\"rival\",\"south\",\"happens\",\"message\",\"track\",\"upset\",\"cover\",\"asking\",\"airport\",\"travels\",\"passes\",\"arjun\",\"unknown\",\"conversation\",\"jones\",\"minister\",\"investigation\",\"stand\",\"ago\",\"lucy\",\"tim\",\"english\",\"agents\",\"lot\",\"brian\",\"condition\",\"christmas\",\"fights\",\"birthday\",\"attracted\",\"convinced\",\"stone\",\"drugs\",\"floor\",\"hope\",\"lisa\",\"eyes\",\"eve\",\"khan\",\"learning\",\"fallen\",\"funeral\",\"ball\",\"release\",\"alan\",\"laura\",\"lose\",\"evil\",\"jealous\",\"grows\",\"test\",\"proposes\",\"anyone\",\"far\",\"asked\",\"flying\",\"match\",\"fly\",\"hoping\",\"th\",\"afterwards\",\"rao\",\"reason\",\"million\",\"allows\",\"perform\",\"co\",\"hall\",\"arms\",\"henchmen\",\"daniel\",\"persuades\",\"julia\",\"duke\",\"watches\",\"age\",\"director\",\"watching\",\"chases\",\"character\",\"america\",\"priest\",\"arrival\",\"arranges\",\"trial\",\"allow\",\"spirit\",\"announces\",\"rachel\",\"say\",\"committed\",\"grace\",\"hopes\",\"hits\",\"master\",\"singing\",\"morgan\",\"apparently\",\"california\",\"turned\",\"behavior\",\"appear\",\"knocks\",\"prevent\",\"successfully\",\"drinking\",\"performance\",\"television\",\"ill\",\"happily\",\"rock\",\"victor\",\"\\u2014\",\"came\",\"annie\",\"hides\",\"destroyed\",\"light\",\"took\",\"special\"],\"x\":{\"__ndarray__\":\"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\",\"dtype\":\"float32\",\"order\":\"little\",\"shape\":[1000]},\"y\":{\"__ndarray__\":\"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\",\"dtype\":\"float32\",\"order\":\"little\",\"shape\":[1000]}},\"selected\":{\"id\":\"1051\"},\"selection_policy\":{\"id\":\"1050\"}},\"id\":\"1002\",\"type\":\"ColumnDataSource\"},{\"attributes\":{},\"id\":\"1024\",\"type\":\"ResetTool\"}],\"root_ids\":[\"1003\"]},\"title\":\"Bokeh Application\",\"version\":\"2.4.3\"}};\n  const render_items = [{\"docid\":\"94e387d3-c207-41b0-a09b-1b69cc847a29\",\"root_ids\":[\"1003\"],\"roots\":{\"1003\":\"38e13280-d512-4aaa-8c72-b85d835ceb02\"}}];\n  root.Bokeh.embed.embed_items_notebook(docs_json, render_items);\n  }\n  if (root.Bokeh !== undefined) {\n    embed_document(root);\n  } else {\n    let attempts = 0;\n    const timer = setInterval(function(root) {\n      if (root.Bokeh !== undefined) {\n        clearInterval(timer);\n        embed_document(root);\n      } else {\n        attempts++;\n        if (attempts > 100) {\n          clearInterval(timer);\n          console.log(\"Bokeh: ERROR: Unable to run BokehJS code because BokehJS library is missing\");\n        }\n      }\n    }, 10, root)\n  }\n})(window);",
            "application/vnd.bokehjs_exec.v0+json": ""
          },
          "metadata": {
            "application/vnd.bokehjs_exec.v0+json": {
              "id": "1003"
            }
          },
          "output_type": "display_data"
        },
        {
          "data": {
            "text/html": [
              "<div style=\"display: table;\"><div style=\"display: table-row;\"><div style=\"display: table-cell;\"><b title=\"bokeh.plotting.figure.Figure\">Figure</b>(</div><div style=\"display: table-cell;\">id&nbsp;=&nbsp;'1003', <span id=\"1109\" style=\"cursor: pointer;\">&hellip;)</span></div></div><div class=\"1108\" style=\"display: none;\"><div style=\"display: table-cell;\"></div><div style=\"display: table-cell;\">above&nbsp;=&nbsp;[],</div></div><div class=\"1108\" style=\"display: none;\"><div style=\"display: table-cell;\"></div><div style=\"display: table-cell;\">align&nbsp;=&nbsp;'start',</div></div><div class=\"1108\" style=\"display: none;\"><div style=\"display: table-cell;\"></div><div style=\"display: table-cell;\">aspect_ratio&nbsp;=&nbsp;None,</div></div><div class=\"1108\" style=\"display: none;\"><div style=\"display: table-cell;\"></div><div style=\"display: table-cell;\">aspect_scale&nbsp;=&nbsp;1,</div></div><div class=\"1108\" style=\"display: none;\"><div style=\"display: table-cell;\"></div><div style=\"display: table-cell;\">background&nbsp;=&nbsp;None,</div></div><div class=\"1108\" style=\"display: none;\"><div style=\"display: table-cell;\"></div><div style=\"display: table-cell;\">background_fill_alpha&nbsp;=&nbsp;1.0,</div></div><div class=\"1108\" style=\"display: none;\"><div style=\"display: table-cell;\"></div><div style=\"display: table-cell;\">background_fill_color&nbsp;=&nbsp;'#ffffff',</div></div><div class=\"1108\" style=\"display: none;\"><div style=\"display: table-cell;\"></div><div style=\"display: table-cell;\">below&nbsp;=&nbsp;[LinearAxis(id='1012', ...)],</div></div><div class=\"1108\" style=\"display: none;\"><div style=\"display: table-cell;\"></div><div style=\"display: table-cell;\">border_fill_alpha&nbsp;=&nbsp;1.0,</div></div><div class=\"1108\" style=\"display: none;\"><div style=\"display: table-cell;\"></div><div style=\"display: table-cell;\">border_fill_color&nbsp;=&nbsp;'#ffffff',</div></div><div class=\"1108\" style=\"display: none;\"><div style=\"display: table-cell;\"></div><div style=\"display: table-cell;\">center&nbsp;=&nbsp;[Grid(id='1015', ...), Grid(id='1019', ...)],</div></div><div class=\"1108\" style=\"display: none;\"><div style=\"display: table-cell;\"></div><div style=\"display: table-cell;\">css_classes&nbsp;=&nbsp;[],</div></div><div class=\"1108\" style=\"display: none;\"><div style=\"display: table-cell;\"></div><div style=\"display: table-cell;\">disabled&nbsp;=&nbsp;False,</div></div><div class=\"1108\" style=\"display: none;\"><div style=\"display: table-cell;\"></div><div style=\"display: table-cell;\">extra_x_ranges&nbsp;=&nbsp;{},</div></div><div class=\"1108\" style=\"display: none;\"><div style=\"display: table-cell;\"></div><div style=\"display: table-cell;\">extra_x_scales&nbsp;=&nbsp;{},</div></div><div class=\"1108\" style=\"display: none;\"><div style=\"display: table-cell;\"></div><div style=\"display: table-cell;\">extra_y_ranges&nbsp;=&nbsp;{},</div></div><div class=\"1108\" style=\"display: none;\"><div style=\"display: table-cell;\"></div><div style=\"display: table-cell;\">extra_y_scales&nbsp;=&nbsp;{},</div></div><div class=\"1108\" style=\"display: none;\"><div style=\"display: table-cell;\"></div><div style=\"display: table-cell;\">frame_height&nbsp;=&nbsp;None,</div></div><div class=\"1108\" style=\"display: none;\"><div style=\"display: table-cell;\"></div><div style=\"display: table-cell;\">frame_width&nbsp;=&nbsp;None,</div></div><div class=\"1108\" style=\"display: none;\"><div style=\"display: table-cell;\"></div><div style=\"display: table-cell;\">height&nbsp;=&nbsp;400,</div></div><div class=\"1108\" style=\"display: none;\"><div style=\"display: table-cell;\"></div><div style=\"display: table-cell;\">height_policy&nbsp;=&nbsp;'auto',</div></div><div class=\"1108\" style=\"display: none;\"><div style=\"display: table-cell;\"></div><div style=\"display: table-cell;\">hidpi&nbsp;=&nbsp;True,</div></div><div class=\"1108\" style=\"display: none;\"><div style=\"display: table-cell;\"></div><div style=\"display: table-cell;\">inner_height&nbsp;=&nbsp;0,</div></div><div class=\"1108\" style=\"display: none;\"><div style=\"display: table-cell;\"></div><div style=\"display: table-cell;\">inner_width&nbsp;=&nbsp;0,</div></div><div class=\"1108\" style=\"display: none;\"><div style=\"display: table-cell;\"></div><div style=\"display: table-cell;\">js_event_callbacks&nbsp;=&nbsp;{},</div></div><div class=\"1108\" style=\"display: none;\"><div style=\"display: table-cell;\"></div><div style=\"display: table-cell;\">js_property_callbacks&nbsp;=&nbsp;{},</div></div><div class=\"1108\" style=\"display: none;\"><div style=\"display: table-cell;\"></div><div style=\"display: table-cell;\">left&nbsp;=&nbsp;[LinearAxis(id='1016', ...)],</div></div><div class=\"1108\" style=\"display: none;\"><div style=\"display: table-cell;\"></div><div style=\"display: table-cell;\">lod_factor&nbsp;=&nbsp;10,</div></div><div class=\"1108\" style=\"display: none;\"><div style=\"display: table-cell;\"></div><div style=\"display: table-cell;\">lod_interval&nbsp;=&nbsp;300,</div></div><div class=\"1108\" style=\"display: none;\"><div style=\"display: table-cell;\"></div><div style=\"display: table-cell;\">lod_threshold&nbsp;=&nbsp;2000,</div></div><div class=\"1108\" style=\"display: none;\"><div style=\"display: table-cell;\"></div><div style=\"display: table-cell;\">lod_timeout&nbsp;=&nbsp;500,</div></div><div class=\"1108\" style=\"display: none;\"><div style=\"display: table-cell;\"></div><div style=\"display: table-cell;\">margin&nbsp;=&nbsp;(0, 0, 0, 0),</div></div><div class=\"1108\" style=\"display: none;\"><div style=\"display: table-cell;\"></div><div style=\"display: table-cell;\">match_aspect&nbsp;=&nbsp;False,</div></div><div class=\"1108\" style=\"display: none;\"><div style=\"display: table-cell;\"></div><div style=\"display: table-cell;\">max_height&nbsp;=&nbsp;None,</div></div><div class=\"1108\" style=\"display: none;\"><div style=\"display: table-cell;\"></div><div style=\"display: table-cell;\">max_width&nbsp;=&nbsp;None,</div></div><div class=\"1108\" style=\"display: none;\"><div style=\"display: table-cell;\"></div><div style=\"display: table-cell;\">min_border&nbsp;=&nbsp;5,</div></div><div class=\"1108\" style=\"display: none;\"><div style=\"display: table-cell;\"></div><div style=\"display: table-cell;\">min_border_bottom&nbsp;=&nbsp;None,</div></div><div class=\"1108\" style=\"display: none;\"><div style=\"display: table-cell;\"></div><div style=\"display: table-cell;\">min_border_left&nbsp;=&nbsp;None,</div></div><div class=\"1108\" style=\"display: none;\"><div style=\"display: table-cell;\"></div><div style=\"display: table-cell;\">min_border_right&nbsp;=&nbsp;None,</div></div><div class=\"1108\" style=\"display: none;\"><div style=\"display: table-cell;\"></div><div style=\"display: table-cell;\">min_border_top&nbsp;=&nbsp;None,</div></div><div class=\"1108\" style=\"display: none;\"><div style=\"display: table-cell;\"></div><div style=\"display: table-cell;\">min_height&nbsp;=&nbsp;None,</div></div><div class=\"1108\" style=\"display: none;\"><div style=\"display: table-cell;\"></div><div style=\"display: table-cell;\">min_width&nbsp;=&nbsp;None,</div></div><div class=\"1108\" style=\"display: none;\"><div style=\"display: table-cell;\"></div><div style=\"display: table-cell;\">name&nbsp;=&nbsp;None,</div></div><div class=\"1108\" style=\"display: none;\"><div style=\"display: table-cell;\"></div><div style=\"display: table-cell;\">outer_height&nbsp;=&nbsp;0,</div></div><div class=\"1108\" style=\"display: none;\"><div style=\"display: table-cell;\"></div><div style=\"display: table-cell;\">outer_width&nbsp;=&nbsp;0,</div></div><div class=\"1108\" style=\"display: none;\"><div style=\"display: table-cell;\"></div><div style=\"display: table-cell;\">outline_line_alpha&nbsp;=&nbsp;1.0,</div></div><div class=\"1108\" style=\"display: none;\"><div style=\"display: table-cell;\"></div><div style=\"display: table-cell;\">outline_line_cap&nbsp;=&nbsp;'butt',</div></div><div class=\"1108\" style=\"display: none;\"><div style=\"display: table-cell;\"></div><div style=\"display: table-cell;\">outline_line_color&nbsp;=&nbsp;'#e5e5e5',</div></div><div class=\"1108\" style=\"display: none;\"><div style=\"display: table-cell;\"></div><div style=\"display: table-cell;\">outline_line_dash&nbsp;=&nbsp;[],</div></div><div class=\"1108\" style=\"display: none;\"><div style=\"display: table-cell;\"></div><div style=\"display: table-cell;\">outline_line_dash_offset&nbsp;=&nbsp;0,</div></div><div class=\"1108\" style=\"display: none;\"><div style=\"display: table-cell;\"></div><div style=\"display: table-cell;\">outline_line_join&nbsp;=&nbsp;'bevel',</div></div><div class=\"1108\" style=\"display: none;\"><div style=\"display: table-cell;\"></div><div style=\"display: table-cell;\">outline_line_width&nbsp;=&nbsp;1,</div></div><div class=\"1108\" style=\"display: none;\"><div style=\"display: table-cell;\"></div><div style=\"display: table-cell;\">output_backend&nbsp;=&nbsp;'canvas',</div></div><div class=\"1108\" style=\"display: none;\"><div style=\"display: table-cell;\"></div><div style=\"display: table-cell;\">renderers&nbsp;=&nbsp;[GlyphRenderer(id='1038', ...)],</div></div><div class=\"1108\" style=\"display: none;\"><div style=\"display: table-cell;\"></div><div style=\"display: table-cell;\">reset_policy&nbsp;=&nbsp;'standard',</div></div><div class=\"1108\" style=\"display: none;\"><div style=\"display: table-cell;\"></div><div style=\"display: table-cell;\">right&nbsp;=&nbsp;[],</div></div><div class=\"1108\" style=\"display: none;\"><div style=\"display: table-cell;\"></div><div style=\"display: table-cell;\">sizing_mode&nbsp;=&nbsp;None,</div></div><div class=\"1108\" style=\"display: none;\"><div style=\"display: table-cell;\"></div><div style=\"display: table-cell;\">subscribed_events&nbsp;=&nbsp;[],</div></div><div class=\"1108\" style=\"display: none;\"><div style=\"display: table-cell;\"></div><div style=\"display: table-cell;\">syncable&nbsp;=&nbsp;True,</div></div><div class=\"1108\" style=\"display: none;\"><div style=\"display: table-cell;\"></div><div style=\"display: table-cell;\">tags&nbsp;=&nbsp;[],</div></div><div class=\"1108\" style=\"display: none;\"><div style=\"display: table-cell;\"></div><div style=\"display: table-cell;\">title&nbsp;=&nbsp;Title(id='1042', ...),</div></div><div class=\"1108\" style=\"display: none;\"><div style=\"display: table-cell;\"></div><div style=\"display: table-cell;\">title_location&nbsp;=&nbsp;'above',</div></div><div class=\"1108\" style=\"display: none;\"><div style=\"display: table-cell;\"></div><div style=\"display: table-cell;\">toolbar&nbsp;=&nbsp;Toolbar(id='1027', ...),</div></div><div class=\"1108\" style=\"display: none;\"><div style=\"display: table-cell;\"></div><div style=\"display: table-cell;\">toolbar_location&nbsp;=&nbsp;'right',</div></div><div class=\"1108\" style=\"display: none;\"><div style=\"display: table-cell;\"></div><div style=\"display: table-cell;\">toolbar_sticky&nbsp;=&nbsp;True,</div></div><div class=\"1108\" style=\"display: none;\"><div style=\"display: table-cell;\"></div><div style=\"display: table-cell;\">visible&nbsp;=&nbsp;True,</div></div><div class=\"1108\" style=\"display: none;\"><div style=\"display: table-cell;\"></div><div style=\"display: table-cell;\">width&nbsp;=&nbsp;600,</div></div><div class=\"1108\" style=\"display: none;\"><div style=\"display: table-cell;\"></div><div style=\"display: table-cell;\">width_policy&nbsp;=&nbsp;'auto',</div></div><div class=\"1108\" style=\"display: none;\"><div style=\"display: table-cell;\"></div><div style=\"display: table-cell;\">x_range&nbsp;=&nbsp;DataRange1d(id='1004', ...),</div></div><div class=\"1108\" style=\"display: none;\"><div style=\"display: table-cell;\"></div><div style=\"display: table-cell;\">x_scale&nbsp;=&nbsp;LinearScale(id='1008', ...),</div></div><div class=\"1108\" style=\"display: none;\"><div style=\"display: table-cell;\"></div><div style=\"display: table-cell;\">y_range&nbsp;=&nbsp;DataRange1d(id='1006', ...),</div></div><div class=\"1108\" style=\"display: none;\"><div style=\"display: table-cell;\"></div><div style=\"display: table-cell;\">y_scale&nbsp;=&nbsp;LinearScale(id='1010', ...))</div></div></div>\n",
              "<script>\n",
              "(function() {\n",
              "  let expanded = false;\n",
              "  const ellipsis = document.getElementById(\"1109\");\n",
              "  ellipsis.addEventListener(\"click\", function() {\n",
              "    const rows = document.getElementsByClassName(\"1108\");\n",
              "    for (let i = 0; i < rows.length; i++) {\n",
              "      const el = rows[i];\n",
              "      el.style.display = expanded ? \"none\" : \"table-row\";\n",
              "    }\n",
              "    ellipsis.innerHTML = expanded ? \"&hellip;)\" : \"&lsaquo;&lsaquo;&lsaquo;\";\n",
              "    expanded = !expanded;\n",
              "  });\n",
              "})();\n",
              "</script>\n"
            ],
            "text/plain": [
              "Figure(id='1003', ...)"
            ]
          },
          "execution_count": 59,
          "metadata": {},
          "output_type": "execute_result"
        }
      ],
      "source": [
        "words = word2vec_emb.index_to_key[:1000]\n",
        "word_vectors = word2vec_emb.vectors[[word2vec_emb.key_to_index[word] for word in words]]\n",
        "word_tsne = get_tsne_projection(word_vectors)\n",
        "draw_vectors(word_tsne[:, 0], word_tsne[:, 1], color='green', token=words)"
      ]
    },
    {
      "cell_type": "code",
      "execution_count": null,
      "metadata": {
        "id": "PVB3Gg-eqjW5"
      },
      "outputs": [],
      "source": [
        "from torch import nn"
      ]
    },
    {
      "cell_type": "markdown",
      "metadata": {
        "id": "3iz4pZ-XNcy7"
      },
      "source": [
        "# Main functions"
      ]
    },
    {
      "cell_type": "code",
      "execution_count": null,
      "metadata": {
        "id": "UzWTgn0cW42Q"
      },
      "outputs": [],
      "source": [
        "RUNS_PATH = r'../reports/tensorboards/'"
      ]
    },
    {
      "cell_type": "code",
      "execution_count": null,
      "metadata": {
        "colab": {
          "base_uri": "https://localhost:8080/"
        },
        "id": "bUG5ZDE7PFJ5",
        "outputId": "0e6cbfd3-1de0-47ba-ff65-bc4dcbe8dabe"
      },
      "outputs": [
        {
          "data": {
            "text/plain": [
              "CrossEntropyLoss()"
            ]
          },
          "execution_count": 63,
          "metadata": {},
          "output_type": "execute_result"
        }
      ],
      "source": [
        "loss_fn = nn.CrossEntropyLoss()\n",
        "loss_fn.to(device)"
      ]
    },
    {
      "cell_type": "code",
      "execution_count": null,
      "metadata": {
        "colab": {
          "base_uri": "https://localhost:8080/"
        },
        "id": "uBVupdQ1PLbg",
        "outputId": "abb1ea85-dbc5-4dad-fa91-6d8ad17a8402"
      },
      "outputs": [
        {
          "data": {
            "text/plain": [
              "MulticlassAccuracy()"
            ]
          },
          "execution_count": 64,
          "metadata": {},
          "output_type": "execute_result"
        }
      ],
      "source": [
        "accuracy = Accuracy(task=\"multiclass\", num_classes=len(encoder.categories_[0]))\n",
        "accuracy.to(device)"
      ]
    },
    {
      "cell_type": "code",
      "execution_count": null,
      "metadata": {
        "colab": {
          "base_uri": "https://localhost:8080/"
        },
        "id": "LESZzli0gwSr",
        "outputId": "b839cda3-7f06-4cc5-e757-ae4631162c64"
      },
      "outputs": [
        {
          "data": {
            "text/plain": [
              "139"
            ]
          },
          "execution_count": 69,
          "metadata": {},
          "output_type": "execute_result"
        }
      ],
      "source": [
        "len(encoder.categories_[0])"
      ]
    },
    {
      "cell_type": "markdown",
      "metadata": {
        "id": "wY1E3sykWY3X"
      },
      "source": [
        "# Experiments with models"
      ]
    },
    {
      "cell_type": "markdown",
      "metadata": {
        "id": "hP7Cf7uNWnw1"
      },
      "source": [
        "## Word2Vec embedding"
      ]
    },
    {
      "cell_type": "code",
      "execution_count": null,
      "metadata": {
        "id": "p7lNyWgmUpp8"
      },
      "outputs": [],
      "source": [
        "word2vec_lstm_clf = LSTM2d(word2vec_emb, vocab).to(device)"
      ]
    },
    {
      "cell_type": "code",
      "execution_count": null,
      "metadata": {
        "colab": {
          "base_uri": "https://localhost:8080/"
        },
        "id": "TlUekohDU6us",
        "outputId": "396ceec7-7024-457e-f92e-612c62becb50"
      },
      "outputs": [
        {
          "name": "stderr",
          "output_type": "stream",
          "text": [
            "Epoch 0: : 610batch [00:26, 22.64batch/s, cross_entropy=2.79]\n",
            "Epoch 1: : 610batch [00:29, 20.57batch/s, cross_entropy=2.56]\n",
            "Epoch 2: : 610batch [00:25, 24.35batch/s, cross_entropy=2.81]\n",
            "Epoch 3: : 610batch [00:24, 24.68batch/s, cross_entropy=2.53]\n",
            "Epoch 4: : 610batch [00:25, 23.92batch/s, cross_entropy=3.27]\n",
            "Epoch 5: : 610batch [00:26, 22.76batch/s, cross_entropy=2.57]\n",
            "Epoch 6: : 610batch [00:23, 25.84batch/s, cross_entropy=2.55]\n",
            "Epoch 7: : 610batch [00:24, 24.52batch/s, cross_entropy=2.84]\n",
            "Epoch 8: : 610batch [00:25, 23.90batch/s, cross_entropy=3.1]\n",
            "Epoch 9: : 610batch [00:24, 24.75batch/s, cross_entropy=3.47]\n",
            "Epoch 10: : 610batch [00:26, 23.07batch/s, cross_entropy=2.76]\n",
            "Epoch 11: : 610batch [00:25, 24.18batch/s, cross_entropy=2.98]\n",
            "Epoch 12: : 610batch [00:29, 20.41batch/s, cross_entropy=2.23]\n",
            "Epoch 13: : 610batch [00:40, 15.21batch/s, cross_entropy=1.66]\n",
            "Epoch 14: : 610batch [00:27, 21.94batch/s, cross_entropy=2.8]\n"
          ]
        }
      ],
      "source": [
        "best_weights = train(word2vec_lstm_clf, SummaryWriter(RUNS_PATH + 'runs/word2vec_lstm_clf'), train_subset, val_subset,collate_batch, patience=5)"
      ]
    },
    {
      "cell_type": "code",
      "execution_count": null,
      "metadata": {
        "colab": {
          "base_uri": "https://localhost:8080/"
        },
        "id": "azr_0XbgUrU3",
        "outputId": "91ade4d1-2faf-4c31-fe0c-7d6b4d623064"
      },
      "outputs": [
        {
          "data": {
            "text/plain": [
              "<All keys matched successfully>"
            ]
          },
          "execution_count": 73,
          "metadata": {},
          "output_type": "execute_result"
        }
      ],
      "source": [
        "word2vec_lstm_clf.load_state_dict(best_weights)"
      ]
    },
    {
      "cell_type": "code",
      "execution_count": null,
      "metadata": {
        "colab": {
          "base_uri": "https://localhost:8080/"
        },
        "id": "KQzxD6YFjjEl",
        "outputId": "5906bac4-efa1-41b9-99f7-b6d0a7c1080f"
      },
      "outputs": [
        {
          "name": "stdout",
          "output_type": "stream",
          "text": [
            "Accuracy score = 0.422\n"
          ]
        }
      ],
      "source": [
        "evaluate_model(word2vec_lstm_clf, train_subset, collate_batch);"
      ]
    },
    {
      "cell_type": "code",
      "execution_count": null,
      "metadata": {
        "colab": {
          "base_uri": "https://localhost:8080/"
        },
        "id": "B-QvTmC50uyy",
        "outputId": "408dde9b-497c-42b6-a2e7-9ad90bfd23e0"
      },
      "outputs": [
        {
          "name": "stdout",
          "output_type": "stream",
          "text": [
            "Accuracy score = 0.362\n"
          ]
        }
      ],
      "source": [
        "evaluate_model(word2vec_lstm_clf, test_subset, collate_batch);"
      ]
    },
    {
      "cell_type": "code",
      "execution_count": null,
      "metadata": {
        "id": "tFKTZeGv0w7N",
        "pycharm": {
          "is_executing": true
        }
      },
      "outputs": [],
      "source": [
        "# %tensorboard --logdir=../reports/tensorboards/runs/word2vec_lstm_clf --port=6007"
      ]
    },
    {
      "cell_type": "markdown",
      "metadata": {
        "id": "52wtRxCRAN62"
      },
      "source": [
        "Achieved result is not better then logistic regression which test score is 0.38, but it is second to that - better then naive bayes and random forest."
      ]
    },
    {
      "cell_type": "markdown",
      "metadata": {
        "id": "eo1VbgGf3SFR"
      },
      "source": [
        "To-do:\n",
        "1) Analize the results - transform predictions to numpy and create class report\n",
        "2) Try bigger word context - 64 instead of 32\n",
        "3) Try different embeddings - glove, fasttext\n",
        "4) Try pretrained - Bert, Gpt."
      ]
    },
    {
      "cell_type": "markdown",
      "metadata": {
        "id": "9WvN4OLoAv_s"
      },
      "source": [
        "Let's try glove embedding"
      ]
    },
    {
      "cell_type": "code",
      "execution_count": null,
      "metadata": {
        "id": "AD-UqQgkAy0h"
      },
      "outputs": [],
      "source": [
        "y_pred_test, y_test = get_np_targets(word2vec_lstm_clf, test_subset, collate_batch)"
      ]
    },
    {
      "cell_type": "code",
      "execution_count": null,
      "metadata": {
        "id": "y1bGhX1kNzFh"
      },
      "outputs": [],
      "source": [
        "present_genres = [encoder.categories_[0][i] for i in np.unique(y_pred_test)]"
      ]
    },
    {
      "cell_type": "code",
      "execution_count": null,
      "metadata": {
        "colab": {
          "base_uri": "https://localhost:8080/"
        },
        "id": "xIPqNH-4Fk-D",
        "outputId": "75ee5aa8-edf2-45f7-86b8-0bf1da3b89b2"
      },
      "outputs": [
        {
          "name": "stdout",
          "output_type": "stream",
          "text": [
            "              precision    recall  f1-score   support\n",
            "\n",
            "      action       0.31      0.24      0.27       174\n",
            "   adventure       0.23      0.39      0.29        71\n",
            "   animation       0.56      0.42      0.48        55\n",
            "      comedy       0.37      0.52      0.43       543\n",
            "       crime       0.17      0.39      0.24        74\n",
            " crime drama       0.07      0.04      0.05        50\n",
            "       drama       0.36      0.61      0.46       773\n",
            "      horror       0.49      0.43      0.46       138\n",
            "     musical       0.31      0.07      0.11        57\n",
            "    romantic       0.24      0.38      0.29       108\n",
            "      sci_fi       0.30      0.57      0.39        69\n",
            "    thriller       0.31      0.06      0.09       143\n",
            "         war       0.22      0.47      0.30        30\n",
            "     western       0.50      0.70      0.58       119\n",
            "\n",
            "   micro avg       0.35      0.47      0.40      2404\n",
            "   macro avg       0.32      0.38      0.32      2404\n",
            "weighted avg       0.35      0.47      0.38      2404\n",
            "\n"
          ]
        }
      ],
      "source": [
        "print(classification_report(y_test, y_pred_test, labels = np.unique(y_pred_test), target_names=present_genres))"
      ]
    },
    {
      "cell_type": "markdown",
      "metadata": {
        "id": "GQlZvBF7OhaY"
      },
      "source": [
        "Those are the only labels that were present in predictions and from those I see that again the best predicted labels are the most distinct western and horror and also the most presented - drama and comedy. Compering to logistic regression results, all the best predicted labels are being predicted even better by log_reg, although some infrequent like animation - better by lstm. It's woth noting that values of micro, macro and weighted avg are not comparable to those in log reg as they are calculated only on some part of classes that were predicted by the model."
      ]
    },
    {
      "cell_type": "markdown",
      "metadata": {
        "id": "SUicn1D0RgEg"
      },
      "source": [
        "Perhaps 32 is not enough for embedding size and so i'll try 64."
      ]
    },
    {
      "cell_type": "code",
      "execution_count": null,
      "metadata": {
        "id": "eSxAwxJ2L3J4"
      },
      "outputs": [],
      "source": [
        "word2vec_emb_64 = Word2Vec(texts,\n",
        "                 vector_size=64,      # embedding vector size\n",
        "                 min_count=5,  # consider words that occured at least 4 times\n",
        "                 window=5,\n",
        "                 workers=2).wv"
      ]
    },
    {
      "cell_type": "code",
      "execution_count": null,
      "metadata": {
        "id": "Y6yxdlJDSZrE"
      },
      "outputs": [],
      "source": [
        "word2vec_lstm_clf_64 = LSTM2d(word2vec_emb_64, vocab).to(device)"
      ]
    },
    {
      "cell_type": "code",
      "execution_count": null,
      "metadata": {
        "colab": {
          "base_uri": "https://localhost:8080/"
        },
        "id": "ug6vXwkuSZrF",
        "outputId": "aa28d15b-5f76-478b-e8b5-f9576e9ef5be"
      },
      "outputs": [
        {
          "name": "stderr",
          "output_type": "stream",
          "text": [
            "Epoch 0: : 610batch [00:34, 17.75batch/s, cross_entropy=3.65]\n",
            "Epoch 1: : 610batch [00:29, 20.85batch/s, cross_entropy=2.37]\n",
            "Epoch 2: : 610batch [00:27, 22.38batch/s, cross_entropy=2.46]\n",
            "Epoch 3: : 610batch [00:25, 23.74batch/s, cross_entropy=3.78]\n",
            "Epoch 4: : 610batch [00:25, 24.02batch/s, cross_entropy=3.1]\n",
            "Epoch 5: : 610batch [00:25, 23.53batch/s, cross_entropy=2.3]\n",
            "Epoch 6: : 610batch [00:27, 22.31batch/s, cross_entropy=2.62]\n",
            "Epoch 7: : 610batch [00:26, 23.39batch/s, cross_entropy=3.08]\n"
          ]
        }
      ],
      "source": [
        "best_weights = train(word2vec_lstm_clf_64, SummaryWriter(RUNS_PATH + 'runs/word2vec_lstm_clf_64'), train_subset, val_subset, collate_batch, patience=5)"
      ]
    },
    {
      "cell_type": "code",
      "execution_count": null,
      "metadata": {
        "colab": {
          "base_uri": "https://localhost:8080/"
        },
        "id": "8H-Z646ZS5MG",
        "outputId": "b2e1bef6-1ad3-41c2-b99d-9444862ca7f1"
      },
      "outputs": [
        {
          "data": {
            "text/plain": [
              "<All keys matched successfully>"
            ]
          },
          "execution_count": 82,
          "metadata": {},
          "output_type": "execute_result"
        }
      ],
      "source": [
        "word2vec_lstm_clf_64.load_state_dict(best_weights)"
      ]
    },
    {
      "cell_type": "code",
      "execution_count": null,
      "metadata": {
        "colab": {
          "base_uri": "https://localhost:8080/"
        },
        "id": "UVkJ869GSZrG",
        "outputId": "5814bd06-24ef-4f04-858f-ef92126d7b97"
      },
      "outputs": [
        {
          "name": "stdout",
          "output_type": "stream",
          "text": [
            "Accuracy score = 0.361\n"
          ]
        }
      ],
      "source": [
        "evaluate_model(word2vec_lstm_clf_64, train_subset, collate_batch);"
      ]
    },
    {
      "cell_type": "code",
      "execution_count": null,
      "metadata": {
        "colab": {
          "base_uri": "https://localhost:8080/"
        },
        "id": "ooltQ9-LSZrH",
        "outputId": "024a71db-e32a-4981-ffbc-76b6afbc3a47"
      },
      "outputs": [
        {
          "name": "stdout",
          "output_type": "stream",
          "text": [
            "Accuracy score = 0.341\n"
          ]
        }
      ],
      "source": [
        "evaluate_model(word2vec_lstm_clf_64, test_subset, collate_batch);"
      ]
    },
    {
      "cell_type": "code",
      "execution_count": null,
      "metadata": {
        "id": "aIJtM-KaSZrI"
      },
      "outputs": [],
      "source": [
        "# %tensorboard --logdir=../reports/tensorboards/runs/word2vec_lstm_clf_64 --port=6008"
      ]
    },
    {
      "cell_type": "markdown",
      "metadata": {
        "id": "6387AYYQWHeb"
      },
      "source": [
        "Bigger context achieved much worse results so I'll stick to the 32 embedding size and try to provide some reguralization to the model."
      ]
    },
    {
      "cell_type": "code",
      "execution_count": null,
      "metadata": {
        "id": "PHlfMEWIWOnU"
      },
      "outputs": [],
      "source": [
        "word2vec_lstm_clf_reg = LSTM2d(word2vec_emb, vocab, p_drop_out=0.2, weight_decay=1e-6).to(device)"
      ]
    },
    {
      "cell_type": "code",
      "execution_count": null,
      "metadata": {
        "colab": {
          "base_uri": "https://localhost:8080/"
        },
        "id": "MQXVh9D0W33f",
        "outputId": "a2bc7bb7-fa80-4fff-8314-1071af89e08c"
      },
      "outputs": [
        {
          "name": "stderr",
          "output_type": "stream",
          "text": [
            "Epoch 0: : 610batch [00:25, 23.88batch/s, cross_entropy=3.23]\n",
            "Epoch 1: : 610batch [00:25, 23.97batch/s, cross_entropy=2.9]\n",
            "Epoch 2: : 610batch [00:26, 23.06batch/s, cross_entropy=2.49]\n",
            "Epoch 3: : 610batch [00:28, 21.47batch/s, cross_entropy=2.75]\n",
            "Epoch 4: : 610batch [00:26, 22.72batch/s, cross_entropy=2.78]\n",
            "Epoch 5: : 610batch [00:24, 24.47batch/s, cross_entropy=2.23]\n",
            "Epoch 6: : 610batch [00:24, 24.63batch/s, cross_entropy=2.54]\n",
            "Epoch 7: : 610batch [00:26, 23.23batch/s, cross_entropy=2.17]\n",
            "Epoch 8: : 610batch [00:26, 23.31batch/s, cross_entropy=2.21]\n",
            "Epoch 9: : 610batch [00:24, 24.53batch/s, cross_entropy=2.44]\n",
            "Epoch 10: : 610batch [00:24, 24.71batch/s, cross_entropy=2.96]\n",
            "Epoch 11: : 610batch [00:25, 23.87batch/s, cross_entropy=2.07]\n",
            "Epoch 12: : 610batch [00:28, 21.35batch/s, cross_entropy=3.04]\n"
          ]
        }
      ],
      "source": [
        "best_weights = train(word2vec_lstm_clf_reg, SummaryWriter(RUNS_PATH + 'runs/word2vec_lstm_clf_reg'), train_subset, val_subset, collate_batch, patience=5)"
      ]
    },
    {
      "cell_type": "code",
      "execution_count": null,
      "metadata": {
        "colab": {
          "base_uri": "https://localhost:8080/"
        },
        "id": "1BhBWWtsW34u",
        "outputId": "fb9b979e-d242-4832-8041-401a066f5cb8"
      },
      "outputs": [
        {
          "data": {
            "text/plain": [
              "<All keys matched successfully>"
            ]
          },
          "execution_count": 120,
          "metadata": {},
          "output_type": "execute_result"
        }
      ],
      "source": [
        "word2vec_lstm_clf_reg.load_state_dict(best_weights)"
      ]
    },
    {
      "cell_type": "code",
      "execution_count": null,
      "metadata": {
        "colab": {
          "base_uri": "https://localhost:8080/"
        },
        "id": "srW5LD0KW34v",
        "outputId": "8c102d38-32f3-448a-a8b8-078098ce0860"
      },
      "outputs": [
        {
          "name": "stdout",
          "output_type": "stream",
          "text": [
            "Accuracy score = 0.403\n"
          ]
        }
      ],
      "source": [
        "evaluate_model(word2vec_lstm_clf_reg, train_subset, collate_batch);"
      ]
    },
    {
      "cell_type": "code",
      "execution_count": null,
      "metadata": {
        "colab": {
          "base_uri": "https://localhost:8080/"
        },
        "id": "QuLpl2kIW34x",
        "outputId": "98f41b96-30e1-45de-d233-fa3901289c78"
      },
      "outputs": [
        {
          "name": "stdout",
          "output_type": "stream",
          "text": [
            "Accuracy score = 0.367\n"
          ]
        }
      ],
      "source": [
        "evaluate_model(word2vec_lstm_clf_reg, test_subset, collate_batch);"
      ]
    },
    {
      "cell_type": "code",
      "execution_count": null,
      "metadata": {
        "id": "evp1c4WkW34z"
      },
      "outputs": [],
      "source": [
        "# %tensorboard --logdir=../reports/tensorboards/runs/word2vec_lstm_clf_reg --port=6009"
      ]
    },
    {
      "cell_type": "markdown",
      "metadata": {
        "id": "OOpZdmzuk60o"
      },
      "source": [
        "Reguralization appears to be to strong so I'll try to tune it"
      ]
    },
    {
      "cell_type": "code",
      "execution_count": null,
      "metadata": {
        "id": "Rnf0ZEVOuh-h"
      },
      "outputs": [],
      "source": [
        "def tune_drop_out(model_class, vocab, values, embedding, folder_name: str):\n",
        "    test_acc = []\n",
        "    for p in values:\n",
        "        print(f'Drop_out value = {p} :')\n",
        "        model = model_class(embedding, vocab, p_drop_out=p, weight_decay=1e-6).to(device)\n",
        "        best_weights = train(model, SummaryWriter(RUNS_PATH + 'runs/' + folder_name + '/' + str(p)),collate_batch, patience=5, verbose=False)\n",
        "        print('Train', end=' ')\n",
        "        evaluate_model(model, train_subset);\n",
        "        print('Test', end=' ')\n",
        "        acc = evaluate_model(model, test_subset);\n",
        "        test_acc.append(acc)\n",
        "        print('')\n",
        "    return {'p': values[test_acc.index(max(test_acc))]}"
      ]
    },
    {
      "cell_type": "code",
      "execution_count": null,
      "metadata": {
        "colab": {
          "base_uri": "https://localhost:8080/"
        },
        "id": "yDSHMgC4X6SL",
        "outputId": "8af76908-4d5c-436d-b661-88d09a695f98"
      },
      "outputs": [
        {
          "name": "stdout",
          "output_type": "stream",
          "text": [
            "Drop_out value = 0.05 :\n",
            "Train Accuracy score = 0.396\n",
            "Test Accuracy score = 0.359\n",
            "\n",
            "Drop_out value = 0.1 :\n",
            "Train Accuracy score = 0.375\n",
            "Test Accuracy score = 0.338\n",
            "\n",
            "Drop_out value = 0.15 :\n",
            "Train Accuracy score = 0.407\n",
            "Test Accuracy score = 0.373\n",
            "\n"
          ]
        },
        {
          "data": {
            "text/plain": [
              "{'p': 0.15}"
            ]
          },
          "execution_count": 124,
          "metadata": {},
          "output_type": "execute_result"
        }
      ],
      "source": [
        "tune_drop_out(LSTM2d, vocab, (0.05, 0.1, 0.15), word2vec_emb, 'dropout_tune')"
      ]
    },
    {
      "cell_type": "code",
      "execution_count": null,
      "metadata": {
        "id": "VAHdVC_4FRG5"
      },
      "outputs": [],
      "source": [
        "# %tensorboard --logdir=../reports/tensorboards/runs/dropout_tune --port=6015"
      ]
    },
    {
      "cell_type": "markdown",
      "metadata": {
        "id": "yy75SjD7cvXM"
      },
      "source": [
        "Dropout value seems to to be having an unclear effect on the results so I'll try to teach the best looking model with p=0.15 one more time. Either wqay around, 2 directional 2 layerded lstm with trained embeddings is not able to beat baseline logistic regression."
      ]
    },
    {
      "cell_type": "code",
      "execution_count": null,
      "metadata": {
        "id": "g7xDPQQBpBtu"
      },
      "outputs": [],
      "source": [
        "word2vec_lstm_clf_reg_tuned = LSTM2d(word2vec_emb, vocab, p_drop_out=0.15, weight_decay=1e-6).to(device)"
      ]
    },
    {
      "cell_type": "code",
      "execution_count": null,
      "metadata": {
        "colab": {
          "base_uri": "https://localhost:8080/"
        },
        "id": "kAA3-m7SpBt8",
        "outputId": "358a6f5a-66fa-44d5-eea8-184d4b9c01c3"
      },
      "outputs": [
        {
          "name": "stderr",
          "output_type": "stream",
          "text": [
            "Epoch 0: : 610batch [00:26, 22.79batch/s, cross_entropy=3.09]\n",
            "Epoch 1: : 610batch [00:26, 22.88batch/s, cross_entropy=2.74]\n",
            "Epoch 2: : 610batch [00:26, 22.93batch/s, cross_entropy=2.6]\n",
            "Epoch 3: : 610batch [00:25, 23.92batch/s, cross_entropy=2.81]\n",
            "Epoch 4: : 610batch [00:26, 23.25batch/s, cross_entropy=3.08]\n",
            "Epoch 5: : 610batch [00:26, 23.06batch/s, cross_entropy=3.08]\n"
          ]
        }
      ],
      "source": [
        "best_weights = train(word2vec_lstm_clf_reg_tuned, SummaryWriter(RUNS_PATH + 'runs/word2vec_lstm_clf_reg_tuned'), train_subset, val_subset,collate_batch, patience=5)"
      ]
    },
    {
      "cell_type": "code",
      "execution_count": null,
      "metadata": {
        "colab": {
          "base_uri": "https://localhost:8080/"
        },
        "id": "N_rOG603pBt_",
        "outputId": "be7ea29e-c0ea-41f9-f7b7-849b40d680fa"
      },
      "outputs": [
        {
          "data": {
            "text/plain": [
              "<All keys matched successfully>"
            ]
          },
          "execution_count": 131,
          "metadata": {},
          "output_type": "execute_result"
        }
      ],
      "source": [
        "word2vec_lstm_clf_reg_tuned.load_state_dict(best_weights)"
      ]
    },
    {
      "cell_type": "code",
      "execution_count": null,
      "metadata": {
        "colab": {
          "base_uri": "https://localhost:8080/"
        },
        "id": "ugYEuz9MpBuB",
        "outputId": "f58ec59e-4058-4f80-c97e-0ac4ef7abd86"
      },
      "outputs": [
        {
          "name": "stdout",
          "output_type": "stream",
          "text": [
            "Train Accuracy score = 0.314\n"
          ]
        }
      ],
      "source": [
        "print('Train', end=' ')\n",
        "evaluate_model(word2vec_lstm_clf_reg_tuned, train_subset, collate_batch);"
      ]
    },
    {
      "cell_type": "code",
      "execution_count": null,
      "metadata": {
        "colab": {
          "base_uri": "https://localhost:8080/"
        },
        "id": "TlLeotgYpBuC",
        "outputId": "07e563a4-817c-4e7b-bc10-ed2e126d91de"
      },
      "outputs": [
        {
          "name": "stdout",
          "output_type": "stream",
          "text": [
            "Test Accuracy score = 0.308\n"
          ]
        }
      ],
      "source": [
        "print('Test', end=' ')\n",
        "evaluate_model(word2vec_lstm_clf_reg_tuned, test_subset, collate_batch);"
      ]
    },
    {
      "cell_type": "markdown",
      "metadata": {
        "id": "72tDcA6UraUq"
      },
      "source": [
        "It seems that previous good result was random and so the best model is the default one without reguralization."
      ]
    },
    {
      "cell_type": "markdown",
      "metadata": {
        "id": "y6djsrl2Wtmq"
      },
      "source": [
        "## Fasttext embedding"
      ]
    },
    {
      "cell_type": "code",
      "execution_count": null,
      "metadata": {
        "id": "PPYpXd_fhmuW"
      },
      "outputs": [],
      "source": [
        "fasttext_emb_64 = FastText(texts,\n",
        "                 vector_size=32,      # embedding vector size\n",
        "                 min_count=5,  # consider words that occured at least 5 times\n",
        "                 window=5,\n",
        "                 workers=2).wv"
      ]
    },
    {
      "cell_type": "code",
      "execution_count": null,
      "metadata": {
        "id": "G5L5m2fN9pJO"
      },
      "outputs": [],
      "source": [
        "fasttext_lstm_reg = LSTM2d(fasttext_emb_64, vocab, p_drop_out=0.05, weight_decay=1e-6).to(device)"
      ]
    },
    {
      "cell_type": "code",
      "execution_count": null,
      "metadata": {
        "colab": {
          "base_uri": "https://localhost:8080/"
        },
        "id": "Ko86OCHk9pJR",
        "outputId": "4b359308-fcc8-4bbd-e72c-a1fef2c37a23"
      },
      "outputs": [
        {
          "name": "stderr",
          "output_type": "stream",
          "text": [
            "Epoch 0: : 610batch [00:26, 22.91batch/s, cross_entropy=2.79]\n",
            "Epoch 1: : 610batch [00:26, 22.64batch/s, cross_entropy=2.99]\n",
            "Epoch 2: : 610batch [00:26, 23.18batch/s, cross_entropy=2.46]\n",
            "Epoch 3: : 610batch [00:25, 23.54batch/s, cross_entropy=3.22]\n",
            "Epoch 4: : 610batch [00:25, 23.69batch/s, cross_entropy=2.86]\n",
            "Epoch 5: : 610batch [00:25, 23.79batch/s, cross_entropy=2.69]\n",
            "Epoch 6: : 610batch [00:26, 22.77batch/s, cross_entropy=2.22]\n",
            "Epoch 7: : 610batch [00:28, 21.14batch/s, cross_entropy=2.49]\n"
          ]
        }
      ],
      "source": [
        "best_weights = train(fasttext_lstm_reg, SummaryWriter(RUNS_PATH + 'runs/fasttext_lstm_reg'), train_subset, val_subset,collate_batch, patience=5)"
      ]
    },
    {
      "cell_type": "code",
      "execution_count": null,
      "metadata": {
        "colab": {
          "base_uri": "https://localhost:8080/"
        },
        "id": "JVQz5SuM9pJT",
        "outputId": "d3e415f5-b797-4a3c-a266-98e7628a4013"
      },
      "outputs": [
        {
          "data": {
            "text/plain": [
              "<All keys matched successfully>"
            ]
          },
          "execution_count": 147,
          "metadata": {},
          "output_type": "execute_result"
        }
      ],
      "source": [
        "fasttext_lstm_reg.load_state_dict(best_weights)"
      ]
    },
    {
      "cell_type": "code",
      "execution_count": null,
      "metadata": {
        "colab": {
          "base_uri": "https://localhost:8080/"
        },
        "id": "nQ2ThmGM9pJV",
        "outputId": "27dde332-72e2-45df-cd70-ee2a772d59cc"
      },
      "outputs": [
        {
          "name": "stdout",
          "output_type": "stream",
          "text": [
            "Accuracy score = 0.353\n"
          ]
        }
      ],
      "source": [
        "evaluate_model(fasttext_lstm_reg, train_subset, collate_batch);"
      ]
    },
    {
      "cell_type": "code",
      "execution_count": null,
      "metadata": {
        "colab": {
          "base_uri": "https://localhost:8080/"
        },
        "id": "4gfqmjwc9pJV",
        "outputId": "7c38b390-772c-4b9b-98c8-ac9ed5d3353e"
      },
      "outputs": [
        {
          "name": "stdout",
          "output_type": "stream",
          "text": [
            "Accuracy score = 0.333\n"
          ]
        }
      ],
      "source": [
        "evaluate_model(fasttext_lstm_reg, test_subset, collate_batch);"
      ]
    },
    {
      "cell_type": "code",
      "execution_count": null,
      "metadata": {
        "id": "9DbUpX5v9pJX"
      },
      "outputs": [],
      "source": [
        "# %tensorboard --logdir=../reports/tensorboards/runs/fasttext_lstm_reg --port=6013"
      ]
    },
    {
      "cell_type": "code",
      "execution_count": null,
      "metadata": {
        "colab": {
          "base_uri": "https://localhost:8080/"
        },
        "id": "Ena06q1Rw9i4",
        "outputId": "4dc6d656-dd60-4de2-d951-40a7a35235b6"
      },
      "outputs": [
        {
          "name": "stdout",
          "output_type": "stream",
          "text": [
            "Drop_out value = 0 :\n",
            "Train Accuracy score = 0.432\n",
            "Test Accuracy score = 0.369\n",
            "\n",
            "Drop_out value = 0.1 :\n",
            "Train Accuracy score = 0.53\n",
            "Test Accuracy score = 0.357\n",
            "\n",
            "Drop_out value = 0.15 :\n",
            "Train Accuracy score = 0.437\n",
            "Test Accuracy score = 0.352\n",
            "\n",
            "Drop_out value = 0.2 :\n",
            "Train Accuracy score = 0.562\n",
            "Test Accuracy score = 0.358\n",
            "\n"
          ]
        },
        {
          "data": {
            "text/plain": [
              "{'p': 0}"
            ]
          },
          "execution_count": 134,
          "metadata": {},
          "output_type": "execute_result"
        }
      ],
      "source": [
        "tune_drop_out(LSTM2d, vocab, (0, 0.1, 0.15, 0.2), fasttext_emb_64, 'dropout_tune_fasttext')"
      ]
    },
    {
      "cell_type": "code",
      "execution_count": null,
      "metadata": {
        "id": "LXVOLkqg8zjy"
      },
      "outputs": [],
      "source": [
        "fasttext_lstm_tuned = LSTM2d(fasttext_emb_64, vocab, p_drop_out=0, weight_decay=1e-6).to(device)"
      ]
    },
    {
      "cell_type": "code",
      "execution_count": null,
      "metadata": {
        "colab": {
          "base_uri": "https://localhost:8080/"
        },
        "id": "tLnMHP8q8zj1",
        "outputId": "71f42c3d-0146-4549-ba59-dbf59073d3f7"
      },
      "outputs": [
        {
          "name": "stderr",
          "output_type": "stream",
          "text": [
            "Epoch 0: : 610batch [00:26, 22.93batch/s, cross_entropy=2.99]\n",
            "Epoch 1: : 610batch [00:26, 22.68batch/s, cross_entropy=3.08]\n",
            "Epoch 2: : 610batch [00:26, 23.30batch/s, cross_entropy=2.52]\n",
            "Epoch 3: : 610batch [00:24, 24.81batch/s, cross_entropy=2.96]\n",
            "Epoch 4: : 610batch [00:26, 23.39batch/s, cross_entropy=2.63]\n",
            "Epoch 5: : 610batch [00:28, 21.58batch/s, cross_entropy=3.02]\n",
            "Epoch 6: : 610batch [00:25, 23.65batch/s, cross_entropy=2.06]\n",
            "Epoch 7: : 610batch [00:25, 24.26batch/s, cross_entropy=2.63]\n",
            "Epoch 8: : 610batch [00:25, 23.96batch/s, cross_entropy=2.65]\n",
            "Epoch 9: : 610batch [00:26, 23.30batch/s, cross_entropy=1.74]\n",
            "Epoch 10: : 610batch [00:26, 22.68batch/s, cross_entropy=3.36]\n",
            "Epoch 11: : 610batch [00:25, 23.94batch/s, cross_entropy=2.75]\n",
            "Epoch 12: : 610batch [00:24, 25.03batch/s, cross_entropy=3.03]\n",
            "Epoch 13: : 610batch [00:27, 22.06batch/s, cross_entropy=3.76]\n"
          ]
        }
      ],
      "source": [
        "best_weights = train(fasttext_lstm_tuned, SummaryWriter(RUNS_PATH + 'runs/fasttext_lstm_tuned'), train_subset, val_subset,collate_batch, patience=5)"
      ]
    },
    {
      "cell_type": "code",
      "execution_count": null,
      "metadata": {
        "colab": {
          "base_uri": "https://localhost:8080/"
        },
        "id": "Jq8WVzLW8zj2",
        "outputId": "1cf7350c-ab92-43d7-dcd8-692477de38a5"
      },
      "outputs": [
        {
          "data": {
            "text/plain": [
              "<All keys matched successfully>"
            ]
          },
          "execution_count": 152,
          "metadata": {},
          "output_type": "execute_result"
        }
      ],
      "source": [
        "fasttext_lstm_tuned.load_state_dict(best_weights)"
      ]
    },
    {
      "cell_type": "code",
      "execution_count": null,
      "metadata": {
        "colab": {
          "base_uri": "https://localhost:8080/"
        },
        "id": "trEqupX_8zj3",
        "outputId": "08a47673-501a-4479-884f-628c28444353"
      },
      "outputs": [
        {
          "name": "stdout",
          "output_type": "stream",
          "text": [
            "Accuracy score = 0.427\n"
          ]
        }
      ],
      "source": [
        "evaluate_model(fasttext_lstm_tuned, train_subset, collate_batch);"
      ]
    },
    {
      "cell_type": "code",
      "execution_count": null,
      "metadata": {
        "colab": {
          "base_uri": "https://localhost:8080/"
        },
        "id": "F9j7lH2H8zj5",
        "outputId": "934c54cb-83db-423d-c5ae-f9c4de40bc35"
      },
      "outputs": [
        {
          "name": "stdout",
          "output_type": "stream",
          "text": [
            "Accuracy score = 0.367\n"
          ]
        }
      ],
      "source": [
        "evaluate_model(fasttext_lstm_tuned, test_subset, collate_batch);"
      ]
    },
    {
      "cell_type": "markdown",
      "metadata": {
        "id": "MqqfYj9kF-m6"
      },
      "source": [
        "Model with Fasttext embedding performs very simmilarly to word2vec models with trained and pretrained embeddings but considering that it's results very proven one time(one - when I was finding best dropout value and 2nd - when i trained a new model with it) and because it can handle unknown words I will save this model."
      ]
    },
    {
      "cell_type": "code",
      "execution_count": null,
      "metadata": {
        "id": "Au8HSzrSDFD9"
      },
      "outputs": [],
      "source": [
        "model_scripted = torch.jit.script(fasttext_lstm_tuned) # Export to TorchScript\n",
        "model_scripted.save(r'..\\models\\multiclass_models\\NN models\\fasttext_lstm_scripted.pt') # Save"
      ]
    },
    {
      "cell_type": "code",
      "execution_count": null,
      "metadata": {
        "colab": {
          "base_uri": "https://localhost:8080/",
          "height": 35
        },
        "id": "qiTzMIPn0s79",
        "outputId": "35267166-e957-4c30-ab74-28624b63565e"
      },
      "outputs": [
        {
          "data": {
            "application/vnd.google.colaboratory.intrinsic+json": {
              "type": "string"
            },
            "text/plain": [
              "'/content/drive/MyDrive/movie plot tensorboard/runs/runs'"
            ]
          },
          "execution_count": 161,
          "metadata": {},
          "output_type": "execute_result"
        }
      ],
      "source": [
        "# import shutil\n",
        "\n",
        "# # Set the source and destination paths\n",
        "# file_source = '/content/runs'\n",
        "# file_destination = '/content/drive/MyDrive/movie plot tensorboard/runs'\n",
        "\n",
        "# # Copy the file from Colab to Google Drive\n",
        "# shutil.move(file_source, file_destination)"
      ]
    },
    {
      "cell_type": "markdown",
      "metadata": {
        "id": "A3j4Fh7IdUiP"
      },
      "source": [
        "## Pretrained embeddings"
      ]
    },
    {
      "cell_type": "markdown",
      "metadata": {
        "id": "-TXyUJ397WZ7"
      },
      "source": [
        "Now, that I'm going to use pretrained models, I won't have problems with unknown words and so I'll make vocabulary bigger so that I used the advantages of pretrained models"
      ]
    },
    {
      "cell_type": "code",
      "execution_count": null,
      "metadata": {
        "id": "jvSkexGH7V8l"
      },
      "outputs": [],
      "source": [
        "vocab = get_vocab(train_subset, tokenizer, min_freq=1, )"
      ]
    },
    {
      "cell_type": "code",
      "execution_count": null,
      "metadata": {
        "colab": {
          "base_uri": "https://localhost:8080/"
        },
        "id": "qWJ_4fOod0oq",
        "outputId": "2a6d21f2-1e64-4a4a-e180-e49c3e6c3fca"
      },
      "outputs": [
        {
          "name": "stdout",
          "output_type": "stream",
          "text": [
            "[==================================================] 100.0% 1662.8/1662.8MB downloaded\n"
          ]
        }
      ],
      "source": [
        "word2vec_pretrained = api.load('word2vec-google-news-300')"
      ]
    },
    {
      "cell_type": "code",
      "execution_count": null,
      "metadata": {
        "id": "5JcW4T-hep_z"
      },
      "outputs": [],
      "source": [
        "word2vec_pretrained_lstm_reg = LSTM2d(word2vec_pretrained, vocab, p_drop_out=0.05, weight_decay=1e-6).to(device)"
      ]
    },
    {
      "cell_type": "code",
      "execution_count": null,
      "metadata": {
        "colab": {
          "base_uri": "https://localhost:8080/"
        },
        "id": "KmdzMdbqep_4",
        "outputId": "ce0ec254-b975-4c71-8819-dfb2990b7ae7"
      },
      "outputs": [
        {
          "name": "stderr",
          "output_type": "stream",
          "text": [
            "Epoch 0: : 610batch [00:26, 23.08batch/s, cross_entropy=3.05]\n",
            "Epoch 1: : 610batch [00:25, 24.02batch/s, cross_entropy=2.69]\n",
            "Epoch 2: : 610batch [00:25, 24.37batch/s, cross_entropy=2.88]\n",
            "Epoch 3: : 610batch [00:23, 25.55batch/s, cross_entropy=2.55]\n",
            "Epoch 4: : 610batch [00:25, 23.98batch/s, cross_entropy=3.2]\n",
            "Epoch 5: : 610batch [00:25, 23.59batch/s, cross_entropy=2.35]\n",
            "Epoch 6: : 610batch [00:24, 24.54batch/s, cross_entropy=2.64]\n",
            "Epoch 7: : 610batch [00:24, 25.31batch/s, cross_entropy=2.67]\n",
            "Epoch 8: : 610batch [00:25, 23.47batch/s, cross_entropy=2.84]\n",
            "Epoch 9: : 610batch [00:25, 23.77batch/s, cross_entropy=3.6]\n",
            "Epoch 10: : 610batch [00:25, 24.26batch/s, cross_entropy=2.17]\n"
          ]
        }
      ],
      "source": [
        "best_weights = train(word2vec_pretrained_lstm_reg, SummaryWriter(RUNS_PATH + 'runs/word2vec_pretrained_lstm_reg'), train_subset, val_subset,collate_batch, patience=5)"
      ]
    },
    {
      "cell_type": "code",
      "execution_count": null,
      "metadata": {
        "colab": {
          "base_uri": "https://localhost:8080/"
        },
        "id": "4NGFmgmuep_5",
        "outputId": "ab746ba5-6f96-4e46-f1f8-b75f9ab13074"
      },
      "outputs": [
        {
          "data": {
            "text/plain": [
              "<All keys matched successfully>"
            ]
          },
          "execution_count": 82,
          "metadata": {},
          "output_type": "execute_result"
        }
      ],
      "source": [
        "word2vec_pretrained_lstm_reg.load_state_dict(best_weights)"
      ]
    },
    {
      "cell_type": "code",
      "execution_count": null,
      "metadata": {
        "colab": {
          "base_uri": "https://localhost:8080/"
        },
        "id": "-YFLhQWWep_6",
        "outputId": "4d39448f-9c85-47ae-f4d0-83ab5f2d46b2"
      },
      "outputs": [
        {
          "name": "stdout",
          "output_type": "stream",
          "text": [
            "Accuracy score = 0.425\n"
          ]
        }
      ],
      "source": [
        "evaluate_model(word2vec_pretrained_lstm_reg, train_subset, collate_batch);"
      ]
    },
    {
      "cell_type": "code",
      "execution_count": null,
      "metadata": {
        "colab": {
          "base_uri": "https://localhost:8080/"
        },
        "id": "zYVd2hXuep_7",
        "outputId": "ff1b8e68-b7cd-45ad-dc44-87c6ad56068e"
      },
      "outputs": [
        {
          "name": "stdout",
          "output_type": "stream",
          "text": [
            "Accuracy score = 0.368\n"
          ]
        }
      ],
      "source": [
        "evaluate_model(word2vec_pretrained_lstm_reg, test_subset, collate_batch);"
      ]
    },
    {
      "cell_type": "code",
      "execution_count": null,
      "metadata": {
        "id": "MRGEkCeiep_8"
      },
      "outputs": [],
      "source": [
        "# %tensorboard --logdir=../reports/tensorboards/runs/word2vec_pretrained_lstm_reg --port=6012"
      ]
    },
    {
      "cell_type": "markdown",
      "metadata": {
        "id": "2RELJC0EhpKU"
      },
      "source": [
        "Usage of pretrained word2vec embedding didn't improve the result, even worsened it. The reason is I guess the embedding was not a bottleneck and so making it better didn't really change much. Also the task is rather specific and so good embedding needs a fine tuning and few epochs of training was not sufficient for that task(I didn't put requeres_grad to False)."
      ]
    },
    {
      "cell_type": "code",
      "execution_count": null,
      "metadata": {
        "colab": {
          "base_uri": "https://localhost:8080/"
        },
        "id": "mY8SABRChT5t",
        "outputId": "3204aedb-c688-4534-8ec3-e3c56e3e6487"
      },
      "outputs": [
        {
          "name": "stdout",
          "output_type": "stream",
          "text": [
            "[=================================================-] 99.7% 386.0/387.1MB downloaded\n"
          ]
        }
      ],
      "source": [
        "glove_pretrained = api.load('glove-twitter-100')"
      ]
    },
    {
      "cell_type": "code",
      "execution_count": null,
      "metadata": {
        "id": "jP-pwx0ChT5z"
      },
      "outputs": [],
      "source": [
        "glove_pretrained_lstm_reg = LSTM2d(glove_pretrained, vocab, p_drop_out=0.05, weight_decay=1e-6).to(device)"
      ]
    },
    {
      "cell_type": "code",
      "execution_count": null,
      "metadata": {
        "colab": {
          "base_uri": "https://localhost:8080/"
        },
        "id": "8CuWjxdAhT51",
        "outputId": "53f3e81e-ec15-4829-c07c-56556891d8ae"
      },
      "outputs": [
        {
          "name": "stderr",
          "output_type": "stream",
          "text": [
            "Epoch 0: : 610batch [00:24, 24.54batch/s, cross_entropy=2.81]\n",
            "Epoch 1: : 610batch [00:24, 24.54batch/s, cross_entropy=2.77]\n",
            "Epoch 2: : 610batch [00:23, 26.14batch/s, cross_entropy=2.3]\n",
            "Epoch 3: : 610batch [00:24, 24.50batch/s, cross_entropy=2.64]\n",
            "Epoch 4: : 610batch [00:25, 24.10batch/s, cross_entropy=2.26]\n",
            "Epoch 5: : 610batch [00:23, 25.81batch/s, cross_entropy=2.62]\n",
            "Epoch 6: : 610batch [00:24, 24.72batch/s, cross_entropy=2.62]\n",
            "Epoch 7: : 610batch [00:24, 24.51batch/s, cross_entropy=2.77]\n",
            "Epoch 8: : 610batch [00:23, 26.18batch/s, cross_entropy=2.02]\n",
            "Epoch 9: : 610batch [00:24, 24.65batch/s, cross_entropy=2.05]\n",
            "Epoch 10: : 610batch [00:24, 24.55batch/s, cross_entropy=2.98]\n",
            "Epoch 11: : 610batch [00:23, 25.85batch/s, cross_entropy=3.08]\n"
          ]
        }
      ],
      "source": [
        "best_weights = train(glove_pretrained_lstm_reg, SummaryWriter(RUNS_PATH + 'runs/glove_pretrained_lstm_reg'), train_subset, val_subset,collate_batch, patience=5)"
      ]
    },
    {
      "cell_type": "code",
      "execution_count": null,
      "metadata": {
        "colab": {
          "base_uri": "https://localhost:8080/"
        },
        "id": "mKFAKW_ThT52",
        "outputId": "fe2e1d24-983a-4667-a9e0-5ac7b39eb3a3"
      },
      "outputs": [
        {
          "data": {
            "text/plain": [
              "<All keys matched successfully>"
            ]
          },
          "execution_count": 89,
          "metadata": {},
          "output_type": "execute_result"
        }
      ],
      "source": [
        "glove_pretrained_lstm_reg.load_state_dict(best_weights)"
      ]
    },
    {
      "cell_type": "code",
      "execution_count": null,
      "metadata": {
        "colab": {
          "base_uri": "https://localhost:8080/"
        },
        "id": "JQA-NBnlhT54",
        "outputId": "ad7276a6-981d-4c58-c336-7b18111ee325"
      },
      "outputs": [
        {
          "name": "stdout",
          "output_type": "stream",
          "text": [
            "Accuracy score = 0.402\n"
          ]
        }
      ],
      "source": [
        "evaluate_model(glove_pretrained_lstm_reg, train_subset, collate_batch);"
      ]
    },
    {
      "cell_type": "code",
      "execution_count": null,
      "metadata": {
        "colab": {
          "base_uri": "https://localhost:8080/"
        },
        "id": "sTwOgliKhT56",
        "outputId": "be98ba48-3680-4cbb-fece-e22c5e6228a0"
      },
      "outputs": [
        {
          "name": "stdout",
          "output_type": "stream",
          "text": [
            "Accuracy score = 0.343\n"
          ]
        }
      ],
      "source": [
        "evaluate_model(glove_pretrained_lstm_reg, test_subset, collate_batch);"
      ]
    },
    {
      "cell_type": "code",
      "execution_count": null,
      "metadata": {
        "id": "SC_-WqrbhT57"
      },
      "outputs": [],
      "source": [
        "# %tensorboard --logdir=../reports/tensorboards/runs/glove_pretrained_lstm_reg --port=6013"
      ]
    },
    {
      "cell_type": "markdown",
      "metadata": {
        "id": "HD0ZxIfcjijX"
      },
      "source": [
        "The test score is a bit better then in case of pretrained word2vec but is still much worse then the trained one."
      ]
    },
    {
      "cell_type": "markdown",
      "metadata": {},
      "source": [
        "# Conclusions"
      ]
    },
    {
      "cell_type": "markdown",
      "metadata": {},
      "source": [
        "All in all, this notebook appears to be more of a utils exrcise as lstm models couldn't surpass logistic regression no matter what I've tried. The best exempes are those with trained fasttext embeddings and pretrained word2vec embeddings but even those only got around 0.36 accuracy which is 2 and 4 % worse then untuned and tuned log reg respectively."
      ]
    }
  ],
  "metadata": {
    "colab": {
      "provenance": []
    },
    "kernelspec": {
      "display_name": "Python 3",
      "name": "python3"
    },
    "language_info": {
      "codemirror_mode": {
        "name": "ipython",
        "version": 3
      },
      "file_extension": ".py",
      "mimetype": "text/x-python",
      "name": "python",
      "nbconvert_exporter": "python",
      "pygments_lexer": "ipython3",
      "version": "3.10.5"
    }
  },
  "nbformat": 4,
  "nbformat_minor": 0
}
